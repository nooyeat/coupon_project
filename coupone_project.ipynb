{
 "cells": [
  {
   "cell_type": "code",
   "execution_count": 1,
   "id": "1fa638ab",
   "metadata": {},
   "outputs": [],
   "source": [
    "import pandas as pd\n",
    "import plotly_express as px\n",
    "\n",
    "customer = pd.read_csv('Customer_info.csv')\n",
    "discount = pd.read_csv('Discount_info.csv')\n",
    "marketing = pd.read_csv('Marketing_info.csv')\n",
    "onlinesales = pd.read_csv('Onlinesales_info.csv')\n",
    "tax = pd.read_csv('Tax_info.csv')\n",
    "\n",
    "onlinesales.거래날짜 = pd.to_datetime(onlinesales.거래날짜)"
   ]
  },
  {
   "cell_type": "code",
   "execution_count": 2,
   "id": "d0c45b0e",
   "metadata": {},
   "outputs": [],
   "source": [
    "onlinesales['소비 금액'] = onlinesales['수량'] * onlinesales['평균금액']"
   ]
  },
  {
   "cell_type": "code",
   "execution_count": 3,
   "id": "c528ef7e",
   "metadata": {},
   "outputs": [
    {
     "data": {
      "text/html": [
       "<div>\n",
       "<style scoped>\n",
       "    .dataframe tbody tr th:only-of-type {\n",
       "        vertical-align: middle;\n",
       "    }\n",
       "\n",
       "    .dataframe tbody tr th {\n",
       "        vertical-align: top;\n",
       "    }\n",
       "\n",
       "    .dataframe thead th {\n",
       "        text-align: right;\n",
       "    }\n",
       "</style>\n",
       "<table border=\"1\" class=\"dataframe\">\n",
       "  <thead>\n",
       "    <tr style=\"text-align: right;\">\n",
       "      <th>쿠폰상태</th>\n",
       "      <th>제품카테고리</th>\n",
       "      <th>Clicked</th>\n",
       "      <th>Not Used</th>\n",
       "      <th>Used</th>\n",
       "      <th>Used_ratio</th>\n",
       "    </tr>\n",
       "  </thead>\n",
       "  <tbody>\n",
       "    <tr>\n",
       "      <th>0</th>\n",
       "      <td>Accessories</td>\n",
       "      <td>125</td>\n",
       "      <td>32</td>\n",
       "      <td>77</td>\n",
       "      <td>0.329060</td>\n",
       "    </tr>\n",
       "    <tr>\n",
       "      <th>1</th>\n",
       "      <td>Android</td>\n",
       "      <td>23</td>\n",
       "      <td>10</td>\n",
       "      <td>10</td>\n",
       "      <td>0.232558</td>\n",
       "    </tr>\n",
       "    <tr>\n",
       "      <th>2</th>\n",
       "      <td>Apparel</td>\n",
       "      <td>9223</td>\n",
       "      <td>2747</td>\n",
       "      <td>6156</td>\n",
       "      <td>0.339623</td>\n",
       "    </tr>\n",
       "    <tr>\n",
       "      <th>3</th>\n",
       "      <td>Backpacks</td>\n",
       "      <td>47</td>\n",
       "      <td>15</td>\n",
       "      <td>27</td>\n",
       "      <td>0.303371</td>\n",
       "    </tr>\n",
       "    <tr>\n",
       "      <th>4</th>\n",
       "      <td>Bags</td>\n",
       "      <td>972</td>\n",
       "      <td>285</td>\n",
       "      <td>625</td>\n",
       "      <td>0.332094</td>\n",
       "    </tr>\n",
       "    <tr>\n",
       "      <th>5</th>\n",
       "      <td>Bottles</td>\n",
       "      <td>138</td>\n",
       "      <td>48</td>\n",
       "      <td>82</td>\n",
       "      <td>0.305970</td>\n",
       "    </tr>\n",
       "    <tr>\n",
       "      <th>6</th>\n",
       "      <td>Drinkware</td>\n",
       "      <td>1752</td>\n",
       "      <td>570</td>\n",
       "      <td>1161</td>\n",
       "      <td>0.333333</td>\n",
       "    </tr>\n",
       "    <tr>\n",
       "      <th>7</th>\n",
       "      <td>Fun</td>\n",
       "      <td>83</td>\n",
       "      <td>25</td>\n",
       "      <td>52</td>\n",
       "      <td>0.325000</td>\n",
       "    </tr>\n",
       "    <tr>\n",
       "      <th>8</th>\n",
       "      <td>Gift Cards</td>\n",
       "      <td>81</td>\n",
       "      <td>22</td>\n",
       "      <td>56</td>\n",
       "      <td>0.352201</td>\n",
       "    </tr>\n",
       "    <tr>\n",
       "      <th>9</th>\n",
       "      <td>Google</td>\n",
       "      <td>51</td>\n",
       "      <td>25</td>\n",
       "      <td>29</td>\n",
       "      <td>0.276190</td>\n",
       "    </tr>\n",
       "    <tr>\n",
       "      <th>10</th>\n",
       "      <td>Headgear</td>\n",
       "      <td>401</td>\n",
       "      <td>114</td>\n",
       "      <td>256</td>\n",
       "      <td>0.332036</td>\n",
       "    </tr>\n",
       "    <tr>\n",
       "      <th>11</th>\n",
       "      <td>Housewares</td>\n",
       "      <td>68</td>\n",
       "      <td>18</td>\n",
       "      <td>36</td>\n",
       "      <td>0.295082</td>\n",
       "    </tr>\n",
       "    <tr>\n",
       "      <th>12</th>\n",
       "      <td>Lifestyle</td>\n",
       "      <td>1529</td>\n",
       "      <td>462</td>\n",
       "      <td>1101</td>\n",
       "      <td>0.356080</td>\n",
       "    </tr>\n",
       "    <tr>\n",
       "      <th>13</th>\n",
       "      <td>More Bags</td>\n",
       "      <td>25</td>\n",
       "      <td>3</td>\n",
       "      <td>18</td>\n",
       "      <td>0.391304</td>\n",
       "    </tr>\n",
       "    <tr>\n",
       "      <th>14</th>\n",
       "      <td>Nest</td>\n",
       "      <td>1127</td>\n",
       "      <td>351</td>\n",
       "      <td>720</td>\n",
       "      <td>0.327571</td>\n",
       "    </tr>\n",
       "    <tr>\n",
       "      <th>15</th>\n",
       "      <td>Nest-Canada</td>\n",
       "      <td>175</td>\n",
       "      <td>47</td>\n",
       "      <td>95</td>\n",
       "      <td>0.299685</td>\n",
       "    </tr>\n",
       "    <tr>\n",
       "      <th>16</th>\n",
       "      <td>Nest-USA</td>\n",
       "      <td>7141</td>\n",
       "      <td>2160</td>\n",
       "      <td>4712</td>\n",
       "      <td>0.336259</td>\n",
       "    </tr>\n",
       "    <tr>\n",
       "      <th>17</th>\n",
       "      <td>Notebooks &amp; Journals</td>\n",
       "      <td>389</td>\n",
       "      <td>103</td>\n",
       "      <td>257</td>\n",
       "      <td>0.343124</td>\n",
       "    </tr>\n",
       "    <tr>\n",
       "      <th>18</th>\n",
       "      <td>Office</td>\n",
       "      <td>3295</td>\n",
       "      <td>968</td>\n",
       "      <td>2250</td>\n",
       "      <td>0.345463</td>\n",
       "    </tr>\n",
       "    <tr>\n",
       "      <th>19</th>\n",
       "      <td>Waze</td>\n",
       "      <td>281</td>\n",
       "      <td>89</td>\n",
       "      <td>184</td>\n",
       "      <td>0.332130</td>\n",
       "    </tr>\n",
       "  </tbody>\n",
       "</table>\n",
       "</div>"
      ],
      "text/plain": [
       "쿠폰상태                제품카테고리  Clicked  Not Used  Used  Used_ratio\n",
       "0              Accessories      125        32    77    0.329060\n",
       "1                  Android       23        10    10    0.232558\n",
       "2                  Apparel     9223      2747  6156    0.339623\n",
       "3                Backpacks       47        15    27    0.303371\n",
       "4                     Bags      972       285   625    0.332094\n",
       "5                  Bottles      138        48    82    0.305970\n",
       "6                Drinkware     1752       570  1161    0.333333\n",
       "7                      Fun       83        25    52    0.325000\n",
       "8               Gift Cards       81        22    56    0.352201\n",
       "9                   Google       51        25    29    0.276190\n",
       "10                Headgear      401       114   256    0.332036\n",
       "11              Housewares       68        18    36    0.295082\n",
       "12               Lifestyle     1529       462  1101    0.356080\n",
       "13               More Bags       25         3    18    0.391304\n",
       "14                    Nest     1127       351   720    0.327571\n",
       "15             Nest-Canada      175        47    95    0.299685\n",
       "16                Nest-USA     7141      2160  4712    0.336259\n",
       "17    Notebooks & Journals      389       103   257    0.343124\n",
       "18                  Office     3295       968  2250    0.345463\n",
       "19                    Waze      281        89   184    0.332130"
      ]
     },
     "execution_count": 3,
     "metadata": {},
     "output_type": "execute_result"
    }
   ],
   "source": [
    "coupon = onlinesales.groupby(['제품카테고리', '쿠폰상태']).size().unstack().reset_index()\n",
    "coupon['Used_ratio'] = coupon['Used']/(coupon['Clicked'] + coupon['Not Used'] + coupon['Used'])\n",
    "coupon"
   ]
  },
  {
   "cell_type": "code",
   "execution_count": 4,
   "id": "b978f649",
   "metadata": {},
   "outputs": [],
   "source": [
    "onlinesales = onlinesales.sort_values(['고객ID', '거래날짜'])\n",
    "onlinesales['repurchase_interval'] = onlinesales.groupby('고객ID').거래날짜.diff().dt.days"
   ]
  },
  {
   "cell_type": "code",
   "execution_count": 5,
   "id": "352b1c42",
   "metadata": {},
   "outputs": [
    {
     "data": {
      "text/html": [
       "<div>\n",
       "<style scoped>\n",
       "    .dataframe tbody tr th:only-of-type {\n",
       "        vertical-align: middle;\n",
       "    }\n",
       "\n",
       "    .dataframe tbody tr th {\n",
       "        vertical-align: top;\n",
       "    }\n",
       "\n",
       "    .dataframe thead th {\n",
       "        text-align: right;\n",
       "    }\n",
       "</style>\n",
       "<table border=\"1\" class=\"dataframe\">\n",
       "  <thead>\n",
       "    <tr style=\"text-align: right;\">\n",
       "      <th></th>\n",
       "      <th>월</th>\n",
       "      <th>total_cnt</th>\n",
       "      <th>sales_cnt</th>\n",
       "      <th>sales_ratio</th>\n",
       "    </tr>\n",
       "  </thead>\n",
       "  <tbody>\n",
       "    <tr>\n",
       "      <th>0</th>\n",
       "      <td>1</td>\n",
       "      <td>20140</td>\n",
       "      <td>19987</td>\n",
       "      <td>99.240318</td>\n",
       "    </tr>\n",
       "    <tr>\n",
       "      <th>1</th>\n",
       "      <td>2</td>\n",
       "      <td>16575</td>\n",
       "      <td>16410</td>\n",
       "      <td>99.004525</td>\n",
       "    </tr>\n",
       "    <tr>\n",
       "      <th>2</th>\n",
       "      <td>3</td>\n",
       "      <td>20787</td>\n",
       "      <td>20543</td>\n",
       "      <td>98.826189</td>\n",
       "    </tr>\n",
       "    <tr>\n",
       "      <th>3</th>\n",
       "      <td>4</td>\n",
       "      <td>25277</td>\n",
       "      <td>24922</td>\n",
       "      <td>98.595561</td>\n",
       "    </tr>\n",
       "    <tr>\n",
       "      <th>4</th>\n",
       "      <td>5</td>\n",
       "      <td>18715</td>\n",
       "      <td>18519</td>\n",
       "      <td>98.952712</td>\n",
       "    </tr>\n",
       "    <tr>\n",
       "      <th>5</th>\n",
       "      <td>6</td>\n",
       "      <td>21619</td>\n",
       "      <td>21482</td>\n",
       "      <td>99.366298</td>\n",
       "    </tr>\n",
       "    <tr>\n",
       "      <th>6</th>\n",
       "      <td>7</td>\n",
       "      <td>22898</td>\n",
       "      <td>22613</td>\n",
       "      <td>98.755350</td>\n",
       "    </tr>\n",
       "    <tr>\n",
       "      <th>7</th>\n",
       "      <td>8</td>\n",
       "      <td>27457</td>\n",
       "      <td>27379</td>\n",
       "      <td>99.715919</td>\n",
       "    </tr>\n",
       "    <tr>\n",
       "      <th>8</th>\n",
       "      <td>9</td>\n",
       "      <td>19353</td>\n",
       "      <td>19329</td>\n",
       "      <td>99.875988</td>\n",
       "    </tr>\n",
       "    <tr>\n",
       "      <th>9</th>\n",
       "      <td>10</td>\n",
       "      <td>17425</td>\n",
       "      <td>17400</td>\n",
       "      <td>99.856528</td>\n",
       "    </tr>\n",
       "    <tr>\n",
       "      <th>10</th>\n",
       "      <td>11</td>\n",
       "      <td>15120</td>\n",
       "      <td>15116</td>\n",
       "      <td>99.973545</td>\n",
       "    </tr>\n",
       "    <tr>\n",
       "      <th>11</th>\n",
       "      <td>12</td>\n",
       "      <td>12667</td>\n",
       "      <td>12667</td>\n",
       "      <td>100.000000</td>\n",
       "    </tr>\n",
       "  </tbody>\n",
       "</table>\n",
       "</div>"
      ],
      "text/plain": [
       "     월  total_cnt  sales_cnt  sales_ratio\n",
       "0    1      20140      19987    99.240318\n",
       "1    2      16575      16410    99.004525\n",
       "2    3      20787      20543    98.826189\n",
       "3    4      25277      24922    98.595561\n",
       "4    5      18715      18519    98.952712\n",
       "5    6      21619      21482    99.366298\n",
       "6    7      22898      22613    98.755350\n",
       "7    8      27457      27379    99.715919\n",
       "8    9      19353      19329    99.875988\n",
       "9   10      17425      17400    99.856528\n",
       "10  11      15120      15116    99.973545\n",
       "11  12      12667      12667   100.000000"
      ]
     },
     "execution_count": 5,
     "metadata": {},
     "output_type": "execute_result"
    }
   ],
   "source": [
    "onlinesales['월'] = onlinesales.거래날짜.dt.month\n",
    "monthly_summary = (\n",
    "    onlinesales\n",
    "    .assign(할인여부 = onlinesales['제품카테고리'].isin(set(discount['제품카테고리'])))\n",
    "    .groupby(['월', '할인여부'])['수량']\n",
    "    .sum()\n",
    "    .unstack(fill_value=0)\n",
    "    .reset_index()\n",
    "    .rename(columns={True: 'sales_cnt', False: 'non_sales_cnt'})\n",
    ")\n",
    "monthly_summary.columns.name = None\n",
    "monthly_summary['total_cnt'] = monthly_summary['sales_cnt'] + monthly_summary['non_sales_cnt']\n",
    "monthly_summary['sales_ratio'] = (monthly_summary['sales_cnt'] / monthly_summary['total_cnt']) * 100\n",
    "\n",
    "monthly_summary = monthly_summary[['월', 'total_cnt', 'sales_cnt', 'sales_ratio']].reset_index(drop=True)\n",
    "monthly_summary"
   ]
  },
  {
   "cell_type": "code",
   "execution_count": 6,
   "id": "4844975d",
   "metadata": {},
   "outputs": [
    {
     "data": {
      "text/plain": [
       "쿠폰상태\n",
       "Clicked     26926\n",
       "Not Used     8094\n",
       "Used        17904\n",
       "dtype: int64"
      ]
     },
     "execution_count": 6,
     "metadata": {},
     "output_type": "execute_result"
    }
   ],
   "source": [
    "# coupon.sort_values('Used_ratio', ascending=False)\n",
    "onlinesales.groupby('쿠폰상태').size()"
   ]
  },
  {
   "cell_type": "markdown",
   "id": "da94320d",
   "metadata": {},
   "source": [
    "객단가 비교"
   ]
  },
  {
   "cell_type": "code",
   "execution_count": 7,
   "id": "a8e626cc",
   "metadata": {},
   "outputs": [
    {
     "name": "stdout",
     "output_type": "stream",
     "text": [
      "97.64872095621091\n",
      "100.85331233012107\n"
     ]
    }
   ],
   "source": [
    "onlinesales['총 주문 금액'] = onlinesales['평균금액'] * onlinesales['수량'] + onlinesales['배송료']\n",
    "used = onlinesales[onlinesales.쿠폰상태=='Used']\n",
    "unused = onlinesales[onlinesales.쿠폰상태=='Not Used']\n",
    "\n",
    "print(used['총 주문 금액'].mean())\n",
    "print(unused['총 주문 금액'].mean())\n",
    "\n",
    "# 쿠폰을 써도 매출 증대 효과 없음"
   ]
  },
  {
   "cell_type": "markdown",
   "id": "f732551d",
   "metadata": {},
   "source": [
    "재구매 주기 비교"
   ]
  },
  {
   "cell_type": "code",
   "execution_count": 8,
   "id": "85d7fd46",
   "metadata": {},
   "outputs": [],
   "source": [
    "# customer['used_(used.groupby('고객ID').size().to_frame('cnt').reset_index().cnt/onlinesales.groupby('고객ID').size().to_frame('cnt').reset_index().cnt).values"
   ]
  },
  {
   "cell_type": "code",
   "execution_count": 9,
   "id": "283de3a7",
   "metadata": {},
   "outputs": [
    {
     "name": "stdout",
     "output_type": "stream",
     "text": [
      "1.7742472994713858\n",
      "1.7340776452676985\n"
     ]
    }
   ],
   "source": [
    "print(used.repurchase_interval.dropna().mean())\n",
    "print(unused.repurchase_interval.dropna().mean())\n",
    "\n",
    "# 리텐션 향상 효과 없음음"
   ]
  },
  {
   "cell_type": "code",
   "execution_count": null,
   "id": "f7d2723a",
   "metadata": {},
   "outputs": [],
   "source": []
  },
  {
   "cell_type": "code",
   "execution_count": 10,
   "id": "c7e273ec",
   "metadata": {},
   "outputs": [
    {
     "data": {
      "text/plain": [
       "월    할인율\n",
       "Apr  10     17\n",
       "Aug  20     17\n",
       "Dec  30     17\n",
       "Feb  20     17\n",
       "Jan  10     17\n",
       "Jul  10     17\n",
       "Jun  30     17\n",
       "Mar  30     17\n",
       "May  20     17\n",
       "Nov  20     17\n",
       "Oct  10     17\n",
       "Sep  30     17\n",
       "Name: count, dtype: int64"
      ]
     },
     "execution_count": 10,
     "metadata": {},
     "output_type": "execute_result"
    }
   ],
   "source": [
    "# 월별 일괄적인 할인율\n",
    "discount.groupby('월').할인율.value_counts()"
   ]
  },
  {
   "cell_type": "code",
   "execution_count": 11,
   "id": "d5c5712d",
   "metadata": {},
   "outputs": [],
   "source": [
    "month_map = {\n",
    "    'Jan': 1, 'Feb': 2, 'Mar': 3, 'Apr': 4,\n",
    "    'May': 5, 'Jun': 6, 'Jul': 7, 'Aug': 8,\n",
    "    'Sep': 9, 'Oct': 10, 'Nov': 11, 'Dec': 12\n",
    "}\n",
    "\n",
    "discount['월'] = discount['월'].map(month_map)"
   ]
  },
  {
   "cell_type": "code",
   "execution_count": 12,
   "id": "79ed607f",
   "metadata": {},
   "outputs": [
    {
     "data": {
      "text/html": [
       "<div>\n",
       "<style scoped>\n",
       "    .dataframe tbody tr th:only-of-type {\n",
       "        vertical-align: middle;\n",
       "    }\n",
       "\n",
       "    .dataframe tbody tr th {\n",
       "        vertical-align: top;\n",
       "    }\n",
       "\n",
       "    .dataframe thead th {\n",
       "        text-align: right;\n",
       "    }\n",
       "</style>\n",
       "<table border=\"1\" class=\"dataframe\">\n",
       "  <thead>\n",
       "    <tr style=\"text-align: right;\">\n",
       "      <th></th>\n",
       "      <th>월</th>\n",
       "      <th>할인율</th>\n",
       "      <th>총 주문 금액</th>\n",
       "      <th>sales_per_discount</th>\n",
       "    </tr>\n",
       "  </thead>\n",
       "  <tbody>\n",
       "    <tr>\n",
       "      <th>0</th>\n",
       "      <td>1</td>\n",
       "      <td>10.0</td>\n",
       "      <td>462866.90</td>\n",
       "      <td>0.000022</td>\n",
       "    </tr>\n",
       "    <tr>\n",
       "      <th>1</th>\n",
       "      <td>2</td>\n",
       "      <td>20.0</td>\n",
       "      <td>360036.40</td>\n",
       "      <td>0.000056</td>\n",
       "    </tr>\n",
       "    <tr>\n",
       "      <th>2</th>\n",
       "      <td>3</td>\n",
       "      <td>30.0</td>\n",
       "      <td>410408.03</td>\n",
       "      <td>0.000073</td>\n",
       "    </tr>\n",
       "    <tr>\n",
       "      <th>3</th>\n",
       "      <td>4</td>\n",
       "      <td>10.0</td>\n",
       "      <td>443100.16</td>\n",
       "      <td>0.000023</td>\n",
       "    </tr>\n",
       "    <tr>\n",
       "      <th>4</th>\n",
       "      <td>5</td>\n",
       "      <td>20.0</td>\n",
       "      <td>349159.59</td>\n",
       "      <td>0.000057</td>\n",
       "    </tr>\n",
       "    <tr>\n",
       "      <th>5</th>\n",
       "      <td>6</td>\n",
       "      <td>30.0</td>\n",
       "      <td>358594.96</td>\n",
       "      <td>0.000084</td>\n",
       "    </tr>\n",
       "    <tr>\n",
       "      <th>6</th>\n",
       "      <td>7</td>\n",
       "      <td>10.0</td>\n",
       "      <td>421362.00</td>\n",
       "      <td>0.000024</td>\n",
       "    </tr>\n",
       "    <tr>\n",
       "      <th>7</th>\n",
       "      <td>8</td>\n",
       "      <td>20.0</td>\n",
       "      <td>462309.94</td>\n",
       "      <td>0.000043</td>\n",
       "    </tr>\n",
       "    <tr>\n",
       "      <th>8</th>\n",
       "      <td>9</td>\n",
       "      <td>30.0</td>\n",
       "      <td>401553.82</td>\n",
       "      <td>0.000075</td>\n",
       "    </tr>\n",
       "    <tr>\n",
       "      <th>9</th>\n",
       "      <td>10</td>\n",
       "      <td>10.0</td>\n",
       "      <td>455643.16</td>\n",
       "      <td>0.000022</td>\n",
       "    </tr>\n",
       "    <tr>\n",
       "      <th>10</th>\n",
       "      <td>11</td>\n",
       "      <td>20.0</td>\n",
       "      <td>541254.55</td>\n",
       "      <td>0.000037</td>\n",
       "    </tr>\n",
       "    <tr>\n",
       "      <th>11</th>\n",
       "      <td>12</td>\n",
       "      <td>30.0</td>\n",
       "      <td>561140.18</td>\n",
       "      <td>0.000053</td>\n",
       "    </tr>\n",
       "  </tbody>\n",
       "</table>\n",
       "</div>"
      ],
      "text/plain": [
       "     월   할인율    총 주문 금액  sales_per_discount\n",
       "0    1  10.0  462866.90            0.000022\n",
       "1    2  20.0  360036.40            0.000056\n",
       "2    3  30.0  410408.03            0.000073\n",
       "3    4  10.0  443100.16            0.000023\n",
       "4    5  20.0  349159.59            0.000057\n",
       "5    6  30.0  358594.96            0.000084\n",
       "6    7  10.0  421362.00            0.000024\n",
       "7    8  20.0  462309.94            0.000043\n",
       "8    9  30.0  401553.82            0.000075\n",
       "9   10  10.0  455643.16            0.000022\n",
       "10  11  20.0  541254.55            0.000037\n",
       "11  12  30.0  561140.18            0.000053"
      ]
     },
     "execution_count": 12,
     "metadata": {},
     "output_type": "execute_result"
    }
   ],
   "source": [
    "monthly_discount = discount.groupby('월').할인율.mean().reset_index()\n",
    "monthly_sales = onlinesales.groupby('월')['총 주문 금액'].sum().reset_index()\n",
    "\n",
    "\n",
    "monthly_effect = pd.merge(monthly_discount, monthly_sales, on='월')\n",
    "\n",
    "monthly_effect['sales_per_discount'] = monthly_effect['할인율']/monthly_effect['총 주문 금액']\n",
    "monthly_effect"
   ]
  },
  {
   "cell_type": "code",
   "execution_count": 13,
   "id": "6320b178",
   "metadata": {},
   "outputs": [],
   "source": [
    "discounted_categories = discount['제품카테고리'].unique()\n",
    "판매효과 = onlinesales[onlinesales['제품카테고리'].isin(discounted_categories)]\n",
    "카테고리별_판매량 = 판매효과.groupby('제품카테고리')['수량'].sum().sort_values()"
   ]
  },
  {
   "cell_type": "code",
   "execution_count": 14,
   "id": "39cc0be1",
   "metadata": {},
   "outputs": [],
   "source": [
    "new_category = {\n",
    "    'Nest-USA':'Electronics',\n",
    "    'Nest':'Electronics',\n",
    "    'Office':'Stationery',\n",
    "    'Drinkware':'Lifestyle',\n",
    "    'Notebooks & Journals':'Stationery',\n",
    "    'Nest-Canada':'Electronics',\n",
    "    'Headgear':'Apparel',\n",
    "    'Gift Cards':'Fun',\n",
    "    'Google':'Software',\n",
    "    'Backpacks':'Bags',\n",
    "    'Accessories':'Lifestyle',\n",
    "    'Bottles':'Lifestyle',\n",
    "    'Waze':'Software',\n",
    "    'Housewares':'Lifestyle',\n",
    "    'More Bags':'Bags',\n",
    "    'Android':'Software'\n",
    "}\n",
    "\n",
    "discount['제품카테고리'] = discount['제품카테고리'].replace(new_category)\n",
    "onlinesales['제품카테고리'] = onlinesales['제품카테고리'].replace(new_category)\n",
    "category_sales = onlinesales.groupby('제품카테고리')['소비 금액'].sum().to_frame('total_sales').reset_index().sort_values('total_sales', ascending=False)\n",
    "category_cnt = onlinesales.groupby('제품카테고리').size().to_frame('total_cnt').reset_index().sort_values('total_cnt', ascending=False)\n",
    "category_df = pd.merge(category_sales, category_cnt, how='left', on='제품카테고리')"
   ]
  },
  {
   "cell_type": "code",
   "execution_count": 15,
   "id": "82a4eed3",
   "metadata": {},
   "outputs": [
    {
     "data": {
      "application/vnd.plotly.v1+json": {
       "config": {
        "plotlyServerURL": "https://plot.ly"
       },
       "data": [
        {
         "marker": {
          "color": "#636EFA"
         },
         "name": "총 판매 금액",
         "text": [
          3143306,
          644617,
          383880,
          293950,
          163034,
          25563,
          16443
         ],
         "textfont": {
          "color": "#636EFA"
         },
         "textposition": "outside",
         "type": "bar",
         "x": [
          "Electronics",
          "Apparel",
          "Stationery",
          "Lifestyle",
          "Bags",
          "Fun",
          "Software"
         ],
         "y": [
          3143306.29,
          644617.24,
          383880.36,
          293950.38,
          163034.08,
          25562.829999999998,
          16443.44
         ],
         "yaxis": "y"
        },
        {
         "line": {
          "color": "#EF553B",
          "width": 2
         },
         "mode": "lines+markers+text",
         "name": "총 판매 수량",
         "text": [
          16528,
          18897,
          7262,
          7199,
          2017,
          319,
          702
         ],
         "textfont": {
          "color": "#EF553B"
         },
         "textposition": "top center",
         "type": "scatter",
         "x": [
          "Electronics",
          "Apparel",
          "Stationery",
          "Lifestyle",
          "Bags",
          "Fun",
          "Software"
         ],
         "y": [
          16528,
          18897,
          7262,
          7199,
          2017,
          319,
          702
         ],
         "yaxis": "y2"
        }
       ],
       "layout": {
        "bargap": 0.3,
        "height": 500,
        "legend": {
         "orientation": "h",
         "x": 0.5,
         "xanchor": "center",
         "y": 1.1
        },
        "template": {
         "data": {
          "bar": [
           {
            "error_x": {
             "color": "#2a3f5f"
            },
            "error_y": {
             "color": "#2a3f5f"
            },
            "marker": {
             "line": {
              "color": "white",
              "width": 0.5
             },
             "pattern": {
              "fillmode": "overlay",
              "size": 10,
              "solidity": 0.2
             }
            },
            "type": "bar"
           }
          ],
          "barpolar": [
           {
            "marker": {
             "line": {
              "color": "white",
              "width": 0.5
             },
             "pattern": {
              "fillmode": "overlay",
              "size": 10,
              "solidity": 0.2
             }
            },
            "type": "barpolar"
           }
          ],
          "carpet": [
           {
            "aaxis": {
             "endlinecolor": "#2a3f5f",
             "gridcolor": "#C8D4E3",
             "linecolor": "#C8D4E3",
             "minorgridcolor": "#C8D4E3",
             "startlinecolor": "#2a3f5f"
            },
            "baxis": {
             "endlinecolor": "#2a3f5f",
             "gridcolor": "#C8D4E3",
             "linecolor": "#C8D4E3",
             "minorgridcolor": "#C8D4E3",
             "startlinecolor": "#2a3f5f"
            },
            "type": "carpet"
           }
          ],
          "choropleth": [
           {
            "colorbar": {
             "outlinewidth": 0,
             "ticks": ""
            },
            "type": "choropleth"
           }
          ],
          "contour": [
           {
            "colorbar": {
             "outlinewidth": 0,
             "ticks": ""
            },
            "colorscale": [
             [
              0,
              "#0d0887"
             ],
             [
              0.1111111111111111,
              "#46039f"
             ],
             [
              0.2222222222222222,
              "#7201a8"
             ],
             [
              0.3333333333333333,
              "#9c179e"
             ],
             [
              0.4444444444444444,
              "#bd3786"
             ],
             [
              0.5555555555555556,
              "#d8576b"
             ],
             [
              0.6666666666666666,
              "#ed7953"
             ],
             [
              0.7777777777777778,
              "#fb9f3a"
             ],
             [
              0.8888888888888888,
              "#fdca26"
             ],
             [
              1,
              "#f0f921"
             ]
            ],
            "type": "contour"
           }
          ],
          "contourcarpet": [
           {
            "colorbar": {
             "outlinewidth": 0,
             "ticks": ""
            },
            "type": "contourcarpet"
           }
          ],
          "heatmap": [
           {
            "colorbar": {
             "outlinewidth": 0,
             "ticks": ""
            },
            "colorscale": [
             [
              0,
              "#0d0887"
             ],
             [
              0.1111111111111111,
              "#46039f"
             ],
             [
              0.2222222222222222,
              "#7201a8"
             ],
             [
              0.3333333333333333,
              "#9c179e"
             ],
             [
              0.4444444444444444,
              "#bd3786"
             ],
             [
              0.5555555555555556,
              "#d8576b"
             ],
             [
              0.6666666666666666,
              "#ed7953"
             ],
             [
              0.7777777777777778,
              "#fb9f3a"
             ],
             [
              0.8888888888888888,
              "#fdca26"
             ],
             [
              1,
              "#f0f921"
             ]
            ],
            "type": "heatmap"
           }
          ],
          "heatmapgl": [
           {
            "colorbar": {
             "outlinewidth": 0,
             "ticks": ""
            },
            "colorscale": [
             [
              0,
              "#0d0887"
             ],
             [
              0.1111111111111111,
              "#46039f"
             ],
             [
              0.2222222222222222,
              "#7201a8"
             ],
             [
              0.3333333333333333,
              "#9c179e"
             ],
             [
              0.4444444444444444,
              "#bd3786"
             ],
             [
              0.5555555555555556,
              "#d8576b"
             ],
             [
              0.6666666666666666,
              "#ed7953"
             ],
             [
              0.7777777777777778,
              "#fb9f3a"
             ],
             [
              0.8888888888888888,
              "#fdca26"
             ],
             [
              1,
              "#f0f921"
             ]
            ],
            "type": "heatmapgl"
           }
          ],
          "histogram": [
           {
            "marker": {
             "pattern": {
              "fillmode": "overlay",
              "size": 10,
              "solidity": 0.2
             }
            },
            "type": "histogram"
           }
          ],
          "histogram2d": [
           {
            "colorbar": {
             "outlinewidth": 0,
             "ticks": ""
            },
            "colorscale": [
             [
              0,
              "#0d0887"
             ],
             [
              0.1111111111111111,
              "#46039f"
             ],
             [
              0.2222222222222222,
              "#7201a8"
             ],
             [
              0.3333333333333333,
              "#9c179e"
             ],
             [
              0.4444444444444444,
              "#bd3786"
             ],
             [
              0.5555555555555556,
              "#d8576b"
             ],
             [
              0.6666666666666666,
              "#ed7953"
             ],
             [
              0.7777777777777778,
              "#fb9f3a"
             ],
             [
              0.8888888888888888,
              "#fdca26"
             ],
             [
              1,
              "#f0f921"
             ]
            ],
            "type": "histogram2d"
           }
          ],
          "histogram2dcontour": [
           {
            "colorbar": {
             "outlinewidth": 0,
             "ticks": ""
            },
            "colorscale": [
             [
              0,
              "#0d0887"
             ],
             [
              0.1111111111111111,
              "#46039f"
             ],
             [
              0.2222222222222222,
              "#7201a8"
             ],
             [
              0.3333333333333333,
              "#9c179e"
             ],
             [
              0.4444444444444444,
              "#bd3786"
             ],
             [
              0.5555555555555556,
              "#d8576b"
             ],
             [
              0.6666666666666666,
              "#ed7953"
             ],
             [
              0.7777777777777778,
              "#fb9f3a"
             ],
             [
              0.8888888888888888,
              "#fdca26"
             ],
             [
              1,
              "#f0f921"
             ]
            ],
            "type": "histogram2dcontour"
           }
          ],
          "mesh3d": [
           {
            "colorbar": {
             "outlinewidth": 0,
             "ticks": ""
            },
            "type": "mesh3d"
           }
          ],
          "parcoords": [
           {
            "line": {
             "colorbar": {
              "outlinewidth": 0,
              "ticks": ""
             }
            },
            "type": "parcoords"
           }
          ],
          "pie": [
           {
            "automargin": true,
            "type": "pie"
           }
          ],
          "scatter": [
           {
            "fillpattern": {
             "fillmode": "overlay",
             "size": 10,
             "solidity": 0.2
            },
            "type": "scatter"
           }
          ],
          "scatter3d": [
           {
            "line": {
             "colorbar": {
              "outlinewidth": 0,
              "ticks": ""
             }
            },
            "marker": {
             "colorbar": {
              "outlinewidth": 0,
              "ticks": ""
             }
            },
            "type": "scatter3d"
           }
          ],
          "scattercarpet": [
           {
            "marker": {
             "colorbar": {
              "outlinewidth": 0,
              "ticks": ""
             }
            },
            "type": "scattercarpet"
           }
          ],
          "scattergeo": [
           {
            "marker": {
             "colorbar": {
              "outlinewidth": 0,
              "ticks": ""
             }
            },
            "type": "scattergeo"
           }
          ],
          "scattergl": [
           {
            "marker": {
             "colorbar": {
              "outlinewidth": 0,
              "ticks": ""
             }
            },
            "type": "scattergl"
           }
          ],
          "scattermapbox": [
           {
            "marker": {
             "colorbar": {
              "outlinewidth": 0,
              "ticks": ""
             }
            },
            "type": "scattermapbox"
           }
          ],
          "scatterpolar": [
           {
            "marker": {
             "colorbar": {
              "outlinewidth": 0,
              "ticks": ""
             }
            },
            "type": "scatterpolar"
           }
          ],
          "scatterpolargl": [
           {
            "marker": {
             "colorbar": {
              "outlinewidth": 0,
              "ticks": ""
             }
            },
            "type": "scatterpolargl"
           }
          ],
          "scatterternary": [
           {
            "marker": {
             "colorbar": {
              "outlinewidth": 0,
              "ticks": ""
             }
            },
            "type": "scatterternary"
           }
          ],
          "surface": [
           {
            "colorbar": {
             "outlinewidth": 0,
             "ticks": ""
            },
            "colorscale": [
             [
              0,
              "#0d0887"
             ],
             [
              0.1111111111111111,
              "#46039f"
             ],
             [
              0.2222222222222222,
              "#7201a8"
             ],
             [
              0.3333333333333333,
              "#9c179e"
             ],
             [
              0.4444444444444444,
              "#bd3786"
             ],
             [
              0.5555555555555556,
              "#d8576b"
             ],
             [
              0.6666666666666666,
              "#ed7953"
             ],
             [
              0.7777777777777778,
              "#fb9f3a"
             ],
             [
              0.8888888888888888,
              "#fdca26"
             ],
             [
              1,
              "#f0f921"
             ]
            ],
            "type": "surface"
           }
          ],
          "table": [
           {
            "cells": {
             "fill": {
              "color": "#EBF0F8"
             },
             "line": {
              "color": "white"
             }
            },
            "header": {
             "fill": {
              "color": "#C8D4E3"
             },
             "line": {
              "color": "white"
             }
            },
            "type": "table"
           }
          ]
         },
         "layout": {
          "annotationdefaults": {
           "arrowcolor": "#2a3f5f",
           "arrowhead": 0,
           "arrowwidth": 1
          },
          "autotypenumbers": "strict",
          "coloraxis": {
           "colorbar": {
            "outlinewidth": 0,
            "ticks": ""
           }
          },
          "colorscale": {
           "diverging": [
            [
             0,
             "#8e0152"
            ],
            [
             0.1,
             "#c51b7d"
            ],
            [
             0.2,
             "#de77ae"
            ],
            [
             0.3,
             "#f1b6da"
            ],
            [
             0.4,
             "#fde0ef"
            ],
            [
             0.5,
             "#f7f7f7"
            ],
            [
             0.6,
             "#e6f5d0"
            ],
            [
             0.7,
             "#b8e186"
            ],
            [
             0.8,
             "#7fbc41"
            ],
            [
             0.9,
             "#4d9221"
            ],
            [
             1,
             "#276419"
            ]
           ],
           "sequential": [
            [
             0,
             "#0d0887"
            ],
            [
             0.1111111111111111,
             "#46039f"
            ],
            [
             0.2222222222222222,
             "#7201a8"
            ],
            [
             0.3333333333333333,
             "#9c179e"
            ],
            [
             0.4444444444444444,
             "#bd3786"
            ],
            [
             0.5555555555555556,
             "#d8576b"
            ],
            [
             0.6666666666666666,
             "#ed7953"
            ],
            [
             0.7777777777777778,
             "#fb9f3a"
            ],
            [
             0.8888888888888888,
             "#fdca26"
            ],
            [
             1,
             "#f0f921"
            ]
           ],
           "sequentialminus": [
            [
             0,
             "#0d0887"
            ],
            [
             0.1111111111111111,
             "#46039f"
            ],
            [
             0.2222222222222222,
             "#7201a8"
            ],
            [
             0.3333333333333333,
             "#9c179e"
            ],
            [
             0.4444444444444444,
             "#bd3786"
            ],
            [
             0.5555555555555556,
             "#d8576b"
            ],
            [
             0.6666666666666666,
             "#ed7953"
            ],
            [
             0.7777777777777778,
             "#fb9f3a"
            ],
            [
             0.8888888888888888,
             "#fdca26"
            ],
            [
             1,
             "#f0f921"
            ]
           ]
          },
          "colorway": [
           "#636efa",
           "#EF553B",
           "#00cc96",
           "#ab63fa",
           "#FFA15A",
           "#19d3f3",
           "#FF6692",
           "#B6E880",
           "#FF97FF",
           "#FECB52"
          ],
          "font": {
           "color": "#2a3f5f"
          },
          "geo": {
           "bgcolor": "white",
           "lakecolor": "white",
           "landcolor": "white",
           "showlakes": true,
           "showland": true,
           "subunitcolor": "#C8D4E3"
          },
          "hoverlabel": {
           "align": "left"
          },
          "hovermode": "closest",
          "mapbox": {
           "style": "light"
          },
          "paper_bgcolor": "white",
          "plot_bgcolor": "white",
          "polar": {
           "angularaxis": {
            "gridcolor": "#EBF0F8",
            "linecolor": "#EBF0F8",
            "ticks": ""
           },
           "bgcolor": "white",
           "radialaxis": {
            "gridcolor": "#EBF0F8",
            "linecolor": "#EBF0F8",
            "ticks": ""
           }
          },
          "scene": {
           "xaxis": {
            "backgroundcolor": "white",
            "gridcolor": "#DFE8F3",
            "gridwidth": 2,
            "linecolor": "#EBF0F8",
            "showbackground": true,
            "ticks": "",
            "zerolinecolor": "#EBF0F8"
           },
           "yaxis": {
            "backgroundcolor": "white",
            "gridcolor": "#DFE8F3",
            "gridwidth": 2,
            "linecolor": "#EBF0F8",
            "showbackground": true,
            "ticks": "",
            "zerolinecolor": "#EBF0F8"
           },
           "zaxis": {
            "backgroundcolor": "white",
            "gridcolor": "#DFE8F3",
            "gridwidth": 2,
            "linecolor": "#EBF0F8",
            "showbackground": true,
            "ticks": "",
            "zerolinecolor": "#EBF0F8"
           }
          },
          "shapedefaults": {
           "line": {
            "color": "#2a3f5f"
           }
          },
          "ternary": {
           "aaxis": {
            "gridcolor": "#DFE8F3",
            "linecolor": "#A2B1C6",
            "ticks": ""
           },
           "baxis": {
            "gridcolor": "#DFE8F3",
            "linecolor": "#A2B1C6",
            "ticks": ""
           },
           "bgcolor": "white",
           "caxis": {
            "gridcolor": "#DFE8F3",
            "linecolor": "#A2B1C6",
            "ticks": ""
           }
          },
          "title": {
           "x": 0.05
          },
          "xaxis": {
           "automargin": true,
           "gridcolor": "#EBF0F8",
           "linecolor": "#EBF0F8",
           "ticks": "",
           "title": {
            "standoff": 15
           },
           "zerolinecolor": "#EBF0F8",
           "zerolinewidth": 2
          },
          "yaxis": {
           "automargin": true,
           "gridcolor": "#EBF0F8",
           "linecolor": "#EBF0F8",
           "ticks": "",
           "title": {
            "standoff": 15
           },
           "zerolinecolor": "#EBF0F8",
           "zerolinewidth": 2
          }
         }
        },
        "title": {
         "text": "카테고리별 총 판매 금액 및 수량",
         "x": 0.5,
         "xanchor": "center"
        },
        "xaxis": {
         "tickangle": 45,
         "title": {
          "text": "제품 카테고리"
         }
        },
        "yaxis": {
         "tickfont": {
          "color": "#636EFA"
         },
         "title": {
          "font": {
           "color": "#636EFA"
          },
          "text": "총 판매 금액"
         }
        },
        "yaxis2": {
         "overlaying": "y",
         "side": "right",
         "tickfont": {
          "color": "#EF553B"
         },
         "title": {
          "font": {
           "color": "#EF553B"
          },
          "text": "총 판매 수량"
         }
        }
       }
      }
     },
     "metadata": {},
     "output_type": "display_data"
    }
   ],
   "source": [
    "import plotly.graph_objects as go\n",
    "\n",
    "\n",
    "fig = go.Figure()\n",
    "\n",
    "\n",
    "fig.add_trace(go.Bar(\n",
    "    x=category_df.제품카테고리,\n",
    "    y=category_df.total_sales,\n",
    "    name='총 판매 금액',\n",
    "    text=category_df.total_sales.round(),\n",
    "    textposition='outside',\n",
    "    textfont=dict(color='#636EFA'),\n",
    "    marker=dict(color='#636EFA'),\n",
    "    yaxis='y1'\n",
    "))\n",
    "\n",
    "fig.add_trace(go.Scatter(\n",
    "    x=category_df.제품카테고리,\n",
    "    y=category_df.total_cnt,\n",
    "    text=category_df.total_cnt,\n",
    "    mode='lines+markers+text',\n",
    "    name='총 판매 수량',\n",
    "    line=dict(color='#EF553B', width=2),\n",
    "    textposition='top center',\n",
    "    textfont=dict(color='#EF553B'),\n",
    "    yaxis='y2'\n",
    "))\n",
    "\n",
    "fig.update_layout(\n",
    "    title=dict(\n",
    "        text='카테고리별 총 판매 금액 및 수량',\n",
    "        x=0.5,\n",
    "        xanchor='center'\n",
    "    ),\n",
    "    xaxis=dict(\n",
    "        title='제품 카테고리',\n",
    "        tickangle=45\n",
    "    ),\n",
    "    yaxis=dict(\n",
    "        title='총 판매 금액',\n",
    "        titlefont=dict(color='#636EFA'),\n",
    "        tickfont=dict(color='#636EFA')\n",
    "    ),\n",
    "    yaxis2=dict(\n",
    "        title='총 판매 수량',\n",
    "        titlefont=dict(color='#EF553B'),\n",
    "        tickfont=dict(color='#EF553B'),\n",
    "        overlaying='y',\n",
    "        side='right'\n",
    "    ),\n",
    "    legend=dict(\n",
    "        x=0.5,\n",
    "        xanchor='center',\n",
    "        y=1.1,\n",
    "        orientation='h'\n",
    "    ),\n",
    "    bargap=0.3,\n",
    "    height=500,\n",
    "    template='plotly_white'\n",
    ")\n",
    "\n",
    "fig.show()"
   ]
  },
  {
   "cell_type": "code",
   "execution_count": 16,
   "id": "dc6cf013",
   "metadata": {},
   "outputs": [
    {
     "data": {
      "application/vnd.plotly.v1+json": {
       "config": {
        "plotlyServerURL": "https://plot.ly"
       },
       "data": [
        {
         "marker": {
          "color": "#636EFA"
         },
         "name": "평균 판매 금액",
         "text": [
          134,
          59,
          32,
          20,
          9,
          7,
          5
         ],
         "textfont": {
          "color": "#636EFA"
         },
         "textposition": "outside",
         "type": "bar",
         "x": [
          "Electronics",
          "Fun",
          "Bags",
          "Apparel",
          "Software",
          "Lifestyle",
          "Stationery"
         ],
         "y": [
          134.25739593417234,
          58.889561128526644,
          31.817268220128906,
          19.62949198285442,
          8.648789173789174,
          7.263035143769968,
          4.593942440099146
         ],
         "yaxis": "y"
        },
        {
         "line": {
          "color": "#EF553B",
          "width": 2
         },
         "mode": "lines+markers+text",
         "name": "평균 판매 수량",
         "text": [
          1,
          3,
          8,
          2,
          3,
          8,
          13
         ],
         "textfont": {
          "color": "#EF553B"
         },
         "textposition": "top center",
         "type": "scatter",
         "x": [
          "Electronics",
          "Fun",
          "Bags",
          "Apparel",
          "Software",
          "Lifestyle",
          "Stationery"
         ],
         "y": [
          1.4966118102613746,
          3.260188087774295,
          7.699553792761527,
          1.9035296607927183,
          2.5128205128205128,
          8.480761216835672,
          13.486505095015147
         ],
         "yaxis": "y2"
        }
       ],
       "layout": {
        "bargap": 0.3,
        "height": 500,
        "legend": {
         "orientation": "h",
         "x": 0.5,
         "xanchor": "center",
         "y": 1.1
        },
        "template": {
         "data": {
          "bar": [
           {
            "error_x": {
             "color": "#2a3f5f"
            },
            "error_y": {
             "color": "#2a3f5f"
            },
            "marker": {
             "line": {
              "color": "white",
              "width": 0.5
             },
             "pattern": {
              "fillmode": "overlay",
              "size": 10,
              "solidity": 0.2
             }
            },
            "type": "bar"
           }
          ],
          "barpolar": [
           {
            "marker": {
             "line": {
              "color": "white",
              "width": 0.5
             },
             "pattern": {
              "fillmode": "overlay",
              "size": 10,
              "solidity": 0.2
             }
            },
            "type": "barpolar"
           }
          ],
          "carpet": [
           {
            "aaxis": {
             "endlinecolor": "#2a3f5f",
             "gridcolor": "#C8D4E3",
             "linecolor": "#C8D4E3",
             "minorgridcolor": "#C8D4E3",
             "startlinecolor": "#2a3f5f"
            },
            "baxis": {
             "endlinecolor": "#2a3f5f",
             "gridcolor": "#C8D4E3",
             "linecolor": "#C8D4E3",
             "minorgridcolor": "#C8D4E3",
             "startlinecolor": "#2a3f5f"
            },
            "type": "carpet"
           }
          ],
          "choropleth": [
           {
            "colorbar": {
             "outlinewidth": 0,
             "ticks": ""
            },
            "type": "choropleth"
           }
          ],
          "contour": [
           {
            "colorbar": {
             "outlinewidth": 0,
             "ticks": ""
            },
            "colorscale": [
             [
              0,
              "#0d0887"
             ],
             [
              0.1111111111111111,
              "#46039f"
             ],
             [
              0.2222222222222222,
              "#7201a8"
             ],
             [
              0.3333333333333333,
              "#9c179e"
             ],
             [
              0.4444444444444444,
              "#bd3786"
             ],
             [
              0.5555555555555556,
              "#d8576b"
             ],
             [
              0.6666666666666666,
              "#ed7953"
             ],
             [
              0.7777777777777778,
              "#fb9f3a"
             ],
             [
              0.8888888888888888,
              "#fdca26"
             ],
             [
              1,
              "#f0f921"
             ]
            ],
            "type": "contour"
           }
          ],
          "contourcarpet": [
           {
            "colorbar": {
             "outlinewidth": 0,
             "ticks": ""
            },
            "type": "contourcarpet"
           }
          ],
          "heatmap": [
           {
            "colorbar": {
             "outlinewidth": 0,
             "ticks": ""
            },
            "colorscale": [
             [
              0,
              "#0d0887"
             ],
             [
              0.1111111111111111,
              "#46039f"
             ],
             [
              0.2222222222222222,
              "#7201a8"
             ],
             [
              0.3333333333333333,
              "#9c179e"
             ],
             [
              0.4444444444444444,
              "#bd3786"
             ],
             [
              0.5555555555555556,
              "#d8576b"
             ],
             [
              0.6666666666666666,
              "#ed7953"
             ],
             [
              0.7777777777777778,
              "#fb9f3a"
             ],
             [
              0.8888888888888888,
              "#fdca26"
             ],
             [
              1,
              "#f0f921"
             ]
            ],
            "type": "heatmap"
           }
          ],
          "heatmapgl": [
           {
            "colorbar": {
             "outlinewidth": 0,
             "ticks": ""
            },
            "colorscale": [
             [
              0,
              "#0d0887"
             ],
             [
              0.1111111111111111,
              "#46039f"
             ],
             [
              0.2222222222222222,
              "#7201a8"
             ],
             [
              0.3333333333333333,
              "#9c179e"
             ],
             [
              0.4444444444444444,
              "#bd3786"
             ],
             [
              0.5555555555555556,
              "#d8576b"
             ],
             [
              0.6666666666666666,
              "#ed7953"
             ],
             [
              0.7777777777777778,
              "#fb9f3a"
             ],
             [
              0.8888888888888888,
              "#fdca26"
             ],
             [
              1,
              "#f0f921"
             ]
            ],
            "type": "heatmapgl"
           }
          ],
          "histogram": [
           {
            "marker": {
             "pattern": {
              "fillmode": "overlay",
              "size": 10,
              "solidity": 0.2
             }
            },
            "type": "histogram"
           }
          ],
          "histogram2d": [
           {
            "colorbar": {
             "outlinewidth": 0,
             "ticks": ""
            },
            "colorscale": [
             [
              0,
              "#0d0887"
             ],
             [
              0.1111111111111111,
              "#46039f"
             ],
             [
              0.2222222222222222,
              "#7201a8"
             ],
             [
              0.3333333333333333,
              "#9c179e"
             ],
             [
              0.4444444444444444,
              "#bd3786"
             ],
             [
              0.5555555555555556,
              "#d8576b"
             ],
             [
              0.6666666666666666,
              "#ed7953"
             ],
             [
              0.7777777777777778,
              "#fb9f3a"
             ],
             [
              0.8888888888888888,
              "#fdca26"
             ],
             [
              1,
              "#f0f921"
             ]
            ],
            "type": "histogram2d"
           }
          ],
          "histogram2dcontour": [
           {
            "colorbar": {
             "outlinewidth": 0,
             "ticks": ""
            },
            "colorscale": [
             [
              0,
              "#0d0887"
             ],
             [
              0.1111111111111111,
              "#46039f"
             ],
             [
              0.2222222222222222,
              "#7201a8"
             ],
             [
              0.3333333333333333,
              "#9c179e"
             ],
             [
              0.4444444444444444,
              "#bd3786"
             ],
             [
              0.5555555555555556,
              "#d8576b"
             ],
             [
              0.6666666666666666,
              "#ed7953"
             ],
             [
              0.7777777777777778,
              "#fb9f3a"
             ],
             [
              0.8888888888888888,
              "#fdca26"
             ],
             [
              1,
              "#f0f921"
             ]
            ],
            "type": "histogram2dcontour"
           }
          ],
          "mesh3d": [
           {
            "colorbar": {
             "outlinewidth": 0,
             "ticks": ""
            },
            "type": "mesh3d"
           }
          ],
          "parcoords": [
           {
            "line": {
             "colorbar": {
              "outlinewidth": 0,
              "ticks": ""
             }
            },
            "type": "parcoords"
           }
          ],
          "pie": [
           {
            "automargin": true,
            "type": "pie"
           }
          ],
          "scatter": [
           {
            "fillpattern": {
             "fillmode": "overlay",
             "size": 10,
             "solidity": 0.2
            },
            "type": "scatter"
           }
          ],
          "scatter3d": [
           {
            "line": {
             "colorbar": {
              "outlinewidth": 0,
              "ticks": ""
             }
            },
            "marker": {
             "colorbar": {
              "outlinewidth": 0,
              "ticks": ""
             }
            },
            "type": "scatter3d"
           }
          ],
          "scattercarpet": [
           {
            "marker": {
             "colorbar": {
              "outlinewidth": 0,
              "ticks": ""
             }
            },
            "type": "scattercarpet"
           }
          ],
          "scattergeo": [
           {
            "marker": {
             "colorbar": {
              "outlinewidth": 0,
              "ticks": ""
             }
            },
            "type": "scattergeo"
           }
          ],
          "scattergl": [
           {
            "marker": {
             "colorbar": {
              "outlinewidth": 0,
              "ticks": ""
             }
            },
            "type": "scattergl"
           }
          ],
          "scattermapbox": [
           {
            "marker": {
             "colorbar": {
              "outlinewidth": 0,
              "ticks": ""
             }
            },
            "type": "scattermapbox"
           }
          ],
          "scatterpolar": [
           {
            "marker": {
             "colorbar": {
              "outlinewidth": 0,
              "ticks": ""
             }
            },
            "type": "scatterpolar"
           }
          ],
          "scatterpolargl": [
           {
            "marker": {
             "colorbar": {
              "outlinewidth": 0,
              "ticks": ""
             }
            },
            "type": "scatterpolargl"
           }
          ],
          "scatterternary": [
           {
            "marker": {
             "colorbar": {
              "outlinewidth": 0,
              "ticks": ""
             }
            },
            "type": "scatterternary"
           }
          ],
          "surface": [
           {
            "colorbar": {
             "outlinewidth": 0,
             "ticks": ""
            },
            "colorscale": [
             [
              0,
              "#0d0887"
             ],
             [
              0.1111111111111111,
              "#46039f"
             ],
             [
              0.2222222222222222,
              "#7201a8"
             ],
             [
              0.3333333333333333,
              "#9c179e"
             ],
             [
              0.4444444444444444,
              "#bd3786"
             ],
             [
              0.5555555555555556,
              "#d8576b"
             ],
             [
              0.6666666666666666,
              "#ed7953"
             ],
             [
              0.7777777777777778,
              "#fb9f3a"
             ],
             [
              0.8888888888888888,
              "#fdca26"
             ],
             [
              1,
              "#f0f921"
             ]
            ],
            "type": "surface"
           }
          ],
          "table": [
           {
            "cells": {
             "fill": {
              "color": "#EBF0F8"
             },
             "line": {
              "color": "white"
             }
            },
            "header": {
             "fill": {
              "color": "#C8D4E3"
             },
             "line": {
              "color": "white"
             }
            },
            "type": "table"
           }
          ]
         },
         "layout": {
          "annotationdefaults": {
           "arrowcolor": "#2a3f5f",
           "arrowhead": 0,
           "arrowwidth": 1
          },
          "autotypenumbers": "strict",
          "coloraxis": {
           "colorbar": {
            "outlinewidth": 0,
            "ticks": ""
           }
          },
          "colorscale": {
           "diverging": [
            [
             0,
             "#8e0152"
            ],
            [
             0.1,
             "#c51b7d"
            ],
            [
             0.2,
             "#de77ae"
            ],
            [
             0.3,
             "#f1b6da"
            ],
            [
             0.4,
             "#fde0ef"
            ],
            [
             0.5,
             "#f7f7f7"
            ],
            [
             0.6,
             "#e6f5d0"
            ],
            [
             0.7,
             "#b8e186"
            ],
            [
             0.8,
             "#7fbc41"
            ],
            [
             0.9,
             "#4d9221"
            ],
            [
             1,
             "#276419"
            ]
           ],
           "sequential": [
            [
             0,
             "#0d0887"
            ],
            [
             0.1111111111111111,
             "#46039f"
            ],
            [
             0.2222222222222222,
             "#7201a8"
            ],
            [
             0.3333333333333333,
             "#9c179e"
            ],
            [
             0.4444444444444444,
             "#bd3786"
            ],
            [
             0.5555555555555556,
             "#d8576b"
            ],
            [
             0.6666666666666666,
             "#ed7953"
            ],
            [
             0.7777777777777778,
             "#fb9f3a"
            ],
            [
             0.8888888888888888,
             "#fdca26"
            ],
            [
             1,
             "#f0f921"
            ]
           ],
           "sequentialminus": [
            [
             0,
             "#0d0887"
            ],
            [
             0.1111111111111111,
             "#46039f"
            ],
            [
             0.2222222222222222,
             "#7201a8"
            ],
            [
             0.3333333333333333,
             "#9c179e"
            ],
            [
             0.4444444444444444,
             "#bd3786"
            ],
            [
             0.5555555555555556,
             "#d8576b"
            ],
            [
             0.6666666666666666,
             "#ed7953"
            ],
            [
             0.7777777777777778,
             "#fb9f3a"
            ],
            [
             0.8888888888888888,
             "#fdca26"
            ],
            [
             1,
             "#f0f921"
            ]
           ]
          },
          "colorway": [
           "#636efa",
           "#EF553B",
           "#00cc96",
           "#ab63fa",
           "#FFA15A",
           "#19d3f3",
           "#FF6692",
           "#B6E880",
           "#FF97FF",
           "#FECB52"
          ],
          "font": {
           "color": "#2a3f5f"
          },
          "geo": {
           "bgcolor": "white",
           "lakecolor": "white",
           "landcolor": "white",
           "showlakes": true,
           "showland": true,
           "subunitcolor": "#C8D4E3"
          },
          "hoverlabel": {
           "align": "left"
          },
          "hovermode": "closest",
          "mapbox": {
           "style": "light"
          },
          "paper_bgcolor": "white",
          "plot_bgcolor": "white",
          "polar": {
           "angularaxis": {
            "gridcolor": "#EBF0F8",
            "linecolor": "#EBF0F8",
            "ticks": ""
           },
           "bgcolor": "white",
           "radialaxis": {
            "gridcolor": "#EBF0F8",
            "linecolor": "#EBF0F8",
            "ticks": ""
           }
          },
          "scene": {
           "xaxis": {
            "backgroundcolor": "white",
            "gridcolor": "#DFE8F3",
            "gridwidth": 2,
            "linecolor": "#EBF0F8",
            "showbackground": true,
            "ticks": "",
            "zerolinecolor": "#EBF0F8"
           },
           "yaxis": {
            "backgroundcolor": "white",
            "gridcolor": "#DFE8F3",
            "gridwidth": 2,
            "linecolor": "#EBF0F8",
            "showbackground": true,
            "ticks": "",
            "zerolinecolor": "#EBF0F8"
           },
           "zaxis": {
            "backgroundcolor": "white",
            "gridcolor": "#DFE8F3",
            "gridwidth": 2,
            "linecolor": "#EBF0F8",
            "showbackground": true,
            "ticks": "",
            "zerolinecolor": "#EBF0F8"
           }
          },
          "shapedefaults": {
           "line": {
            "color": "#2a3f5f"
           }
          },
          "ternary": {
           "aaxis": {
            "gridcolor": "#DFE8F3",
            "linecolor": "#A2B1C6",
            "ticks": ""
           },
           "baxis": {
            "gridcolor": "#DFE8F3",
            "linecolor": "#A2B1C6",
            "ticks": ""
           },
           "bgcolor": "white",
           "caxis": {
            "gridcolor": "#DFE8F3",
            "linecolor": "#A2B1C6",
            "ticks": ""
           }
          },
          "title": {
           "x": 0.05
          },
          "xaxis": {
           "automargin": true,
           "gridcolor": "#EBF0F8",
           "linecolor": "#EBF0F8",
           "ticks": "",
           "title": {
            "standoff": 15
           },
           "zerolinecolor": "#EBF0F8",
           "zerolinewidth": 2
          },
          "yaxis": {
           "automargin": true,
           "gridcolor": "#EBF0F8",
           "linecolor": "#EBF0F8",
           "ticks": "",
           "title": {
            "standoff": 15
           },
           "zerolinecolor": "#EBF0F8",
           "zerolinewidth": 2
          }
         }
        },
        "title": {
         "text": "카테고리별 평균 판매 금액 및 수량",
         "x": 0.5,
         "xanchor": "center"
        },
        "xaxis": {
         "tickangle": 45,
         "title": {
          "text": "제품 카테고리"
         }
        },
        "yaxis": {
         "tickfont": {
          "color": "#636EFA"
         },
         "title": {
          "font": {
           "color": "#636EFA"
          },
          "text": "평균 판매 금액"
         }
        },
        "yaxis2": {
         "overlaying": "y",
         "side": "right",
         "tickfont": {
          "color": "#EF553B"
         },
         "title": {
          "font": {
           "color": "#EF553B"
          },
          "text": "평균 판매 수량"
         }
        }
       }
      }
     },
     "metadata": {},
     "output_type": "display_data"
    }
   ],
   "source": [
    "category_mean_df = onlinesales.groupby('제품카테고리')[['평균금액', '수량']].mean().reset_index().sort_values('평균금액', ascending=False)\n",
    "\n",
    "fig = go.Figure()\n",
    "\n",
    "fig.add_trace(go.Bar(\n",
    "    x=category_mean_df.제품카테고리,\n",
    "    y=category_mean_df.평균금액,\n",
    "    name='평균 판매 금액',\n",
    "    text=category_mean_df.평균금액.round(),\n",
    "    textposition='outside',\n",
    "    textfont=dict(color='#636EFA'),\n",
    "    marker=dict(color='#636EFA'),\n",
    "    yaxis='y1'\n",
    "))\n",
    "\n",
    "fig.add_trace(go.Scatter(\n",
    "    x=category_mean_df.제품카테고리,\n",
    "    y=category_mean_df.수량,\n",
    "    text=category_mean_df.수량.round(),\n",
    "    mode='lines+markers+text',\n",
    "    name='평균 판매 수량',\n",
    "    line=dict(color='#EF553B', width=2),\n",
    "    textposition='top center',\n",
    "    textfont=dict(color='#EF553B'),\n",
    "    yaxis='y2'\n",
    "))\n",
    "\n",
    "fig.update_layout(\n",
    "    title=dict(\n",
    "        text='카테고리별 평균 판매 금액 및 수량',\n",
    "        x=0.5,\n",
    "        xanchor='center'\n",
    "    ),\n",
    "    xaxis=dict(\n",
    "        title='제품 카테고리',\n",
    "        tickangle=45\n",
    "    ),\n",
    "    yaxis=dict(\n",
    "        title='평균 판매 금액',\n",
    "        titlefont=dict(color='#636EFA'),\n",
    "        tickfont=dict(color='#636EFA')\n",
    "    ),\n",
    "    yaxis2=dict(\n",
    "        title='평균 판매 수량',\n",
    "        titlefont=dict(color='#EF553B'),\n",
    "        tickfont=dict(color='#EF553B'),\n",
    "        overlaying='y',\n",
    "        side='right'\n",
    "    ),\n",
    "    legend=dict(\n",
    "        x=0.5,\n",
    "        xanchor='center',\n",
    "        y=1.1,\n",
    "        orientation='h'\n",
    "    ),\n",
    "    bargap=0.3,\n",
    "    height=500,\n",
    "    template='plotly_white'\n",
    ")\n",
    "\n",
    "fig.show()"
   ]
  },
  {
   "cell_type": "code",
   "execution_count": 17,
   "id": "6fde7796",
   "metadata": {},
   "outputs": [
    {
     "data": {
      "application/vnd.plotly.v1+json": {
       "config": {
        "plotlyServerURL": "https://plot.ly"
       },
       "data": [
        {
         "marker": {
          "color": "#636EFA"
         },
         "name": "고객별 평균 주문 수",
         "text": [
          14,
          13,
          6,
          6,
          3,
          2,
          2
         ],
         "textfont": {
          "color": "#636EFA"
         },
         "textposition": "outside",
         "type": "bar",
         "x": [
          "Apparel",
          "Electronics",
          "Lifestyle",
          "Stationery",
          "Bags",
          "Software",
          "Fun"
         ],
         "y": [
          14.155056179775281,
          12.9125,
          6.497292418772563,
          6.4436557231588285,
          2.721997300944669,
          1.837696335078534,
          1.7921348314606742
         ],
         "yaxis": "y"
        },
        {
         "line": {
          "color": "#EF553B",
          "width": 2
         },
         "mode": "lines+markers+text",
         "name": "총 구매 고객 수량",
         "text": [
          1335,
          1280,
          1108,
          1127,
          741,
          382,
          178
         ],
         "textfont": {
          "color": "#EF553B"
         },
         "textposition": "top center",
         "type": "scatter",
         "x": [
          "Apparel",
          "Electronics",
          "Lifestyle",
          "Stationery",
          "Bags",
          "Software",
          "Fun"
         ],
         "y": [
          1335,
          1280,
          1108,
          1127,
          741,
          382,
          178
         ],
         "yaxis": "y2"
        }
       ],
       "layout": {
        "bargap": 0.3,
        "height": 500,
        "legend": {
         "orientation": "h",
         "x": 0.5,
         "xanchor": "center",
         "y": 1.1
        },
        "template": {
         "data": {
          "bar": [
           {
            "error_x": {
             "color": "#2a3f5f"
            },
            "error_y": {
             "color": "#2a3f5f"
            },
            "marker": {
             "line": {
              "color": "white",
              "width": 0.5
             },
             "pattern": {
              "fillmode": "overlay",
              "size": 10,
              "solidity": 0.2
             }
            },
            "type": "bar"
           }
          ],
          "barpolar": [
           {
            "marker": {
             "line": {
              "color": "white",
              "width": 0.5
             },
             "pattern": {
              "fillmode": "overlay",
              "size": 10,
              "solidity": 0.2
             }
            },
            "type": "barpolar"
           }
          ],
          "carpet": [
           {
            "aaxis": {
             "endlinecolor": "#2a3f5f",
             "gridcolor": "#C8D4E3",
             "linecolor": "#C8D4E3",
             "minorgridcolor": "#C8D4E3",
             "startlinecolor": "#2a3f5f"
            },
            "baxis": {
             "endlinecolor": "#2a3f5f",
             "gridcolor": "#C8D4E3",
             "linecolor": "#C8D4E3",
             "minorgridcolor": "#C8D4E3",
             "startlinecolor": "#2a3f5f"
            },
            "type": "carpet"
           }
          ],
          "choropleth": [
           {
            "colorbar": {
             "outlinewidth": 0,
             "ticks": ""
            },
            "type": "choropleth"
           }
          ],
          "contour": [
           {
            "colorbar": {
             "outlinewidth": 0,
             "ticks": ""
            },
            "colorscale": [
             [
              0,
              "#0d0887"
             ],
             [
              0.1111111111111111,
              "#46039f"
             ],
             [
              0.2222222222222222,
              "#7201a8"
             ],
             [
              0.3333333333333333,
              "#9c179e"
             ],
             [
              0.4444444444444444,
              "#bd3786"
             ],
             [
              0.5555555555555556,
              "#d8576b"
             ],
             [
              0.6666666666666666,
              "#ed7953"
             ],
             [
              0.7777777777777778,
              "#fb9f3a"
             ],
             [
              0.8888888888888888,
              "#fdca26"
             ],
             [
              1,
              "#f0f921"
             ]
            ],
            "type": "contour"
           }
          ],
          "contourcarpet": [
           {
            "colorbar": {
             "outlinewidth": 0,
             "ticks": ""
            },
            "type": "contourcarpet"
           }
          ],
          "heatmap": [
           {
            "colorbar": {
             "outlinewidth": 0,
             "ticks": ""
            },
            "colorscale": [
             [
              0,
              "#0d0887"
             ],
             [
              0.1111111111111111,
              "#46039f"
             ],
             [
              0.2222222222222222,
              "#7201a8"
             ],
             [
              0.3333333333333333,
              "#9c179e"
             ],
             [
              0.4444444444444444,
              "#bd3786"
             ],
             [
              0.5555555555555556,
              "#d8576b"
             ],
             [
              0.6666666666666666,
              "#ed7953"
             ],
             [
              0.7777777777777778,
              "#fb9f3a"
             ],
             [
              0.8888888888888888,
              "#fdca26"
             ],
             [
              1,
              "#f0f921"
             ]
            ],
            "type": "heatmap"
           }
          ],
          "heatmapgl": [
           {
            "colorbar": {
             "outlinewidth": 0,
             "ticks": ""
            },
            "colorscale": [
             [
              0,
              "#0d0887"
             ],
             [
              0.1111111111111111,
              "#46039f"
             ],
             [
              0.2222222222222222,
              "#7201a8"
             ],
             [
              0.3333333333333333,
              "#9c179e"
             ],
             [
              0.4444444444444444,
              "#bd3786"
             ],
             [
              0.5555555555555556,
              "#d8576b"
             ],
             [
              0.6666666666666666,
              "#ed7953"
             ],
             [
              0.7777777777777778,
              "#fb9f3a"
             ],
             [
              0.8888888888888888,
              "#fdca26"
             ],
             [
              1,
              "#f0f921"
             ]
            ],
            "type": "heatmapgl"
           }
          ],
          "histogram": [
           {
            "marker": {
             "pattern": {
              "fillmode": "overlay",
              "size": 10,
              "solidity": 0.2
             }
            },
            "type": "histogram"
           }
          ],
          "histogram2d": [
           {
            "colorbar": {
             "outlinewidth": 0,
             "ticks": ""
            },
            "colorscale": [
             [
              0,
              "#0d0887"
             ],
             [
              0.1111111111111111,
              "#46039f"
             ],
             [
              0.2222222222222222,
              "#7201a8"
             ],
             [
              0.3333333333333333,
              "#9c179e"
             ],
             [
              0.4444444444444444,
              "#bd3786"
             ],
             [
              0.5555555555555556,
              "#d8576b"
             ],
             [
              0.6666666666666666,
              "#ed7953"
             ],
             [
              0.7777777777777778,
              "#fb9f3a"
             ],
             [
              0.8888888888888888,
              "#fdca26"
             ],
             [
              1,
              "#f0f921"
             ]
            ],
            "type": "histogram2d"
           }
          ],
          "histogram2dcontour": [
           {
            "colorbar": {
             "outlinewidth": 0,
             "ticks": ""
            },
            "colorscale": [
             [
              0,
              "#0d0887"
             ],
             [
              0.1111111111111111,
              "#46039f"
             ],
             [
              0.2222222222222222,
              "#7201a8"
             ],
             [
              0.3333333333333333,
              "#9c179e"
             ],
             [
              0.4444444444444444,
              "#bd3786"
             ],
             [
              0.5555555555555556,
              "#d8576b"
             ],
             [
              0.6666666666666666,
              "#ed7953"
             ],
             [
              0.7777777777777778,
              "#fb9f3a"
             ],
             [
              0.8888888888888888,
              "#fdca26"
             ],
             [
              1,
              "#f0f921"
             ]
            ],
            "type": "histogram2dcontour"
           }
          ],
          "mesh3d": [
           {
            "colorbar": {
             "outlinewidth": 0,
             "ticks": ""
            },
            "type": "mesh3d"
           }
          ],
          "parcoords": [
           {
            "line": {
             "colorbar": {
              "outlinewidth": 0,
              "ticks": ""
             }
            },
            "type": "parcoords"
           }
          ],
          "pie": [
           {
            "automargin": true,
            "type": "pie"
           }
          ],
          "scatter": [
           {
            "fillpattern": {
             "fillmode": "overlay",
             "size": 10,
             "solidity": 0.2
            },
            "type": "scatter"
           }
          ],
          "scatter3d": [
           {
            "line": {
             "colorbar": {
              "outlinewidth": 0,
              "ticks": ""
             }
            },
            "marker": {
             "colorbar": {
              "outlinewidth": 0,
              "ticks": ""
             }
            },
            "type": "scatter3d"
           }
          ],
          "scattercarpet": [
           {
            "marker": {
             "colorbar": {
              "outlinewidth": 0,
              "ticks": ""
             }
            },
            "type": "scattercarpet"
           }
          ],
          "scattergeo": [
           {
            "marker": {
             "colorbar": {
              "outlinewidth": 0,
              "ticks": ""
             }
            },
            "type": "scattergeo"
           }
          ],
          "scattergl": [
           {
            "marker": {
             "colorbar": {
              "outlinewidth": 0,
              "ticks": ""
             }
            },
            "type": "scattergl"
           }
          ],
          "scattermapbox": [
           {
            "marker": {
             "colorbar": {
              "outlinewidth": 0,
              "ticks": ""
             }
            },
            "type": "scattermapbox"
           }
          ],
          "scatterpolar": [
           {
            "marker": {
             "colorbar": {
              "outlinewidth": 0,
              "ticks": ""
             }
            },
            "type": "scatterpolar"
           }
          ],
          "scatterpolargl": [
           {
            "marker": {
             "colorbar": {
              "outlinewidth": 0,
              "ticks": ""
             }
            },
            "type": "scatterpolargl"
           }
          ],
          "scatterternary": [
           {
            "marker": {
             "colorbar": {
              "outlinewidth": 0,
              "ticks": ""
             }
            },
            "type": "scatterternary"
           }
          ],
          "surface": [
           {
            "colorbar": {
             "outlinewidth": 0,
             "ticks": ""
            },
            "colorscale": [
             [
              0,
              "#0d0887"
             ],
             [
              0.1111111111111111,
              "#46039f"
             ],
             [
              0.2222222222222222,
              "#7201a8"
             ],
             [
              0.3333333333333333,
              "#9c179e"
             ],
             [
              0.4444444444444444,
              "#bd3786"
             ],
             [
              0.5555555555555556,
              "#d8576b"
             ],
             [
              0.6666666666666666,
              "#ed7953"
             ],
             [
              0.7777777777777778,
              "#fb9f3a"
             ],
             [
              0.8888888888888888,
              "#fdca26"
             ],
             [
              1,
              "#f0f921"
             ]
            ],
            "type": "surface"
           }
          ],
          "table": [
           {
            "cells": {
             "fill": {
              "color": "#EBF0F8"
             },
             "line": {
              "color": "white"
             }
            },
            "header": {
             "fill": {
              "color": "#C8D4E3"
             },
             "line": {
              "color": "white"
             }
            },
            "type": "table"
           }
          ]
         },
         "layout": {
          "annotationdefaults": {
           "arrowcolor": "#2a3f5f",
           "arrowhead": 0,
           "arrowwidth": 1
          },
          "autotypenumbers": "strict",
          "coloraxis": {
           "colorbar": {
            "outlinewidth": 0,
            "ticks": ""
           }
          },
          "colorscale": {
           "diverging": [
            [
             0,
             "#8e0152"
            ],
            [
             0.1,
             "#c51b7d"
            ],
            [
             0.2,
             "#de77ae"
            ],
            [
             0.3,
             "#f1b6da"
            ],
            [
             0.4,
             "#fde0ef"
            ],
            [
             0.5,
             "#f7f7f7"
            ],
            [
             0.6,
             "#e6f5d0"
            ],
            [
             0.7,
             "#b8e186"
            ],
            [
             0.8,
             "#7fbc41"
            ],
            [
             0.9,
             "#4d9221"
            ],
            [
             1,
             "#276419"
            ]
           ],
           "sequential": [
            [
             0,
             "#0d0887"
            ],
            [
             0.1111111111111111,
             "#46039f"
            ],
            [
             0.2222222222222222,
             "#7201a8"
            ],
            [
             0.3333333333333333,
             "#9c179e"
            ],
            [
             0.4444444444444444,
             "#bd3786"
            ],
            [
             0.5555555555555556,
             "#d8576b"
            ],
            [
             0.6666666666666666,
             "#ed7953"
            ],
            [
             0.7777777777777778,
             "#fb9f3a"
            ],
            [
             0.8888888888888888,
             "#fdca26"
            ],
            [
             1,
             "#f0f921"
            ]
           ],
           "sequentialminus": [
            [
             0,
             "#0d0887"
            ],
            [
             0.1111111111111111,
             "#46039f"
            ],
            [
             0.2222222222222222,
             "#7201a8"
            ],
            [
             0.3333333333333333,
             "#9c179e"
            ],
            [
             0.4444444444444444,
             "#bd3786"
            ],
            [
             0.5555555555555556,
             "#d8576b"
            ],
            [
             0.6666666666666666,
             "#ed7953"
            ],
            [
             0.7777777777777778,
             "#fb9f3a"
            ],
            [
             0.8888888888888888,
             "#fdca26"
            ],
            [
             1,
             "#f0f921"
            ]
           ]
          },
          "colorway": [
           "#636efa",
           "#EF553B",
           "#00cc96",
           "#ab63fa",
           "#FFA15A",
           "#19d3f3",
           "#FF6692",
           "#B6E880",
           "#FF97FF",
           "#FECB52"
          ],
          "font": {
           "color": "#2a3f5f"
          },
          "geo": {
           "bgcolor": "white",
           "lakecolor": "white",
           "landcolor": "white",
           "showlakes": true,
           "showland": true,
           "subunitcolor": "#C8D4E3"
          },
          "hoverlabel": {
           "align": "left"
          },
          "hovermode": "closest",
          "mapbox": {
           "style": "light"
          },
          "paper_bgcolor": "white",
          "plot_bgcolor": "white",
          "polar": {
           "angularaxis": {
            "gridcolor": "#EBF0F8",
            "linecolor": "#EBF0F8",
            "ticks": ""
           },
           "bgcolor": "white",
           "radialaxis": {
            "gridcolor": "#EBF0F8",
            "linecolor": "#EBF0F8",
            "ticks": ""
           }
          },
          "scene": {
           "xaxis": {
            "backgroundcolor": "white",
            "gridcolor": "#DFE8F3",
            "gridwidth": 2,
            "linecolor": "#EBF0F8",
            "showbackground": true,
            "ticks": "",
            "zerolinecolor": "#EBF0F8"
           },
           "yaxis": {
            "backgroundcolor": "white",
            "gridcolor": "#DFE8F3",
            "gridwidth": 2,
            "linecolor": "#EBF0F8",
            "showbackground": true,
            "ticks": "",
            "zerolinecolor": "#EBF0F8"
           },
           "zaxis": {
            "backgroundcolor": "white",
            "gridcolor": "#DFE8F3",
            "gridwidth": 2,
            "linecolor": "#EBF0F8",
            "showbackground": true,
            "ticks": "",
            "zerolinecolor": "#EBF0F8"
           }
          },
          "shapedefaults": {
           "line": {
            "color": "#2a3f5f"
           }
          },
          "ternary": {
           "aaxis": {
            "gridcolor": "#DFE8F3",
            "linecolor": "#A2B1C6",
            "ticks": ""
           },
           "baxis": {
            "gridcolor": "#DFE8F3",
            "linecolor": "#A2B1C6",
            "ticks": ""
           },
           "bgcolor": "white",
           "caxis": {
            "gridcolor": "#DFE8F3",
            "linecolor": "#A2B1C6",
            "ticks": ""
           }
          },
          "title": {
           "x": 0.05
          },
          "xaxis": {
           "automargin": true,
           "gridcolor": "#EBF0F8",
           "linecolor": "#EBF0F8",
           "ticks": "",
           "title": {
            "standoff": 15
           },
           "zerolinecolor": "#EBF0F8",
           "zerolinewidth": 2
          },
          "yaxis": {
           "automargin": true,
           "gridcolor": "#EBF0F8",
           "linecolor": "#EBF0F8",
           "ticks": "",
           "title": {
            "standoff": 15
           },
           "zerolinecolor": "#EBF0F8",
           "zerolinewidth": 2
          }
         }
        },
        "title": {
         "text": "카테고리별 평균 판매 금액 및 수량",
         "x": 0.5,
         "xanchor": "center"
        },
        "xaxis": {
         "tickangle": 45,
         "title": {
          "text": "제품 카테고리"
         }
        },
        "yaxis": {
         "tickfont": {
          "color": "#636EFA"
         },
         "title": {
          "font": {
           "color": "#636EFA"
          },
          "text": "평균 판매 금액"
         }
        },
        "yaxis2": {
         "overlaying": "y",
         "side": "right",
         "tickfont": {
          "color": "#EF553B"
         },
         "title": {
          "font": {
           "color": "#EF553B"
          },
          "text": "평균 판매 수량"
         }
        }
       }
      }
     },
     "metadata": {},
     "output_type": "display_data"
    }
   ],
   "source": [
    "category_customer = onlinesales.groupby(['고객ID', '제품카테고리']).제품ID.size().reset_index().groupby('제품카테고리').agg({'제품ID':'mean', '고객ID':'nunique'}).reset_index()\n",
    "category_customer.columns = ['제품카테고리', '고객별 평균 주문 수', '총 구매 고객 수']\n",
    "category_customer = category_customer.sort_values('고객별 평균 주문 수', ascending=False)\n",
    "\n",
    "fig = go.Figure()\n",
    "\n",
    "fig.add_trace(go.Bar(\n",
    "    x=category_customer.제품카테고리,\n",
    "    y=category_customer['고객별 평균 주문 수'],\n",
    "    name='고객별 평균 주문 수',\n",
    "    text=category_customer['고객별 평균 주문 수'].round(),\n",
    "    textposition='outside',\n",
    "    textfont=dict(color='#636EFA'),\n",
    "    marker=dict(color='#636EFA'),\n",
    "    yaxis='y1'\n",
    "))\n",
    "\n",
    "fig.add_trace(go.Scatter(\n",
    "    x=category_customer.제품카테고리,\n",
    "    y=category_customer['총 구매 고객 수'],\n",
    "    text=category_customer['총 구매 고객 수'].round(),\n",
    "    mode='lines+markers+text',\n",
    "    name='총 구매 고객 수량',\n",
    "    line=dict(color='#EF553B', width=2),\n",
    "    textposition='top center',\n",
    "    textfont=dict(color='#EF553B'),\n",
    "    yaxis='y2'\n",
    "))\n",
    "\n",
    "fig.update_layout(\n",
    "    title=dict(\n",
    "        text='카테고리별 평균 판매 금액 및 수량',\n",
    "        x=0.5,\n",
    "        xanchor='center'\n",
    "    ),\n",
    "    xaxis=dict(\n",
    "        title='제품 카테고리',\n",
    "        tickangle=45\n",
    "    ),\n",
    "    yaxis=dict(\n",
    "        title='평균 판매 금액',\n",
    "        titlefont=dict(color='#636EFA'),\n",
    "        tickfont=dict(color='#636EFA')\n",
    "    ),\n",
    "    yaxis2=dict(\n",
    "        title='평균 판매 수량',\n",
    "        titlefont=dict(color='#EF553B'),\n",
    "        tickfont=dict(color='#EF553B'),\n",
    "        overlaying='y',\n",
    "        side='right'\n",
    "    ),\n",
    "    legend=dict(\n",
    "        x=0.5,\n",
    "        xanchor='center',\n",
    "        y=1.1,\n",
    "        orientation='h'\n",
    "    ),\n",
    "    bargap=0.3,\n",
    "    height=500,\n",
    "    template='plotly_white'\n",
    ")\n",
    "\n",
    "fig.show()"
   ]
  },
  {
   "cell_type": "code",
   "execution_count": 18,
   "id": "fb0a4d20",
   "metadata": {},
   "outputs": [],
   "source": [
    "# 매출 관점에서 제품 카테고리 분류\n",
    "# 통합한 제품 카테고리별 특징을 바탕으로 매출 관점에서 3가지로 분류하였습니다.\n",
    "# 매출을 견인하는 제품\n",
    "\n",
    "# Electronics\n",
    "# 총 판매금액이 높지만 총 판매수량이 낮습니다.\n",
    "# 단가가 매우 높고, 많은 수의 고객이 소량으로 꾸준히 구매하는 제품입니다.\n",
    "# 매출 안정성을 제공하는 제품\n",
    "\n",
    "# Apparel, Stationery, Living\n",
    "\n",
    "# 총 판매금액은 다소 낮지만 총 판매수량이 높습니다.\n",
    "# 단가가 낮지만, 많은 수의 고객이 대량으로(단, Apparel는 소량으로) 꾸준히 자주 구매하는 제품입니다.\n",
    "# Bags\n",
    "\n",
    "# 총 판매금액 및 판매수량이 매우 낮고, 단가가 낮습니다.\n",
    "# 그러나 다수의 고객이 한번에 많이 꾸준히 구매하는 제품입니다.\n",
    "# 매출 측면의 영향력이 약한 제품\n",
    "\n",
    "# Software, Fun\n",
    "# 총판매금액과 총 판매수량 모두 매우 낮고, 구매고객 수가 적으며 구매 빈도 또한 매우 낮습니다.\n",
    "# 위의 분석 내용을 바탕으로 3차원 좌표 평면 위에 표현한 카테고리의 위치 분포입니다."
   ]
  },
  {
   "cell_type": "code",
   "execution_count": 19,
   "id": "6f11c56a",
   "metadata": {},
   "outputs": [],
   "source": [
    "onlinesales = pd.merge(onlinesales, discount, how='left', on=['월', '제품카테고리'])"
   ]
  },
  {
   "cell_type": "code",
   "execution_count": 20,
   "id": "fc9ad128",
   "metadata": {},
   "outputs": [
    {
     "data": {
      "text/html": [
       "<div>\n",
       "<style scoped>\n",
       "    .dataframe tbody tr th:only-of-type {\n",
       "        vertical-align: middle;\n",
       "    }\n",
       "\n",
       "    .dataframe tbody tr th {\n",
       "        vertical-align: top;\n",
       "    }\n",
       "\n",
       "    .dataframe thead th {\n",
       "        text-align: right;\n",
       "    }\n",
       "</style>\n",
       "<table border=\"1\" class=\"dataframe\">\n",
       "  <thead>\n",
       "    <tr style=\"text-align: right;\">\n",
       "      <th></th>\n",
       "      <th>고객ID</th>\n",
       "      <th>주문당 평균 금액</th>\n",
       "      <th>주문당 평균 수량</th>\n",
       "      <th>총 주문 수</th>\n",
       "      <th>1위 주문 카테고리</th>\n",
       "      <th>2위 주문 카테고리</th>\n",
       "      <th>1위 금액 카테고리</th>\n",
       "      <th>2위 금액 카테고리</th>\n",
       "    </tr>\n",
       "  </thead>\n",
       "  <tbody>\n",
       "    <tr>\n",
       "      <th>0</th>\n",
       "      <td>USER_0000</td>\n",
       "      <td>15.495000</td>\n",
       "      <td>1.500000</td>\n",
       "      <td>4</td>\n",
       "      <td>Apparel</td>\n",
       "      <td>Stationery</td>\n",
       "      <td>Stationery</td>\n",
       "      <td>Apparel</td>\n",
       "    </tr>\n",
       "    <tr>\n",
       "      <th>1</th>\n",
       "      <td>USER_0001</td>\n",
       "      <td>212.633750</td>\n",
       "      <td>4.907895</td>\n",
       "      <td>152</td>\n",
       "      <td>Apparel</td>\n",
       "      <td>Electronics</td>\n",
       "      <td>Apparel</td>\n",
       "      <td>Stationery</td>\n",
       "    </tr>\n",
       "    <tr>\n",
       "      <th>2</th>\n",
       "      <td>USER_0002</td>\n",
       "      <td>63.707714</td>\n",
       "      <td>8.814286</td>\n",
       "      <td>70</td>\n",
       "      <td>Lifestyle</td>\n",
       "      <td>Electronics</td>\n",
       "      <td>Lifestyle</td>\n",
       "      <td>Stationery</td>\n",
       "    </tr>\n",
       "    <tr>\n",
       "      <th>3</th>\n",
       "      <td>USER_0003</td>\n",
       "      <td>92.238571</td>\n",
       "      <td>1.190476</td>\n",
       "      <td>42</td>\n",
       "      <td>Electronics</td>\n",
       "      <td>Apparel</td>\n",
       "      <td>Apparel</td>\n",
       "      <td>Electronics</td>\n",
       "    </tr>\n",
       "    <tr>\n",
       "      <th>4</th>\n",
       "      <td>USER_0004</td>\n",
       "      <td>42.010816</td>\n",
       "      <td>1.448980</td>\n",
       "      <td>98</td>\n",
       "      <td>Electronics</td>\n",
       "      <td>Apparel</td>\n",
       "      <td>Stationery</td>\n",
       "      <td>Lifestyle</td>\n",
       "    </tr>\n",
       "  </tbody>\n",
       "</table>\n",
       "</div>"
      ],
      "text/plain": [
       "        고객ID   주문당 평균 금액  주문당 평균 수량  총 주문 수   1위 주문 카테고리   2위 주문 카테고리  \\\n",
       "0  USER_0000   15.495000   1.500000       4      Apparel   Stationery   \n",
       "1  USER_0001  212.633750   4.907895     152      Apparel  Electronics   \n",
       "2  USER_0002   63.707714   8.814286      70    Lifestyle  Electronics   \n",
       "3  USER_0003   92.238571   1.190476      42  Electronics      Apparel   \n",
       "4  USER_0004   42.010816   1.448980      98  Electronics      Apparel   \n",
       "\n",
       "   1위 금액 카테고리   2위 금액 카테고리  \n",
       "0  Stationery      Apparel  \n",
       "1     Apparel   Stationery  \n",
       "2   Lifestyle   Stationery  \n",
       "3     Apparel  Electronics  \n",
       "4  Stationery    Lifestyle  "
      ]
     },
     "execution_count": 20,
     "metadata": {},
     "output_type": "execute_result"
    }
   ],
   "source": [
    "def get_second(x):\n",
    "    try:\n",
    "        return x.iloc[1]\n",
    "    except IndexError:\n",
    "        return None # 두 번째 값이 없는 경우 None 반환\n",
    "    \n",
    "customer_category = onlinesales.groupby(['고객ID']).agg({'소비 금액':'mean', '수량':'mean', '제품ID':'size'}).reset_index()\n",
    "customer_category_price1 = onlinesales.groupby(['고객ID','제품카테고리']).agg({'소비 금액':'sum', '수량':'sum'}).reset_index().sort_values('소비 금액',ascending=False).groupby('고객ID')['제품카테고리'].first().reset_index()\n",
    "customer_category_price2 = onlinesales.groupby(['고객ID','제품카테고리']).agg({'소비 금액':'sum', '수량':'sum'}).reset_index().sort_values('소비 금액',ascending=False).groupby('고객ID')['제품카테고리'].apply(get_second).reset_index()\n",
    "customer_category_amount1 = onlinesales.groupby(['고객ID','제품카테고리']).agg({'소비 금액':'sum', '수량':'sum'}).reset_index().sort_values('수량',ascending=False).groupby('고객ID')['제품카테고리'].first().reset_index()\n",
    "customer_category_amount2 = onlinesales.groupby(['고객ID','제품카테고리']).agg({'소비 금액':'sum', '수량':'sum'}).reset_index().sort_values('수량',ascending=False).groupby('고객ID')['제품카테고리'].apply(get_second).reset_index()\n",
    "\n",
    "customer_category.columns = ['고객ID', '주문당 평균 금액', '주문당 평균 수량','총 주문 수']\n",
    "customer_category_price1.columns = ['고객ID', '1위 주문 카테고리']\n",
    "customer_category_price2.columns = ['고객ID', '2위 주문 카테고리']\n",
    "customer_category_amount1.columns = ['고객ID', '1위 금액 카테고리']\n",
    "customer_category_amount2.columns = ['고객ID', '2위 금액 카테고리']\n",
    "\n",
    "customer_df = pd.merge(customer_category, customer_category_price1, on='고객ID')\n",
    "customer_df = pd.merge(customer_df, customer_category_price2, on='고객ID')\n",
    "customer_df = pd.merge(customer_df, customer_category_amount1, on='고객ID')\n",
    "customer_df = pd.merge(customer_df, customer_category_amount2, on='고객ID')\n",
    "customer_df.head(5)"
   ]
  },
  {
   "cell_type": "code",
   "execution_count": 21,
   "id": "d7931e7b",
   "metadata": {},
   "outputs": [],
   "source": [
    "# # 쿠폰 사용 횟수\n",
    "# coupon_used_cnt = onlinesales[onlinesales.쿠폰상태=='Used'].groupby('고객ID').size().to_frame('coupon_used_cnt').reset_index()\n",
    "\n",
    "# # 쿠폰 사용 비율\n",
    "# used_cnt = onlinesales[onlinesales.쿠폰상태=='Used'].groupby('고객ID').size().to_frame('coupon_used_cnt').reset_index()\n",
    "# total_cnt = onlinesales.groupby('고객ID').size().to_frame('cnt').reset_index()\n",
    "\n",
    "# total_cnt['coupon_used_ratio'] = used_cnt.coupon_used_cnt/total_cnt.cnt\n",
    "# total_cnt['coupon_used_ratio'] = total_cnt['coupon_used_ratio'].fillna(0)\n",
    "\n",
    "# # 사용 쿠폰의 평균 할인율\n",
    "# avg_discount = onlinesales[onlinesales.쿠폰상태=='Used'].groupby('고객ID').할인율.mean().to_frame('discount_avg').reset_index()\n",
    "\n",
    "# # 마지막 구매 이후 경과 일수수\n",
    "# recency = (onlinesales['거래날짜'].max() - onlinesales.groupby('고객ID').거래날짜.max()).to_frame('recency_days').reset_index()\n",
    "# recency['recency_days'] = recency['recency_days'].astype(str).str.extract(r'(\\d+)').astype(int)\n",
    "\n",
    "# # 주문당 평균 구매 금액, 총 소비 금액 customer에 있음\n",
    "\n",
    "# # 데이터 결합\n",
    "# customer = pd.merge(customer, coupon_used_cnt, how='left', on='고객ID')\n",
    "# customer = pd.merge(customer, total_cnt[['고객ID', 'coupon_used_ratio']], how='left', on='고객ID')\n",
    "# customer = pd.merge(customer, avg_discount, how='left', on='고객ID')\n",
    "# customer = pd.merge(customer, recency, how='left', on='고객ID')\n",
    "# customer = pd.merge(customer, customer_df[['고객ID', '주문당 평균 금액', '총 주문 수', '주문당 평균 수량']], how='left', on='고객ID')"
   ]
  },
  {
   "cell_type": "code",
   "execution_count": 22,
   "id": "f176c5ff",
   "metadata": {},
   "outputs": [
    {
     "data": {
      "text/html": [
       "<div>\n",
       "<style scoped>\n",
       "    .dataframe tbody tr th:only-of-type {\n",
       "        vertical-align: middle;\n",
       "    }\n",
       "\n",
       "    .dataframe tbody tr th {\n",
       "        vertical-align: top;\n",
       "    }\n",
       "\n",
       "    .dataframe thead th {\n",
       "        text-align: right;\n",
       "    }\n",
       "</style>\n",
       "<table border=\"1\" class=\"dataframe\">\n",
       "  <thead>\n",
       "    <tr style=\"text-align: right;\">\n",
       "      <th></th>\n",
       "      <th>고객ID</th>\n",
       "      <th>성별</th>\n",
       "      <th>고객지역</th>\n",
       "      <th>가입기간</th>\n",
       "      <th>coupon_used_cnt</th>\n",
       "      <th>coupon_used_ratio</th>\n",
       "      <th>discount_avg</th>\n",
       "      <th>recency_days</th>\n",
       "      <th>주문당 평균 금액</th>\n",
       "      <th>총 주문 수</th>\n",
       "      <th>주문당 평균 수량</th>\n",
       "    </tr>\n",
       "  </thead>\n",
       "  <tbody>\n",
       "    <tr>\n",
       "      <th>0</th>\n",
       "      <td>USER_1358</td>\n",
       "      <td>남</td>\n",
       "      <td>Chicago</td>\n",
       "      <td>12</td>\n",
       "      <td>257.0</td>\n",
       "      <td>0.308894</td>\n",
       "      <td>10.000000</td>\n",
       "      <td>339</td>\n",
       "      <td>116.916995</td>\n",
       "      <td>832</td>\n",
       "      <td>3.890625</td>\n",
       "    </tr>\n",
       "    <tr>\n",
       "      <th>1</th>\n",
       "      <td>USER_0190</td>\n",
       "      <td>남</td>\n",
       "      <td>California</td>\n",
       "      <td>43</td>\n",
       "      <td>49.0</td>\n",
       "      <td>0.404959</td>\n",
       "      <td>22.244898</td>\n",
       "      <td>13</td>\n",
       "      <td>72.860165</td>\n",
       "      <td>121</td>\n",
       "      <td>3.190083</td>\n",
       "    </tr>\n",
       "    <tr>\n",
       "      <th>2</th>\n",
       "      <td>USER_0066</td>\n",
       "      <td>남</td>\n",
       "      <td>Chicago</td>\n",
       "      <td>33</td>\n",
       "      <td>27.0</td>\n",
       "      <td>0.264706</td>\n",
       "      <td>17.407407</td>\n",
       "      <td>151</td>\n",
       "      <td>66.738235</td>\n",
       "      <td>102</td>\n",
       "      <td>5.441176</td>\n",
       "    </tr>\n",
       "    <tr>\n",
       "      <th>3</th>\n",
       "      <td>USER_0345</td>\n",
       "      <td>여</td>\n",
       "      <td>California</td>\n",
       "      <td>30</td>\n",
       "      <td>0.0</td>\n",
       "      <td>0.000000</td>\n",
       "      <td>0.000000</td>\n",
       "      <td>364</td>\n",
       "      <td>1.240000</td>\n",
       "      <td>5</td>\n",
       "      <td>1.000000</td>\n",
       "    </tr>\n",
       "    <tr>\n",
       "      <th>4</th>\n",
       "      <td>USER_0683</td>\n",
       "      <td>남</td>\n",
       "      <td>California</td>\n",
       "      <td>49</td>\n",
       "      <td>5.0</td>\n",
       "      <td>0.294118</td>\n",
       "      <td>26.000000</td>\n",
       "      <td>123</td>\n",
       "      <td>184.177647</td>\n",
       "      <td>17</td>\n",
       "      <td>2.941176</td>\n",
       "    </tr>\n",
       "  </tbody>\n",
       "</table>\n",
       "</div>"
      ],
      "text/plain": [
       "        고객ID 성별        고객지역  가입기간  coupon_used_cnt  coupon_used_ratio  \\\n",
       "0  USER_1358  남     Chicago    12            257.0           0.308894   \n",
       "1  USER_0190  남  California    43             49.0           0.404959   \n",
       "2  USER_0066  남     Chicago    33             27.0           0.264706   \n",
       "3  USER_0345  여  California    30              0.0           0.000000   \n",
       "4  USER_0683  남  California    49              5.0           0.294118   \n",
       "\n",
       "   discount_avg  recency_days   주문당 평균 금액  총 주문 수  주문당 평균 수량  \n",
       "0     10.000000           339  116.916995     832   3.890625  \n",
       "1     22.244898            13   72.860165     121   3.190083  \n",
       "2     17.407407           151   66.738235     102   5.441176  \n",
       "3      0.000000           364    1.240000       5   1.000000  \n",
       "4     26.000000           123  184.177647      17   2.941176  "
      ]
     },
     "execution_count": 22,
     "metadata": {},
     "output_type": "execute_result"
    }
   ],
   "source": [
    "import pandas as pd\n",
    "\n",
    "# 1. 쿠폰 사용 횟수\n",
    "coupon_used_cnt = onlinesales[onlinesales['쿠폰상태'] == 'Used'] \\\n",
    "    .groupby('고객ID') \\\n",
    "    .size() \\\n",
    "    .to_frame('coupon_used_cnt') \\\n",
    "    .reset_index()\n",
    "\n",
    "# 2. 쿠폰 사용 비율 계산\n",
    "used_cnt = onlinesales[onlinesales['쿠폰상태'] == 'Used'] \\\n",
    "    .groupby('고객ID') \\\n",
    "    .size() \\\n",
    "    .to_frame('coupon_used_cnt') \\\n",
    "    .reset_index()\n",
    "\n",
    "total_cnt = onlinesales.groupby('고객ID') \\\n",
    "    .size() \\\n",
    "    .to_frame('cnt') \\\n",
    "    .reset_index()\n",
    "\n",
    "# 안전한 방식으로 merge 후 계산\n",
    "total_cnt = pd.merge(total_cnt, used_cnt, how='left', on='고객ID')\n",
    "total_cnt['coupon_used_ratio'] = total_cnt['coupon_used_cnt'] / total_cnt['cnt']\n",
    "total_cnt['coupon_used_ratio'] = total_cnt['coupon_used_ratio'].fillna(0)\n",
    "\n",
    "# 3. 고객별 사용 쿠폰의 평균 할인율\n",
    "avg_discount = onlinesales[onlinesales['쿠폰상태'] == 'Used'] \\\n",
    "    .groupby('고객ID')['할인율'] \\\n",
    "    .mean() \\\n",
    "    .to_frame('discount_avg') \\\n",
    "    .reset_index()\n",
    "\n",
    "# 4. 고객별 마지막 구매 이후 경과 일수\n",
    "recency = onlinesales.groupby('고객ID')['거래날짜'].max().reset_index()\n",
    "recency['recency_days'] = (onlinesales['거래날짜'].max() - recency['거래날짜']).dt.days\n",
    "recency = recency[['고객ID', 'recency_days']]\n",
    "\n",
    "# 5. 주문당 평균 금액 등 기존 customer_df에서 가져오기\n",
    "# → customer_df는 이전에 만든 고객 요약 테이블로 가정\n",
    "# 컬럼: 고객ID, 주문당 평균 금액, 총 주문 수, 주문당 평균 수량 등 포함\n",
    "\n",
    "# 6. 최종 customer 테이블에 결합\n",
    "customer = pd.merge(customer, coupon_used_cnt, how='left', on='고객ID')\n",
    "customer = pd.merge(customer, total_cnt[['고객ID', 'coupon_used_ratio']], how='left', on='고객ID')\n",
    "customer = pd.merge(customer, avg_discount, how='left', on='고객ID')\n",
    "customer = pd.merge(customer, recency, how='left', on='고객ID')\n",
    "customer = pd.merge(customer, customer_df[['고객ID', '주문당 평균 금액', '총 주문 수', '주문당 평균 수량']], how='left', on='고객ID')\n",
    "\n",
    "# 누락값 처리 (쿠폰 사용 안 한 고객 등)\n",
    "customer[['coupon_used_cnt', 'coupon_used_ratio', 'discount_avg']] = customer[[\n",
    "    'coupon_used_cnt', 'coupon_used_ratio', 'discount_avg'\n",
    "]].fillna(0)\n",
    "\n",
    "# 결과 확인\n",
    "customer.head()\n"
   ]
  },
  {
   "cell_type": "code",
   "execution_count": 23,
   "id": "7b118f67",
   "metadata": {},
   "outputs": [
    {
     "data": {
      "application/vnd.plotly.v1+json": {
       "config": {
        "plotlyServerURL": "https://plot.ly"
       },
       "data": [
        {
         "hovertemplate": "Number of Clusters (k)=%{x}<br>Silhouette Score=%{y}<extra></extra>",
         "legendgroup": "",
         "line": {
          "color": "#636efa",
          "dash": "solid"
         },
         "marker": {
          "symbol": "circle"
         },
         "mode": "lines+markers",
         "name": "",
         "orientation": "v",
         "showlegend": false,
         "type": "scatter",
         "x": [
          2,
          3,
          4,
          5,
          6,
          7,
          8,
          9,
          10
         ],
         "xaxis": "x",
         "y": [
          0.6569509843810384,
          0.650049329479831,
          0.23962204337903442,
          0.25037736536197625,
          0.2665175683582118,
          0.265350486158913,
          0.26541915688139034,
          0.24444796554151366,
          0.2463485761081808
         ],
         "yaxis": "y"
        }
       ],
       "layout": {
        "legend": {
         "tracegroupgap": 0
        },
        "template": {
         "data": {
          "bar": [
           {
            "error_x": {
             "color": "#2a3f5f"
            },
            "error_y": {
             "color": "#2a3f5f"
            },
            "marker": {
             "line": {
              "color": "white",
              "width": 0.5
             },
             "pattern": {
              "fillmode": "overlay",
              "size": 10,
              "solidity": 0.2
             }
            },
            "type": "bar"
           }
          ],
          "barpolar": [
           {
            "marker": {
             "line": {
              "color": "white",
              "width": 0.5
             },
             "pattern": {
              "fillmode": "overlay",
              "size": 10,
              "solidity": 0.2
             }
            },
            "type": "barpolar"
           }
          ],
          "carpet": [
           {
            "aaxis": {
             "endlinecolor": "#2a3f5f",
             "gridcolor": "#C8D4E3",
             "linecolor": "#C8D4E3",
             "minorgridcolor": "#C8D4E3",
             "startlinecolor": "#2a3f5f"
            },
            "baxis": {
             "endlinecolor": "#2a3f5f",
             "gridcolor": "#C8D4E3",
             "linecolor": "#C8D4E3",
             "minorgridcolor": "#C8D4E3",
             "startlinecolor": "#2a3f5f"
            },
            "type": "carpet"
           }
          ],
          "choropleth": [
           {
            "colorbar": {
             "outlinewidth": 0,
             "ticks": ""
            },
            "type": "choropleth"
           }
          ],
          "contour": [
           {
            "colorbar": {
             "outlinewidth": 0,
             "ticks": ""
            },
            "colorscale": [
             [
              0,
              "#0d0887"
             ],
             [
              0.1111111111111111,
              "#46039f"
             ],
             [
              0.2222222222222222,
              "#7201a8"
             ],
             [
              0.3333333333333333,
              "#9c179e"
             ],
             [
              0.4444444444444444,
              "#bd3786"
             ],
             [
              0.5555555555555556,
              "#d8576b"
             ],
             [
              0.6666666666666666,
              "#ed7953"
             ],
             [
              0.7777777777777778,
              "#fb9f3a"
             ],
             [
              0.8888888888888888,
              "#fdca26"
             ],
             [
              1,
              "#f0f921"
             ]
            ],
            "type": "contour"
           }
          ],
          "contourcarpet": [
           {
            "colorbar": {
             "outlinewidth": 0,
             "ticks": ""
            },
            "type": "contourcarpet"
           }
          ],
          "heatmap": [
           {
            "colorbar": {
             "outlinewidth": 0,
             "ticks": ""
            },
            "colorscale": [
             [
              0,
              "#0d0887"
             ],
             [
              0.1111111111111111,
              "#46039f"
             ],
             [
              0.2222222222222222,
              "#7201a8"
             ],
             [
              0.3333333333333333,
              "#9c179e"
             ],
             [
              0.4444444444444444,
              "#bd3786"
             ],
             [
              0.5555555555555556,
              "#d8576b"
             ],
             [
              0.6666666666666666,
              "#ed7953"
             ],
             [
              0.7777777777777778,
              "#fb9f3a"
             ],
             [
              0.8888888888888888,
              "#fdca26"
             ],
             [
              1,
              "#f0f921"
             ]
            ],
            "type": "heatmap"
           }
          ],
          "heatmapgl": [
           {
            "colorbar": {
             "outlinewidth": 0,
             "ticks": ""
            },
            "colorscale": [
             [
              0,
              "#0d0887"
             ],
             [
              0.1111111111111111,
              "#46039f"
             ],
             [
              0.2222222222222222,
              "#7201a8"
             ],
             [
              0.3333333333333333,
              "#9c179e"
             ],
             [
              0.4444444444444444,
              "#bd3786"
             ],
             [
              0.5555555555555556,
              "#d8576b"
             ],
             [
              0.6666666666666666,
              "#ed7953"
             ],
             [
              0.7777777777777778,
              "#fb9f3a"
             ],
             [
              0.8888888888888888,
              "#fdca26"
             ],
             [
              1,
              "#f0f921"
             ]
            ],
            "type": "heatmapgl"
           }
          ],
          "histogram": [
           {
            "marker": {
             "pattern": {
              "fillmode": "overlay",
              "size": 10,
              "solidity": 0.2
             }
            },
            "type": "histogram"
           }
          ],
          "histogram2d": [
           {
            "colorbar": {
             "outlinewidth": 0,
             "ticks": ""
            },
            "colorscale": [
             [
              0,
              "#0d0887"
             ],
             [
              0.1111111111111111,
              "#46039f"
             ],
             [
              0.2222222222222222,
              "#7201a8"
             ],
             [
              0.3333333333333333,
              "#9c179e"
             ],
             [
              0.4444444444444444,
              "#bd3786"
             ],
             [
              0.5555555555555556,
              "#d8576b"
             ],
             [
              0.6666666666666666,
              "#ed7953"
             ],
             [
              0.7777777777777778,
              "#fb9f3a"
             ],
             [
              0.8888888888888888,
              "#fdca26"
             ],
             [
              1,
              "#f0f921"
             ]
            ],
            "type": "histogram2d"
           }
          ],
          "histogram2dcontour": [
           {
            "colorbar": {
             "outlinewidth": 0,
             "ticks": ""
            },
            "colorscale": [
             [
              0,
              "#0d0887"
             ],
             [
              0.1111111111111111,
              "#46039f"
             ],
             [
              0.2222222222222222,
              "#7201a8"
             ],
             [
              0.3333333333333333,
              "#9c179e"
             ],
             [
              0.4444444444444444,
              "#bd3786"
             ],
             [
              0.5555555555555556,
              "#d8576b"
             ],
             [
              0.6666666666666666,
              "#ed7953"
             ],
             [
              0.7777777777777778,
              "#fb9f3a"
             ],
             [
              0.8888888888888888,
              "#fdca26"
             ],
             [
              1,
              "#f0f921"
             ]
            ],
            "type": "histogram2dcontour"
           }
          ],
          "mesh3d": [
           {
            "colorbar": {
             "outlinewidth": 0,
             "ticks": ""
            },
            "type": "mesh3d"
           }
          ],
          "parcoords": [
           {
            "line": {
             "colorbar": {
              "outlinewidth": 0,
              "ticks": ""
             }
            },
            "type": "parcoords"
           }
          ],
          "pie": [
           {
            "automargin": true,
            "type": "pie"
           }
          ],
          "scatter": [
           {
            "fillpattern": {
             "fillmode": "overlay",
             "size": 10,
             "solidity": 0.2
            },
            "type": "scatter"
           }
          ],
          "scatter3d": [
           {
            "line": {
             "colorbar": {
              "outlinewidth": 0,
              "ticks": ""
             }
            },
            "marker": {
             "colorbar": {
              "outlinewidth": 0,
              "ticks": ""
             }
            },
            "type": "scatter3d"
           }
          ],
          "scattercarpet": [
           {
            "marker": {
             "colorbar": {
              "outlinewidth": 0,
              "ticks": ""
             }
            },
            "type": "scattercarpet"
           }
          ],
          "scattergeo": [
           {
            "marker": {
             "colorbar": {
              "outlinewidth": 0,
              "ticks": ""
             }
            },
            "type": "scattergeo"
           }
          ],
          "scattergl": [
           {
            "marker": {
             "colorbar": {
              "outlinewidth": 0,
              "ticks": ""
             }
            },
            "type": "scattergl"
           }
          ],
          "scattermapbox": [
           {
            "marker": {
             "colorbar": {
              "outlinewidth": 0,
              "ticks": ""
             }
            },
            "type": "scattermapbox"
           }
          ],
          "scatterpolar": [
           {
            "marker": {
             "colorbar": {
              "outlinewidth": 0,
              "ticks": ""
             }
            },
            "type": "scatterpolar"
           }
          ],
          "scatterpolargl": [
           {
            "marker": {
             "colorbar": {
              "outlinewidth": 0,
              "ticks": ""
             }
            },
            "type": "scatterpolargl"
           }
          ],
          "scatterternary": [
           {
            "marker": {
             "colorbar": {
              "outlinewidth": 0,
              "ticks": ""
             }
            },
            "type": "scatterternary"
           }
          ],
          "surface": [
           {
            "colorbar": {
             "outlinewidth": 0,
             "ticks": ""
            },
            "colorscale": [
             [
              0,
              "#0d0887"
             ],
             [
              0.1111111111111111,
              "#46039f"
             ],
             [
              0.2222222222222222,
              "#7201a8"
             ],
             [
              0.3333333333333333,
              "#9c179e"
             ],
             [
              0.4444444444444444,
              "#bd3786"
             ],
             [
              0.5555555555555556,
              "#d8576b"
             ],
             [
              0.6666666666666666,
              "#ed7953"
             ],
             [
              0.7777777777777778,
              "#fb9f3a"
             ],
             [
              0.8888888888888888,
              "#fdca26"
             ],
             [
              1,
              "#f0f921"
             ]
            ],
            "type": "surface"
           }
          ],
          "table": [
           {
            "cells": {
             "fill": {
              "color": "#EBF0F8"
             },
             "line": {
              "color": "white"
             }
            },
            "header": {
             "fill": {
              "color": "#C8D4E3"
             },
             "line": {
              "color": "white"
             }
            },
            "type": "table"
           }
          ]
         },
         "layout": {
          "annotationdefaults": {
           "arrowcolor": "#2a3f5f",
           "arrowhead": 0,
           "arrowwidth": 1
          },
          "autotypenumbers": "strict",
          "coloraxis": {
           "colorbar": {
            "outlinewidth": 0,
            "ticks": ""
           }
          },
          "colorscale": {
           "diverging": [
            [
             0,
             "#8e0152"
            ],
            [
             0.1,
             "#c51b7d"
            ],
            [
             0.2,
             "#de77ae"
            ],
            [
             0.3,
             "#f1b6da"
            ],
            [
             0.4,
             "#fde0ef"
            ],
            [
             0.5,
             "#f7f7f7"
            ],
            [
             0.6,
             "#e6f5d0"
            ],
            [
             0.7,
             "#b8e186"
            ],
            [
             0.8,
             "#7fbc41"
            ],
            [
             0.9,
             "#4d9221"
            ],
            [
             1,
             "#276419"
            ]
           ],
           "sequential": [
            [
             0,
             "#0d0887"
            ],
            [
             0.1111111111111111,
             "#46039f"
            ],
            [
             0.2222222222222222,
             "#7201a8"
            ],
            [
             0.3333333333333333,
             "#9c179e"
            ],
            [
             0.4444444444444444,
             "#bd3786"
            ],
            [
             0.5555555555555556,
             "#d8576b"
            ],
            [
             0.6666666666666666,
             "#ed7953"
            ],
            [
             0.7777777777777778,
             "#fb9f3a"
            ],
            [
             0.8888888888888888,
             "#fdca26"
            ],
            [
             1,
             "#f0f921"
            ]
           ],
           "sequentialminus": [
            [
             0,
             "#0d0887"
            ],
            [
             0.1111111111111111,
             "#46039f"
            ],
            [
             0.2222222222222222,
             "#7201a8"
            ],
            [
             0.3333333333333333,
             "#9c179e"
            ],
            [
             0.4444444444444444,
             "#bd3786"
            ],
            [
             0.5555555555555556,
             "#d8576b"
            ],
            [
             0.6666666666666666,
             "#ed7953"
            ],
            [
             0.7777777777777778,
             "#fb9f3a"
            ],
            [
             0.8888888888888888,
             "#fdca26"
            ],
            [
             1,
             "#f0f921"
            ]
           ]
          },
          "colorway": [
           "#636efa",
           "#EF553B",
           "#00cc96",
           "#ab63fa",
           "#FFA15A",
           "#19d3f3",
           "#FF6692",
           "#B6E880",
           "#FF97FF",
           "#FECB52"
          ],
          "font": {
           "color": "#2a3f5f"
          },
          "geo": {
           "bgcolor": "white",
           "lakecolor": "white",
           "landcolor": "white",
           "showlakes": true,
           "showland": true,
           "subunitcolor": "#C8D4E3"
          },
          "hoverlabel": {
           "align": "left"
          },
          "hovermode": "closest",
          "mapbox": {
           "style": "light"
          },
          "paper_bgcolor": "white",
          "plot_bgcolor": "white",
          "polar": {
           "angularaxis": {
            "gridcolor": "#EBF0F8",
            "linecolor": "#EBF0F8",
            "ticks": ""
           },
           "bgcolor": "white",
           "radialaxis": {
            "gridcolor": "#EBF0F8",
            "linecolor": "#EBF0F8",
            "ticks": ""
           }
          },
          "scene": {
           "xaxis": {
            "backgroundcolor": "white",
            "gridcolor": "#DFE8F3",
            "gridwidth": 2,
            "linecolor": "#EBF0F8",
            "showbackground": true,
            "ticks": "",
            "zerolinecolor": "#EBF0F8"
           },
           "yaxis": {
            "backgroundcolor": "white",
            "gridcolor": "#DFE8F3",
            "gridwidth": 2,
            "linecolor": "#EBF0F8",
            "showbackground": true,
            "ticks": "",
            "zerolinecolor": "#EBF0F8"
           },
           "zaxis": {
            "backgroundcolor": "white",
            "gridcolor": "#DFE8F3",
            "gridwidth": 2,
            "linecolor": "#EBF0F8",
            "showbackground": true,
            "ticks": "",
            "zerolinecolor": "#EBF0F8"
           }
          },
          "shapedefaults": {
           "line": {
            "color": "#2a3f5f"
           }
          },
          "ternary": {
           "aaxis": {
            "gridcolor": "#DFE8F3",
            "linecolor": "#A2B1C6",
            "ticks": ""
           },
           "baxis": {
            "gridcolor": "#DFE8F3",
            "linecolor": "#A2B1C6",
            "ticks": ""
           },
           "bgcolor": "white",
           "caxis": {
            "gridcolor": "#DFE8F3",
            "linecolor": "#A2B1C6",
            "ticks": ""
           }
          },
          "title": {
           "x": 0.05
          },
          "xaxis": {
           "automargin": true,
           "gridcolor": "#EBF0F8",
           "linecolor": "#EBF0F8",
           "ticks": "",
           "title": {
            "standoff": 15
           },
           "zerolinecolor": "#EBF0F8",
           "zerolinewidth": 2
          },
          "yaxis": {
           "automargin": true,
           "gridcolor": "#EBF0F8",
           "linecolor": "#EBF0F8",
           "ticks": "",
           "title": {
            "standoff": 15
           },
           "zerolinecolor": "#EBF0F8",
           "zerolinewidth": 2
          }
         }
        },
        "title": {
         "text": "K 값에 따른 실루엣 계수"
        },
        "xaxis": {
         "anchor": "y",
         "domain": [
          0,
          1
         ],
         "dtick": 1,
         "title": {
          "text": "Number of Clusters (k)"
         }
        },
        "yaxis": {
         "anchor": "x",
         "domain": [
          0,
          1
         ],
         "title": {
          "text": "Silhouette Score"
         }
        }
       }
      }
     },
     "metadata": {},
     "output_type": "display_data"
    }
   ],
   "source": [
    "import plotly.express as px\n",
    "import pandas as pd\n",
    "import numpy as np\n",
    "from sklearn.preprocessing import StandardScaler\n",
    "from sklearn.cluster import KMeans\n",
    "from sklearn.metrics import silhouette_score\n",
    "\n",
    "# 1. 클러스터링에 사용할 특성 선택 및 전처리\n",
    "features = ['coupon_used_ratio', '총 주문 수', '주문당 평균 수량', '주문당 평균 금액']\n",
    "X = customer[features].copy()\n",
    "X = X.fillna(X.mean())  # 결측값 처리\n",
    "\n",
    "# 2. 표준화\n",
    "scaler = StandardScaler()\n",
    "X_scaled = scaler.fit_transform(X)\n",
    "\n",
    "# 3. 실루엣 점수 계산\n",
    "silhouette_scores = []\n",
    "K = range(2, 11)\n",
    "\n",
    "for k in K:\n",
    "    kmeans = KMeans(n_clusters=k, random_state=42)\n",
    "    labels = kmeans.fit_predict(X_scaled)\n",
    "    score = silhouette_score(X_scaled, labels)\n",
    "    silhouette_scores.append(score)\n",
    "\n",
    "# 4. Plotly 시각화\n",
    "fig = px.line(\n",
    "    x=list(K),\n",
    "    y=silhouette_scores,\n",
    "    markers=True,\n",
    "    labels={'x': 'Number of Clusters (k)', 'y': 'Silhouette Score'},\n",
    "    title='K 값에 따른 실루엣 계수'\n",
    ")\n",
    "fig.update_layout(xaxis=dict(dtick=1), template='plotly_white')\n",
    "fig.show()\n"
   ]
  },
  {
   "cell_type": "code",
   "execution_count": 24,
   "id": "bfecc58c",
   "metadata": {},
   "outputs": [
    {
     "name": "stdout",
     "output_type": "stream",
     "text": [
      "Best K: 3, Silhouette Score: 0.657\n"
     ]
    },
    {
     "data": {
      "application/vnd.plotly.v1+json": {
       "config": {
        "plotlyServerURL": "https://plot.ly"
       },
       "data": [
        {
         "hovertemplate": "color=2<br>PC1=%{x}<br>PC2=%{y}<br>PC3=%{z}<extra></extra>",
         "legendgroup": "2",
         "marker": {
          "color": "rgb(102,194,165)",
          "symbol": "circle"
         },
         "mode": "markers",
         "name": "2",
         "scene": "scene",
         "showlegend": true,
         "type": "scatter3d",
         "x": [
          0.5365345650474498,
          1.3747770706815299,
          0.21336801223979063,
          0.07598950898490055,
          1.1840584200616135,
          0.6781206316360356,
          0.5358935628794823,
          0.8407510329578002,
          0.28114141479630966,
          0.026404910568908015,
          0.10174840556516483,
          0.21056272674329718,
          0.15821466172343168,
          0.35140583270560427,
          -0.20968090236584008,
          0.0032673380358460634,
          -0.2814216483719614,
          -0.04756760233083934,
          0.2049070271688384,
          1.0379133364949011
         ],
         "y": [
          -1.719134435170353,
          -3.1603429140116583,
          -0.779141721643685,
          -0.8937559472843785,
          -3.246762748929377,
          -2.729762424363653,
          -2.8349305142140637,
          -2.728076434349756,
          -1.2671265778300427,
          -1.6306489464840506,
          -1.482705671843196,
          -1.2754148773473075,
          -1.1503683589059457,
          -1.613730284935127,
          -1.3188680470583822,
          -0.6470419581341786,
          -1.0997939838463118,
          -1.4781781245760446,
          -1.2378586679150956,
          -1.5366700093281513
         ],
         "z": [
          5.0907467598912115,
          10.555110544513353,
          3.1461468380507083,
          3.3517519285954878,
          11.928834527882609,
          9.236503155864769,
          10.234626132443493,
          10.058614030279957,
          4.265821626673388,
          6.0040154752196315,
          4.205933242674104,
          3.3632573689188874,
          3.831054881596502,
          5.422284388529963,
          3.33357458080473,
          3.231263396413072,
          4.016749976297709,
          5.0503074112150035,
          2.797880114937101,
          4.256630001036216
         ]
        },
        {
         "hovertemplate": "color=0<br>PC1=%{x}<br>PC2=%{y}<br>PC3=%{z}<extra></extra>",
         "legendgroup": "0",
         "marker": {
          "color": "rgb(252,141,98)",
          "symbol": "circle"
         },
         "mode": "markers",
         "name": "0",
         "scene": "scene",
         "showlegend": true,
         "type": "scatter3d",
         "x": [
          -0.373817573754437,
          -0.20584575093871585,
          -1.4004174101492495,
          0.9606144561520051,
          -0.9989049158902281,
          0.33706475040151346,
          0.47623859605545105,
          -0.46130832502634966,
          0.4468684157090828,
          -0.20271408268047297,
          0.006509727167480884,
          0.1570479800556176,
          0.2858927600275148,
          -0.23355308670647926,
          0.2409429749892699,
          0.47413032508788316,
          1.5470470081709637,
          -0.40814119453871683,
          -0.7792885435401732,
          -0.2021226106260885,
          0.5330207598374697,
          0.39768497533619257,
          -0.5822099780982781,
          0.17822737034149247,
          -1.1731325851782743,
          0.05522650648714098,
          -0.07670155047752851,
          0.907885638267992,
          -0.13431960341415436,
          1.414984830123544,
          -0.2573145360989209,
          -0.5497781015066409,
          -0.5944383874864592,
          0.10389869745456139,
          0.27407214113763184,
          0.9175943292000687,
          -0.17086438735698714,
          -0.26569494093268514,
          -0.02718589357421578,
          -0.1754165630329461,
          1.0063200921494158,
          -0.3171808595489253,
          0.37661039213962755,
          0.06266229395140595,
          0.14925389363808397,
          -0.43785956411732907,
          0.594749454209412,
          0.49061270702212123,
          -0.12862186737858666,
          0.9515251178869384,
          -0.2512222235221338,
          -0.6664468734630311,
          0.17968071914424188,
          0.5978707204015471,
          -0.2501535403790684,
          0.004455642730168093,
          0.893060446411737,
          -0.7264194826684296,
          -0.7982759536814009,
          0.5761973970955916,
          -0.3495138476856441,
          0.5695552280459083,
          0.03008892456536753,
          -0.24984819564573924,
          -0.4267775292994628,
          0.41094054786479745,
          0.17836038417975186,
          0.34400984145190655,
          1.106166344624048,
          -0.13273766233758083,
          0.5897336337553694,
          1.086570171047092,
          0.29713649643694173,
          -1.0031336057516909,
          0.020608262109745975,
          0.5137793078301925,
          1.3709251903281339,
          -0.059878698577477026,
          0.5588266559336242,
          0.3650176174231485,
          -0.5091600109891744,
          0.5846163494237687,
          0.6131302393285114,
          -0.566786100298393,
          0.051304022009480456,
          -0.6415261877525781,
          0.24350326707504755,
          -0.2782714193965564,
          -0.6103123217107819,
          -0.11296010227351354,
          0.02286251034657096,
          -0.3970683215741388,
          -0.26040479882410367,
          -0.5969653106245948,
          0.1645843492404734,
          2.1861666244166402,
          0.5107336290106795,
          -0.28170074839934733,
          -0.8801683003223382,
          -1.1758861036635444,
          -0.484744664720585,
          -0.07966062759174061,
          -0.29597212407502993,
          0.19364038571118652,
          0.6059274065328328,
          -0.2570155308244927,
          -0.03072824318118895,
          1.0610562720422791,
          0.27306098655990574,
          0.09374925776045727,
          0.0719202785095249,
          0.6591672749581337,
          -0.2883002380979877,
          0.1109921256285459,
          0.29206401716112684,
          -0.2646111543382497,
          -0.10183943971774755,
          1.4034169937354848,
          0.3927762960229125,
          -0.12518713982879548,
          -0.16652555737194502,
          0.1808906348690107,
          -0.6691263191598144,
          -0.33564754485254344,
          -0.39909448077029325,
          -0.6007962736208224,
          -0.23390832747184226,
          0.5705119094771142,
          -0.07002563236785257,
          2.2383625764595876,
          -0.5981500382565836,
          -0.5135113352794513,
          0.37591248056935966,
          -0.06448845545194656,
          0.832618558908386,
          0.650616374832326,
          -0.5443269688863542,
          -0.3394197988318457,
          -0.21623890530611378,
          0.6138269497931483,
          -0.24445957716534544,
          -0.021835098598089676,
          -0.7477470961816216,
          0.021212106722389705,
          -0.9485513004956114,
          -0.20852403684794954,
          -0.327354600435898,
          -0.6981805525982123,
          -0.2687274488102909,
          -0.983857301366855,
          -0.7581528013106599,
          0.21659895236779736,
          0.27916379272831554,
          0.4569244561682361,
          -0.3302254617239815,
          0.27480528118599545,
          -0.4148001083354016,
          -0.3150790993759016,
          0.7352483305264387,
          -0.17560326088426706,
          -0.34533649107905173,
          -0.4445270783455297,
          -0.02100495168237456,
          -1.0745594074744962,
          0.9268612728430442,
          0.8658015399434082,
          -0.037630959265151726,
          -0.19917164619556596,
          -0.5767887753436451,
          -0.11272462933824272,
          -1.2012233574037559,
          -0.2150325748148847,
          -0.07909345881967599,
          -0.26430677631028354,
          -0.6055266413395198,
          0.7843218544799889,
          0.03666392610517022,
          0.18258887512112792,
          -1.4437845506738152,
          -0.17817047838675362,
          -0.44067667745570466,
          0.35363849822685056,
          0.1813190654546214,
          -0.9456186677988941,
          -1.4789509863203214,
          -0.6090065952229383,
          -1.2868307288321672,
          -0.21057796536478726,
          0.5591237210213748,
          -0.24983195520999343,
          0.811500070827877,
          0.22066489410656853,
          0.13413449942971412,
          0.3902449433574635,
          0.5385498173529132,
          -1.3516936576619563,
          -1.3365111931733666,
          -0.42085281119937284,
          0.48087106252504,
          0.20946033837675174,
          0.33485324723337145,
          -0.43462413201079714,
          -0.21307577232378558,
          0.3310853213260462,
          0.31207983579634485,
          0.3182862663135557,
          0.14666043662156508,
          0.8661700288343124,
          0.14700410457394308,
          0.34079137813645005,
          0.4031471049438537,
          0.13208063860420705,
          0.012108802763069255,
          -1.1677077599386172,
          0.11751730166589543,
          -0.4238724036946437,
          -0.2416178630746707,
          -0.25334313743640147,
          -0.7952883501794953,
          -0.8595235393396582,
          -1.1665970579489335,
          -0.6268983843012862,
          -0.9163330282741701,
          -0.21775025437405693,
          0.009005361159807436,
          -0.09196148535517797,
          -0.2550387969725034,
          -0.727915262795113,
          -0.3303427857098874,
          1.2092398167636838,
          0.6897911671333127,
          1.5888178616484159,
          0.28932325406635057,
          0.12746590002437014,
          -0.284092178682612,
          0.5478527949151021,
          0.5096627710626398,
          0.19977998391560606,
          -0.7714126259006023,
          -0.4467909622248183,
          -0.07642828370926633,
          -0.2277453593707912,
          -0.3673406190046898,
          0.18698009045652655,
          -0.400114018828373,
          0.4970417879718863,
          0.01598428610634293,
          -0.5668181273546806,
          -0.7291609112438364,
          -0.4263553231508478,
          0.14346767944967298,
          -0.20813003360589516,
          -0.6928720306686229,
          0.34565991010113767,
          -0.06319662324997607,
          -0.0009563527315142481,
          0.47526636126423294,
          -0.15661318337079896,
          -0.08054664241480441,
          -0.15433761713323377,
          -0.02903656142710185,
          -0.017631031644390865,
          -0.6574836850977768,
          0.9190910613117556,
          0.3484778936982615,
          0.3141460348674394,
          -0.5298098755910144,
          -0.5197187016216805,
          -1.1407732698164663,
          -0.8134534245627407,
          -0.38489141850738084,
          -0.12155823690714501,
          -0.37099823638027557,
          -0.7180988815068016,
          0.6422242457299823,
          0.7229736066416409,
          -0.13829023271923646,
          1.9115091741787447,
          -0.33863543644830296,
          -0.3131562517957817,
          -0.44825245523677126,
          -0.6356098123751794,
          -0.06175697006693739,
          -0.396315852347538,
          0.006591391496589259,
          -0.1222473108605895,
          -0.26504360707101043,
          -0.1622294010340068,
          -0.06764610224844735,
          0.16278046205016986,
          -0.5401222766349458,
          -1.0659431536681174,
          1.4048772063457369,
          -0.05800794341050253,
          0.12979700092397034,
          0.10652934403660795,
          0.7272053522339447,
          1.0337971444288778,
          0.431182935491497,
          -0.5482854738588238,
          -0.0698495920038418,
          -0.6401391638453439,
          -0.3956574257234728,
          -0.6691201931776664,
          -1.1730514632202196,
          -0.27259729059106763,
          -1.2214413980349432,
          -1.1832658863063246,
          -0.8389844528911425,
          0.03217620781322614,
          -0.9498218234387952,
          -0.5369650401816563,
          -0.46879376622059,
          -0.4241725865390159,
          -0.9751405667244799,
          -1.1207085076790313,
          0.6506728637342084,
          -0.07685628504042337,
          -0.10380310836812047,
          0.060853289070071495,
          -0.43800927457098776,
          -1.013591529135842,
          -1.0941297362296658,
          0.25187394239374594,
          -0.13874571227577245,
          1.5157088339480094,
          0.23669414764709923,
          -0.8695145062880891,
          -0.8812786737493323,
          -0.23955885698097246,
          1.3708358127347937,
          -0.0718027779485856,
          -0.7983219528528556,
          0.0807261941206389,
          -0.04866975710913441,
          -0.32220151182598605,
          0.3181337195636324,
          0.8723044131353271,
          0.03338447335650576,
          -0.2851610068734243,
          -0.1446481609398834,
          -0.5849144219230861,
          -0.10565523217168932,
          -0.02203873253983599,
          1.382265264252056,
          -0.5463789126384022,
          -0.19792679613003247,
          0.46714148272352374,
          -0.788845614682973,
          0.186750102692004,
          0.992890155561205,
          -0.5002314207930179,
          -0.3320404388871335,
          -1.0111123080673003,
          -0.10507854091058128,
          -0.006029779863256724,
          -0.19323369105318972,
          0.22407727580778583,
          -0.02062879915445179,
          -0.8015167469447604,
          0.19293735817378013,
          2.6014432786277872,
          0.7646542382013232,
          -0.28278522468015505,
          -1.0688346793691157,
          -1.3812299752780215,
          -1.3812299752780215,
          -0.3615888603514378,
          0.12131171547946601,
          -0.5164681798203477,
          -1.0281712995558248,
          -0.014781061444192573,
          -0.41016144764972906,
          -0.19209475833716205,
          0.48394088226558407,
          -1.3128161849945956,
          -1.008276946609401,
          -0.14797855876318997,
          -0.5169958351828541,
          0.16267615954547832,
          0.6515308941936796,
          -0.7591689621862766,
          -0.6464818061009232,
          -0.5092643726692342,
          0.047209899203057536,
          -0.8161846175958293,
          0.16996072308598983,
          0.2860500875626051,
          -0.558046023152957,
          -0.8142767541673223,
          -0.4355529460239868,
          0.10794560389359349,
          0.3586876448949917,
          -1.107465780505428,
          -0.4183275487330884,
          -0.3837391247434126,
          -0.42927660602695245,
          -1.2074881988414239,
          -0.07264370304965015,
          -0.12824278823159013,
          -0.28172883488792566,
          -0.06569136023276981,
          0.004164733285711495,
          1.337454664517981,
          -0.47459577615262094,
          0.9816151499327337,
          1.1368272941001702,
          0.027620282832023123,
          -0.09010842099610265,
          -0.19059172002054756,
          -0.3503687465037399,
          -0.45219521629347725,
          1.0447895840071924,
          1.361987784981586,
          -0.358437687408497,
          -0.25844908402870137,
          1.5422180686182159,
          -0.7588471468592176,
          -1.0030643384808404,
          -0.6272668861302184,
          -0.1756951423278457,
          -1.1762668792534514,
          -0.6639314679206353,
          -0.5850911857625168,
          0.02781845113970491,
          1.0009026914009511,
          0.23079177268364362,
          -0.6455007175259311,
          0.18116258186926304,
          -0.5764965778507063,
          -1.1709662485683578,
          0.6953006570421602,
          0.04450207996265557,
          0.044064395905011176,
          0.3563897614578088,
          0.02778804973183223,
          -0.7973474971135451,
          0.14632110571812795,
          0.16874516871197945,
          -0.832282795071341,
          -0.4988110009068462,
          0.9426934255426346,
          0.9316976251383436,
          -0.2001919467598275,
          0.006595879059047984,
          1.5917379417193198,
          0.9601176064104059,
          0.5401557913612002,
          0.24849640487397032,
          0.8922008767422571,
          -0.0800950849098131,
          1.220587161335256,
          -0.2930719983873972,
          -0.5952960357622716,
          1.4332330047652924,
          -1.0378026299766505,
          -0.44961423584229143,
          -0.27934827563887427,
          -0.7073395454610977,
          -0.09270190064448987,
          -0.29943541211442076,
          0.4258693641776116,
          -0.25663626210721213,
          0.5975250576332959,
          -0.41485756759703957,
          -0.0009414951755674665,
          -0.22160719176996954,
          -0.4045903329674888,
          -0.5757005787865097,
          -0.9482744540728826,
          -0.3770215041452779,
          -0.4840379488260316,
          0.027500738677809188,
          -0.16489836777594913,
          -0.9219568669370767,
          -1.4421089432793885,
          0.12841100183137255,
          -0.20085858610497956,
          -0.5078625392811993,
          -1.1223172926133866,
          -1.3307820062990727,
          -0.5776066674850209,
          -0.35057059542878055,
          -1.388857012879201,
          -0.7307021993158536,
          -1.33837665525944,
          0.18165134562178095,
          -0.6257924966223548,
          -0.27066901454191306,
          -0.6426524639047977,
          -0.04227465711145326,
          -0.7094455970267436,
          0.3563043566539688,
          -1.230004509710598,
          0.782054990370524,
          0.3338671876319941,
          0.23507894593081893,
          -1.1096947820132699,
          0.07802106041458537,
          0.39138376799755303,
          -1.2376176711354792,
          -0.17892025601735975,
          -1.2776439173477387,
          -1.1277358183956523,
          1.4534196867403413,
          -0.5358067545979911,
          -1.176382568285492,
          -0.3115581435187843,
          0.2041369214898306,
          -1.2495504095143224,
          -0.46105733822419254,
          -0.18448011810502557,
          -0.4963133804926298,
          0.5446560947543136,
          -1.029354261089873,
          -0.7652482899810705,
          -0.6025903264415781,
          -0.3197779958142695,
          -0.09928580111929422,
          2.571138120731594,
          0.5323603687034154,
          -0.34077433830523385,
          -0.5992105103375308,
          0.5856975868613085,
          -0.9719095799585412,
          -0.19923186994916198,
          -1.2538824066811447,
          -0.26627405734134263,
          -0.7241903780400502,
          -0.016939049289230377,
          -0.48897074236424726,
          -0.7853440467240811,
          0.6470363153750699,
          0.20060970218711963,
          -0.523348153998549,
          0.045902347030309466,
          1.7877076859037322,
          -0.6140541101564777,
          -0.7309355636036085,
          -0.17491064772192122,
          1.7505202536792461,
          0.36632314958213347,
          -1.0521116956132206,
          -0.22522253743157214,
          0.008274970849690746,
          0.16764066761845992,
          1.0082098897501717,
          0.07796869213183893,
          -0.10529871317065251,
          -0.12417100351218055,
          -0.7839930618291088,
          -0.2766545671581995,
          -1.3070477693495617,
          1.5632812849481728,
          1.7791348922599808,
          -0.4115655630102729,
          -1.178170443981993,
          1.2978688918944423,
          -1.4391952489602522,
          -0.9727084125542848,
          -0.2294191390111415,
          -1.2460952400224654,
          -0.7234763301925989,
          -0.20886030487404392,
          -0.09744409071358971,
          0.2134376739861137,
          -1.1770821391198079,
          -0.15426910722266787,
          1.71710994270464,
          3.008632530390351,
          1.586812625291309,
          0.7939230254343317,
          0.9769091685474732,
          -0.6532851194693391,
          -1.1808059587587312,
          -0.7030254196455573,
          -1.059692294638094,
          -1.3817000665122645,
          -0.5698552369848997,
          -0.07116950805599599,
          -0.13168044796275732,
          -0.8533995258849753,
          -0.6019695517222323,
          0.2250064869733372,
          -1.2777638007436833,
          0.8531595307803381,
          1.5514789040525963,
          -0.09196759978916295,
          -0.05629414123732609,
          0.5151158371475644,
          -0.217909525127614,
          -0.18933817353654347,
          2.09769854990358,
          -0.009257338063211018,
          0.6816532539902105,
          -0.10699624216142593,
          -0.21053810202263082,
          -0.5421138855778207,
          -0.5030941724487187,
          -0.4531131971602931,
          2.3255425493322908,
          -0.5603421408568313,
          -0.3791816401215713,
          -0.654539885434427,
          -0.12905869622851396,
          -1.2576680831874776,
          -0.572025787232647,
          -0.20254479747929133,
          1.7484454034454637,
          -0.1939452628095443,
          -0.3228262402325828,
          -0.9370287471406565,
          -0.26467688452791804,
          -0.4188018335693011,
          0.43642717695228606,
          -0.27869044844668267,
          -0.56955823170732,
          0.5302251118630115,
          -0.7033731558763344,
          -0.19060187866361356,
          -0.15654745297123954,
          -0.7785845571845944,
          0.44644175864300095,
          0.1890206253989822,
          -0.9526141350806813,
          -0.7677771299285001,
          0.8542819935854635,
          -0.32367724507359646,
          -0.2440442780695803,
          -0.8181340989539174,
          -0.3621648204929837,
          -0.0633066213893143,
          0.892825528164874,
          -0.6899843927536864,
          0.1853435415805032,
          -1.230800147716966,
          -0.5448313516004473,
          -0.7955053806473659,
          -0.0700149484231243,
          -0.12214871126801397,
          -0.9962451365612964,
          -1.4020764416647529,
          -0.0954854781972603,
          1.5428559425134512,
          -0.06950514644021419,
          -0.3561018579534384,
          -0.016468501866551837,
          0.03210444934605831,
          -0.05444040270988707,
          -0.2543324045875395,
          -0.03927337828934573,
          0.36044260076795626,
          -0.41772595371087756,
          0.7039493146750009,
          0.10331572744940498,
          -0.2762131157746773,
          -0.665431861229991,
          -1.348081031995079,
          -0.5440704812690011,
          -0.41629744135107144,
          -0.22073735538105174,
          -0.41080781669964006,
          -0.1719002745379417,
          -0.7751191519726268,
          -0.5958311670096977,
          1.5683128646769413,
          -1.2450692519233013,
          -0.11276090484893934,
          -0.9745499690106303,
          -0.031091456897355298,
          -0.4187450738115017,
          -1.0522424855644172,
          -0.22410772572952062,
          0.19723394749096093,
          -0.330364503578962,
          0.2221029484131152,
          -0.10137022768077733,
          -0.8973556777248011,
          -0.7370737789378867,
          -0.7395024273083876,
          -0.3249273969584805,
          0.32051369532978824,
          0.3148149000437228,
          0.7170612640115293,
          -0.15274443515672695,
          0.08018450859124177,
          -0.15224280810708316,
          0.9590584425007245,
          -1.3270737744201744,
          0.017651400368374155,
          -1.2793998923058894,
          -0.34180836247590385,
          -0.3854109621681865,
          1.9617007122375796,
          -0.5576415330163982,
          -0.8876152238967006,
          0.5175951255057439,
          2.3437055738584296,
          -0.7904747183468753,
          0.07410283360385933,
          0.0007473057005090352,
          -1.6447300768249238,
          -0.056402540207701135,
          -0.9672304967239878,
          -0.9471454469055732,
          -0.9656516528292254,
          -1.295912350576187,
          -0.37320087830643955,
          -0.9472315533269962,
          -0.37673238149765353,
          -0.8344972915899355,
          1.4305877332334014,
          -0.0930741114419122,
          -0.5351481915449069,
          -1.0478171289843303,
          -0.7625639526568935,
          0.4783225424831708,
          0.32870642712009673,
          -0.8702227103966723,
          0.1269457173549281,
          -0.38796205397013533,
          0.0641438371843834,
          -0.7967917973433843,
          0.2962734910162332,
          -0.06173083232457264,
          -0.40207103671860184,
          -0.37257372252056165,
          0.16278708789723803,
          1.4460720930291013,
          0.2114540047852132,
          -0.44981293578919274,
          -0.5529844355374257,
          -0.03532770584553241,
          -0.5415643274228128,
          -0.053431880611515756,
          -0.24995951359472052,
          -0.610880692483625,
          -0.12171134621830784,
          -0.6961201018348757,
          -0.17585489619037314,
          0.27372369098715754,
          -0.7557278610309461,
          0.11831695886849634,
          0.6161260310980011,
          -0.02174684891560132,
          1.6057273095804248,
          -0.072252447467251,
          -1.1535888811986412,
          -0.9287758180774256,
          -0.7642918207976837,
          -0.2744704400024466,
          0.05157924788956834,
          -0.9969844411727115,
          -0.9155193462197584,
          -0.8063189177986603,
          -0.8643228805237937,
          -0.11105001212822099,
          -0.27018619597161975,
          0.1498819015568102,
          -0.23836669100624588,
          0.49381536532835424,
          0.9641203342989245,
          -0.8758625355553964,
          -1.3148228489912337,
          -0.5074078092464929,
          -0.4115714465068869,
          -0.5821660335301849,
          -0.7027442721538016,
          -1.1226303371019921,
          -1.3224566071336512,
          0.27647114262621864,
          -0.8200693105731972,
          -1.148028634282405,
          0.6217562905430858,
          0.05561169822611687,
          0.8244850351923226,
          -1.310931946328611,
          -1.4725351484933895,
          -1.484834786231356,
          -0.6592406934697378,
          0.506733786641662,
          -1.1404090368748239,
          0.1146916700237385,
          -0.08023157420561892,
          1.946260794946472,
          -0.6229328868374578,
          -1.2476123821265672,
          -0.41297656961865553,
          0.05072330224077129,
          -0.390850969038878,
          0.2375496517081121,
          -0.03392787532881073,
          1.089650066460739,
          -0.10151836791144243,
          -0.3343784767904611,
          -0.9961388304491418,
          -0.5617566323890255,
          -0.571402042430645,
          -0.4975649315660002,
          -0.620390707425482,
          1.1419972623748487,
          -0.40208969841299375,
          0.2275095277168834,
          -0.029860400875666597,
          -0.9362816964684982,
          0.11268057191584943,
          -0.4370381989568497,
          -0.6057504084907803,
          -0.7001588772026061,
          0.07263426970362635,
          -1.0087676204727325,
          -0.15321563385769082,
          0.4993977424159314,
          0.046366156658700176,
          0.014676149717334941,
          -1.2390661892303152,
          -1.378946853170663,
          -1.0456282957550689,
          0.1679440848127001,
          1.2689717796550393,
          0.11322311874234767,
          -1.0101298136865222,
          -0.4404027172210969,
          0.09759686869745053,
          0.3794044220741335,
          -0.08195889364245036,
          -0.28720794107984216,
          -0.6445775677548647,
          -0.2460988861377025,
          -1.4476665246790743,
          -0.38681833745478283,
          -0.4090921122627659,
          -0.513234164298988,
          -1.2496232692155524,
          0.16283181694677185,
          -0.001649947643386201,
          -0.2637944520731961,
          -0.12791727893012222,
          -0.31160816901634864,
          -1.4292094799543245,
          0.13845384410749775,
          0.5996723148321944,
          -0.23511715718568765,
          -0.27183131383092024,
          0.5817211038742728,
          -0.4317261888075684,
          -0.01284417623253572,
          -1.2558966667281404,
          -0.48019890103079005,
          -0.9779304221117613,
          -0.745440063433627,
          1.2210740713371968,
          -0.03967625116137151,
          -0.9847440059717134,
          -0.8821047100017282,
          -0.1462815597322619,
          0.7515275428644789,
          1.6872836026438645,
          -0.7203898201591665,
          1.0551902717170862,
          -0.8580285876157618,
          -0.024886030834683617,
          0.5617142429500049,
          -0.017804663688909005,
          -0.13006192860321378,
          0.561155469556372,
          -0.08681664523720532,
          -1.2621094033649356,
          0.022226706580076912,
          0.9576511926277065,
          -0.5457524805714865,
          -1.0273620056848558,
          0.5684206128409237,
          0.010820294647644479,
          -0.21746008750807388,
          0.008545198755137876,
          -0.8558204589985783,
          0.7835079961581926,
          -0.9246072934477964,
          -1.230004509710598,
          -0.015181927705879655,
          -0.33243873190945716,
          0.3472769162948215,
          -0.18911520265642326,
          -0.8839328858097566,
          -0.857374911072417,
          -1.3799678403610933,
          -1.2968196440524453,
          -1.1126700366548092,
          -1.2939626259480252,
          0.1347670145463715,
          -1.256108413606517,
          0.004366232734006356,
          0.7120487212289568,
          -1.0855946481404237,
          -1.3282786152369523,
          0.5487215442105782,
          -1.2772827691164677,
          -0.8548352461030109,
          0.713441742284232,
          -0.26403332543548225,
          -0.3164946358184852,
          -0.4447756103156121,
          2.162872711676126,
          -0.60305176204225,
          -1.319462005410134,
          -0.6154827809297468,
          -0.5234511126310889,
          -0.9571441838637849,
          -1.1397472537612605,
          0.08919098836953322,
          -0.46884926893605083,
          -0.9871071853183148,
          0.36283795537262026,
          -0.5221349560353878,
          -0.2952024864446044,
          -0.3093544675776466,
          -1.1891609096939382,
          -0.1194755655887017,
          -1.1742005708068242,
          0.7455567440922974,
          -0.9657252287355617,
          -0.16971366656743098,
          0.8784361733134006,
          -0.3682893664916099,
          -1.1673913312910202,
          -0.03982907194140792,
          0.7403448951358077,
          1.9142901047581702,
          -1.5523597974127934,
          -0.009119779017865051,
          -0.23909082212439683,
          0.19957463126380817,
          -0.15377143251113687,
          0.38627506029974396,
          0.09961409393682318,
          -0.7142855508612643,
          -1.3163363492237048,
          -0.19526227900351883,
          -1.2860908577957266,
          -0.5647730343643167,
          -0.8078064455363158,
          0.3270872629790721,
          -0.0689864678809982,
          -1.0156045968684468,
          -1.2860908577957266,
          -0.6496726669091227,
          -0.47779750096633195,
          -0.558799952288711,
          -0.7930914939444547,
          0.48012312034669125,
          0.16233943634488393,
          -1.294968042749374,
          -0.7138428767813727,
          -0.3184004138391782,
          -0.7243415261320062,
          0.42591138435236675,
          -0.7575231275377738,
          1.904882840519445,
          -0.12294983365080808,
          -1.381352971655401,
          -0.12414738351592966,
          -0.3870787870349365,
          -1.013096103870966,
          -0.7462279599282312,
          -1.3985019776266367,
          -0.2907085243913808,
          -0.3269812982363509,
          -0.8548523513559239,
          -0.5572908439272252,
          -0.3518515294237952,
          -0.7127622306608976,
          -1.0583931343650688,
          0.19773481327192768,
          -0.5557460257417005,
          0.03235374760316849,
          -0.20365069987068923,
          -1.1217742199004843,
          -0.8164956237169273,
          -1.021732536786524,
          -0.2781341937961882,
          -0.31381062451684993,
          -0.8294187347125122,
          0.49972912108654194,
          0.8273584089636334,
          -0.08524113122531062,
          -0.5244417730411792,
          -0.29882216947878243,
          -0.6810965090478689,
          0.17625978095514994,
          -0.21651911760223985,
          -0.6246390235370619,
          -0.5589967056905781,
          -0.8127842330606618,
          -1.484091480958385,
          -0.9888251902655777,
          -0.36573156897175085,
          -1.4107610407646272,
          -0.25781397867325045,
          -0.1258861609058987,
          -1.013514863870605,
          0.46443944729068437,
          -0.38154318323772946,
          0.002654386972938776,
          -0.617955012057146,
          1.0354167772521392,
          -0.9738784626202494,
          -0.38728772421553853,
          0.10884827450945395,
          0.9434551224338181,
          0.1686977355190464,
          -0.19551305573761799,
          -0.5227898093700861,
          -0.2067508783883508,
          -0.3922498175252374,
          0.06434453363712427,
          0.11046688613033487,
          -1.1107084765585664,
          -0.7902451245892639,
          -1.4570703283192814,
          -0.8642933294030828,
          -1.3945908335921897,
          -1.174545480589723,
          -0.1518683196370531,
          -0.5418961169539331,
          0.06034188870258706,
          0.8104762144428656,
          -0.6583982777980633,
          -0.2739660867178293,
          -0.6381151737865183,
          0.25255003712060276,
          0.507504223917565,
          -0.2728843865651133,
          -0.22176858443992947,
          -0.5637234092593094,
          -0.9430088828554315,
          -0.9661263400351768,
          0.2555219823007133,
          -0.5914347628907538,
          -0.42478899292344335,
          -0.28675013323377596,
          -0.9177702218724073,
          -0.6398246941096677,
          0.17803415387776092,
          -1.2790840436067181,
          -0.5302756591736346,
          -0.5234287411842415,
          -0.05694134796283655,
          -1.0000213678305239,
          -0.7272702691257148,
          0.5942334506235345,
          0.3932642544886649,
          -0.5246878835868322,
          -0.7188142298127131,
          -1.2847297102440343,
          0.3229269528631735,
          -0.6106190806250591,
          -0.9614698090679763,
          -0.6668520358019216,
          -1.5634294713769636,
          -0.8264982058002238,
          -0.9476391933870294,
          -0.9757753161252303,
          -1.059870335035803,
          -0.6175793755907371,
          -0.14998195676067094,
          -1.279500248939955,
          -0.5936948702568428,
          -0.01106841901787095,
          -1.1808059587587312,
          -0.47968101878034564,
          -0.7602307252841404,
          1.1828194527554954,
          -1.4854150618472306,
          -0.5992931805706402,
          -1.1933025823711763,
          0.304988253714536,
          -0.7777360981168726,
          -0.7921009512566306,
          -1.179590794186027,
          -0.19703103391372756,
          -0.11296188613603567,
          -0.5801853675442792,
          -0.5866419999040481,
          -0.7166168565380218,
          -0.009778976374834969,
          -0.15727658022670418,
          -1.2754792410235418,
          -1.3972795829469458,
          -0.2749901253056759,
          -1.2122939717181187,
          0.721863470233502,
          -0.3676723925201933,
          -0.3985773711572543,
          0.09493619170020212,
          1.351111945769924,
          -0.2959867567361068,
          -0.5451630163499238,
          0.870458910262293,
          -0.46402199068753586,
          -0.9244898067307342,
          -1.5041353343123554,
          -0.41742410945452235,
          -0.8756519464797763,
          -0.3694217380774325,
          0.3449448784396422,
          0.8836869138093798,
          -0.2887825272532039,
          -0.18860050505062143,
          -0.9636210712010231,
          0.9672837845070014,
          1.485749306540472,
          0.2161512226857099,
          -0.20755649529552628,
          0.5280701511937403,
          1.0866316071978193,
          -0.3961069507926956,
          -0.1775735958914869,
          0.22125251895042802,
          -0.8931015575661166,
          -1.4427148164613304,
          0.051220039081332464,
          1.1947649753960248,
          -0.12208482956434928,
          0.7324294977896775,
          0.012775530201314835,
          -1.318007044098539,
          -0.4517732943804337,
          -0.7318233640713216,
          0.7805473324693365,
          -0.18516538208656316,
          1.9045447231479224,
          -1.2544807888091518,
          -0.9291461654860402,
          -0.7027791754296727,
          -0.2949821699902659,
          0.6635085316521865,
          0.19435941269172916,
          -0.1733620457274045,
          -1.0420485160148618,
          -0.5267658191350533,
          1.893426275672596,
          -0.6024411444591721,
          -0.032300260408784,
          -0.016162108528538416,
          1.0897829284324492,
          -0.2645099539700427,
          -0.8845844445875858,
          -0.7146286098986118,
          -0.18189213344629743,
          -0.7239106357971968,
          -0.061007600324229784,
          -0.41328562017607223,
          0.5953639875918555,
          -0.5353951624542215,
          -0.36800287949140015,
          -0.33747044538636595,
          -1.4586706704045092,
          0.5070181864989176,
          0.40860498711935356,
          -0.22426162732240712,
          0.10762208707647568,
          0.41796650470810337,
          0.8512647685838217,
          -0.1825243484661091,
          -0.3713508827116497,
          -1.5143539168024762,
          -0.7216298194388553,
          0.1523503656263654,
          1.204334549726598,
          -0.3768601134606034,
          -0.04521656691676153,
          -0.42024514869023055,
          -0.7281942381783395,
          -0.608192309747584,
          -0.12962361320438662,
          0.1010565716621032,
          0.771518987936343,
          -0.6613980257185178,
          0.36318476615198747,
          -1.6692063559234775,
          0.8805232399133316,
          0.22026171510764583,
          0.3602458131911041,
          0.46750558464597675,
          1.3534746041869608,
          -0.6540724307941174,
          -0.18030301411589852,
          -0.25197782970161103,
          -0.8365472017685979,
          0.3567961634583544,
          -0.2338941077004087,
          -1.4710301764214264,
          1.063280210018483,
          0.14843362085504683,
          0.5468354148603791,
          -1.0091039177904733,
          0.45031332337367386,
          1.5291009599642416,
          2.0159850902026992,
          0.6874069077136552,
          0.7665109315292653,
          -0.04219904232093561,
          0.5754314807206844,
          0.7908105319768921,
          0.10815108785136189,
          -0.6645023820959531,
          0.1959922243087934,
          -0.2563766818507633,
          1.2681902524959214,
          0.8722638320787137,
          -0.3546367369584589,
          -0.12088605938241784,
          0.3003454032450351,
          0.5458855687252842,
          -0.8159259414619666,
          2.3437055738584296,
          0.03623258851687782,
          1.6057273095804248,
          0.17931703405867291,
          1.437331829257252,
          -0.08346393311261902,
          -0.46864459632072725,
          0.29130374793539393,
          -0.37234266315098447,
          -0.06457442923297448,
          -1.1559810513059274,
          -1.0367409860757546,
          -1.1165381905553968,
          0.31339958970980136,
          0.025401698614710484,
          -1.0718094149314774,
          0.9190910613117556,
          -0.8929670291264583,
          0.09030000673023193,
          -0.7147387707728147,
          0.7248570207972129,
          2.2125749275126596,
          1.5533268344556457,
          0.047209899203057536,
          0.582308521164303,
          -1.2135986912463093,
          0.22632759717086934,
          -0.08311085930093488,
          -0.4022214655642419,
          1.4073992377499527,
          -0.04522834065802429,
          -0.7165459276097617,
          0.11197092443323602,
          1.1279473393384218,
          -0.5259985400638935,
          -0.4894076859047995,
          0.38471581287638235,
          -0.13500165053483154,
          1.6057273095804248,
          0.8360919923850885,
          0.441561564470278,
          0.34551481506292636,
          0.524056932786681,
          0.8689563022620889,
          0.8003544273278914,
          0.7194735070772925,
          0.7516449512940679,
          -0.043691348084147354,
          0.18347389497227923,
          1.0880805047343807,
          -0.41595391902873885,
          0.3836256912302293,
          0.3966297214586347,
          0.25739985899264656,
          0.60708627589782,
          0.5435616983909901,
          0.8230132697549283,
          0.17703048423517134,
          0.44943315559093644,
          1.9184935977622495,
          0.31572908560750224,
          -0.7143641851673908,
          -0.323669000698365,
          -1.3329511455703198,
          -0.1347568092328554,
          0.4074436036498785,
          -0.3987273662954205,
          0.06163335450016269,
          0.2498359202872075,
          0.796154857332796,
          1.0006613261939232,
          0.8658029409735433,
          0.7172078553951463,
          0.6149007618861405,
          0.16638843244911877,
          0.26163519788620226,
          0.4649221654819866,
          -0.6471449694977511,
          0.5200271290506626,
          0.7144052868404114,
          0.11521970119819512,
          -0.12382724450298557,
          0.5501299165796966,
          0.9378287367632918,
          0.31739442733812445,
          0.09633548443300063,
          0.05542839345621669,
          1.2589738238805606,
          -0.013121243480791467,
          0.30222720356072275,
          -0.07120226835610009,
          -0.5457440291009988,
          -0.11022686130175417,
          -0.7198096991129391,
          -0.30025380774934285,
          0.4608127513752857,
          0.05847020138432754,
          0.5715298926099294,
          -0.11051091322331494,
          -0.6493099004366601,
          0.5398013048989045,
          0.7943461277956679,
          -0.27561570998241275,
          -0.0182098345219774,
          0.0069977729257405296,
          -0.02470288444896137,
          -0.10993080502557973,
          -0.12817162287385142,
          0.2649942363115208,
          -0.5429365809313821,
          -0.18004945404189554,
          -0.707464869035453,
          -0.1366151610896826,
          -1.3397725902442161,
          -0.11195707843248591,
          -0.913946056393413,
          0.09281284869869542,
          0.5502928753339454,
          -1.0496051356105747,
          0.2153550857512406,
          -0.9515256104258765,
          -0.6710983033155896,
          -1.0798077155201113,
          0.12836925585441514,
          -1.503253299136884,
          -0.27480006194764994,
          0.393699611173782,
          -0.8491541607110217,
          -0.9463071331773,
          0.06464818960766917,
          1.1138573292651681,
          0.030131768273118656,
          0.2559194865747683,
          0.004419060737892799,
          0.8062394517703727,
          -0.39647699730691927,
          -0.3795360480490756,
          0.3577971036341943,
          -0.7987387785516541,
          0.0624469420688367,
          -1.1750880467896987,
          -0.9243447610340675,
          0.6472822411326783,
          -0.49942229083536605,
          0.9236850907148242,
          0.811071739034846,
          -0.3432307043599082,
          -1.185277351010842,
          -1.3151857165445724,
          -0.48017501122284334,
          -0.7400544970297226,
          -0.5455620629299518,
          -0.5699237900363837,
          0.8550971080118233,
          2.498094920490392,
          0.3376998194254155,
          0.3958159110301987,
          -0.0014221376562105843,
          0.02865844334472236,
          1.199402303997526,
          -0.16254096733659637,
          0.25893016492725035,
          -0.21779992935646586,
          -1.1412011252424783,
          0.3606003295775697,
          0.1067704964439234,
          -0.04319156323479986,
          0.7437786224402978,
          0.26135134639520397,
          0.14994627083317774,
          -0.08769259800753906,
          -0.231297096853244,
          0.13239257966431156,
          0.6549458270284919,
          -0.2108032401341568,
          0.4823976572332395,
          0.6009782146096018,
          0.14604099114040922,
          0.2641706585398737,
          0.8939421406031786,
          1.7625347473813893,
          0.07549906600038096,
          0.06994191378091844,
          -0.7039015853749772,
          0.5119463295189007,
          0.2864400145466217,
          -0.23972519609280415,
          0.022911907521252075,
          0.3016005544538483,
          -0.7760552684706247,
          0.6124632098591116,
          0.6837866929317163,
          0.32390819463158677,
          3.373382610823508
         ],
         "y": [
          0.308505383516155,
          -0.3745463714328768,
          -1.653086675970449,
          -0.24225298902148196,
          -0.951121263341801,
          -0.40948674437619903,
          0.1541904681225277,
          -0.695504854198891,
          -0.3258313045127552,
          -1.7949357554864112,
          -0.32242945736004014,
          0.37440620194809027,
          -0.39407143748090806,
          -0.16456803065979694,
          0.11952777267707976,
          -1.8457402440507817,
          0.11633597719515773,
          0.6300262277323554,
          -1.7302673267765214,
          -0.7419399665142311,
          -0.19778845427716488,
          -0.18161849116419349,
          1.5702735183858367,
          0.34082723431568834,
          -1.2002208441740354,
          0.05691213736150284,
          -0.43197493421942346,
          -0.12479311829575757,
          -0.006897488124451088,
          -0.9662426328283612,
          0.01742712651608961,
          -0.6009445651711738,
          -0.9493675225564545,
          -0.362069213818287,
          -0.16670260072001206,
          -0.07603831319574218,
          -0.5511604222905032,
          -0.30955879358653116,
          0.3465458711960717,
          0.9750095580017528,
          -1.886906279650379,
          0.0520017046019024,
          -0.009088705379218862,
          -0.6233176777009276,
          -0.2748469703119163,
          0.01795864317214839,
          -0.9041919620233257,
          -0.2568227855030995,
          0.7376686454562061,
          -0.5741874403646945,
          1.182101685710199,
          0.4736959628762958,
          0.7840983297025025,
          -0.6116261055158043,
          -0.7851632062707598,
          -0.636642458613887,
          0.3656065528631811,
          -0.7174938633958575,
          -1.0983052820436716,
          0.19943216171592887,
          0.5771424310975409,
          0.04840585819649956,
          -0.11426367019033039,
          -0.8296083493399052,
          0.25360468357198473,
          1.5492584212287592,
          -0.5082930557606732,
          -0.033999495420132926,
          -0.4148562919795815,
          -0.5314343732557093,
          0.03557277130535533,
          -0.8176355792308788,
          0.5810250017387673,
          0.874187846238415,
          -0.12975478223902598,
          -0.47821099479161405,
          -0.8296724937416815,
          -0.6169518302848275,
          0.34769932094286216,
          -0.32204522752311887,
          -0.09402579702141967,
          0.01531833135247458,
          0.9321928825237304,
          0.2040478020598568,
          0.40933855843955586,
          1.2833080961099992,
          -0.8740261128125422,
          0.40223964826529524,
          -0.944038115070664,
          -0.188097970702391,
          0.43448090108007653,
          -0.517368240543545,
          0.027988808190740816,
          0.038595422025178794,
          0.657514338378271,
          1.681012580400758,
          0.32661230480771375,
          -1.382417466177263,
          0.8527279560815448,
          -1.6706334431604226,
          0.1576572026372825,
          -0.2432283125144931,
          0.11697827196342654,
          -0.7384425845165999,
          -0.5337578547340088,
          -0.7299134612955261,
          -0.9441536077132756,
          0.27734172042096766,
          0.3201895829213144,
          0.43672203943836396,
          -0.9137136459056575,
          -0.4473993777028883,
          0.04021998590973874,
          0.26926702550361786,
          -0.030367174728412764,
          0.10534778603212347,
          2.226785757728934,
          1.1520709956323187,
          -0.27398118420763273,
          -0.9152342770676428,
          2.3902193156722364,
          -0.3833545532531131,
          0.27021482019496795,
          -0.26446976849437026,
          0.8856994423746481,
          0.17783934369737614,
          0.3018711574346865,
          -1.1785123741843302,
          -0.09529843406075315,
          0.08668758955417329,
          -0.16895346347598217,
          -0.20665850550140025,
          0.07648171820456189,
          0.5533312229438845,
          -0.8219151433483176,
          1.0870260847421196,
          -1.3221097576332947,
          -0.750982253554587,
          -0.37592125967644524,
          0.37802189209693,
          -0.3969075884747403,
          -0.005166279237811675,
          0.3406816935231973,
          0.10093651605516195,
          0.9002203026904811,
          0.33423873849153324,
          0.11362853089422766,
          0.09165543184243685,
          -0.43452495377234185,
          0.15611794909319013,
          0.44838961797100846,
          -0.9018959914307871,
          -0.9419064877053248,
          -0.35928565987594613,
          -0.33563434497574535,
          -0.06912792519729216,
          -0.15670282803223884,
          -0.1409595365661221,
          -0.49736868856207567,
          0.8510249188983265,
          0.28341144657278494,
          0.37514867488154313,
          -0.1616464388968019,
          -1.6230291926522555,
          0.1729146593430568,
          2.67556748242078,
          1.106840042782889,
          0.32614764321477047,
          -0.06015923012786035,
          -0.1600874905518176,
          -1.6679753024698905,
          -0.5942828372611174,
          -0.15117484934972708,
          -0.7241334161031963,
          0.011050793527905512,
          2.5205026805165995,
          -0.8395135646081436,
          0.05612191328577768,
          1.111131485012393,
          -0.9049930897212677,
          -1.7537734323210417,
          -1.1105778123484369,
          -0.35758310041470426,
          3.8205401807501516,
          3.878495237323321,
          0.06330686188227629,
          -1.6670060620101759,
          -0.06571310646204118,
          0.6900736279179228,
          -0.11114318737705695,
          -0.019404240929146107,
          -0.0735223559324,
          0.10078900263331687,
          -0.28979517601975124,
          0.7682224738936023,
          -1.6722190590395758,
          -0.3029909511507512,
          -0.40328686020587323,
          -0.8902116116419565,
          3.6973574484942637,
          -0.18346651420411345,
          4.0571972086531325,
          0.70162219949888,
          -0.32266670449828644,
          0.13095976297677892,
          -0.3306737618535948,
          0.5992945055443937,
          0.262461285869561,
          0.1910724709097308,
          0.06912207279710479,
          2.8059175936859426,
          0.28890657496370314,
          -0.5281755797999388,
          1.363991735794284,
          -0.6363408040598856,
          -0.4014477032892735,
          -0.49527431011477885,
          -0.3361815168489203,
          1.2191552166663004,
          -1.751769531176407,
          1.0976117428381031,
          0.34093869311882047,
          -0.17659329503655535,
          -0.8898706044432267,
          -0.7820740476561115,
          -0.02752984139639548,
          0.089343367469948,
          -0.34838946725132663,
          -0.16628061096222374,
          -0.29707350067303545,
          -0.29375957069449754,
          -0.3649338009827471,
          -0.6192474222965992,
          1.1597322368785288,
          -0.6634415839279639,
          -0.20429294694903352,
          0.6715771453763669,
          -0.5839810232139002,
          -0.3083432857906223,
          0.1958626635727955,
          -1.2359122669606946,
          -0.5363611606681622,
          0.7055591055084115,
          -0.20457952931934084,
          -0.3823859146535804,
          -0.3084701217892243,
          -0.23190871141735772,
          -0.3820304389181653,
          -0.5128501449184992,
          -0.691169755568605,
          -0.45048568555682084,
          -0.30185660291251043,
          0.5903207703758343,
          -0.478958554974682,
          -0.19973884134179817,
          -0.8004729017306323,
          -0.043425002207584704,
          -0.7511501166462997,
          -0.5788335221933568,
          0.006280220170243608,
          0.37962771436171616,
          0.29094296025314414,
          -0.5273683448756769,
          -1.8777550496614208,
          -0.7336725086504947,
          -0.21415563509225902,
          -0.24671516491584083,
          -0.1502611736686078,
          -0.2101952469522604,
          -0.546264151121221,
          -0.39333190558830006,
          -0.43597389146389226,
          0.061034231369956275,
          -1.7286748962841259,
          -0.7429156827282074,
          -0.3495038968427975,
          -0.3799101166000642,
          0.1884654519332481,
          0.38492039662455235,
          -0.0863992158053608,
          -0.13569532531659217,
          -0.30793535305382475,
          -0.2978654559763788,
          -0.12596686030805682,
          -0.38057903459788694,
          0.520980405017155,
          -0.3930337230625021,
          -0.15755372191316527,
          -0.5808654451485581,
          0.7036799859593731,
          0.03053306957471293,
          -0.8448470415772059,
          -0.2453723906752169,
          -0.3196211588533027,
          0.11267125443444075,
          0.21180060918164714,
          -0.6263805681056205,
          0.46214592992688264,
          0.32905105000621143,
          0.7837217253043931,
          -0.2844384101981351,
          -0.3446091459944475,
          -0.7949258635209013,
          -0.711315530210669,
          1.3783835461591016,
          -0.06748006140397683,
          0.41435373448780033,
          -1.6698592274253161,
          0.18621956864274908,
          -0.49073039077599784,
          0.3849935741109915,
          0.34446807296531345,
          -0.10875574692496393,
          0.5175730912563061,
          1.8139074800338943,
          0.630268155985559,
          -0.15552986822858267,
          0.18207307770661285,
          -0.6649433749719914,
          -0.4418905093219027,
          -0.3142044702694571,
          -0.025086207164132405,
          -1.7247057102632148,
          -0.3017937014208796,
          0.19611019190844017,
          0.2658294360196848,
          0.3281204151913851,
          0.10963014049249138,
          0.28310607104938934,
          0.36070232020073567,
          0.32820759755636414,
          0.2048412538036161,
          -0.4872472514284757,
          -0.03937698972733873,
          1.6924359426473181,
          -0.05253995825881421,
          0.06405242923536154,
          -1.518076352963316,
          -0.21139134818882305,
          -0.02387271949040215,
          -0.5140529273215453,
          0.06912866527818735,
          -0.4138078314231607,
          -0.8991680811756382,
          0.24584439869628819,
          -1.070859530532748,
          -0.6018700692479112,
          -0.6459070506496678,
          -0.4779571370161679,
          0.3200912234721386,
          -0.7270214460120394,
          0.08028102013205289,
          -0.9831621989890078,
          0.3584437930352988,
          0.10428562378427175,
          0.012685026432225037,
          -0.6272276796346395,
          -0.3836627575107471,
          -0.01912285513268463,
          0.2261168163288849,
          -0.7246720788464726,
          -0.5210324935645311,
          0.05866690433998183,
          -1.7381983199492748,
          1.1842583681794951,
          -1.655099636881726,
          -1.655099636881726,
          0.8115156661678946,
          -0.4246934775535934,
          -0.20330970475327959,
          0.6294267101389099,
          -0.14698558987123378,
          0.161091099535095,
          -0.40750432725278085,
          -0.3531666703974946,
          0.832673922420611,
          0.9263381541385978,
          -0.46367925478809946,
          0.6020487480834579,
          0.05793591331222533,
          0.15056385053864546,
          0.6608856833068615,
          -0.48069049452116464,
          -0.7284642563921503,
          -1.8009518637748743,
          -1.714378754999709,
          0.017246749060007956,
          -0.2707237339413838,
          0.2226481192676238,
          -1.7085700141806381,
          -0.8770518540214433,
          -0.4448909604679982,
          -1.143020803720085,
          0.6215823163013937,
          -0.43291624791632044,
          -1.1078778413459758,
          -0.1799615584411941,
          0.10643649191131113,
          -0.02700966790953534,
          0.6199089941067336,
          -0.42750984574259987,
          0.20904437528901615,
          -0.6496168835542452,
          0.8254361834737393,
          0.7815290503958201,
          1.1516142246429584,
          0.7940501629617717,
          0.12742640823858611,
          -0.4875878930122637,
          -0.3843763105012749,
          0.26694514086708315,
          -0.5081066389945278,
          1.0667777244856762,
          0.3072416881115819,
          -0.28048602504915593,
          -0.7607990386320854,
          -0.3566524970357681,
          0.9813702716698263,
          0.44125551168022803,
          0.24391734250596708,
          0.2593135284801883,
          1.2354638445361157,
          -0.14965725771191352,
          -0.27873410566267814,
          -0.18520756547398157,
          0.12020527510858578,
          0.37286530056165684,
          0.6112359198678781,
          0.038096227028807,
          2.479674412102703,
          -1.6711495869838269,
          0.8982734324362524,
          -0.44866138295765556,
          -0.4492597473837244,
          0.5537807972760935,
          -0.4049811928355641,
          1.2903193638786363,
          -0.6494890742532318,
          -0.45715110218481875,
          -0.47122630911859104,
          -0.19946736241428223,
          0.8597560599472093,
          -0.40886394424532074,
          0.24193230884481243,
          0.7882711224199181,
          -0.2013750539834936,
          0.10990845230715603,
          1.4180116806272172,
          0.3402960057729678,
          0.3301593671345866,
          0.43180282344371584,
          1.0924865452285375,
          0.3528589023427107,
          -0.20842270192968954,
          -0.07730103615518835,
          0.6194486377055772,
          -0.04137346036623826,
          0.35865592832282706,
          -0.2359301329050064,
          -0.30196351911703406,
          0.6182331225566396,
          -0.002725913603403537,
          0.19112279991073017,
          -0.1289396380882725,
          0.16621459471778732,
          -0.6242808000624135,
          -0.5330393114574696,
          -0.834936517704076,
          -0.8988523913539526,
          0.1146026856472052,
          1.1439078908055922,
          -0.3715541624640513,
          0.5214236311052908,
          0.07579402032429668,
          -0.02953163303241799,
          1.1265157969487436,
          0.02746003440726741,
          0.41899467591158374,
          1.2214739968791894,
          0.17492526174497167,
          0.3936044312486531,
          -0.32676786488100834,
          -0.15634971785537213,
          3.931283847262021,
          -0.6093934854482376,
          1.100073103595956,
          -0.12062164432755451,
          -0.09760594269484035,
          0.27367566412441824,
          -1.012921874681472,
          -0.7244805853326561,
          3.793760211110601,
          -0.8492952525873915,
          -1.6649558611029753,
          0.12112427480074976,
          -1.7478945536124306,
          4.132355570864451,
          0.3694797596690636,
          -0.43499689986964185,
          0.5011850213248769,
          -1.6801808827911502,
          -0.35290239563877185,
          -1.072275272599436,
          0.09087460067617437,
          -0.7473908029428881,
          0.047541896857874244,
          -0.9073007486405842,
          -1.0943074315552328,
          -0.52399746541266,
          1.319543348897583,
          -0.6702380662870792,
          0.41048295367276694,
          -1.0896762579819939,
          1.2932412020653465,
          0.8029358268135149,
          1.5284124642358603,
          0.3339917128661585,
          -0.5967635889923493,
          -0.42739666114146935,
          -0.31028886456317395,
          0.9913914083555672,
          0.3009036824856379,
          0.6085096000445266,
          -0.21625686321800214,
          3.8544185711588637,
          0.07551372663767868,
          1.2076595859624566,
          -0.4999806284757983,
          1.4541182321671868,
          1.594161431129009,
          -0.05242313412283092,
          0.07517489329979388,
          0.09902066275035243,
          0.304923178888017,
          -0.49030254672805146,
          -0.5998603855566297,
          0.6331821264861643,
          -0.41200382880047276,
          1.1287795949795822,
          -0.23245160547114418,
          0.23357026053273935,
          0.17707440754765102,
          -1.6876245925513287,
          -0.8394433102905634,
          -0.32215435724170344,
          -0.5254517786985392,
          -0.968033931887103,
          -0.2165001437778831,
          -0.16139030218808323,
          -0.012768382883294998,
          -0.8542005789665922,
          0.336650150272576,
          0.17450756337488374,
          0.47971227246590153,
          0.25967786423102146,
          -0.5254803846320619,
          1.0561276568607854,
          -0.06571515093060007,
          0.19343114048644625,
          0.4416262854968541,
          0.10361598123381942,
          -1.6682009484316676,
          3.7912262502132488,
          -0.988790044026607,
          -0.39741636468503455,
          -0.37877779624960495,
          -1.6582940773930894,
          0.4196479858867667,
          -1.8496579275081502,
          -1.9229116392447787,
          3.7415830805649573,
          0.39978473685158733,
          -0.3902237150844775,
          -0.6159032445149166,
          -1.6701172993370181,
          -0.006345111339479326,
          1.9648290899083465,
          1.4010106343924158,
          1.0154413061479168,
          -0.026204151500939177,
          -1.7921992368803676,
          3.480995332187299,
          0.4508792358710424,
          0.10755212060072115,
          -0.2425929117604582,
          0.5804327513837763,
          -0.2000412407063636,
          -0.08916718982934912,
          0.06511700222598421,
          -0.5773160279546655,
          0.27079963914187677,
          -0.5227696013321322,
          1.6919171084743416,
          1.6809155937183473,
          0.5744490233669175,
          -0.6922598873936009,
          0.11115621300548162,
          0.04980399458483122,
          -0.27060638354484884,
          -0.27813316659365195,
          -0.6906843221907853,
          0.2367225414921809,
          0.4210376625298698,
          -0.3373100556378155,
          0.015103016287749207,
          -0.8057519647750135,
          1.3346215901618477,
          -0.23884816816898566,
          -0.4031667869261844,
          -1.8056966636506289,
          -0.47949234183891726,
          -0.3640869458622649,
          -0.301527699389877,
          -0.2729634735509627,
          -0.6837351744565384,
          -1.770767467706628,
          -0.39114179158473517,
          0.10282210504806029,
          -0.5258664617893681,
          -0.24470518356854734,
          -0.244984624363511,
          -0.26344873179965195,
          -0.48756454092049156,
          -0.28486633896798186,
          -0.38563021525778557,
          -0.47808488435157653,
          0.6441381981813091,
          0.21291812981132585,
          0.3408315427652583,
          -0.43361628034153554,
          -0.3878333025676655,
          -0.12731634515623602,
          -0.5837245227798074,
          -0.30854702092804503,
          -0.15153110793189464,
          0.7223882800340653,
          -0.10175342995559367,
          0.26108265916136636,
          0.346409554198417,
          -0.6938332485982375,
          -0.36729434649511034,
          -1.64690373087941,
          -0.095853806243094,
          0.96634813741493,
          -0.44638833417452173,
          -0.4336291217710439,
          0.17587327697054111,
          -0.12409153780516528,
          0.2840241931315616,
          -0.8159694072141387,
          0.12079061124796794,
          -0.007458469500978286,
          -0.10796402240561427,
          0.6571467872070955,
          -0.7335962313767854,
          -0.7144646016797096,
          -0.36894652160934027,
          -1.6525684093412722,
          -1.030982711755666,
          -0.6460571032275038,
          -0.4545048653121974,
          0.03014445411896656,
          -0.38798499219269744,
          0.5483667329677689,
          0.5094869750789797,
          0.30975110469438993,
          -0.023288163677746877,
          -0.004240119277477931,
          0.9288833873278345,
          0.34173148505160883,
          0.9423006804755419,
          1.1789753654000361,
          1.7183421198670197,
          0.20763780784138638,
          -0.8551243782975295,
          -0.287090954388856,
          -0.6070009351049184,
          -0.23189652597318608,
          1.2544645458201296,
          -0.4092263358690634,
          -1.16050938362587,
          -0.8545280260225643,
          2.1797887776492355,
          -0.09145993372559108,
          0.02859250005215456,
          0.24604122502184592,
          0.1562175510712603,
          -0.24338910955760037,
          0.7661674205493161,
          -0.5448205342422296,
          1.0938858295128968,
          0.06209059814694086,
          -0.3964507174060504,
          -0.7037976814546167,
          0.3969975055721305,
          0.6528224401077026,
          -1.2015392639050702,
          -2.0107578759909144,
          0.6989522581275096,
          -0.19034038619173838,
          -0.6416018893705804,
          3.8938842180559017,
          -0.027033682594571704,
          -0.016855043857075123,
          -1.6695194047480704,
          0.879402482648351,
          3.857289620976537,
          0.7810804830852304,
          -0.33858485748459205,
          1.8906286426935512,
          0.49670355273902317,
          -1.9166067351505243,
          -0.1117378504191897,
          -0.017877339638916235,
          0.2539159842894667,
          0.6565449846748908,
          -1.8605485228123695,
          -0.6037376029710606,
          -0.05542441089481251,
          -0.9436506744183943,
          0.07353334926546008,
          -0.10959850405247208,
          0.983343946376319,
          1.0229676801792251,
          -0.6160823140740348,
          0.2646737170653448,
          -0.43610132984549677,
          -0.2915398537758311,
          1.3254543445833225,
          -0.4194181590609064,
          0.8793084193838475,
          0.8345034912200248,
          -0.3315583648321367,
          0.3236869064551443,
          0.06086121989160186,
          0.5161220618085454,
          0.43601145492135923,
          1.5530974334924734,
          -0.48702629470583275,
          -0.3507466019110505,
          0.09196345938140474,
          0.09046460823930653,
          0.0022331140249558195,
          -0.14516633909228904,
          0.6452880551466401,
          -1.93333630248027,
          0.31292030935747,
          0.4761377757655232,
          -0.3449335663343113,
          -0.05422216995235451,
          -0.0588179814267189,
          0.06192753212358036,
          -0.14423997329097393,
          -0.0988222177200786,
          0.2894598096705651,
          1.1865170187175167,
          0.04117178864955617,
          -0.6661601841556747,
          0.0752088391124555,
          -0.3705462184130645,
          0.02240373225676552,
          -0.2982651548069567,
          -0.5169183157079307,
          1.0976020650414078,
          -0.29121751978325816,
          -0.4322509348515317,
          -0.09721897494901494,
          -0.4111774026572275,
          0.5537332700300065,
          1.366666123641817,
          -0.5987087686038004,
          0.07711846353752946,
          1.1752943799583366,
          -1.8301075377994114,
          0.4408273898007226,
          -0.05155750014182827,
          0.1739660943398034,
          3.8758191842367515,
          3.877109543795262,
          -1.6625945027108748,
          0.1556488603967246,
          -0.8727171167250358,
          1.3934840092572789,
          -0.5400427261906304,
          0.40786513511260963,
          0.1478125554105746,
          0.9700094318117933,
          -0.5533114552036859,
          -0.9701988666092781,
          -0.12147995500973816,
          -0.9603392098751651,
          -0.557695229454281,
          1.0244731502427122,
          0.16552303515858072,
          -0.3152805849793043,
          -0.41631851677683107,
          0.31370298824885845,
          -0.09178899292341153,
          -0.4583510059826479,
          -0.7177682037995519,
          0.13397675635040432,
          1.485941282583818,
          -0.27999503825576744,
          -0.6606406054103986,
          -0.0036047334082084733,
          -0.5882344639067018,
          0.8100461215042654,
          -0.8432310826488835,
          -0.30200387299069015,
          0.4537255243811119,
          1.0958032969059426,
          -0.24311402368095777,
          0.9781010300087171,
          -0.40885662113729454,
          0.29034030065514765,
          -1.6680111272619655,
          1.0963174774722568,
          -0.6995380580011535,
          -0.36957919097600167,
          0.20018379864969207,
          0.9620828256030337,
          -0.1881725329609861,
          0.21976475153877612,
          -0.08173187603195835,
          -0.4860080996543746,
          -0.07774124628957489,
          0.3895339191082234,
          -0.4153976111611854,
          -1.4036293264285131,
          2.482359650216909,
          -0.029350138984016574,
          -0.07698510097979194,
          0.4351054715878895,
          -0.2787581619638335,
          -0.33363916738104943,
          1.1496134945700396,
          0.13289818175572168,
          0.05745874141425821,
          0.5293895478564993,
          1.1096024089355576,
          -1.1405725589151334,
          -0.23868217960305183,
          -0.45636783542100406,
          0.31181475293991934,
          -0.11552643638519935,
          0.5605757367433594,
          -0.013108817121503876,
          -1.6682484007829501,
          0.4946185384245509,
          -0.4943615638088353,
          1.2510736668045794,
          -0.12301212710127765,
          0.961144231716694,
          0.6352780105130409,
          0.8326467702445383,
          0.8447973843001744,
          -0.1834873461043649,
          -0.6497025590147855,
          -0.34406642396816417,
          0.9839098053395858,
          0.6234979551138533,
          -0.5855061472371875,
          -1.0345175945782603,
          0.25840381147731933,
          -0.5233681291469944,
          -0.5228566766981156,
          -0.3867974735750788,
          -1.6736055157565424,
          -0.6632140324957565,
          -0.6198715984641109,
          -0.006996187628957865,
          0.4449889461414887,
          0.030289809261501693,
          3.333338631696037,
          3.7421458287701714,
          -1.8089133266639021,
          -1.3329396842926262,
          0.13928241934151422,
          1.6061945477756587,
          -1.6649558611029753,
          0.6129703874518002,
          -0.11150682102582114,
          -0.22202052342542095,
          -0.05045979300617995,
          0.5097436714450005,
          -1.7212934640665933,
          2.0196523642768756,
          0.5582662359799763,
          -0.18068205857111713,
          -1.6582459913987195,
          -0.164155542947909,
          2.380387802918243,
          -0.704758856541271,
          1.0506501298837725,
          -0.1562283138178929,
          -1.6546458882304744,
          0.14648771420020662,
          1.0934319109595407,
          -1.6731948066840534,
          0.10227283832915289,
          0.06522729812216992,
          -0.18262443954685514,
          -1.749337481434445,
          -0.16169078045173543,
          -0.9384035752522483,
          0.15428320420375488,
          -0.6383324497294889,
          1.0724740730792213,
          0.4178034740187182,
          0.43794341304680723,
          0.4280254663814969,
          0.12333839675087419,
          -0.5731378379339438,
          -0.16179049644185306,
          0.16442984194366653,
          0.03956814326788117,
          -0.958743168159737,
          1.3168648178981526,
          0.12218669589692134,
          1.2725954875535972,
          -0.5067277620069284,
          -0.14652711856421294,
          0.12227574667365057,
          -0.9972669000806031,
          0.17122028886023402,
          -1.083841912308642,
          0.4447840984072591,
          -0.9706603459505894,
          0.20394102427021069,
          3.884193617771486,
          -0.0917048475733041,
          0.17332288045092026,
          -0.44825292022890856,
          -0.7113030265624923,
          0.6206613166951083,
          -0.9228523902145337,
          0.8001553216026344,
          0.7813387396669195,
          -0.10434835778273509,
          -1.6590718215161664,
          0.3091375850789786,
          -0.31353898733471136,
          -0.6147381184124111,
          -0.40674158735729277,
          -0.45487081790205414,
          -1.6590718215161664,
          -0.3024496628901241,
          -0.2714108925966298,
          -0.9216094424450082,
          -0.1602462553240146,
          0.9225281214560048,
          -0.3969908875001514,
          -1.6621464430685344,
          -0.5201155701479077,
          0.044071874196114844,
          1.0196307291015314,
          -1.4483266915304374,
          0.2479227070900121,
          0.36912236528346676,
          0.7576963875570378,
          -1.6550867332861408,
          -0.967016650435945,
          -0.21854137203194993,
          0.6541888011679038,
          0.6731637542519714,
          -0.43567035955909433,
          0.5609496507933659,
          -0.0603602851610267,
          0.5344246308715918,
          -0.4580821295025793,
          0.6564831378355468,
          -0.2067587248933969,
          0.23446313996731272,
          -0.10300314341863022,
          0.14164954840354319,
          -0.418399705209118,
          -0.1881876754717731,
          1.1047698627746014,
          0.9203579080778788,
          -1.6948176116946105,
          0.5846693808766882,
          0.1274334060345428,
          0.10037953126885733,
          0.38130327317652635,
          1.592265220262159,
          0.4977779605928856,
          -0.4771469259272638,
          -0.5389962427071323,
          0.37644255448784353,
          -0.8858868840436627,
          0.39215059456100554,
          -0.3959791719316325,
          -0.290858146556793,
          0.4861139870493295,
          1.654875415668942,
          0.09224459959100456,
          1.3005830307962105,
          1.647182291981101,
          -0.00022089102689406203,
          -1.7681261015703489,
          1.3238642293958072,
          -0.7360538607878724,
          0.37220434964003846,
          0.05970823869317271,
          0.0851666885771727,
          1.799931306944541,
          -1.1289363294111538,
          -0.6291705399853535,
          -0.161461498896661,
          -0.7086686706048652,
          -0.719328038502263,
          0.3483853834528889,
          1.1745325252413528,
          -0.7712841184014233,
          -0.12347167871088198,
          0.5133399344635998,
          0.5626227908442845,
          -0.47697396873567954,
          0.43895822058789635,
          2.0097145284575535,
          0.06373133532336331,
          -0.37007779162371024,
          1.082885514276593,
          -1.712280817123973,
          0.7324301669663841,
          0.1487297202951137,
          -1.3618739761717318,
          -0.5935086509578024,
          0.18700735803099908,
          -0.25580808942421557,
          -0.6426642900392572,
          0.11746185103821886,
          1.4137037967281356,
          0.10667311953071616,
          -1.2383283718850016,
          3.0083263673207226,
          1.4949004891387134,
          -0.34833412669256064,
          -0.10338834370987161,
          0.6720977403357452,
          -0.4117010674559324,
          -0.22975684709001523,
          1.9801272542629416,
          -0.28794231316210134,
          -0.8333270540508859,
          -0.9999065212723918,
          -0.1758762635718306,
          -0.8538851068769255,
          -0.09056718250643991,
          -1.632349154267803,
          -1.0246923584219432,
          0.01706564551528353,
          0.020925208139768767,
          0.13313795866617112,
          -0.09854983989890755,
          -0.8127456926122837,
          -0.28591719679647304,
          0.10516077401596238,
          0.0035629345396254526,
          3.8853549413741457,
          0.854526177380851,
          1.27955658408334,
          -0.13543757465726838,
          0.14589334504522475,
          0.24114878407112583,
          -0.4636567404920466,
          0.7148679641805794,
          -0.5092467072707069,
          -0.2641506222545011,
          -1.6701172993370181,
          0.8954047539715915,
          0.4555375794519588,
          -0.36508537333669144,
          1.3781432402366325,
          -0.11450746032421198,
          -0.2541343474456792,
          -0.294344167505148,
          -0.10165917159348814,
          -0.6335175419692372,
          -0.41633948386804986,
          -1.1095097548288584,
          0.959835157496326,
          -0.51376761995072,
          -0.6141557901547751,
          -1.5204157419891382,
          -0.5585655329073274,
          -0.3274206264604892,
          -1.6479712009250036,
          -1.6474069711072292,
          -0.17528853471261996,
          -0.12313368489332482,
          0.30938355475982965,
          0.1277261531022259,
          -0.546063890497728,
          0.4225665500183953,
          0.508302035137399,
          0.2137792823880568,
          -0.33284377045618824,
          -0.03493594955097077,
          -0.43172108824730476,
          -1.6110296350571824,
          3.272712325487995,
          -0.3868153702125291,
          -1.7021311199836695,
          -0.32156053628822023,
          0.15449329478810242,
          0.14081766791849212,
          -0.22094178275081505,
          0.5047149365162713,
          0.1479029819238217,
          0.8423010550395742,
          0.1312686588089182,
          0.4628360783081689,
          -0.6721161848590194,
          -0.15233379903676733,
          3.6419985610241836,
          4.036963616695708,
          0.6490307304491993,
          -1.0584681884383713,
          -0.3590828073928709,
          3.8842448923496162,
          -0.960406711372011,
          0.5289805632929204,
          -0.6659389738330087,
          2.4075657574712523,
          -0.1637168637540085,
          2.262324912050875,
          -0.32946270380726633,
          -1.437750960141525,
          -0.38369905406828636,
          0.6388196453119502,
          1.8369068188007123,
          -1.662388045581539,
          2.964330432001164,
          0.008820873976871776,
          -0.20332826245495553,
          0.19553575963118827,
          -0.9410752556244829,
          -0.43289023377387276,
          2.509826566819287,
          0.5011681337864715,
          -0.8969363568877341,
          -0.15230868965272681,
          0.01376743430229146,
          2.055896686317379,
          0.9325217436411352,
          1.6094212873538263,
          3.901488765447588,
          0.9974290107206635,
          0.7373293558006456,
          0.8054544411522411,
          0.28756564357072667,
          0.7198457587451286,
          0.1692455449246321,
          -1.555575930148282,
          -0.5108920307885728,
          0.39716408334620945,
          1.3067946248434203,
          0.6763172417050384,
          -0.08224837121407015,
          -0.1924448093639274,
          -0.3852298375511117,
          0.3880245758944325,
          -0.07660062557025626,
          0.1959601058489193,
          0.9522641093698194,
          3.8802064067356876,
          1.3982356041838937,
          0.3000270772956152,
          0.2500088650529396,
          -0.40642752134626986,
          0.5912739313910547,
          -0.4865228040410808,
          0.3003208620635854,
          0.2903614302670375,
          0.011922186380816725,
          -0.3794724510548608,
          0.11700157409659936,
          0.44416930573578806,
          0.3550152408595521,
          3.896452033577338,
          0.5380253988290493,
          -1.0359952354859614,
          0.2197639856484312,
          -0.14894627752145523,
          0.8094263182217916,
          0.2599422850369034,
          -0.9626698185020665,
          -0.6805027899576215,
          0.5305202106227326,
          1.7958565214249647,
          -0.35837712765010565,
          1.102851668137912,
          -0.6509243979420977,
          0.4074253970802585,
          0.26581022115724096,
          0.07138426690043863,
          -0.43983074023358465,
          -0.679492397130724,
          -0.5108519934058672,
          2.433239849534153,
          3.6389170640893127,
          -0.21951089449307282,
          -0.2914228247097196,
          0.31558164287299834,
          0.39139475028833487,
          1.712307882798227,
          -0.5139821203390114,
          -0.38197852712128555,
          0.8095211973229726,
          -0.861726096197007,
          -0.21665830434896619,
          -0.3697105659394209,
          -0.24288909254929741,
          -0.48089551737037806,
          -0.3730846325499757,
          -2.0107578759909144,
          0.1864539074019433,
          -1.93333630248027,
          1.3528595212026933,
          -0.33559263229276,
          -0.6522599566851057,
          -0.9067917629872172,
          0.11587800423393062,
          -0.4289516986919679,
          -0.6408147999055533,
          -0.03566426496817191,
          -0.9927361369938951,
          -0.5633746453428785,
          -1.2357344371172452,
          0.2616701742312531,
          2.5329335849028567,
          -1.8777550496614208,
          0.5498126089288534,
          -0.5532585292748945,
          0.9011020280744868,
          -1.878052970201663,
          -0.36040899987096847,
          0.20455534570097966,
          -1.8009518637748743,
          0.8820665112383682,
          0.055916959000293226,
          -0.08023869611990435,
          -0.1506313657639187,
          -0.4622573296349561,
          -0.4108193514510246,
          -0.6983506960499765,
          -0.5689479671835599,
          -0.07386486314642168,
          -0.8020079366211916,
          -0.6355934236239406,
          0.4461537381983045,
          0.39688696275651125,
          0.7526840301317024,
          -1.93333630248027,
          -0.6928281242344042,
          -0.5437513905010072,
          -0.2225075204423856,
          -0.08487001715870938,
          0.12310042287930918,
          -1.881991308871505,
          -0.7376760233311848,
          1.165877601364979,
          -0.4415680330593545,
          -0.30378145786743954,
          -0.6586473417866502,
          -0.8773708413485264,
          -0.5519298294852698,
          -0.23941863440036049,
          -0.6456255181561746,
          0.0488286661231761,
          -1.1978901500189436,
          0.4531872702082137,
          -0.16831755687416936,
          -0.4443146111719379,
          1.6481222128248236,
          0.09039106802363803,
          0.27484526476568827,
          0.8555360335631547,
          -1.6721823777772327,
          0.3030378511838503,
          0.34151491178593346,
          0.9905665388638639,
          -0.3054726849360734,
          -0.11956220244356033,
          0.5786721911327662,
          -0.046124500970548536,
          0.40225104158489305,
          -0.6771716430660305,
          0.6872846270855281,
          -0.17053261859291038,
          -0.8272533300909888,
          1.6921003706847484,
          -0.6559790112807726,
          -0.07388622751136235,
          -0.16416980913644216,
          -0.533578818254494,
          0.5597125489341382,
          0.34451061096243635,
          0.9830156098401808,
          0.177194334643165,
          -0.42891469121344306,
          -0.38382853775818776,
          0.4019047534508274,
          -1.800631396691019,
          0.058522339245999366,
          -0.6925380330542975,
          -0.9152290565532702,
          0.5172928806565906,
          0.22719443733712794,
          -0.33018964513044613,
          0.2590639029044916,
          1.646140358871725,
          -1.6287299998970268,
          -0.43973499849786446,
          0.2865077114855488,
          0.9409044356032086,
          0.545779017285723,
          0.5329405394032551,
          -0.1982545064569881,
          0.9549234428537634,
          0.6867592119996186,
          0.23683829491104266,
          -0.4363364748892669,
          -1.8221444497847765,
          0.40387540828962476,
          0.32323852687426446,
          -0.033805912015378504,
          0.7847961974821501,
          0.3263334383806896,
          0.632732357996727,
          -0.4947402835873983,
          0.43431086923383544,
          0.0565648550463789,
          0.7602714693194148,
          -0.45610070277349657,
          -0.645643890989367,
          0.13893914329332213,
          3.8346180035335036,
          -0.2613125658995297,
          1.1173703734777922,
          2.2279564656556485,
          0.38050150095373214,
          0.13089508663961533,
          3.804588686630535,
          -0.4486629021785738,
          0.8543624966601321,
          -0.8021420230103515,
          -1.3255609585333672,
          -0.8436517702926035,
          0.3753015776110045,
          -0.251687425782917,
          0.7468782207348359,
          0.2993803790471253,
          -1.242361249606848,
          0.20857964445103921,
          -1.6767260630823657,
          0.12786886691307023,
          -0.7599788836669606,
          -0.3988221191113213,
          -1.9125742783497164,
          -0.04428959472506805,
          0.13758251593608295,
          1.115131599843789,
          0.18478575930458685,
          0.056724874867005864,
          -0.020857252813412618,
          0.13600078956649536,
          0.5817231223673686,
          0.5472467541716848,
          -2.0018436140473646,
          -0.9440542050843214,
          -1.1388068874074027,
          -0.1124784720577424,
          -0.23563745352526064,
          0.9901474446101526,
          -1.3840017540291545,
          -0.9538723702360563,
          0.17516550316442062,
          -1.6742722571154227,
          0.16255402413138018,
          0.03742588642328749,
          -0.42600412036287494,
          0.3421754203931651,
          -0.2374939493031239,
          0.8686011044451554,
          -0.5911916670808232,
          -1.0655431885447453,
          0.9417682271547464,
          0.36480625635813513,
          0.9413045171777696,
          -0.13478102224226465,
          -0.22062827061521442,
          -0.533171184823236,
          -0.20978294654554258,
          1.0788755783548243,
          -1.972178220270395,
          -1.8039196907594488,
          0.025826921592558713,
          -1.730164339888807,
          0.13090300653319398,
          0.4149671180267016,
          -1.77485532678799,
          0.6069203297988032,
          -0.43611738546140716,
          1.517974502245822,
          -0.43702709145813545,
          -0.15483215528873895,
          -0.6588772034672377,
          -2.04699006880074
         ],
         "z": [
          0.2973248518615441,
          -0.061854535610196944,
          -1.1175088700751539,
          -0.7133966999699902,
          -0.2899192899404716,
          0.3497839877157277,
          -0.2931634704955175,
          -0.6838086299219995,
          -0.574514445152617,
          -1.1252096861987697,
          0.17418521682671387,
          -0.2883781708886995,
          0.03781362368810962,
          -0.6370751851683797,
          -0.4897741926789873,
          -1.2668721717515485,
          0.8617155287190823,
          1.0432919113577326,
          -1.120047062052821,
          -0.14031342728671717,
          0.4881894747695349,
          0.2516163774407037,
          -0.2026196751438211,
          0.021578664828982925,
          -0.9428706736692773,
          0.951148383840813,
          0.35691402945684386,
          1.3507969896269707,
          0.6742940112494915,
          -0.9428345233660465,
          -0.17412406445761563,
          -0.22623452954355266,
          0.9943504313209877,
          0.8179840787164832,
          0.30643519381276835,
          0.905116085232009,
          0.02465272041152309,
          0.5934266157203508,
          0.28588948626619526,
          -0.34228236117130184,
          -1.2873166272319514,
          -0.4470160784806031,
          0.7866836682301769,
          0.11972652115240806,
          0.1904783794210238,
          -0.588991637177865,
          -0.8014825662583438,
          -0.5762028212937198,
          0.13677173776289764,
          0.25378446961276174,
          -0.1452285230579013,
          0.018252225455843114,
          0.4318101257910769,
          1.9699480449236677,
          -0.665993141898752,
          -0.8076284484448,
          -0.3833739461649479,
          -0.6660835478360307,
          -0.7056951825504,
          -0.022896013792873524,
          0.02533934700256706,
          0.6000752641440723,
          1.9329883859906425,
          0.03066615259133063,
          -0.490061994930199,
          -0.10783736580626023,
          2.0829969834035964,
          0.38174498294155157,
          0.5702199079017944,
          -0.6814516359409604,
          -0.49616836624216565,
          -0.8617900104517044,
          0.6537516047246557,
          -0.06280685720322195,
          -0.01680608830270054,
          -0.3026905661120457,
          -0.9159349438704768,
          0.49847879120292565,
          0.9315599626455976,
          -0.0669080008553994,
          -0.5833526774775356,
          -0.3548923437132731,
          0.0010926097967801332,
          0.01938671770396488,
          -0.3667229099705173,
          -0.22897086814693163,
          0.8437369494715741,
          0.008668313894110338,
          -0.43039549386734505,
          -0.4935699938047576,
          0.0010884730711596589,
          -0.4764828933293126,
          1.4616392054071703,
          0.4632623893783034,
          -0.17050447788930995,
          -0.25739706119023753,
          -0.3623823130625834,
          -0.7369047897930363,
          -0.14719603281855395,
          -1.1548527406038558,
          -0.402527040340032,
          0.8247916109711799,
          0.726314953909922,
          1.7549571275153797,
          2.1653374480263334,
          0.01918802495587655,
          -0.8593547180497197,
          -0.18078785619684298,
          -0.1801675643962596,
          0.15027151763187593,
          2.4907537179994423,
          -0.424396862632879,
          0.5326999353202685,
          -0.027474358625679145,
          -0.4975375873055928,
          -0.3194042659477864,
          0.015104120513520326,
          -0.40020928877124934,
          -0.06179451527387622,
          -0.5566076119510481,
          0.17242238634561452,
          -0.28427647360808733,
          -0.353562043579877,
          -0.4371905474891469,
          0.06837345882669621,
          0.10253404256489738,
          -0.5090181922058309,
          -0.7093584814016429,
          -0.13454727374741574,
          0.8669748889319747,
          -0.03810424536354074,
          0.2831138527538083,
          -0.04375516559521637,
          -0.18051048901454636,
          -0.7752472608617307,
          -0.16850534160742933,
          -0.8014413376535996,
          -0.5618401010812062,
          0.4429951101446321,
          0.3961222989759564,
          -0.681752449973217,
          -0.34642561308159003,
          -0.5347572795307763,
          0.180619597650221,
          0.09201342321133905,
          0.31974734906418045,
          0.5402552186780576,
          -0.5566380275541843,
          -0.48601178978332105,
          -0.31248799132198085,
          0.08547729962104343,
          2.5154972123258346,
          -0.743448242221719,
          1.900379248180741,
          2.1452428491538527,
          0.6291634231668828,
          0.07317243431441252,
          0.19796483657194017,
          -0.3174294157791328,
          -0.033000586478309654,
          0.31815252461432453,
          -0.19691812873930079,
          0.18742907439816614,
          -1.1351886265432385,
          -0.47500265823895227,
          0.01788735979649697,
          -0.07383121447334466,
          -0.5234992408028375,
          0.11780187720244072,
          1.0472767764150595,
          -1.1530243826903717,
          -0.5475179035943423,
          0.09635638707971407,
          1.4456015316255204,
          -0.04075142948684757,
          0.019751663594788985,
          1.4909894073199292,
          -0.2629049050341637,
          -0.30981684032685086,
          -0.7839004542366774,
          -1.1867645826912505,
          -0.9011765105371039,
          0.23252538428662095,
          0.45175053657662795,
          0.48318908667324545,
          0.5663321506513185,
          -1.1186582157733092,
          0.11886224962290685,
          -0.3041304161632296,
          -0.19183762806260177,
          -0.5014074019592993,
          -0.7198116248949049,
          0.7012662961887101,
          0.8026190425349347,
          -0.33373083251179125,
          -1.0716946527211788,
          -0.6387966735159384,
          -0.44723208720848573,
          -0.8799745223557307,
          0.3754462134088369,
          -0.45254721864798597,
          0.527183620985786,
          0.2756168887838525,
          -0.5157864765665038,
          -0.11598856296840458,
          1.125340216047795,
          -0.38562933703297564,
          -0.39873939617026183,
          0.34168419342253686,
          0.8136077911198367,
          0.11889547333369789,
          1.0781288720609177,
          0.9842969869316975,
          -0.14018393804333648,
          1.1396830735103864,
          0.558574961692022,
          -0.08503639399839155,
          0.3268580050829135,
          -0.06821612282924898,
          -0.9562919376764232,
          -0.32659852644188453,
          0.31096884222391713,
          -0.4748565020979952,
          0.7219337061599466,
          1.5527484163705862,
          1.0843949183004942,
          1.0326067192378354,
          -0.5630844286530086,
          0.18345293908090402,
          -0.3364759083691883,
          -0.7108040844849491,
          0.6496669279068095,
          0.8352017452882987,
          0.07706440432472268,
          -0.6817591288220427,
          -0.15429177529755525,
          -0.321180630659407,
          1.7136111455044771,
          -0.15541877708080815,
          -0.02681371520486697,
          -0.3450335607220732,
          0.5128176043763375,
          -0.022939546440938974,
          1.115380706337379,
          1.933179857569521,
          0.22379111883913289,
          1.0931907195232895,
          -0.09915901728179193,
          0.585918960203089,
          1.7876253216503966,
          0.5185734551335425,
          2.1263915377908176,
          -0.037894604347747315,
          -0.713253555298161,
          1.9366599465666914,
          0.992418283392337,
          -0.20251362400759323,
          -0.36238693082409973,
          2.2388220367354865,
          0.5884170254241322,
          0.11965991022386277,
          0.4712693708158864,
          -0.5215112996275268,
          -1.2810221057162094,
          -0.2858238784391054,
          0.7156723795617349,
          -0.06277071311391433,
          0.16992351115141588,
          -0.5737469370609619,
          -0.44536961706736766,
          1.5472072654971345,
          1.1940827032092494,
          0.6483676336213672,
          -1.1526512261632917,
          1.672536237866444,
          1.2519811273146026,
          0.14312886003825726,
          -0.0356158599816066,
          -0.1329787172655116,
          -0.12638735546080646,
          0.3815323662346166,
          -0.416663563515876,
          0.30575277449123067,
          1.4911275157976462,
          -0.30475582314224386,
          1.3057924976039552,
          0.3288730251871172,
          0.08279760406789484,
          1.7822439975194595,
          0.6142165306643692,
          1.3544264115171467,
          -0.7315787438048873,
          0.5873780850316883,
          -0.36236335921926954,
          -0.13862748389510643,
          0.7974171305216333,
          0.22615457359635052,
          -0.17695558135663395,
          0.08105943077364776,
          -0.1328832564207855,
          0.6719925568464419,
          1.0806090362079297,
          -0.021515271703056008,
          -0.7483405597066409,
          -0.13693575355099538,
          0.12766596142500017,
          -0.2799940723411594,
          -1.154320209172744,
          0.29940089307554424,
          1.505199384718685,
          -0.29977328443886336,
          -0.11000319163699476,
          -0.4392034504891473,
          -0.02826837276828008,
          0.10524192849226043,
          -0.16001472453480203,
          -0.708526912499876,
          -0.5692693126626251,
          -0.8447531199310355,
          -0.24262804596982776,
          0.4276685995580666,
          -0.3748913773207923,
          -0.9687020836211926,
          0.1715452419653088,
          -0.47577847546286933,
          -0.43435541845257897,
          0.41341005983756884,
          -0.5442744228285374,
          -0.25901015942927647,
          -0.32289151336878597,
          0.027136746325233795,
          0.6049454153733054,
          -0.2085003633205884,
          -0.07449344758236352,
          0.009257267404917337,
          0.021334820172379157,
          -0.40453140913031643,
          -1.2042208079949277,
          0.3865728030833618,
          0.3808198818283438,
          2.60181999005531,
          0.5663216586295966,
          0.33588446389041615,
          -0.7437770507005632,
          0.6229121168280849,
          0.8721700437079056,
          0.7974636671374463,
          -0.6782881457234915,
          0.13414734490659683,
          -0.30874089970385643,
          2.5271259001676167,
          0.8827118152295934,
          -0.007999881677347647,
          -0.20572013065410052,
          -0.3520032717832888,
          -0.5407444213267448,
          0.5461686900811524,
          1.4335777252785564,
          -0.381804867197854,
          0.655912889526763,
          0.4382711782207193,
          1.2278505496962684,
          -0.4458293714647409,
          -1.0422721777103956,
          -0.26882734071002046,
          -1.1188934517960447,
          -1.1188934517960447,
          -0.031795018986849034,
          -0.4834536977267479,
          1.6071140123195442,
          0.1948667606306339,
          0.09170305505336537,
          -0.30435620305409855,
          -0.4443499445555175,
          1.5610303309028724,
          -0.34372017248269177,
          -0.14560208757349344,
          0.7351807623761177,
          -0.14759953719177232,
          0.46709355370126515,
          0.029738024046012074,
          1.148474780364703,
          0.27774981132271254,
          -0.646116848225609,
          -1.2360652284617277,
          -1.1596676083715092,
          0.19178252487298347,
          0.3677226934788202,
          0.37771071313571947,
          -1.1809467807283367,
          -0.9218290688649436,
          1.7847034797611796,
          -0.7733163021347417,
          -0.2311999405718786,
          1.014016007828269,
          -0.7942756293657091,
          -0.14606720519226804,
          -0.30403396259549875,
          -0.44602588640943874,
          -0.019786278212482803,
          2.4905699532866974,
          -0.33665054289102525,
          2.0041200548413403,
          -0.3466375599028602,
          0.5395005463070092,
          -0.06837168858460187,
          0.4123130016825329,
          0.5284944987620511,
          -0.13792546889053653,
          0.77411796742586,
          -0.45067777839100875,
          -0.7224913403723546,
          -0.3333692549772377,
          -0.24375504370698994,
          0.04200684272106656,
          -0.8180417811919768,
          0.2545262046377168,
          -0.027987972366723086,
          -0.25024355365906226,
          0.041549012049996434,
          -0.026087203929920883,
          -0.01789186354814242,
          -0.6909427434930817,
          1.1079951048358156,
          -0.08473969741020501,
          -0.5896947261190039,
          -0.34642473481593994,
          -0.36111047217353937,
          -0.3518316558474541,
          0.1541920393134616,
          -1.1552077615579304,
          -0.44686032609934756,
          0.3055559247118751,
          1.303428350571737,
          0.09877463746087131,
          -0.4508455831249354,
          -0.09388243494371011,
          1.9226866139016294,
          0.6112152668236561,
          -0.19766725956530515,
          -0.6051177620908055,
          0.7057628714939886,
          -0.6708023492138724,
          1.707525872049086,
          -0.11620265172275315,
          0.1392232343824753,
          0.28904794624712205,
          -0.10421098818488486,
          -0.33427746685910137,
          -0.06529784828585247,
          -0.058649030712952854,
          -0.02220329968920257,
          0.22110878897493702,
          -0.575009667613316,
          0.691143079496603,
          -0.1664364291537406,
          0.03007362119448258,
          -0.5377562028124676,
          0.6585807121386626,
          1.2926962860831452,
          0.41030548878068396,
          1.008047903555409,
          0.6831305167723489,
          0.639830304725235,
          1.008483596882504,
          2.520440561531966,
          -0.07512019852123943,
          0.08850171897630156,
          -0.7262762393108627,
          -0.19076841042530476,
          0.1784903015235836,
          0.40914478563000084,
          -0.3614181350347312,
          -0.022027422935619566,
          -0.21991497828056175,
          -0.3067173530137086,
          -0.06326977286504097,
          -0.4864449853573137,
          -0.12413281777889731,
          -0.5851625878806213,
          -0.4346974497035821,
          0.8998356372088422,
          0.015537600526273912,
          0.4895694307542505,
          -0.27335687147475146,
          -0.3174231642678985,
          2.176335741353269,
          0.3344004316421396,
          -0.04574102158682605,
          -0.6958746834731812,
          1.5081363065117046,
          0.44175525210611466,
          -0.9059679908728512,
          -1.1509475101090356,
          -0.48515573827784125,
          -1.2246220876201015,
          0.4567216024781265,
          -0.29252042285564434,
          -0.6777840321574451,
          0.05982841922049957,
          -1.0940208064010704,
          1.941740092762787,
          -0.8529661273422271,
          0.0021208508046922907,
          -0.5118471364396615,
          -0.2033175168416047,
          -0.8356104200079265,
          -0.022006920936668,
          0.14731398836309637,
          -0.12027360165881791,
          -0.5293577302617399,
          0.24315701680877053,
          -0.7676057231998286,
          0.23292346908951744,
          -0.36417502749801994,
          0.08457775062382085,
          -0.38469237029122494,
          -0.516942388861673,
          1.5687843817649103,
          -0.09562831549827071,
          -0.13371404071445575,
          -0.02025604129487518,
          -0.2751041666956778,
          0.6803587218731081,
          0.4600885124512118,
          0.04564213871269382,
          0.00839244612527349,
          -0.48977946754516843,
          -0.12517504526967146,
          -0.15908749139882383,
          -0.6796450834677239,
          -0.3958340411937864,
          -0.4029381137072452,
          -0.44936904533904726,
          -0.6847644774272925,
          -0.24434986017638483,
          -0.008401406050223917,
          -0.37491028645883945,
          -0.22273876574703988,
          0.8675106255842268,
          -0.6186829340158653,
          0.4964965361501847,
          -1.1496900749486993,
          0.07852021361532067,
          0.9089128535728835,
          -0.6292703156861795,
          -0.9467086593194193,
          0.033233847147619254,
          0.25291741296778164,
          -0.23906315867169242,
          -0.756952373553869,
          0.6358531314037016,
          -0.5311594802774205,
          -0.520985688862278,
          -0.6000890406004695,
          0.35502380984029125,
          -0.11074911677766643,
          -0.6668693185089609,
          -0.5877317701015573,
          -0.10665969359797836,
          0.47709334825227867,
          -1.0164965922914146,
          0.4568620546848996,
          -0.5246218460924182,
          0.4617760802030303,
          -0.5968212037403214,
          -1.1149300292441957,
          -0.26022707335315376,
          -1.3378506065185636,
          -1.4181663794225683,
          0.307652934136156,
          0.11808444048457364,
          0.21142801396593583,
          -0.513910226675189,
          -1.1544977196497812,
          -0.25859137065206145,
          0.22252292254975076,
          -0.1888822125364706,
          -0.3587859946442144,
          0.04595230833288138,
          -1.187920515750973,
          0.400185340896298,
          -0.13583659894995256,
          0.07497951218960414,
          -0.6005362840619115,
          0.042263483225814816,
          0.09256751930625662,
          0.9107078219285626,
          1.105208230212969,
          0.9566132380356163,
          0.35477670285407625,
          0.4492531495944319,
          -0.16706093412856177,
          -0.06425814128344862,
          -0.450414918894639,
          1.4372423856867214,
          0.1197799080041576,
          -0.11904727340992778,
          -0.5646774890368726,
          -0.18260304179812883,
          0.3160915292608322,
          -0.18620081513174136,
          -0.0071381857211726615,
          -0.09668698433813955,
          0.13406306872127377,
          -0.7230292106882891,
          0.15631838118599284,
          -0.1123121489674321,
          -0.6838090818676672,
          -1.112955769095213,
          2.310249480085156,
          -0.3004122009227069,
          -0.1334254541211605,
          -0.36320533816490513,
          1.8933599815698852,
          -1.1984536476041558,
          -0.45695737762531474,
          -0.08955437103421277,
          -0.6165940264447536,
          0.018109891093561994,
          1.3317471232062499,
          -0.658191870447466,
          -0.052656013743851385,
          0.6571514071852874,
          -0.7408805633319613,
          0.2745447548490795,
          0.2717410099874041,
          0.3457694985467426,
          0.09566341203894663,
          -0.5037131886601344,
          0.44587496461115844,
          -0.04364638039036778,
          1.7376435489318327,
          0.17560162783580305,
          0.3334045427725607,
          -0.12185089323144199,
          -0.010846875181437449,
          0.4012397465388866,
          0.07231080044518465,
          1.0160956313762965,
          -0.09170843665122076,
          -1.1385306522402774,
          -0.15033388605850107,
          -0.050276667720849134,
          0.8616582878946265,
          0.3640872528989935,
          0.11171898844430937,
          -0.055489627765761475,
          1.274563671124277,
          1.219313661058669,
          -0.240042700542233,
          -0.04207132043864568,
          -0.4687863857447617,
          -0.40303547974148674,
          -0.42858994322190813,
          1.9594349965988458,
          -0.5115944245859531,
          -1.142427007211246,
          -0.007678664454032939,
          2.646662378927428,
          -0.724901585902579,
          0.8392969628795618,
          0.422979977920468,
          -0.3141917469424592,
          -0.42261797492972997,
          -0.2994491995445551,
          -0.2936621413054721,
          -0.09088327598066605,
          -0.10099939210562249,
          -0.13778379379235742,
          -0.11292519358145345,
          -0.3155280467894118,
          0.012560508356970963,
          0.36092990434619665,
          1.5613283948665089,
          0.8363376600924604,
          1.5344420021248633,
          0.2612076457854411,
          -0.02078910746221308,
          0.2580409428825546,
          -0.34584865341933935,
          -0.7112409464971424,
          0.0377205887336794,
          -0.14530121250416705,
          -0.24870247192467115,
          1.2674436360052395,
          0.23083919693425903,
          -0.6883344574078889,
          -0.30939950260775073,
          0.6533722941501486,
          -0.3216789779548674,
          -0.5583500721868037,
          -0.3165858684787895,
          -0.8450695950813552,
          -0.18668977553594573,
          -0.44475325078953376,
          -0.7994371631330431,
          -1.3953415205296003,
          -0.19973828147137468,
          0.12951805819210868,
          -0.21344268480024384,
          0.5021990141506243,
          -0.34495741913655104,
          -0.24265097522302984,
          -1.143776561698989,
          -0.3713522140584375,
          0.4770280285067373,
          0.2493244845191366,
          -0.4910943688928822,
          -0.0023164213207573945,
          -0.24727161331165795,
          -1.285020223389018,
          -0.17203681069867624,
          0.3628931070330164,
          -0.09823465440929384,
          0.16167502621272198,
          -1.1731462216846136,
          -0.6180101547849127,
          -0.07487230841059479,
          0.9817956061332244,
          -0.19307125876108175,
          1.5371974469691385,
          -0.11520578470792196,
          -0.1472246399950074,
          0.0678056956057626,
          -0.2521264391387424,
          0.29934668949303905,
          0.15895284999877576,
          -0.1562633343480935,
          -0.7726342064576032,
          -0.18350903095582063,
          0.6475545557958167,
          0.26799042694543235,
          -0.19874663903243595,
          -0.16614668865614388,
          -0.1395901477097376,
          0.1126770203536359,
          -0.02918534122971929,
          -0.6127570920753663,
          -0.2058476515009813,
          -0.3924589098062631,
          -0.4627140688689044,
          -0.5491806549799619,
          0.6014064215733188,
          0.6381591485152421,
          -1.342088377418415,
          0.022356543436407864,
          -0.40494074037892835,
          -0.6083531083666466,
          1.071207271068058,
          0.14399662197953345,
          -0.27774268361246884,
          -0.568555730671349,
          -0.030358201832052473,
          -0.5254927549070488,
          -0.21227637458825757,
          0.0019211808850680074,
          -0.8366112546311747,
          -0.20283252352831072,
          -0.40436026468580083,
          -0.388913276360114,
          -0.11925823223925129,
          -0.5704584221979461,
          -0.3191228270855305,
          -0.35233605434952636,
          0.315059998830146,
          -0.16030170488863008,
          -0.2924528755162199,
          -0.2427505750659811,
          0.042406734341476814,
          1.2092678750784749,
          -0.3744165686382177,
          0.024770502808932764,
          -1.271084186603501,
          0.39076603823878986,
          0.4308041374195221,
          -0.5758458604879527,
          0.48977328075801435,
          0.4906608331432008,
          -1.179252713241116,
          -0.0558615952374614,
          -0.7383069905267841,
          -0.16874285424435737,
          -0.6509642995256453,
          -0.4733821736821185,
          -0.03908552206237325,
          -0.18622242906408906,
          -0.7687434362386805,
          -0.8787386216442993,
          -0.46187726374368304,
          -0.6613767168286259,
          0.12145992595613224,
          0.14600586821186204,
          0.4236313741856826,
          0.04787695704548758,
          -0.6790453321640163,
          -0.19979430102962975,
          0.25336903371197866,
          -0.5900744602013402,
          -0.26999688672748356,
          -0.42336274328750934,
          0.031999636656313855,
          -0.3554444595602411,
          1.942072978265967,
          -0.28685642139485956,
          -0.6986054614940979,
          0.2885874011335599,
          0.06290902606792231,
          0.1647912735046123,
          -0.1849761516310694,
          0.337404372769703,
          -0.328604527501824,
          -0.07721717336466116,
          0.24454874765601223,
          0.2565411844618832,
          -1.1361992786938657,
          -0.2863069183345938,
          -0.8056969262515707,
          -0.20335441727524206,
          -0.58666551167086,
          0.31675782267116215,
          -0.4970568832856981,
          0.6357908071244621,
          0.25130012908109195,
          -0.4509706786303926,
          0.4795913391758705,
          0.2766729793284082,
          -0.4880397535362344,
          -0.7935287174076926,
          0.12445684507542881,
          -0.4831821990934183,
          -0.3329601254866722,
          0.14965738065929143,
          -0.49295116867904815,
          0.47965853728575625,
          0.12474958859738658,
          0.3913725453578774,
          0.6783259460889111,
          -0.0856339371962012,
          -0.31086858990329674,
          -0.7079985476218713,
          -0.5946128496901161,
          0.37005725539548306,
          0.6118693050405013,
          -0.5270364396837343,
          0.12424319215813057,
          0.966504614643089,
          -1.1279376106010943,
          -0.043897027490610724,
          -0.6949516239571544,
          0.11472290861610508,
          -0.5514914421917414,
          -0.3669232579096299,
          0.270862693345163,
          -0.18610659146959765,
          -0.2059641834841571,
          0.7329911740287621,
          0.35383316451948066,
          -0.16538622753398463,
          0.11089600952337372,
          0.04487159011708833,
          0.5099615974389878,
          0.21638750177171648,
          0.2573507061953167,
          0.9023498218285382,
          0.1787995631410685,
          -0.5261225791561442,
          -1.1063477949094516,
          -0.709560407720428,
          0.5396237760589567,
          -0.30725977262428517,
          -0.26570397442296456,
          0.500618567374363,
          0.3888032885196935,
          0.4062531566986577,
          -1.1909921519900446,
          -0.9608453831240633,
          -0.41491403071832283,
          -0.17791199184500142,
          -1.1509475101090356,
          0.002334818833180168,
          -0.3809362685378539,
          0.2526795125411301,
          0.8084719772665914,
          -0.2275673039031046,
          -1.0993270575942844,
          -0.029790980488715,
          -0.34113837364065475,
          -0.6242080812370547,
          -1.146332237706066,
          0.3106676907381829,
          0.20037786233266652,
          -0.6955899932654037,
          0.30938784204966996,
          -0.24033659450087297,
          -1.143855966551396,
          -0.5413633481924212,
          -0.29203288535558836,
          -1.1715792440869368,
          -0.3768868977375867,
          -0.2576188430857297,
          0.45774739653316837,
          -1.2005631330542708,
          -0.8360400274370902,
          -0.8709710472323802,
          -0.48994868235569733,
          0.6789961590628012,
          -0.16939802456062142,
          -0.23726940117187678,
          -0.26149253838810227,
          -0.040500825711140415,
          -0.451648907709205,
          -0.18603986241871284,
          0.4081948353584219,
          -0.5051198964103539,
          1.0925896451953823,
          -0.7469274365915096,
          0.012626011110057195,
          -0.5341761426203945,
          -0.12069277351253271,
          -0.5936966568449451,
          -0.3192718526223194,
          -0.2901708684797033,
          -0.7116006774465728,
          0.8564880597507243,
          -0.8609220483061065,
          -0.42803796110087233,
          -0.906975772763993,
          -0.6330770270851217,
          0.49553349573787425,
          -0.6319235004491213,
          -0.041956735091829164,
          1.249337220807608,
          -0.03208182735503508,
          -0.4083495833637576,
          2.1779349736443696,
          -0.04017586876922781,
          -0.37395664458254185,
          0.10156711949873637,
          -1.1469002712325855,
          0.2855811304969939,
          -0.19576162966032448,
          2.7241007047694246,
          0.6176284027306329,
          -0.2869282508973734,
          -1.1469002712325855,
          1.0956665952303446,
          -0.00185771835359339,
          0.35212249877967783,
          -0.23275283246792022,
          -0.03608174224825848,
          0.7177682484266644,
          -1.1321653531031934,
          -0.18885174575428476,
          -0.19779904173830912,
          -0.30535513321202573,
          -0.9024507830686828,
          -0.3512248874588361,
          0.16306405175893504,
          -0.37570542223056624,
          -1.1188845762721928,
          2.442255265474929,
          -0.5624701175571762,
          -0.3859082208477802,
          -0.2737626830810715,
          -0.7287429630564239,
          -0.04842596855116042,
          1.1758891992205147,
          0.3267302800336731,
          1.7750686449021207,
          -0.21446444835862757,
          -0.5408858954542335,
          0.2175354953220407,
          -0.14446965352283841,
          0.258088744814671,
          -0.048823152227829125,
          -0.3430151249310765,
          0.010973199464343225,
          -0.3149249514474826,
          -1.1377879281820273,
          0.12183123989797412,
          -0.07481327702836457,
          0.17524889022606596,
          -0.42525600867698266,
          -0.20516447468525104,
          0.3069971029528847,
          0.24932693195840214,
          -0.5681353169640159,
          -0.37057525959348375,
          -0.5982988428915451,
          -0.0005424030625308722,
          -0.1808232737284368,
          -0.48438520048144396,
          -0.16281234941943046,
          -0.1023033019032303,
          0.1654670565966422,
          -0.1393924441369174,
          -0.10759488922371176,
          -0.41878781575857343,
          -1.2056156550707708,
          -0.021956877583112582,
          1.4856965069427257,
          -0.22127217118840065,
          -0.19567336769209717,
          -0.13512568208112163,
          -0.08519139795979745,
          -0.8753728420051237,
          -0.4168721941594379,
          -0.3532486986090727,
          -0.28907593915709195,
          -0.3164424092409568,
          0.5015198889320842,
          -0.2685403094704725,
          -0.6674128774619523,
          -0.0455346091685869,
          -0.13596971555584017,
          -0.3379830469657394,
          -0.6846546013443768,
          -0.33607243459416253,
          0.039197298923799424,
          -0.30780082769535466,
          -0.5874132947857444,
          -0.3292453620385817,
          -1.1703617387706662,
          -0.28867970938651094,
          0.7887793418658486,
          -0.9810000111306318,
          1.4079346084162594,
          -0.2583765006727556,
          0.7943851562809022,
          -0.8213906372356947,
          -0.4069279427396286,
          -0.1950935188035085,
          -0.4607510600234043,
          -0.47358790397562694,
          0.30423969911296517,
          0.011870666418850073,
          -0.2561268448030696,
          0.3572002578112269,
          -0.2904626142850536,
          -0.1947353451685321,
          -0.7044581080786374,
          0.036615574733734724,
          0.031857645369290366,
          -0.8201609701137403,
          -0.7588998848477089,
          -0.41838292485859885,
          1.545081474886585,
          -0.48325675859713046,
          -1.1397141739566345,
          -0.7261119184676559,
          0.5814240626686817,
          0.3101116628050343,
          -0.18120291584702913,
          -0.5968152460174732,
          -0.6333919104698221,
          -0.37495623788076504,
          0.3507073225539258,
          -0.43940099266189386,
          0.49633229288454206,
          -0.09114682957291745,
          0.060367167089078334,
          -0.4909668033832905,
          -0.32924507492550215,
          -0.4017806884024107,
          -0.7303651783057089,
          -0.2046036354349352,
          0.6732661762212334,
          0.5056139811753906,
          -1.1544977196497812,
          -0.3038535715362973,
          0.22364540623675103,
          0.04132740457193948,
          -0.05407195753772463,
          0.17918435772531782,
          -0.523416739826555,
          -0.13102088867722636,
          -0.3752843920695417,
          -0.06803407093684999,
          -0.22832549090155255,
          -0.637644536862964,
          0.2684114911002257,
          0.657626920245011,
          0.6940510548133577,
          -0.8116431214965183,
          -0.47170861089598115,
          -0.10936623376373096,
          -1.1078296101627043,
          -1.1388767976705,
          -0.2402579588701264,
          -0.553325515502392,
          0.019927137314488835,
          0.976199245713823,
          -0.11767731369341677,
          -0.11841865074616294,
          -0.18056609029370643,
          1.4616082034348312,
          0.172280160628058,
          0.5085821242820334,
          -0.5516357393666084,
          -0.7135516805362963,
          0.44268513609455723,
          0.1227780834141131,
          -1.1765178943262564,
          -0.34183039190448905,
          0.42761594209114007,
          -0.4534276923595061,
          -0.4999638071937466,
          0.22057735429918923,
          -0.5987611767475717,
          -0.3557891571248178,
          -0.42314726510654616,
          0.6640072595134443,
          -0.32496058907785735,
          0.0485832325312953,
          0.3570458178638756,
          0.49120601048581547,
          -0.39163277465860846,
          -0.8880465578076963,
          -0.04862539394803675,
          0.5049361535211375,
          -0.6763458954249273,
          -0.49391217574592855,
          -0.7694197903193993,
          0.08699421470356618,
          -0.18844773711937768,
          0.11827849537926487,
          0.07387399670033964,
          -0.6779771760530384,
          1.1659805285013034,
          -0.23857260760680224,
          0.18519620466238715,
          -1.1491812808625146,
          0.3888880839466648,
          -0.27335474623776623,
          -0.08858603509408686,
          -0.4000474222454205,
          1.3409221063722299,
          0.47812351958786703,
          0.10967890503801034,
          -0.48572337357606865,
          -0.9562153898060802,
          0.854543526686272,
          -0.492143104597799,
          -0.06838055939177716,
          -0.2940559870186582,
          -0.021496753608204414,
          0.48781015755600743,
          -0.14628248083210812,
          -0.05269439341629161,
          -0.36077058221027847,
          -0.2919628984371936,
          -0.18218094008017918,
          -0.43141471816048477,
          -1.0887342432254221,
          -0.548823744802008,
          -0.07835146405373772,
          -0.18288662527435917,
          -0.4495954594545278,
          -0.006190884177146943,
          0.32934004001515865,
          1.0656155838716292,
          -0.27526230050940464,
          -0.1378621054313823,
          -0.5162941680087791,
          -0.18787116110922364,
          0.49279095886764823,
          -0.12556864958427788,
          0.15289367078238403,
          -0.0003896815697658037,
          -0.6157676502040618,
          0.10597362203491464,
          0.34367083591661185,
          0.3604418858719574,
          0.43613726561888566,
          0.07890728333326014,
          1.3959025650674781,
          -0.0015539657452012556,
          -0.3788025593580396,
          -0.0887033608933835,
          0.5039652433971453,
          -0.46798594784824593,
          -0.7896340368070903,
          -0.09490341308838722,
          -0.3325319128558282,
          -0.4536819230799601,
          -0.4572035788056118,
          -0.805359554695047,
          -0.23285611984814186,
          -0.20882163451820843,
          0.2823705431330132,
          -0.42799880475679647,
          -0.2355388794248907,
          -0.7665186935543623,
          0.6683184692855969,
          -0.3445995675330089,
          -0.0635331978747014,
          -0.5867632872827128,
          0.6721814028643065,
          -0.8773035705003815,
          0.21137085816360862,
          0.33524896588374375,
          -0.09939387529332229,
          0.7238183617942383,
          -0.5532939398714803,
          -0.11619500455915334,
          0.04443762499473193,
          -0.48596538295482244,
          0.12199744951722392,
          0.007497845186506561,
          -0.35051783720221125,
          -0.008791406844302324,
          -0.6564629843047524,
          -0.07101236370447618,
          0.2987639932427108,
          -0.5563665886852667,
          -1.3953415205296003,
          -0.5283374675228139,
          -1.342088377418415,
          0.548029581112832,
          0.4027793489217603,
          1.7530123631489822,
          -0.37214720710335686,
          0.8276126354121945,
          -0.47963113382202893,
          -0.2707750513566041,
          -0.2731036996392412,
          -0.8568899936015434,
          -0.5951828193850657,
          -0.9670615438519605,
          -0.4313413918030662,
          0.21869984430828102,
          -1.2810221057162094,
          -0.3992820435504659,
          1.4692425267592453,
          -0.07433589294338841,
          -1.2638233253864501,
          -0.7866561754508942,
          -0.5586008858967091,
          -1.2360652284617277,
          -0.20573962126244133,
          -0.3555045222889147,
          1.1448371162574085,
          -0.2872965649841462,
          0.09223949943481073,
          -0.41000345796311355,
          -0.40081491406319963,
          -0.5221085699360284,
          0.1980150634202266,
          -0.888388424640643,
          -0.5717230557107784,
          -0.17603145773370912,
          -0.590596981044046,
          0.05927124885649469,
          -1.342088377418415,
          -0.3695987045329619,
          -0.007025238394595133,
          0.281558629928972,
          -0.2398501023034058,
          0.07679799536744239,
          -1.2087534363608852,
          0.2891883515089384,
          -0.10275654714555146,
          -0.5536165038661146,
          0.33401467001172586,
          -0.7382861341853666,
          -0.761099277206503,
          -0.757547040998733,
          0.9237446524816267,
          -0.5253982786136955,
          0.6821193138107637,
          -0.9193792571345926,
          -0.05004892637016441,
          0.3782685835776266,
          -0.41644319379523587,
          -0.1154139072647334,
          -0.498048310005389,
          -0.4725701473817529,
          0.04726884508688456,
          -1.0800942948665564,
          -0.28207299136036323,
          -0.34204377208637393,
          0.09714316212602161,
          0.223790925912374,
          -0.13341524783763634,
          -0.33852555671492873,
          -0.08237163366538652,
          -0.09918801693094444,
          -0.6528075915393659,
          -0.13398613835358666,
          -0.17352095686266147,
          -0.356013218133629,
          -0.14243023240676086,
          -0.7408701629484372,
          0.28288906462095237,
          0.09043070755124846,
          1.0942511146426088,
          0.419667137187695,
          0.003579237145472404,
          0.1388874135745922,
          -0.12822740447480266,
          -0.4786273001692802,
          -0.042832191765780764,
          -0.4053042904730313,
          -1.2105701822752646,
          -0.2575631304177082,
          -0.7746180639335777,
          -0.6459471729661109,
          0.7731888206866431,
          -0.4400315700061361,
          -0.5842101163530341,
          -0.10549848804472615,
          -0.12511668410568574,
          -0.8334558309284165,
          0.37619000866071045,
          -0.270008510558587,
          -0.19236955155847843,
          -0.209364941223389,
          -0.4145203834985675,
          -0.43359289266164897,
          -0.4004122015094577,
          0.24842550021772986,
          -0.37040874535786694,
          0.293391580005106,
          -1.2141296000093784,
          -0.2811924860169015,
          -0.42806376537706325,
          -0.3501942088378932,
          -0.15578121632955075,
          -0.18818750763816597,
          0.035871611365165944,
          -0.5995289957231322,
          -0.3460684859290804,
          0.3269582482607024,
          -0.39177290807990456,
          1.387702542239655,
          -0.6114500814591651,
          -0.28796577242173677,
          0.46143373309901187,
          -0.5727204984143228,
          -0.3055255245444745,
          0.024071942767618072,
          -0.4262630545799717,
          -0.40903327621563085,
          0.5081775482917331,
          -0.7097846276097526,
          -0.4770637337672416,
          -0.613378156718764,
          -0.9626379844672813,
          -0.5717992238831618,
          -0.4306037406493081,
          -0.5939939964077988,
          -0.29326461418432953,
          -0.32165631333173766,
          -0.6789057478580026,
          -0.4007334276808988,
          -1.1337688297717692,
          -0.42580789998400836,
          -0.8650044095944757,
          -0.6710130593561886,
          -1.1914579981543993,
          -0.705683029415022,
          -0.3521031143521687,
          -0.3220301399312587,
          -0.573391971070993,
          -0.35482625839172066,
          -0.5803862758806242,
          -0.38232179310871056,
          -0.1814963797559567,
          0.042066811777088355,
          -1.3789000874562813,
          -0.4399258108395932,
          0.04308091373199442,
          -0.09115664637269466,
          0.14090428562549562,
          -0.3570289728198585,
          -0.9305134307381666,
          -0.7896742814449806,
          -0.41467970937302673,
          -1.1573556383300816,
          -0.15160011968469717,
          0.30224238755404087,
          -0.4066067638399145,
          -0.45230832874695437,
          -0.26661963085752893,
          -0.09717413177759933,
          -0.07496729775670093,
          -0.4164290743057382,
          -0.4094607980764333,
          -0.2786213299220051,
          -0.2430089959888342,
          -0.3898957962724624,
          0.21216376772705453,
          -0.0658294111118848,
          -0.09074058996262176,
          -0.14171798843727695,
          -1.3132676714453895,
          -1.2381065989476565,
          -0.2652065859126615,
          -1.1536757152021926,
          -0.16578589221528295,
          0.08402772301798386,
          -1.2012654135604264,
          -0.016336011223977962,
          -0.044669255755919283,
          -0.031228237795088747,
          -0.4629041650659062,
          -0.7046456205822893,
          -0.7596945520123352,
          -1.43240039453072
         ]
        },
        {
         "hovertemplate": "color=1<br>PC1=%{x}<br>PC2=%{y}<br>PC3=%{z}<extra></extra>",
         "legendgroup": "1",
         "marker": {
          "color": "rgb(141,160,203)",
          "symbol": "circle"
         },
         "mode": "markers",
         "name": "1",
         "scene": "scene",
         "showlegend": true,
         "type": "scatter3d",
         "x": [
          4.262297469534746,
          1.8752344984487133,
          10.516490794546767,
          4.716918854817896,
          4.053090430067982,
          4.884085549801231,
          2.818195902972936,
          3.2218922541826363,
          4.082213184829787,
          2.3196236939427446,
          6.551532078761788,
          4.35040489807063,
          4.817736472791717,
          3.3853419312094757,
          6.894491337904692,
          2.7191581208893623,
          3.870878482555446,
          2.8327936071254203,
          7.616831445607526,
          2.93060340367299,
          13.955347822289287,
          4.813360533665425,
          4.217249941812235,
          3.526066068173804,
          5.550930928846448,
          4.581531904621445,
          3.9874211440405474,
          3.5124303762038735,
          14.345268950525362,
          4.1904734196731885,
          5.0243680988493855,
          2.7665114625515326,
          7.581795362741754,
          5.204366141428511,
          3.986771286953418,
          2.9760115177938995,
          2.7865981770773662,
          5.533730541346971
         ],
         "y": [
          0.2295993697407338,
          -1.1622504202710506,
          5.786297636972121,
          0.4027226978870512,
          0.3768249897618431,
          -0.24236536092997543,
          -0.5031278297013727,
          -0.6127013053577077,
          -0.17714164742115904,
          1.3666620205483522,
          -0.06847917779675547,
          -0.3736390166837609,
          -0.10282068122069848,
          -1.5347614080566803,
          -0.8252547074056267,
          1.0426240811024525,
          0.6455044284265493,
          1.2554534074960766,
          2.451455986615867,
          0.5764041073853802,
          1.9525316021895454,
          2.4211405275551114,
          1.0053053269556922,
          -1.1058301540042497,
          1.0147162481741085,
          -0.8520550449884066,
          1.1212312639066113,
          -1.614699210966609,
          -1.7094717848134338,
          4.806600706175725,
          -0.28093948620252446,
          -0.40224252447396824,
          0.9752413224284627,
          1.8853703101570582,
          0.7347103808617357,
          0.45409145476141255,
          -0.2981344731411343,
          1.1646710542857965
         ],
         "z": [
          -0.6080099436282126,
          -1.0543239808189828,
          0.3027381254619478,
          -0.5396066616763855,
          -0.3133298321612882,
          -0.040525309520983425,
          -0.028566568087723204,
          -0.9006552152057548,
          -0.08199505634757603,
          -0.1569152835655148,
          0.22195303460595783,
          -0.7449571666085287,
          -0.7432879156747857,
          -1.3269901702932188,
          -1.372100087679346,
          -0.4601140902597454,
          -0.6725106394326049,
          -0.48514689045877585,
          -0.44473636073169676,
          -0.654625697058005,
          -0.7363215695268613,
          -0.1381265552533036,
          -0.11560950124364772,
          -1.2751623940324226,
          -0.354849448681672,
          -0.943877850601564,
          -0.48247192396451155,
          -1.3723310165698595,
          -1.9160561140253973,
          0.39672499260066074,
          -0.836262886136156,
          -0.2806558483762701,
          -0.795434375713243,
          -0.3269721905450859,
          -0.44349797264345814,
          -0.28588018968643397,
          -0.5008289532194573,
          -0.6208912055716932
         ]
        }
       ],
       "layout": {
        "legend": {
         "title": {
          "text": "color"
         },
         "tracegroupgap": 0
        },
        "margin": {
         "t": 60
        },
        "scene": {
         "domain": {
          "x": [
           0,
           1
          ],
          "y": [
           0,
           1
          ]
         },
         "xaxis": {
          "title": {
           "text": "PC1"
          }
         },
         "yaxis": {
          "title": {
           "text": "PC2"
          }
         },
         "zaxis": {
          "title": {
           "text": "PC3"
          }
         }
        },
        "template": {
         "data": {
          "bar": [
           {
            "error_x": {
             "color": "#2a3f5f"
            },
            "error_y": {
             "color": "#2a3f5f"
            },
            "marker": {
             "line": {
              "color": "white",
              "width": 0.5
             },
             "pattern": {
              "fillmode": "overlay",
              "size": 10,
              "solidity": 0.2
             }
            },
            "type": "bar"
           }
          ],
          "barpolar": [
           {
            "marker": {
             "line": {
              "color": "white",
              "width": 0.5
             },
             "pattern": {
              "fillmode": "overlay",
              "size": 10,
              "solidity": 0.2
             }
            },
            "type": "barpolar"
           }
          ],
          "carpet": [
           {
            "aaxis": {
             "endlinecolor": "#2a3f5f",
             "gridcolor": "#C8D4E3",
             "linecolor": "#C8D4E3",
             "minorgridcolor": "#C8D4E3",
             "startlinecolor": "#2a3f5f"
            },
            "baxis": {
             "endlinecolor": "#2a3f5f",
             "gridcolor": "#C8D4E3",
             "linecolor": "#C8D4E3",
             "minorgridcolor": "#C8D4E3",
             "startlinecolor": "#2a3f5f"
            },
            "type": "carpet"
           }
          ],
          "choropleth": [
           {
            "colorbar": {
             "outlinewidth": 0,
             "ticks": ""
            },
            "type": "choropleth"
           }
          ],
          "contour": [
           {
            "colorbar": {
             "outlinewidth": 0,
             "ticks": ""
            },
            "colorscale": [
             [
              0,
              "#0d0887"
             ],
             [
              0.1111111111111111,
              "#46039f"
             ],
             [
              0.2222222222222222,
              "#7201a8"
             ],
             [
              0.3333333333333333,
              "#9c179e"
             ],
             [
              0.4444444444444444,
              "#bd3786"
             ],
             [
              0.5555555555555556,
              "#d8576b"
             ],
             [
              0.6666666666666666,
              "#ed7953"
             ],
             [
              0.7777777777777778,
              "#fb9f3a"
             ],
             [
              0.8888888888888888,
              "#fdca26"
             ],
             [
              1,
              "#f0f921"
             ]
            ],
            "type": "contour"
           }
          ],
          "contourcarpet": [
           {
            "colorbar": {
             "outlinewidth": 0,
             "ticks": ""
            },
            "type": "contourcarpet"
           }
          ],
          "heatmap": [
           {
            "colorbar": {
             "outlinewidth": 0,
             "ticks": ""
            },
            "colorscale": [
             [
              0,
              "#0d0887"
             ],
             [
              0.1111111111111111,
              "#46039f"
             ],
             [
              0.2222222222222222,
              "#7201a8"
             ],
             [
              0.3333333333333333,
              "#9c179e"
             ],
             [
              0.4444444444444444,
              "#bd3786"
             ],
             [
              0.5555555555555556,
              "#d8576b"
             ],
             [
              0.6666666666666666,
              "#ed7953"
             ],
             [
              0.7777777777777778,
              "#fb9f3a"
             ],
             [
              0.8888888888888888,
              "#fdca26"
             ],
             [
              1,
              "#f0f921"
             ]
            ],
            "type": "heatmap"
           }
          ],
          "heatmapgl": [
           {
            "colorbar": {
             "outlinewidth": 0,
             "ticks": ""
            },
            "colorscale": [
             [
              0,
              "#0d0887"
             ],
             [
              0.1111111111111111,
              "#46039f"
             ],
             [
              0.2222222222222222,
              "#7201a8"
             ],
             [
              0.3333333333333333,
              "#9c179e"
             ],
             [
              0.4444444444444444,
              "#bd3786"
             ],
             [
              0.5555555555555556,
              "#d8576b"
             ],
             [
              0.6666666666666666,
              "#ed7953"
             ],
             [
              0.7777777777777778,
              "#fb9f3a"
             ],
             [
              0.8888888888888888,
              "#fdca26"
             ],
             [
              1,
              "#f0f921"
             ]
            ],
            "type": "heatmapgl"
           }
          ],
          "histogram": [
           {
            "marker": {
             "pattern": {
              "fillmode": "overlay",
              "size": 10,
              "solidity": 0.2
             }
            },
            "type": "histogram"
           }
          ],
          "histogram2d": [
           {
            "colorbar": {
             "outlinewidth": 0,
             "ticks": ""
            },
            "colorscale": [
             [
              0,
              "#0d0887"
             ],
             [
              0.1111111111111111,
              "#46039f"
             ],
             [
              0.2222222222222222,
              "#7201a8"
             ],
             [
              0.3333333333333333,
              "#9c179e"
             ],
             [
              0.4444444444444444,
              "#bd3786"
             ],
             [
              0.5555555555555556,
              "#d8576b"
             ],
             [
              0.6666666666666666,
              "#ed7953"
             ],
             [
              0.7777777777777778,
              "#fb9f3a"
             ],
             [
              0.8888888888888888,
              "#fdca26"
             ],
             [
              1,
              "#f0f921"
             ]
            ],
            "type": "histogram2d"
           }
          ],
          "histogram2dcontour": [
           {
            "colorbar": {
             "outlinewidth": 0,
             "ticks": ""
            },
            "colorscale": [
             [
              0,
              "#0d0887"
             ],
             [
              0.1111111111111111,
              "#46039f"
             ],
             [
              0.2222222222222222,
              "#7201a8"
             ],
             [
              0.3333333333333333,
              "#9c179e"
             ],
             [
              0.4444444444444444,
              "#bd3786"
             ],
             [
              0.5555555555555556,
              "#d8576b"
             ],
             [
              0.6666666666666666,
              "#ed7953"
             ],
             [
              0.7777777777777778,
              "#fb9f3a"
             ],
             [
              0.8888888888888888,
              "#fdca26"
             ],
             [
              1,
              "#f0f921"
             ]
            ],
            "type": "histogram2dcontour"
           }
          ],
          "mesh3d": [
           {
            "colorbar": {
             "outlinewidth": 0,
             "ticks": ""
            },
            "type": "mesh3d"
           }
          ],
          "parcoords": [
           {
            "line": {
             "colorbar": {
              "outlinewidth": 0,
              "ticks": ""
             }
            },
            "type": "parcoords"
           }
          ],
          "pie": [
           {
            "automargin": true,
            "type": "pie"
           }
          ],
          "scatter": [
           {
            "fillpattern": {
             "fillmode": "overlay",
             "size": 10,
             "solidity": 0.2
            },
            "type": "scatter"
           }
          ],
          "scatter3d": [
           {
            "line": {
             "colorbar": {
              "outlinewidth": 0,
              "ticks": ""
             }
            },
            "marker": {
             "colorbar": {
              "outlinewidth": 0,
              "ticks": ""
             }
            },
            "type": "scatter3d"
           }
          ],
          "scattercarpet": [
           {
            "marker": {
             "colorbar": {
              "outlinewidth": 0,
              "ticks": ""
             }
            },
            "type": "scattercarpet"
           }
          ],
          "scattergeo": [
           {
            "marker": {
             "colorbar": {
              "outlinewidth": 0,
              "ticks": ""
             }
            },
            "type": "scattergeo"
           }
          ],
          "scattergl": [
           {
            "marker": {
             "colorbar": {
              "outlinewidth": 0,
              "ticks": ""
             }
            },
            "type": "scattergl"
           }
          ],
          "scattermapbox": [
           {
            "marker": {
             "colorbar": {
              "outlinewidth": 0,
              "ticks": ""
             }
            },
            "type": "scattermapbox"
           }
          ],
          "scatterpolar": [
           {
            "marker": {
             "colorbar": {
              "outlinewidth": 0,
              "ticks": ""
             }
            },
            "type": "scatterpolar"
           }
          ],
          "scatterpolargl": [
           {
            "marker": {
             "colorbar": {
              "outlinewidth": 0,
              "ticks": ""
             }
            },
            "type": "scatterpolargl"
           }
          ],
          "scatterternary": [
           {
            "marker": {
             "colorbar": {
              "outlinewidth": 0,
              "ticks": ""
             }
            },
            "type": "scatterternary"
           }
          ],
          "surface": [
           {
            "colorbar": {
             "outlinewidth": 0,
             "ticks": ""
            },
            "colorscale": [
             [
              0,
              "#0d0887"
             ],
             [
              0.1111111111111111,
              "#46039f"
             ],
             [
              0.2222222222222222,
              "#7201a8"
             ],
             [
              0.3333333333333333,
              "#9c179e"
             ],
             [
              0.4444444444444444,
              "#bd3786"
             ],
             [
              0.5555555555555556,
              "#d8576b"
             ],
             [
              0.6666666666666666,
              "#ed7953"
             ],
             [
              0.7777777777777778,
              "#fb9f3a"
             ],
             [
              0.8888888888888888,
              "#fdca26"
             ],
             [
              1,
              "#f0f921"
             ]
            ],
            "type": "surface"
           }
          ],
          "table": [
           {
            "cells": {
             "fill": {
              "color": "#EBF0F8"
             },
             "line": {
              "color": "white"
             }
            },
            "header": {
             "fill": {
              "color": "#C8D4E3"
             },
             "line": {
              "color": "white"
             }
            },
            "type": "table"
           }
          ]
         },
         "layout": {
          "annotationdefaults": {
           "arrowcolor": "#2a3f5f",
           "arrowhead": 0,
           "arrowwidth": 1
          },
          "autotypenumbers": "strict",
          "coloraxis": {
           "colorbar": {
            "outlinewidth": 0,
            "ticks": ""
           }
          },
          "colorscale": {
           "diverging": [
            [
             0,
             "#8e0152"
            ],
            [
             0.1,
             "#c51b7d"
            ],
            [
             0.2,
             "#de77ae"
            ],
            [
             0.3,
             "#f1b6da"
            ],
            [
             0.4,
             "#fde0ef"
            ],
            [
             0.5,
             "#f7f7f7"
            ],
            [
             0.6,
             "#e6f5d0"
            ],
            [
             0.7,
             "#b8e186"
            ],
            [
             0.8,
             "#7fbc41"
            ],
            [
             0.9,
             "#4d9221"
            ],
            [
             1,
             "#276419"
            ]
           ],
           "sequential": [
            [
             0,
             "#0d0887"
            ],
            [
             0.1111111111111111,
             "#46039f"
            ],
            [
             0.2222222222222222,
             "#7201a8"
            ],
            [
             0.3333333333333333,
             "#9c179e"
            ],
            [
             0.4444444444444444,
             "#bd3786"
            ],
            [
             0.5555555555555556,
             "#d8576b"
            ],
            [
             0.6666666666666666,
             "#ed7953"
            ],
            [
             0.7777777777777778,
             "#fb9f3a"
            ],
            [
             0.8888888888888888,
             "#fdca26"
            ],
            [
             1,
             "#f0f921"
            ]
           ],
           "sequentialminus": [
            [
             0,
             "#0d0887"
            ],
            [
             0.1111111111111111,
             "#46039f"
            ],
            [
             0.2222222222222222,
             "#7201a8"
            ],
            [
             0.3333333333333333,
             "#9c179e"
            ],
            [
             0.4444444444444444,
             "#bd3786"
            ],
            [
             0.5555555555555556,
             "#d8576b"
            ],
            [
             0.6666666666666666,
             "#ed7953"
            ],
            [
             0.7777777777777778,
             "#fb9f3a"
            ],
            [
             0.8888888888888888,
             "#fdca26"
            ],
            [
             1,
             "#f0f921"
            ]
           ]
          },
          "colorway": [
           "#636efa",
           "#EF553B",
           "#00cc96",
           "#ab63fa",
           "#FFA15A",
           "#19d3f3",
           "#FF6692",
           "#B6E880",
           "#FF97FF",
           "#FECB52"
          ],
          "font": {
           "color": "#2a3f5f"
          },
          "geo": {
           "bgcolor": "white",
           "lakecolor": "white",
           "landcolor": "white",
           "showlakes": true,
           "showland": true,
           "subunitcolor": "#C8D4E3"
          },
          "hoverlabel": {
           "align": "left"
          },
          "hovermode": "closest",
          "mapbox": {
           "style": "light"
          },
          "paper_bgcolor": "white",
          "plot_bgcolor": "white",
          "polar": {
           "angularaxis": {
            "gridcolor": "#EBF0F8",
            "linecolor": "#EBF0F8",
            "ticks": ""
           },
           "bgcolor": "white",
           "radialaxis": {
            "gridcolor": "#EBF0F8",
            "linecolor": "#EBF0F8",
            "ticks": ""
           }
          },
          "scene": {
           "xaxis": {
            "backgroundcolor": "white",
            "gridcolor": "#DFE8F3",
            "gridwidth": 2,
            "linecolor": "#EBF0F8",
            "showbackground": true,
            "ticks": "",
            "zerolinecolor": "#EBF0F8"
           },
           "yaxis": {
            "backgroundcolor": "white",
            "gridcolor": "#DFE8F3",
            "gridwidth": 2,
            "linecolor": "#EBF0F8",
            "showbackground": true,
            "ticks": "",
            "zerolinecolor": "#EBF0F8"
           },
           "zaxis": {
            "backgroundcolor": "white",
            "gridcolor": "#DFE8F3",
            "gridwidth": 2,
            "linecolor": "#EBF0F8",
            "showbackground": true,
            "ticks": "",
            "zerolinecolor": "#EBF0F8"
           }
          },
          "shapedefaults": {
           "line": {
            "color": "#2a3f5f"
           }
          },
          "ternary": {
           "aaxis": {
            "gridcolor": "#DFE8F3",
            "linecolor": "#A2B1C6",
            "ticks": ""
           },
           "baxis": {
            "gridcolor": "#DFE8F3",
            "linecolor": "#A2B1C6",
            "ticks": ""
           },
           "bgcolor": "white",
           "caxis": {
            "gridcolor": "#DFE8F3",
            "linecolor": "#A2B1C6",
            "ticks": ""
           }
          },
          "title": {
           "x": 0.05
          },
          "xaxis": {
           "automargin": true,
           "gridcolor": "#EBF0F8",
           "linecolor": "#EBF0F8",
           "ticks": "",
           "title": {
            "standoff": 15
           },
           "zerolinecolor": "#EBF0F8",
           "zerolinewidth": 2
          },
          "yaxis": {
           "automargin": true,
           "gridcolor": "#EBF0F8",
           "linecolor": "#EBF0F8",
           "ticks": "",
           "title": {
            "standoff": 15
           },
           "zerolinecolor": "#EBF0F8",
           "zerolinewidth": 2
          }
         }
        },
        "title": {
         "text": "PCA 기반 3D 클러스터 시각화 (4D 축소)",
         "x": 0.5
        }
       }
      }
     },
     "metadata": {},
     "output_type": "display_data"
    }
   ],
   "source": [
    "import pandas as pd\n",
    "import numpy as np\n",
    "from sklearn.preprocessing import StandardScaler\n",
    "from sklearn.cluster import KMeans\n",
    "from sklearn.metrics import silhouette_score\n",
    "from sklearn.decomposition import PCA\n",
    "from sklearn.manifold import TSNE\n",
    "import plotly.express as px\n",
    "\n",
    "optimal_k = 3\n",
    "print(f\"Best K: {optimal_k}, Silhouette Score: {max(silhouette_scores):.3f}\")\n",
    "\n",
    "# --- 4. 최적 K로 클러스터링 ---\n",
    "kmeans = KMeans(n_clusters=optimal_k, random_state=42)\n",
    "cluster_labels = kmeans.fit_predict(X_scaled)\n",
    "\n",
    "from sklearn.decomposition import PCA\n",
    "\n",
    "pca_3d = PCA(n_components=3)\n",
    "X_pca3d = pca_3d.fit_transform(X_scaled)\n",
    "\n",
    "pca_df3d = pd.DataFrame(X_pca3d, columns=['PC1', 'PC2', 'PC3'])\n",
    "pca_df3d['클러스터'] = cluster_labels\n",
    "\n",
    "fig_pca3d = px.scatter_3d(\n",
    "    pca_df3d,\n",
    "    x='PC1',\n",
    "    y='PC2',\n",
    "    z='PC3',\n",
    "    color=pca_df3d['클러스터'].astype(str),\n",
    "    color_discrete_sequence=px.colors.qualitative.Set2\n",
    ")\n",
    "fig_pca3d.update_layout(template='plotly_white',\n",
    "                        title=dict(text='PCA 기반 3D 클러스터 시각화 (4D 축소)',\n",
    "                                   x=0.5)\n",
    ")\n",
    "fig_pca3d.show()\n"
   ]
  },
  {
   "cell_type": "code",
   "execution_count": 25,
   "id": "822cfa4f",
   "metadata": {},
   "outputs": [
    {
     "data": {
      "image/png": "[encoded data removed]",
      "text/plain": [
       "<Figure size 1600x400 with 4 Axes>"
      ]
     },
     "metadata": {},
     "output_type": "display_data"
    }
   ],
   "source": [
    "def visualize_silhouette(cluster_lists, X_features): \n",
    "    \n",
    "    from sklearn.datasets import make_blobs\n",
    "    from sklearn.cluster import KMeans\n",
    "    from sklearn.metrics import silhouette_samples, silhouette_score\n",
    "\n",
    "    import matplotlib.pyplot as plt\n",
    "    import matplotlib.cm as cm\n",
    "    import math\n",
    "    \n",
    "    # 입력값으로 클러스터링 갯수들을 리스트로 받아서, 각 갯수별로 클러스터링을 적용하고 실루엣 개수를 구함\n",
    "    n_cols = len(cluster_lists)\n",
    "    \n",
    "    # plt.subplots()으로 리스트에 기재된 클러스터링 수만큼의 sub figures를 가지는 axs 생성 \n",
    "    fig, axs = plt.subplots(figsize=(4*n_cols, 4), nrows=1, ncols=n_cols)\n",
    "    \n",
    "    # 리스트에 기재된 클러스터링 갯수들을 차례로 iteration 수행하면서 실루엣 개수 시각화\n",
    "    for ind, n_cluster in enumerate(cluster_lists):\n",
    "        \n",
    "        # KMeans 클러스터링 수행하고, 실루엣 스코어와 개별 데이터의 실루엣 값 계산. \n",
    "        clusterer = KMeans(n_clusters = n_cluster, max_iter=300, random_state=42)\n",
    "        cluster_labels = clusterer.fit_predict(X_features)\n",
    "        \n",
    "        sil_avg = silhouette_score(X_features, cluster_labels)\n",
    "        sil_values = silhouette_samples(X_features, cluster_labels)\n",
    "        \n",
    "        y_lower = 10\n",
    "        axs[ind].set_title('Number of Cluster : '+ str(n_cluster)+'\\n' \\\n",
    "                          'Silhouette Score :' + str(round(sil_avg,3)) )\n",
    "        axs[ind].set_xlabel(\"The silhouette coefficient values\")\n",
    "        axs[ind].set_ylabel(\"Cluster label\")\n",
    "        axs[ind].set_xlim([-0.1, 1])\n",
    "        axs[ind].set_ylim([0, len(X_features) + (n_cluster + 1) * 10])\n",
    "        axs[ind].set_yticks([])  # Clear the yaxis labels / ticks\n",
    "        axs[ind].set_xticks([0, 0.2, 0.4, 0.6, 0.8, 1])\n",
    "        \n",
    "        # 클러스터링 갯수별로 fill_betweenx( )형태의 막대 그래프 표현. \n",
    "        for i in range(n_cluster):\n",
    "            ith_cluster_sil_values = sil_values[cluster_labels==i]\n",
    "            ith_cluster_sil_values.sort()\n",
    "            \n",
    "            size_cluster_i = ith_cluster_sil_values.shape[0]\n",
    "            y_upper = y_lower + size_cluster_i\n",
    "            \n",
    "            color = cm.nipy_spectral(float(i) / n_cluster)\n",
    "            axs[ind].fill_betweenx(np.arange(y_lower, y_upper), 0, ith_cluster_sil_values, \\\n",
    "                                facecolor=color, edgecolor=color, alpha=0.7)\n",
    "            axs[ind].text(-0.05, y_lower + 0.5 * size_cluster_i, str(i))\n",
    "            y_lower = y_upper + 10\n",
    "            \n",
    "        axs[ind].axvline(x=sil_avg, color=\"red\", linestyle=\"--\")\n",
    "\n",
    "from sklearn.datasets import make_blobs\n",
    "X, y = make_blobs(n_samples=500, n_features=2, centers=4, cluster_std=1, \\\n",
    "                  center_box=(-10.0, 10.0), shuffle=True, random_state=1)  \n",
    "\n",
    "# cluster 개수를 2개, 3개, 4개, 5개 일때의 클러스터별 실루엣 계수 평균값을 시각화 \n",
    "visualize_silhouette([ 2, 3, 4, 5], X_scaled)\n"
   ]
  },
  {
   "cell_type": "code",
   "execution_count": 26,
   "id": "fff92ec3",
   "metadata": {},
   "outputs": [
    {
     "name": "stdout",
     "output_type": "stream",
     "text": [
      "📌 클러스터별 중심 (스케일 기준):\n"
     ]
    },
    {
     "data": {
      "text/html": [
       "<div>\n",
       "<style scoped>\n",
       "    .dataframe tbody tr th:only-of-type {\n",
       "        vertical-align: middle;\n",
       "    }\n",
       "\n",
       "    .dataframe tbody tr th {\n",
       "        vertical-align: top;\n",
       "    }\n",
       "\n",
       "    .dataframe thead th {\n",
       "        text-align: right;\n",
       "    }\n",
       "</style>\n",
       "<table border=\"1\" class=\"dataframe\">\n",
       "  <thead>\n",
       "    <tr style=\"text-align: right;\">\n",
       "      <th></th>\n",
       "      <th>coupon_used_ratio</th>\n",
       "      <th>주문당 평균 금액</th>\n",
       "      <th>총 주문 수</th>\n",
       "      <th>주문당 평균 수량</th>\n",
       "      <th>cluster</th>\n",
       "    </tr>\n",
       "  </thead>\n",
       "  <tbody>\n",
       "    <tr>\n",
       "      <th>0</th>\n",
       "      <td>-0.011254</td>\n",
       "      <td>-0.062133</td>\n",
       "      <td>-0.180412</td>\n",
       "      <td>-0.272478</td>\n",
       "      <td>0</td>\n",
       "    </tr>\n",
       "    <tr>\n",
       "      <th>1</th>\n",
       "      <td>0.069340</td>\n",
       "      <td>-0.317975</td>\n",
       "      <td>1.072274</td>\n",
       "      <td>1.620919</td>\n",
       "      <td>1</td>\n",
       "    </tr>\n",
       "    <tr>\n",
       "      <th>2</th>\n",
       "      <td>-0.016843</td>\n",
       "      <td>4.909250</td>\n",
       "      <td>0.010571</td>\n",
       "      <td>0.005616</td>\n",
       "      <td>2</td>\n",
       "    </tr>\n",
       "  </tbody>\n",
       "</table>\n",
       "</div>"
      ],
      "text/plain": [
       "   coupon_used_ratio  주문당 평균 금액    총 주문 수  주문당 평균 수량  cluster\n",
       "0          -0.011254  -0.062133 -0.180412  -0.272478        0\n",
       "1           0.069340  -0.317975  1.072274   1.620919        1\n",
       "2          -0.016843   4.909250  0.010571   0.005616        2"
      ]
     },
     "metadata": {},
     "output_type": "display_data"
    },
    {
     "name": "stdout",
     "output_type": "stream",
     "text": [
      "📌 클러스터별 평균값 (해석 가능한 원본 값 기준):\n"
     ]
    },
    {
     "data": {
      "text/html": [
       "<div>\n",
       "<style scoped>\n",
       "    .dataframe tbody tr th:only-of-type {\n",
       "        vertical-align: middle;\n",
       "    }\n",
       "\n",
       "    .dataframe tbody tr th {\n",
       "        vertical-align: top;\n",
       "    }\n",
       "\n",
       "    .dataframe thead th {\n",
       "        text-align: right;\n",
       "    }\n",
       "</style>\n",
       "<table border=\"1\" class=\"dataframe\">\n",
       "  <thead>\n",
       "    <tr style=\"text-align: right;\">\n",
       "      <th></th>\n",
       "      <th>cluster</th>\n",
       "      <th>coupon_used_ratio</th>\n",
       "      <th>주문당 평균 금액</th>\n",
       "      <th>총 주문 수</th>\n",
       "      <th>주문당 평균 수량</th>\n",
       "    </tr>\n",
       "  </thead>\n",
       "  <tbody>\n",
       "    <tr>\n",
       "      <th>0</th>\n",
       "      <td>0</td>\n",
       "      <td>0.337284</td>\n",
       "      <td>75.946055</td>\n",
       "      <td>87.996753</td>\n",
       "      <td>3.277107</td>\n",
       "    </tr>\n",
       "    <tr>\n",
       "      <th>1</th>\n",
       "      <td>1</td>\n",
       "      <td>0.351016</td>\n",
       "      <td>185.001412</td>\n",
       "      <td>53.053140</td>\n",
       "      <td>12.551773</td>\n",
       "    </tr>\n",
       "    <tr>\n",
       "      <th>2</th>\n",
       "      <td>2</td>\n",
       "      <td>0.336332</td>\n",
       "      <td>91.963662</td>\n",
       "      <td>767.000000</td>\n",
       "      <td>4.691111</td>\n",
       "    </tr>\n",
       "  </tbody>\n",
       "</table>\n",
       "</div>"
      ],
      "text/plain": [
       "   cluster  coupon_used_ratio   주문당 평균 금액      총 주문 수  주문당 평균 수량\n",
       "0        0           0.337284   75.946055   87.996753   3.277107\n",
       "1        1           0.351016  185.001412   53.053140  12.551773\n",
       "2        2           0.336332   91.963662  767.000000   4.691111"
      ]
     },
     "metadata": {},
     "output_type": "display_data"
    }
   ],
   "source": [
    "import pandas as pd\n",
    "from sklearn.cluster import KMeans\n",
    "\n",
    "def cluster_centroid_summary(X_scaled, original_df, feature_names, n_clusters):\n",
    "    model = KMeans(n_clusters=n_clusters, random_state=0)\n",
    "    labels = model.fit_predict(X_scaled)\n",
    "    centroids = model.cluster_centers_\n",
    "\n",
    "    df_centroids = pd.DataFrame(centroids, columns=feature_names)\n",
    "    df_centroids['cluster'] = range(n_clusters)\n",
    "\n",
    "    # 클러스터별 평균도 같이 비교\n",
    "    df_original = original_df.copy()\n",
    "    df_original['cluster'] = labels\n",
    "    df_mean = df_original.groupby('cluster')[feature_names].mean().reset_index()\n",
    "\n",
    "    return df_centroids, df_mean\n",
    "\n",
    "feature_names = ['coupon_used_ratio', \n",
    "                  '주문당 평균 금액', '총 주문 수', '주문당 평균 수량']\n",
    "\n",
    "centroids_scaled, centroids_original = cluster_centroid_summary(\n",
    "    X_scaled, customer, feature_names, n_clusters=3\n",
    ")\n",
    "\n",
    "print(\"📌 클러스터별 중심 (스케일 기준):\")\n",
    "display(centroids_scaled)\n",
    "\n",
    "print(\"📌 클러스터별 평균값 (해석 가능한 원본 값 기준):\")\n",
    "display(centroids_original)\n",
    "\n"
   ]
  },
  {
   "cell_type": "code",
   "execution_count": 27,
   "id": "1383707d",
   "metadata": {},
   "outputs": [
    {
     "data": {
      "application/vnd.plotly.v1+json": {
       "config": {
        "plotlyServerURL": "https://plot.ly"
       },
       "data": [
        {
         "domain": {
          "x": [
           0,
           1
          ],
          "y": [
           0,
           1
          ]
         },
         "hovertemplate": "segment=%{label}<br>ratio=%{value}<extra></extra>",
         "labels": [
          "일반 고객",
          "대량 구매 고객",
          "충성 고객"
         ],
         "legendgroup": "",
         "name": "",
         "showlegend": true,
         "textinfo": "percent+label",
         "type": "pie",
         "values": [
          83.92370572207084,
          14.100817438692099,
          1.9754768392370572
         ]
        }
       ],
       "layout": {
        "legend": {
         "tracegroupgap": 0
        },
        "margin": {
         "t": 60
        },
        "template": {
         "data": {
          "bar": [
           {
            "error_x": {
             "color": "#2a3f5f"
            },
            "error_y": {
             "color": "#2a3f5f"
            },
            "marker": {
             "line": {
              "color": "#E5ECF6",
              "width": 0.5
             },
             "pattern": {
              "fillmode": "overlay",
              "size": 10,
              "solidity": 0.2
             }
            },
            "type": "bar"
           }
          ],
          "barpolar": [
           {
            "marker": {
             "line": {
              "color": "#E5ECF6",
              "width": 0.5
             },
             "pattern": {
              "fillmode": "overlay",
              "size": 10,
              "solidity": 0.2
             }
            },
            "type": "barpolar"
           }
          ],
          "carpet": [
           {
            "aaxis": {
             "endlinecolor": "#2a3f5f",
             "gridcolor": "white",
             "linecolor": "white",
             "minorgridcolor": "white",
             "startlinecolor": "#2a3f5f"
            },
            "baxis": {
             "endlinecolor": "#2a3f5f",
             "gridcolor": "white",
             "linecolor": "white",
             "minorgridcolor": "white",
             "startlinecolor": "#2a3f5f"
            },
            "type": "carpet"
           }
          ],
          "choropleth": [
           {
            "colorbar": {
             "outlinewidth": 0,
             "ticks": ""
            },
            "type": "choropleth"
           }
          ],
          "contour": [
           {
            "colorbar": {
             "outlinewidth": 0,
             "ticks": ""
            },
            "colorscale": [
             [
              0,
              "#0d0887"
             ],
             [
              0.1111111111111111,
              "#46039f"
             ],
             [
              0.2222222222222222,
              "#7201a8"
             ],
             [
              0.3333333333333333,
              "#9c179e"
             ],
             [
              0.4444444444444444,
              "#bd3786"
             ],
             [
              0.5555555555555556,
              "#d8576b"
             ],
             [
              0.6666666666666666,
              "#ed7953"
             ],
             [
              0.7777777777777778,
              "#fb9f3a"
             ],
             [
              0.8888888888888888,
              "#fdca26"
             ],
             [
              1,
              "#f0f921"
             ]
            ],
            "type": "contour"
           }
          ],
          "contourcarpet": [
           {
            "colorbar": {
             "outlinewidth": 0,
             "ticks": ""
            },
            "type": "contourcarpet"
           }
          ],
          "heatmap": [
           {
            "colorbar": {
             "outlinewidth": 0,
             "ticks": ""
            },
            "colorscale": [
             [
              0,
              "#0d0887"
             ],
             [
              0.1111111111111111,
              "#46039f"
             ],
             [
              0.2222222222222222,
              "#7201a8"
             ],
             [
              0.3333333333333333,
              "#9c179e"
             ],
             [
              0.4444444444444444,
              "#bd3786"
             ],
             [
              0.5555555555555556,
              "#d8576b"
             ],
             [
              0.6666666666666666,
              "#ed7953"
             ],
             [
              0.7777777777777778,
              "#fb9f3a"
             ],
             [
              0.8888888888888888,
              "#fdca26"
             ],
             [
              1,
              "#f0f921"
             ]
            ],
            "type": "heatmap"
           }
          ],
          "heatmapgl": [
           {
            "colorbar": {
             "outlinewidth": 0,
             "ticks": ""
            },
            "colorscale": [
             [
              0,
              "#0d0887"
             ],
             [
              0.1111111111111111,
              "#46039f"
             ],
             [
              0.2222222222222222,
              "#7201a8"
             ],
             [
              0.3333333333333333,
              "#9c179e"
             ],
             [
              0.4444444444444444,
              "#bd3786"
             ],
             [
              0.5555555555555556,
              "#d8576b"
             ],
             [
              0.6666666666666666,
              "#ed7953"
             ],
             [
              0.7777777777777778,
              "#fb9f3a"
             ],
             [
              0.8888888888888888,
              "#fdca26"
             ],
             [
              1,
              "#f0f921"
             ]
            ],
            "type": "heatmapgl"
           }
          ],
          "histogram": [
           {
            "marker": {
             "pattern": {
              "fillmode": "overlay",
              "size": 10,
              "solidity": 0.2
             }
            },
            "type": "histogram"
           }
          ],
          "histogram2d": [
           {
            "colorbar": {
             "outlinewidth": 0,
             "ticks": ""
            },
            "colorscale": [
             [
              0,
              "#0d0887"
             ],
             [
              0.1111111111111111,
              "#46039f"
             ],
             [
              0.2222222222222222,
              "#7201a8"
             ],
             [
              0.3333333333333333,
              "#9c179e"
             ],
             [
              0.4444444444444444,
              "#bd3786"
             ],
             [
              0.5555555555555556,
              "#d8576b"
             ],
             [
              0.6666666666666666,
              "#ed7953"
             ],
             [
              0.7777777777777778,
              "#fb9f3a"
             ],
             [
              0.8888888888888888,
              "#fdca26"
             ],
             [
              1,
              "#f0f921"
             ]
            ],
            "type": "histogram2d"
           }
          ],
          "histogram2dcontour": [
           {
            "colorbar": {
             "outlinewidth": 0,
             "ticks": ""
            },
            "colorscale": [
             [
              0,
              "#0d0887"
             ],
             [
              0.1111111111111111,
              "#46039f"
             ],
             [
              0.2222222222222222,
              "#7201a8"
             ],
             [
              0.3333333333333333,
              "#9c179e"
             ],
             [
              0.4444444444444444,
              "#bd3786"
             ],
             [
              0.5555555555555556,
              "#d8576b"
             ],
             [
              0.6666666666666666,
              "#ed7953"
             ],
             [
              0.7777777777777778,
              "#fb9f3a"
             ],
             [
              0.8888888888888888,
              "#fdca26"
             ],
             [
              1,
              "#f0f921"
             ]
            ],
            "type": "histogram2dcontour"
           }
          ],
          "mesh3d": [
           {
            "colorbar": {
             "outlinewidth": 0,
             "ticks": ""
            },
            "type": "mesh3d"
           }
          ],
          "parcoords": [
           {
            "line": {
             "colorbar": {
              "outlinewidth": 0,
              "ticks": ""
             }
            },
            "type": "parcoords"
           }
          ],
          "pie": [
           {
            "automargin": true,
            "type": "pie"
           }
          ],
          "scatter": [
           {
            "fillpattern": {
             "fillmode": "overlay",
             "size": 10,
             "solidity": 0.2
            },
            "type": "scatter"
           }
          ],
          "scatter3d": [
           {
            "line": {
             "colorbar": {
              "outlinewidth": 0,
              "ticks": ""
             }
            },
            "marker": {
             "colorbar": {
              "outlinewidth": 0,
              "ticks": ""
             }
            },
            "type": "scatter3d"
           }
          ],
          "scattercarpet": [
           {
            "marker": {
             "colorbar": {
              "outlinewidth": 0,
              "ticks": ""
             }
            },
            "type": "scattercarpet"
           }
          ],
          "scattergeo": [
           {
            "marker": {
             "colorbar": {
              "outlinewidth": 0,
              "ticks": ""
             }
            },
            "type": "scattergeo"
           }
          ],
          "scattergl": [
           {
            "marker": {
             "colorbar": {
              "outlinewidth": 0,
              "ticks": ""
             }
            },
            "type": "scattergl"
           }
          ],
          "scattermapbox": [
           {
            "marker": {
             "colorbar": {
              "outlinewidth": 0,
              "ticks": ""
             }
            },
            "type": "scattermapbox"
           }
          ],
          "scatterpolar": [
           {
            "marker": {
             "colorbar": {
              "outlinewidth": 0,
              "ticks": ""
             }
            },
            "type": "scatterpolar"
           }
          ],
          "scatterpolargl": [
           {
            "marker": {
             "colorbar": {
              "outlinewidth": 0,
              "ticks": ""
             }
            },
            "type": "scatterpolargl"
           }
          ],
          "scatterternary": [
           {
            "marker": {
             "colorbar": {
              "outlinewidth": 0,
              "ticks": ""
             }
            },
            "type": "scatterternary"
           }
          ],
          "surface": [
           {
            "colorbar": {
             "outlinewidth": 0,
             "ticks": ""
            },
            "colorscale": [
             [
              0,
              "#0d0887"
             ],
             [
              0.1111111111111111,
              "#46039f"
             ],
             [
              0.2222222222222222,
              "#7201a8"
             ],
             [
              0.3333333333333333,
              "#9c179e"
             ],
             [
              0.4444444444444444,
              "#bd3786"
             ],
             [
              0.5555555555555556,
              "#d8576b"
             ],
             [
              0.6666666666666666,
              "#ed7953"
             ],
             [
              0.7777777777777778,
              "#fb9f3a"
             ],
             [
              0.8888888888888888,
              "#fdca26"
             ],
             [
              1,
              "#f0f921"
             ]
            ],
            "type": "surface"
           }
          ],
          "table": [
           {
            "cells": {
             "fill": {
              "color": "#EBF0F8"
             },
             "line": {
              "color": "white"
             }
            },
            "header": {
             "fill": {
              "color": "#C8D4E3"
             },
             "line": {
              "color": "white"
             }
            },
            "type": "table"
           }
          ]
         },
         "layout": {
          "annotationdefaults": {
           "arrowcolor": "#2a3f5f",
           "arrowhead": 0,
           "arrowwidth": 1
          },
          "autotypenumbers": "strict",
          "coloraxis": {
           "colorbar": {
            "outlinewidth": 0,
            "ticks": ""
           }
          },
          "colorscale": {
           "diverging": [
            [
             0,
             "#8e0152"
            ],
            [
             0.1,
             "#c51b7d"
            ],
            [
             0.2,
             "#de77ae"
            ],
            [
             0.3,
             "#f1b6da"
            ],
            [
             0.4,
             "#fde0ef"
            ],
            [
             0.5,
             "#f7f7f7"
            ],
            [
             0.6,
             "#e6f5d0"
            ],
            [
             0.7,
             "#b8e186"
            ],
            [
             0.8,
             "#7fbc41"
            ],
            [
             0.9,
             "#4d9221"
            ],
            [
             1,
             "#276419"
            ]
           ],
           "sequential": [
            [
             0,
             "#0d0887"
            ],
            [
             0.1111111111111111,
             "#46039f"
            ],
            [
             0.2222222222222222,
             "#7201a8"
            ],
            [
             0.3333333333333333,
             "#9c179e"
            ],
            [
             0.4444444444444444,
             "#bd3786"
            ],
            [
             0.5555555555555556,
             "#d8576b"
            ],
            [
             0.6666666666666666,
             "#ed7953"
            ],
            [
             0.7777777777777778,
             "#fb9f3a"
            ],
            [
             0.8888888888888888,
             "#fdca26"
            ],
            [
             1,
             "#f0f921"
            ]
           ],
           "sequentialminus": [
            [
             0,
             "#0d0887"
            ],
            [
             0.1111111111111111,
             "#46039f"
            ],
            [
             0.2222222222222222,
             "#7201a8"
            ],
            [
             0.3333333333333333,
             "#9c179e"
            ],
            [
             0.4444444444444444,
             "#bd3786"
            ],
            [
             0.5555555555555556,
             "#d8576b"
            ],
            [
             0.6666666666666666,
             "#ed7953"
            ],
            [
             0.7777777777777778,
             "#fb9f3a"
            ],
            [
             0.8888888888888888,
             "#fdca26"
            ],
            [
             1,
             "#f0f921"
            ]
           ]
          },
          "colorway": [
           "#636efa",
           "#EF553B",
           "#00cc96",
           "#ab63fa",
           "#FFA15A",
           "#19d3f3",
           "#FF6692",
           "#B6E880",
           "#FF97FF",
           "#FECB52"
          ],
          "font": {
           "color": "#2a3f5f"
          },
          "geo": {
           "bgcolor": "white",
           "lakecolor": "white",
           "landcolor": "#E5ECF6",
           "showlakes": true,
           "showland": true,
           "subunitcolor": "white"
          },
          "hoverlabel": {
           "align": "left"
          },
          "hovermode": "closest",
          "mapbox": {
           "style": "light"
          },
          "paper_bgcolor": "white",
          "plot_bgcolor": "#E5ECF6",
          "polar": {
           "angularaxis": {
            "gridcolor": "white",
            "linecolor": "white",
            "ticks": ""
           },
           "bgcolor": "#E5ECF6",
           "radialaxis": {
            "gridcolor": "white",
            "linecolor": "white",
            "ticks": ""
           }
          },
          "scene": {
           "xaxis": {
            "backgroundcolor": "#E5ECF6",
            "gridcolor": "white",
            "gridwidth": 2,
            "linecolor": "white",
            "showbackground": true,
            "ticks": "",
            "zerolinecolor": "white"
           },
           "yaxis": {
            "backgroundcolor": "#E5ECF6",
            "gridcolor": "white",
            "gridwidth": 2,
            "linecolor": "white",
            "showbackground": true,
            "ticks": "",
            "zerolinecolor": "white"
           },
           "zaxis": {
            "backgroundcolor": "#E5ECF6",
            "gridcolor": "white",
            "gridwidth": 2,
            "linecolor": "white",
            "showbackground": true,
            "ticks": "",
            "zerolinecolor": "white"
           }
          },
          "shapedefaults": {
           "line": {
            "color": "#2a3f5f"
           }
          },
          "ternary": {
           "aaxis": {
            "gridcolor": "white",
            "linecolor": "white",
            "ticks": ""
           },
           "baxis": {
            "gridcolor": "white",
            "linecolor": "white",
            "ticks": ""
           },
           "bgcolor": "#E5ECF6",
           "caxis": {
            "gridcolor": "white",
            "linecolor": "white",
            "ticks": ""
           }
          },
          "title": {
           "x": 0.05
          },
          "xaxis": {
           "automargin": true,
           "gridcolor": "white",
           "linecolor": "white",
           "ticks": "",
           "title": {
            "standoff": 15
           },
           "zerolinecolor": "white",
           "zerolinewidth": 2
          },
          "yaxis": {
           "automargin": true,
           "gridcolor": "white",
           "linecolor": "white",
           "ticks": "",
           "title": {
            "standoff": 15
           },
           "zerolinecolor": "white",
           "zerolinewidth": 2
          }
         }
        },
        "title": {
         "text": "클러스터 비율 분포",
         "x": 0.5
        }
       }
      }
     },
     "metadata": {},
     "output_type": "display_data"
    }
   ],
   "source": [
    "customer['cluster'] = KMeans(n_clusters=3, random_state=0).fit_predict(X_scaled)\n",
    "customer['segment'] = customer['cluster'].map({\n",
    "    0:'일반 고객',\n",
    "    1:'대량 구매 고객',\n",
    "    2:'충성 고객'\n",
    "})\n",
    "cluster_counts = customer['segment'].value_counts(normalize=True).reset_index()\n",
    "cluster_counts.columns = ['segment', 'ratio']\n",
    "cluster_counts['ratio'] = cluster_counts['ratio'] * 100\n",
    "\n",
    "fig = px.pie(cluster_counts, names='segment', values='ratio')\n",
    "\n",
    "fig.update_layout(title=dict(text='클러스터 비율 분포', \n",
    "                             x=0.5\n",
    "                             ))\n",
    "\n",
    "fig.update_traces(textinfo='percent+label')\n",
    "fig.show()\n"
   ]
  },
  {
   "cell_type": "code",
   "execution_count": 28,
   "id": "beb8ffd5",
   "metadata": {},
   "outputs": [
    {
     "data": {
      "text/html": [
       "<div>\n",
       "<style scoped>\n",
       "    .dataframe tbody tr th:only-of-type {\n",
       "        vertical-align: middle;\n",
       "    }\n",
       "\n",
       "    .dataframe tbody tr th {\n",
       "        vertical-align: top;\n",
       "    }\n",
       "\n",
       "    .dataframe thead th {\n",
       "        text-align: right;\n",
       "    }\n",
       "</style>\n",
       "<table border=\"1\" class=\"dataframe\">\n",
       "  <thead>\n",
       "    <tr style=\"text-align: right;\">\n",
       "      <th>segment</th>\n",
       "      <th>월</th>\n",
       "      <th>대량 구매 고객</th>\n",
       "      <th>일반 고객</th>\n",
       "      <th>충성 고객</th>\n",
       "    </tr>\n",
       "  </thead>\n",
       "  <tbody>\n",
       "    <tr>\n",
       "      <th>0</th>\n",
       "      <td>1</td>\n",
       "      <td>130726.88</td>\n",
       "      <td>821126.02</td>\n",
       "      <td>201477.07</td>\n",
       "    </tr>\n",
       "    <tr>\n",
       "      <th>1</th>\n",
       "      <td>2</td>\n",
       "      <td>121604.22</td>\n",
       "      <td>599212.64</td>\n",
       "      <td>145935.38</td>\n",
       "    </tr>\n",
       "    <tr>\n",
       "      <th>2</th>\n",
       "      <td>3</td>\n",
       "      <td>165572.90</td>\n",
       "      <td>661791.89</td>\n",
       "      <td>149727.23</td>\n",
       "    </tr>\n",
       "    <tr>\n",
       "      <th>3</th>\n",
       "      <td>4</td>\n",
       "      <td>137013.55</td>\n",
       "      <td>597532.72</td>\n",
       "      <td>350529.41</td>\n",
       "    </tr>\n",
       "    <tr>\n",
       "      <th>4</th>\n",
       "      <td>5</td>\n",
       "      <td>76512.27</td>\n",
       "      <td>666090.16</td>\n",
       "      <td>108253.04</td>\n",
       "    </tr>\n",
       "    <tr>\n",
       "      <th>5</th>\n",
       "      <td>6</td>\n",
       "      <td>122778.03</td>\n",
       "      <td>734507.41</td>\n",
       "      <td>49112.57</td>\n",
       "    </tr>\n",
       "    <tr>\n",
       "      <th>6</th>\n",
       "      <td>7</td>\n",
       "      <td>109215.57</td>\n",
       "      <td>696278.80</td>\n",
       "      <td>219382.21</td>\n",
       "    </tr>\n",
       "    <tr>\n",
       "      <th>7</th>\n",
       "      <td>8</td>\n",
       "      <td>133199.02</td>\n",
       "      <td>813091.99</td>\n",
       "      <td>153498.96</td>\n",
       "    </tr>\n",
       "    <tr>\n",
       "      <th>8</th>\n",
       "      <td>9</td>\n",
       "      <td>145741.86</td>\n",
       "      <td>720899.04</td>\n",
       "      <td>171696.79</td>\n",
       "    </tr>\n",
       "    <tr>\n",
       "      <th>9</th>\n",
       "      <td>10</td>\n",
       "      <td>206527.85</td>\n",
       "      <td>850195.28</td>\n",
       "      <td>134587.59</td>\n",
       "    </tr>\n",
       "    <tr>\n",
       "      <th>10</th>\n",
       "      <td>11</td>\n",
       "      <td>337627.71</td>\n",
       "      <td>1023231.66</td>\n",
       "      <td>118198.15</td>\n",
       "    </tr>\n",
       "    <tr>\n",
       "      <th>11</th>\n",
       "      <td>12</td>\n",
       "      <td>176798.86</td>\n",
       "      <td>999337.95</td>\n",
       "      <td>329137.08</td>\n",
       "    </tr>\n",
       "  </tbody>\n",
       "</table>\n",
       "</div>"
      ],
      "text/plain": [
       "segment   월   대량 구매 고객       일반 고객      충성 고객\n",
       "0         1  130726.88   821126.02  201477.07\n",
       "1         2  121604.22   599212.64  145935.38\n",
       "2         3  165572.90   661791.89  149727.23\n",
       "3         4  137013.55   597532.72  350529.41\n",
       "4         5   76512.27   666090.16  108253.04\n",
       "5         6  122778.03   734507.41   49112.57\n",
       "6         7  109215.57   696278.80  219382.21\n",
       "7         8  133199.02   813091.99  153498.96\n",
       "8         9  145741.86   720899.04  171696.79\n",
       "9        10  206527.85   850195.28  134587.59\n",
       "10       11  337627.71  1023231.66  118198.15\n",
       "11       12  176798.86   999337.95  329137.08"
      ]
     },
     "execution_count": 28,
     "metadata": {},
     "output_type": "execute_result"
    }
   ],
   "source": [
    "onlinesales = pd.merge(onlinesales, customer[['고객ID', 'segment']], how='left', on='고객ID')\n",
    "\n",
    "arppu = onlinesales.groupby('월').agg({'소비 금액':'sum', '고객ID':'nunique'}).reset_index()\n",
    "arppu['ARPPU'] = arppu['소비 금액']/arppu['고객ID']\n",
    "\n",
    "for i in onlinesales['segment'].unique():\n",
    "    df = onlinesales[onlinesales.segment==i].groupby('월').agg({'소비 금액':'sum', '고객ID':'nunique'}).reset_index()\n",
    "    df[i]=df['소비 금액']/df['고객ID']\n",
    "    arppu=pd.merge(arppu, df[['월', i]], on='월')\n",
    "\n",
    "arppu = arppu.rename(columns={'월':'month', '고객ID':'고객 수'})\n",
    "\n",
    "month_segment = onlinesales.groupby(['segment', '월']).agg({'소비 금액':'sum', '고객ID':'size'}).reset_index()\n",
    "month_sales = pd.pivot_table(month_segment, index='월', columns='segment', values='소비 금액', aggfunc=['sum'])\n",
    "month_num = pd.pivot_table(month_segment, index='월',  columns='segment',    values='고객ID',  aggfunc=['sum'])\n",
    "\n",
    "month_sales = month_sales.droplevel(axis=1, level=0).reset_index()\n",
    "month_num = month_num.droplevel(axis=1, level=0).reset_index()\n",
    "\n",
    "month_sales"
   ]
  },
  {
   "cell_type": "code",
   "execution_count": 29,
   "id": "d8f61df0",
   "metadata": {},
   "outputs": [
    {
     "data": {
      "application/vnd.plotly.v1+json": {
       "config": {
        "plotlyServerURL": "https://plot.ly"
       },
       "data": [
        {
         "marker": {
          "color": "#636EFA"
         },
         "name": "매출액",
         "type": "bar",
         "visible": true,
         "x": [
          1,
          2,
          3,
          4,
          5,
          6,
          7,
          8,
          9,
          10,
          11,
          12
         ],
         "y": [
          130726.88,
          121604.22,
          165572.9,
          137013.55,
          76512.27,
          122778.03,
          109215.56999999999,
          133199.02,
          145741.86,
          206527.85,
          337627.71,
          176798.86
         ],
         "yaxis": "y"
        },
        {
         "line": {
          "color": "#EF553B"
         },
         "mode": "lines+markers",
         "name": "구매 고객 수",
         "type": "scatter",
         "visible": true,
         "x": [
          1,
          2,
          3,
          4,
          5,
          6,
          7,
          8,
          9,
          10,
          11,
          12
         ],
         "y": [
          817,
          653,
          1024,
          649,
          639,
          823,
          607,
          639,
          823,
          1286,
          1948,
          1074
         ],
         "yaxis": "y2"
        },
        {
         "marker": {
          "color": "#636EFA"
         },
         "name": "매출액",
         "type": "bar",
         "visible": false,
         "x": [
          1,
          2,
          3,
          4,
          5,
          6,
          7,
          8,
          9,
          10,
          11,
          12
         ],
         "y": [
          821126.02,
          599212.64,
          661791.89,
          597532.72,
          666090.16,
          734507.41,
          696278.8,
          813091.99,
          720899.04,
          850195.28,
          1023231.66,
          999337.95
         ],
         "yaxis": "y"
        },
        {
         "line": {
          "color": "#EF553B"
         },
         "mode": "lines+markers",
         "name": "구매 고객 수",
         "type": "scatter",
         "visible": false,
         "x": [
          1,
          2,
          3,
          4,
          5,
          6,
          7,
          8,
          9,
          10,
          11,
          12
         ],
         "y": [
          8495,
          6751,
          8667,
          8025,
          9490,
          9334,
          9777,
          13345,
          8855,
          9045,
          8147,
          8481
         ],
         "yaxis": "y2"
        },
        {
         "marker": {
          "color": "#636EFA"
         },
         "name": "매출액",
         "type": "bar",
         "visible": false,
         "x": [
          1,
          2,
          3,
          4,
          5,
          6,
          7,
          8,
          9,
          10,
          11,
          12
         ],
         "y": [
          201477.07,
          145935.38,
          149727.23,
          350529.41,
          108253.04,
          49112.57,
          219382.21,
          153498.96,
          171696.79,
          134587.59,
          118198.15,
          329137.08
         ],
         "yaxis": "y"
        },
        {
         "line": {
          "color": "#EF553B"
         },
         "mode": "lines+markers",
         "name": "구매 고객 수",
         "type": "scatter",
         "visible": false,
         "x": [
          1,
          2,
          3,
          4,
          5,
          6,
          7,
          8,
          9,
          10,
          11,
          12
         ],
         "y": [
          1804,
          1593,
          1952,
          2114,
          1552,
          807,
          3284,
          2181,
          2104,
          1443,
          926,
          2483
         ],
         "yaxis": "y2"
        }
       ],
       "layout": {
        "bargap": 0.3,
        "height": 500,
        "legend": {
         "orientation": "h",
         "x": 0.5,
         "xanchor": "center",
         "y": 1.1
        },
        "template": {
         "data": {
          "bar": [
           {
            "error_x": {
             "color": "#2a3f5f"
            },
            "error_y": {
             "color": "#2a3f5f"
            },
            "marker": {
             "line": {
              "color": "white",
              "width": 0.5
             },
             "pattern": {
              "fillmode": "overlay",
              "size": 10,
              "solidity": 0.2
             }
            },
            "type": "bar"
           }
          ],
          "barpolar": [
           {
            "marker": {
             "line": {
              "color": "white",
              "width": 0.5
             },
             "pattern": {
              "fillmode": "overlay",
              "size": 10,
              "solidity": 0.2
             }
            },
            "type": "barpolar"
           }
          ],
          "carpet": [
           {
            "aaxis": {
             "endlinecolor": "#2a3f5f",
             "gridcolor": "#C8D4E3",
             "linecolor": "#C8D4E3",
             "minorgridcolor": "#C8D4E3",
             "startlinecolor": "#2a3f5f"
            },
            "baxis": {
             "endlinecolor": "#2a3f5f",
             "gridcolor": "#C8D4E3",
             "linecolor": "#C8D4E3",
             "minorgridcolor": "#C8D4E3",
             "startlinecolor": "#2a3f5f"
            },
            "type": "carpet"
           }
          ],
          "choropleth": [
           {
            "colorbar": {
             "outlinewidth": 0,
             "ticks": ""
            },
            "type": "choropleth"
           }
          ],
          "contour": [
           {
            "colorbar": {
             "outlinewidth": 0,
             "ticks": ""
            },
            "colorscale": [
             [
              0,
              "#0d0887"
             ],
             [
              0.1111111111111111,
              "#46039f"
             ],
             [
              0.2222222222222222,
              "#7201a8"
             ],
             [
              0.3333333333333333,
              "#9c179e"
             ],
             [
              0.4444444444444444,
              "#bd3786"
             ],
             [
              0.5555555555555556,
              "#d8576b"
             ],
             [
              0.6666666666666666,
              "#ed7953"
             ],
             [
              0.7777777777777778,
              "#fb9f3a"
             ],
             [
              0.8888888888888888,
              "#fdca26"
             ],
             [
              1,
              "#f0f921"
             ]
            ],
            "type": "contour"
           }
          ],
          "contourcarpet": [
           {
            "colorbar": {
             "outlinewidth": 0,
             "ticks": ""
            },
            "type": "contourcarpet"
           }
          ],
          "heatmap": [
           {
            "colorbar": {
             "outlinewidth": 0,
             "ticks": ""
            },
            "colorscale": [
             [
              0,
              "#0d0887"
             ],
             [
              0.1111111111111111,
              "#46039f"
             ],
             [
              0.2222222222222222,
              "#7201a8"
             ],
             [
              0.3333333333333333,
              "#9c179e"
             ],
             [
              0.4444444444444444,
              "#bd3786"
             ],
             [
              0.5555555555555556,
              "#d8576b"
             ],
             [
              0.6666666666666666,
              "#ed7953"
             ],
             [
              0.7777777777777778,
              "#fb9f3a"
             ],
             [
              0.8888888888888888,
              "#fdca26"
             ],
             [
              1,
              "#f0f921"
             ]
            ],
            "type": "heatmap"
           }
          ],
          "heatmapgl": [
           {
            "colorbar": {
             "outlinewidth": 0,
             "ticks": ""
            },
            "colorscale": [
             [
              0,
              "#0d0887"
             ],
             [
              0.1111111111111111,
              "#46039f"
             ],
             [
              0.2222222222222222,
              "#7201a8"
             ],
             [
              0.3333333333333333,
              "#9c179e"
             ],
             [
              0.4444444444444444,
              "#bd3786"
             ],
             [
              0.5555555555555556,
              "#d8576b"
             ],
             [
              0.6666666666666666,
              "#ed7953"
             ],
             [
              0.7777777777777778,
              "#fb9f3a"
             ],
             [
              0.8888888888888888,
              "#fdca26"
             ],
             [
              1,
              "#f0f921"
             ]
            ],
            "type": "heatmapgl"
           }
          ],
          "histogram": [
           {
            "marker": {
             "pattern": {
              "fillmode": "overlay",
              "size": 10,
              "solidity": 0.2
             }
            },
            "type": "histogram"
           }
          ],
          "histogram2d": [
           {
            "colorbar": {
             "outlinewidth": 0,
             "ticks": ""
            },
            "colorscale": [
             [
              0,
              "#0d0887"
             ],
             [
              0.1111111111111111,
              "#46039f"
             ],
             [
              0.2222222222222222,
              "#7201a8"
             ],
             [
              0.3333333333333333,
              "#9c179e"
             ],
             [
              0.4444444444444444,
              "#bd3786"
             ],
             [
              0.5555555555555556,
              "#d8576b"
             ],
             [
              0.6666666666666666,
              "#ed7953"
             ],
             [
              0.7777777777777778,
              "#fb9f3a"
             ],
             [
              0.8888888888888888,
              "#fdca26"
             ],
             [
              1,
              "#f0f921"
             ]
            ],
            "type": "histogram2d"
           }
          ],
          "histogram2dcontour": [
           {
            "colorbar": {
             "outlinewidth": 0,
             "ticks": ""
            },
            "colorscale": [
             [
              0,
              "#0d0887"
             ],
             [
              0.1111111111111111,
              "#46039f"
             ],
             [
              0.2222222222222222,
              "#7201a8"
             ],
             [
              0.3333333333333333,
              "#9c179e"
             ],
             [
              0.4444444444444444,
              "#bd3786"
             ],
             [
              0.5555555555555556,
              "#d8576b"
             ],
             [
              0.6666666666666666,
              "#ed7953"
             ],
             [
              0.7777777777777778,
              "#fb9f3a"
             ],
             [
              0.8888888888888888,
              "#fdca26"
             ],
             [
              1,
              "#f0f921"
             ]
            ],
            "type": "histogram2dcontour"
           }
          ],
          "mesh3d": [
           {
            "colorbar": {
             "outlinewidth": 0,
             "ticks": ""
            },
            "type": "mesh3d"
           }
          ],
          "parcoords": [
           {
            "line": {
             "colorbar": {
              "outlinewidth": 0,
              "ticks": ""
             }
            },
            "type": "parcoords"
           }
          ],
          "pie": [
           {
            "automargin": true,
            "type": "pie"
           }
          ],
          "scatter": [
           {
            "fillpattern": {
             "fillmode": "overlay",
             "size": 10,
             "solidity": 0.2
            },
            "type": "scatter"
           }
          ],
          "scatter3d": [
           {
            "line": {
             "colorbar": {
              "outlinewidth": 0,
              "ticks": ""
             }
            },
            "marker": {
             "colorbar": {
              "outlinewidth": 0,
              "ticks": ""
             }
            },
            "type": "scatter3d"
           }
          ],
          "scattercarpet": [
           {
            "marker": {
             "colorbar": {
              "outlinewidth": 0,
              "ticks": ""
             }
            },
            "type": "scattercarpet"
           }
          ],
          "scattergeo": [
           {
            "marker": {
             "colorbar": {
              "outlinewidth": 0,
              "ticks": ""
             }
            },
            "type": "scattergeo"
           }
          ],
          "scattergl": [
           {
            "marker": {
             "colorbar": {
              "outlinewidth": 0,
              "ticks": ""
             }
            },
            "type": "scattergl"
           }
          ],
          "scattermapbox": [
           {
            "marker": {
             "colorbar": {
              "outlinewidth": 0,
              "ticks": ""
             }
            },
            "type": "scattermapbox"
           }
          ],
          "scatterpolar": [
           {
            "marker": {
             "colorbar": {
              "outlinewidth": 0,
              "ticks": ""
             }
            },
            "type": "scatterpolar"
           }
          ],
          "scatterpolargl": [
           {
            "marker": {
             "colorbar": {
              "outlinewidth": 0,
              "ticks": ""
             }
            },
            "type": "scatterpolargl"
           }
          ],
          "scatterternary": [
           {
            "marker": {
             "colorbar": {
              "outlinewidth": 0,
              "ticks": ""
             }
            },
            "type": "scatterternary"
           }
          ],
          "surface": [
           {
            "colorbar": {
             "outlinewidth": 0,
             "ticks": ""
            },
            "colorscale": [
             [
              0,
              "#0d0887"
             ],
             [
              0.1111111111111111,
              "#46039f"
             ],
             [
              0.2222222222222222,
              "#7201a8"
             ],
             [
              0.3333333333333333,
              "#9c179e"
             ],
             [
              0.4444444444444444,
              "#bd3786"
             ],
             [
              0.5555555555555556,
              "#d8576b"
             ],
             [
              0.6666666666666666,
              "#ed7953"
             ],
             [
              0.7777777777777778,
              "#fb9f3a"
             ],
             [
              0.8888888888888888,
              "#fdca26"
             ],
             [
              1,
              "#f0f921"
             ]
            ],
            "type": "surface"
           }
          ],
          "table": [
           {
            "cells": {
             "fill": {
              "color": "#EBF0F8"
             },
             "line": {
              "color": "white"
             }
            },
            "header": {
             "fill": {
              "color": "#C8D4E3"
             },
             "line": {
              "color": "white"
             }
            },
            "type": "table"
           }
          ]
         },
         "layout": {
          "annotationdefaults": {
           "arrowcolor": "#2a3f5f",
           "arrowhead": 0,
           "arrowwidth": 1
          },
          "autotypenumbers": "strict",
          "coloraxis": {
           "colorbar": {
            "outlinewidth": 0,
            "ticks": ""
           }
          },
          "colorscale": {
           "diverging": [
            [
             0,
             "#8e0152"
            ],
            [
             0.1,
             "#c51b7d"
            ],
            [
             0.2,
             "#de77ae"
            ],
            [
             0.3,
             "#f1b6da"
            ],
            [
             0.4,
             "#fde0ef"
            ],
            [
             0.5,
             "#f7f7f7"
            ],
            [
             0.6,
             "#e6f5d0"
            ],
            [
             0.7,
             "#b8e186"
            ],
            [
             0.8,
             "#7fbc41"
            ],
            [
             0.9,
             "#4d9221"
            ],
            [
             1,
             "#276419"
            ]
           ],
           "sequential": [
            [
             0,
             "#0d0887"
            ],
            [
             0.1111111111111111,
             "#46039f"
            ],
            [
             0.2222222222222222,
             "#7201a8"
            ],
            [
             0.3333333333333333,
             "#9c179e"
            ],
            [
             0.4444444444444444,
             "#bd3786"
            ],
            [
             0.5555555555555556,
             "#d8576b"
            ],
            [
             0.6666666666666666,
             "#ed7953"
            ],
            [
             0.7777777777777778,
             "#fb9f3a"
            ],
            [
             0.8888888888888888,
             "#fdca26"
            ],
            [
             1,
             "#f0f921"
            ]
           ],
           "sequentialminus": [
            [
             0,
             "#0d0887"
            ],
            [
             0.1111111111111111,
             "#46039f"
            ],
            [
             0.2222222222222222,
             "#7201a8"
            ],
            [
             0.3333333333333333,
             "#9c179e"
            ],
            [
             0.4444444444444444,
             "#bd3786"
            ],
            [
             0.5555555555555556,
             "#d8576b"
            ],
            [
             0.6666666666666666,
             "#ed7953"
            ],
            [
             0.7777777777777778,
             "#fb9f3a"
            ],
            [
             0.8888888888888888,
             "#fdca26"
            ],
            [
             1,
             "#f0f921"
            ]
           ]
          },
          "colorway": [
           "#636efa",
           "#EF553B",
           "#00cc96",
           "#ab63fa",
           "#FFA15A",
           "#19d3f3",
           "#FF6692",
           "#B6E880",
           "#FF97FF",
           "#FECB52"
          ],
          "font": {
           "color": "#2a3f5f"
          },
          "geo": {
           "bgcolor": "white",
           "lakecolor": "white",
           "landcolor": "white",
           "showlakes": true,
           "showland": true,
           "subunitcolor": "#C8D4E3"
          },
          "hoverlabel": {
           "align": "left"
          },
          "hovermode": "closest",
          "mapbox": {
           "style": "light"
          },
          "paper_bgcolor": "white",
          "plot_bgcolor": "white",
          "polar": {
           "angularaxis": {
            "gridcolor": "#EBF0F8",
            "linecolor": "#EBF0F8",
            "ticks": ""
           },
           "bgcolor": "white",
           "radialaxis": {
            "gridcolor": "#EBF0F8",
            "linecolor": "#EBF0F8",
            "ticks": ""
           }
          },
          "scene": {
           "xaxis": {
            "backgroundcolor": "white",
            "gridcolor": "#DFE8F3",
            "gridwidth": 2,
            "linecolor": "#EBF0F8",
            "showbackground": true,
            "ticks": "",
            "zerolinecolor": "#EBF0F8"
           },
           "yaxis": {
            "backgroundcolor": "white",
            "gridcolor": "#DFE8F3",
            "gridwidth": 2,
            "linecolor": "#EBF0F8",
            "showbackground": true,
            "ticks": "",
            "zerolinecolor": "#EBF0F8"
           },
           "zaxis": {
            "backgroundcolor": "white",
            "gridcolor": "#DFE8F3",
            "gridwidth": 2,
            "linecolor": "#EBF0F8",
            "showbackground": true,
            "ticks": "",
            "zerolinecolor": "#EBF0F8"
           }
          },
          "shapedefaults": {
           "line": {
            "color": "#2a3f5f"
           }
          },
          "ternary": {
           "aaxis": {
            "gridcolor": "#DFE8F3",
            "linecolor": "#A2B1C6",
            "ticks": ""
           },
           "baxis": {
            "gridcolor": "#DFE8F3",
            "linecolor": "#A2B1C6",
            "ticks": ""
           },
           "bgcolor": "white",
           "caxis": {
            "gridcolor": "#DFE8F3",
            "linecolor": "#A2B1C6",
            "ticks": ""
           }
          },
          "title": {
           "x": 0.05
          },
          "xaxis": {
           "automargin": true,
           "gridcolor": "#EBF0F8",
           "linecolor": "#EBF0F8",
           "ticks": "",
           "title": {
            "standoff": 15
           },
           "zerolinecolor": "#EBF0F8",
           "zerolinewidth": 2
          },
          "yaxis": {
           "automargin": true,
           "gridcolor": "#EBF0F8",
           "linecolor": "#EBF0F8",
           "ticks": "",
           "title": {
            "standoff": 15
           },
           "zerolinecolor": "#EBF0F8",
           "zerolinewidth": 2
          }
         }
        },
        "title": {
         "text": "대량 구매 고객의 월별 매출액과 구매 고객 수",
         "x": 0.5,
         "xanchor": "center"
        },
        "updatemenus": [
         {
          "buttons": [
           {
            "args": [
             {
              "visible": [
               true,
               true,
               false,
               false,
               false,
               false
              ]
             },
             {
              "title": "대량 구매 고객의 월별 매출액과 구매 고객 수"
             }
            ],
            "label": "대량 구매 고객",
            "method": "update"
           },
           {
            "args": [
             {
              "visible": [
               false,
               false,
               true,
               true,
               false,
               false
              ]
             },
             {
              "title": "일반 고객의 월별 매출액과 구매 고객 수"
             }
            ],
            "label": "일반 고객",
            "method": "update"
           },
           {
            "args": [
             {
              "visible": [
               false,
               false,
               false,
               false,
               true,
               true
              ]
             },
             {
              "title": "충성 고객의 월별 매출액과 구매 고객 수"
             }
            ],
            "label": "충성 고객",
            "method": "update"
           }
          ],
          "direction": "down",
          "showactive": true,
          "x": 0.1,
          "y": 1.15
         }
        ],
        "xaxis": {
         "title": {
          "text": "월"
         }
        },
        "yaxis": {
         "showgrid": false,
         "side": "left",
         "tickfont": {
          "color": "#636EFA"
         },
         "title": {
          "font": {
           "color": "#636EFA"
          },
          "text": "매출액"
         }
        },
        "yaxis2": {
         "overlaying": "y",
         "showgrid": false,
         "side": "right",
         "tickfont": {
          "color": "#EF553B"
         },
         "title": {
          "font": {
           "color": "#EF553B"
          },
          "text": "구매 고객 수"
         }
        }
       }
      }
     },
     "metadata": {},
     "output_type": "display_data"
    }
   ],
   "source": [
    "segments = ['대량 구매 고객', '일반 고객', '충성 고객']\n",
    "\n",
    "fig = go.Figure()\n",
    "buttons = []\n",
    "\n",
    "for i, seg in enumerate(segments):\n",
    "    x = month_sales['월']\n",
    "    \n",
    "    # 매출액 (좌측 y축) - Bar, 파란색\n",
    "    fig.add_trace(go.Bar(\n",
    "        x=x,\n",
    "        y=month_sales[seg],\n",
    "        name='매출액',\n",
    "        marker_color='#636EFA',\n",
    "        yaxis='y1',\n",
    "        visible=(i == 0)\n",
    "    ))\n",
    "\n",
    "    # 구매 고객 수 (우측 y축) - Line, 주황색\n",
    "    fig.add_trace(go.Scatter(\n",
    "        x=x,\n",
    "        y=month_num[seg][:len(x)],\n",
    "        name='구매 고객 수',\n",
    "        mode='lines+markers',\n",
    "        line=dict(color='#EF553B'),\n",
    "        yaxis='y2',\n",
    "        visible=(i == 0)\n",
    "    ))\n",
    "\n",
    "    # 버튼 정의\n",
    "    visible = [False] * (2 * len(segments))\n",
    "    visible[i*2] = True\n",
    "    visible[i*2 + 1] = True\n",
    "\n",
    "    buttons.append(dict(\n",
    "        label=seg,\n",
    "        method='update',\n",
    "        args=[\n",
    "            {'visible': visible},\n",
    "            {'title': f'{seg}의 월별 매출액과 구매 고객 수'}\n",
    "        ]\n",
    "    ))\n",
    "\n",
    "# 레이아웃 설정\n",
    "fig.update_layout(\n",
    "    updatemenus=[dict(\n",
    "        buttons=buttons,\n",
    "        direction=\"down\",\n",
    "        x=0.1,\n",
    "        y=1.15,\n",
    "        showactive=True\n",
    "    )],\n",
    "    title=dict(\n",
    "        text=f'{segments[0]}의 월별 매출액과 구매 고객 수',\n",
    "        x=0.5,\n",
    "        xanchor='center'\n",
    "    ),\n",
    "    xaxis=dict(title='월'),\n",
    "    yaxis=dict(\n",
    "        title='매출액',\n",
    "        titlefont=dict(color='#636EFA'),\n",
    "        tickfont=dict(color='#636EFA'),\n",
    "        side='left',\n",
    "        showgrid=False\n",
    "    ),\n",
    "    yaxis2=dict(\n",
    "        title='구매 고객 수',\n",
    "        titlefont=dict(color='#EF553B'),\n",
    "        tickfont=dict(color='#EF553B'),\n",
    "        overlaying='y',\n",
    "        side='right',\n",
    "        showgrid=False\n",
    "    ),\n",
    "    legend=dict(\n",
    "        x=0.5,\n",
    "        xanchor='center',\n",
    "        y=1.1,\n",
    "        orientation='h'\n",
    "    ),\n",
    "    bargap=0.3,\n",
    "    height=500,\n",
    "    template='plotly_white'\n",
    ")\n",
    "\n",
    "fig.show()\n"
   ]
  },
  {
   "cell_type": "code",
   "execution_count": 30,
   "id": "6985060f",
   "metadata": {},
   "outputs": [
    {
     "data": {
      "text/html": [
       "<div>\n",
       "<style scoped>\n",
       "    .dataframe tbody tr th:only-of-type {\n",
       "        vertical-align: middle;\n",
       "    }\n",
       "\n",
       "    .dataframe tbody tr th {\n",
       "        vertical-align: top;\n",
       "    }\n",
       "\n",
       "    .dataframe thead th {\n",
       "        text-align: right;\n",
       "    }\n",
       "</style>\n",
       "<table border=\"1\" class=\"dataframe\">\n",
       "  <thead>\n",
       "    <tr style=\"text-align: right;\">\n",
       "      <th></th>\n",
       "      <th>고객ID</th>\n",
       "      <th>성별</th>\n",
       "      <th>고객지역</th>\n",
       "      <th>가입기간</th>\n",
       "      <th>coupon_used_cnt</th>\n",
       "      <th>coupon_used_ratio</th>\n",
       "      <th>discount_avg</th>\n",
       "      <th>recency_days</th>\n",
       "      <th>주문당 평균 금액</th>\n",
       "      <th>총 주문 수</th>\n",
       "      <th>주문당 평균 수량</th>\n",
       "      <th>cluster</th>\n",
       "      <th>segment</th>\n",
       "      <th>1위 주문 카테고리</th>\n",
       "      <th>1위 금액 카테고리</th>\n",
       "    </tr>\n",
       "  </thead>\n",
       "  <tbody>\n",
       "    <tr>\n",
       "      <th>0</th>\n",
       "      <td>USER_1358</td>\n",
       "      <td>남</td>\n",
       "      <td>Chicago</td>\n",
       "      <td>12</td>\n",
       "      <td>257.0</td>\n",
       "      <td>0.308894</td>\n",
       "      <td>10.000000</td>\n",
       "      <td>339</td>\n",
       "      <td>116.916995</td>\n",
       "      <td>832</td>\n",
       "      <td>3.890625</td>\n",
       "      <td>2</td>\n",
       "      <td>충성 고객</td>\n",
       "      <td>Electronics</td>\n",
       "      <td>Lifestyle</td>\n",
       "    </tr>\n",
       "    <tr>\n",
       "      <th>1</th>\n",
       "      <td>USER_0190</td>\n",
       "      <td>남</td>\n",
       "      <td>California</td>\n",
       "      <td>43</td>\n",
       "      <td>49.0</td>\n",
       "      <td>0.404959</td>\n",
       "      <td>22.244898</td>\n",
       "      <td>13</td>\n",
       "      <td>72.860165</td>\n",
       "      <td>121</td>\n",
       "      <td>3.190083</td>\n",
       "      <td>0</td>\n",
       "      <td>일반 고객</td>\n",
       "      <td>Electronics</td>\n",
       "      <td>Stationery</td>\n",
       "    </tr>\n",
       "    <tr>\n",
       "      <th>2</th>\n",
       "      <td>USER_0066</td>\n",
       "      <td>남</td>\n",
       "      <td>Chicago</td>\n",
       "      <td>33</td>\n",
       "      <td>27.0</td>\n",
       "      <td>0.264706</td>\n",
       "      <td>17.407407</td>\n",
       "      <td>151</td>\n",
       "      <td>66.738235</td>\n",
       "      <td>102</td>\n",
       "      <td>5.441176</td>\n",
       "      <td>0</td>\n",
       "      <td>일반 고객</td>\n",
       "      <td>Electronics</td>\n",
       "      <td>Lifestyle</td>\n",
       "    </tr>\n",
       "    <tr>\n",
       "      <th>3</th>\n",
       "      <td>USER_0345</td>\n",
       "      <td>여</td>\n",
       "      <td>California</td>\n",
       "      <td>30</td>\n",
       "      <td>0.0</td>\n",
       "      <td>0.000000</td>\n",
       "      <td>0.000000</td>\n",
       "      <td>364</td>\n",
       "      <td>1.240000</td>\n",
       "      <td>5</td>\n",
       "      <td>1.000000</td>\n",
       "      <td>0</td>\n",
       "      <td>일반 고객</td>\n",
       "      <td>Lifestyle</td>\n",
       "      <td>Lifestyle</td>\n",
       "    </tr>\n",
       "    <tr>\n",
       "      <th>4</th>\n",
       "      <td>USER_0683</td>\n",
       "      <td>남</td>\n",
       "      <td>California</td>\n",
       "      <td>49</td>\n",
       "      <td>5.0</td>\n",
       "      <td>0.294118</td>\n",
       "      <td>26.000000</td>\n",
       "      <td>123</td>\n",
       "      <td>184.177647</td>\n",
       "      <td>17</td>\n",
       "      <td>2.941176</td>\n",
       "      <td>1</td>\n",
       "      <td>대량 구매 고객</td>\n",
       "      <td>Electronics</td>\n",
       "      <td>Lifestyle</td>\n",
       "    </tr>\n",
       "    <tr>\n",
       "      <th>...</th>\n",
       "      <td>...</td>\n",
       "      <td>...</td>\n",
       "      <td>...</td>\n",
       "      <td>...</td>\n",
       "      <td>...</td>\n",
       "      <td>...</td>\n",
       "      <td>...</td>\n",
       "      <td>...</td>\n",
       "      <td>...</td>\n",
       "      <td>...</td>\n",
       "      <td>...</td>\n",
       "      <td>...</td>\n",
       "      <td>...</td>\n",
       "      <td>...</td>\n",
       "      <td>...</td>\n",
       "    </tr>\n",
       "    <tr>\n",
       "      <th>1463</th>\n",
       "      <td>USER_0513</td>\n",
       "      <td>여</td>\n",
       "      <td>New York</td>\n",
       "      <td>41</td>\n",
       "      <td>17.0</td>\n",
       "      <td>0.586207</td>\n",
       "      <td>30.000000</td>\n",
       "      <td>0</td>\n",
       "      <td>51.092414</td>\n",
       "      <td>29</td>\n",
       "      <td>2.655172</td>\n",
       "      <td>0</td>\n",
       "      <td>일반 고객</td>\n",
       "      <td>Electronics</td>\n",
       "      <td>Stationery</td>\n",
       "    </tr>\n",
       "    <tr>\n",
       "      <th>1464</th>\n",
       "      <td>USER_0167</td>\n",
       "      <td>여</td>\n",
       "      <td>Chicago</td>\n",
       "      <td>48</td>\n",
       "      <td>15.0</td>\n",
       "      <td>0.272727</td>\n",
       "      <td>30.000000</td>\n",
       "      <td>0</td>\n",
       "      <td>163.431636</td>\n",
       "      <td>55</td>\n",
       "      <td>1.745455</td>\n",
       "      <td>1</td>\n",
       "      <td>대량 구매 고객</td>\n",
       "      <td>Electronics</td>\n",
       "      <td>Electronics</td>\n",
       "    </tr>\n",
       "    <tr>\n",
       "      <th>1465</th>\n",
       "      <td>USER_0845</td>\n",
       "      <td>남</td>\n",
       "      <td>New Jersey</td>\n",
       "      <td>19</td>\n",
       "      <td>4.0</td>\n",
       "      <td>0.307692</td>\n",
       "      <td>30.000000</td>\n",
       "      <td>0</td>\n",
       "      <td>168.161538</td>\n",
       "      <td>13</td>\n",
       "      <td>2.153846</td>\n",
       "      <td>1</td>\n",
       "      <td>대량 구매 고객</td>\n",
       "      <td>Electronics</td>\n",
       "      <td>Electronics</td>\n",
       "    </tr>\n",
       "    <tr>\n",
       "      <th>1466</th>\n",
       "      <td>USER_0504</td>\n",
       "      <td>여</td>\n",
       "      <td>New York</td>\n",
       "      <td>45</td>\n",
       "      <td>5.0</td>\n",
       "      <td>0.217391</td>\n",
       "      <td>30.000000</td>\n",
       "      <td>0</td>\n",
       "      <td>142.523913</td>\n",
       "      <td>23</td>\n",
       "      <td>1.391304</td>\n",
       "      <td>0</td>\n",
       "      <td>일반 고객</td>\n",
       "      <td>Electronics</td>\n",
       "      <td>Electronics</td>\n",
       "    </tr>\n",
       "    <tr>\n",
       "      <th>1467</th>\n",
       "      <td>USER_0562</td>\n",
       "      <td>여</td>\n",
       "      <td>California</td>\n",
       "      <td>7</td>\n",
       "      <td>0.0</td>\n",
       "      <td>0.000000</td>\n",
       "      <td>0.000000</td>\n",
       "      <td>0</td>\n",
       "      <td>362.340000</td>\n",
       "      <td>6</td>\n",
       "      <td>4.500000</td>\n",
       "      <td>1</td>\n",
       "      <td>대량 구매 고객</td>\n",
       "      <td>Electronics</td>\n",
       "      <td>Electronics</td>\n",
       "    </tr>\n",
       "  </tbody>\n",
       "</table>\n",
       "<p>1468 rows × 15 columns</p>\n",
       "</div>"
      ],
      "text/plain": [
       "           고객ID 성별        고객지역  가입기간  coupon_used_cnt  coupon_used_ratio  \\\n",
       "0     USER_1358  남     Chicago    12            257.0           0.308894   \n",
       "1     USER_0190  남  California    43             49.0           0.404959   \n",
       "2     USER_0066  남     Chicago    33             27.0           0.264706   \n",
       "3     USER_0345  여  California    30              0.0           0.000000   \n",
       "4     USER_0683  남  California    49              5.0           0.294118   \n",
       "...         ... ..         ...   ...              ...                ...   \n",
       "1463  USER_0513  여    New York    41             17.0           0.586207   \n",
       "1464  USER_0167  여     Chicago    48             15.0           0.272727   \n",
       "1465  USER_0845  남  New Jersey    19              4.0           0.307692   \n",
       "1466  USER_0504  여    New York    45              5.0           0.217391   \n",
       "1467  USER_0562  여  California     7              0.0           0.000000   \n",
       "\n",
       "      discount_avg  recency_days   주문당 평균 금액  총 주문 수  주문당 평균 수량  cluster  \\\n",
       "0        10.000000           339  116.916995     832   3.890625        2   \n",
       "1        22.244898            13   72.860165     121   3.190083        0   \n",
       "2        17.407407           151   66.738235     102   5.441176        0   \n",
       "3         0.000000           364    1.240000       5   1.000000        0   \n",
       "4        26.000000           123  184.177647      17   2.941176        1   \n",
       "...            ...           ...         ...     ...        ...      ...   \n",
       "1463     30.000000             0   51.092414      29   2.655172        0   \n",
       "1464     30.000000             0  163.431636      55   1.745455        1   \n",
       "1465     30.000000             0  168.161538      13   2.153846        1   \n",
       "1466     30.000000             0  142.523913      23   1.391304        0   \n",
       "1467      0.000000             0  362.340000       6   4.500000        1   \n",
       "\n",
       "       segment   1위 주문 카테고리   1위 금액 카테고리  \n",
       "0        충성 고객  Electronics    Lifestyle  \n",
       "1        일반 고객  Electronics   Stationery  \n",
       "2        일반 고객  Electronics    Lifestyle  \n",
       "3        일반 고객    Lifestyle    Lifestyle  \n",
       "4     대량 구매 고객  Electronics    Lifestyle  \n",
       "...        ...          ...          ...  \n",
       "1463     일반 고객  Electronics   Stationery  \n",
       "1464  대량 구매 고객  Electronics  Electronics  \n",
       "1465  대량 구매 고객  Electronics  Electronics  \n",
       "1466     일반 고객  Electronics  Electronics  \n",
       "1467  대량 구매 고객  Electronics  Electronics  \n",
       "\n",
       "[1468 rows x 15 columns]"
      ]
     },
     "execution_count": 30,
     "metadata": {},
     "output_type": "execute_result"
    }
   ],
   "source": [
    "customer = pd.merge(customer, customer_df[['고객ID', '1위 주문 카테고리', '1위 금액 카테고리']], how='left', on='고객ID')\n",
    "customer"
   ]
  },
  {
   "cell_type": "code",
   "execution_count": 31,
   "id": "d4e18cd8",
   "metadata": {},
   "outputs": [
    {
     "data": {
      "text/html": [
       "<div>\n",
       "<style scoped>\n",
       "    .dataframe tbody tr th:only-of-type {\n",
       "        vertical-align: middle;\n",
       "    }\n",
       "\n",
       "    .dataframe tbody tr th {\n",
       "        vertical-align: top;\n",
       "    }\n",
       "\n",
       "    .dataframe thead th {\n",
       "        text-align: right;\n",
       "    }\n",
       "</style>\n",
       "<table border=\"1\" class=\"dataframe\">\n",
       "  <thead>\n",
       "    <tr style=\"text-align: right;\">\n",
       "      <th>1위 금액 카테고리</th>\n",
       "      <th>Apparel</th>\n",
       "      <th>Bags</th>\n",
       "      <th>Electronics</th>\n",
       "      <th>Lifestyle</th>\n",
       "      <th>Software</th>\n",
       "      <th>Stationery</th>\n",
       "    </tr>\n",
       "    <tr>\n",
       "      <th>segment</th>\n",
       "      <th></th>\n",
       "      <th></th>\n",
       "      <th></th>\n",
       "      <th></th>\n",
       "      <th></th>\n",
       "      <th></th>\n",
       "    </tr>\n",
       "  </thead>\n",
       "  <tbody>\n",
       "    <tr>\n",
       "      <th>대량 구매 고객</th>\n",
       "      <td>0.09</td>\n",
       "      <td>0.01</td>\n",
       "      <td>0.36</td>\n",
       "      <td>0.30</td>\n",
       "      <td>0.0</td>\n",
       "      <td>0.25</td>\n",
       "    </tr>\n",
       "    <tr>\n",
       "      <th>일반 고객</th>\n",
       "      <td>0.15</td>\n",
       "      <td>0.01</td>\n",
       "      <td>0.24</td>\n",
       "      <td>0.38</td>\n",
       "      <td>0.0</td>\n",
       "      <td>0.22</td>\n",
       "    </tr>\n",
       "    <tr>\n",
       "      <th>충성 고객</th>\n",
       "      <td>0.03</td>\n",
       "      <td>0.00</td>\n",
       "      <td>0.00</td>\n",
       "      <td>0.83</td>\n",
       "      <td>0.0</td>\n",
       "      <td>0.14</td>\n",
       "    </tr>\n",
       "  </tbody>\n",
       "</table>\n",
       "</div>"
      ],
      "text/plain": [
       "1위 금액 카테고리  Apparel  Bags  Electronics  Lifestyle  Software  Stationery\n",
       "segment                                                                \n",
       "대량 구매 고객       0.09  0.01         0.36       0.30       0.0        0.25\n",
       "일반 고객          0.15  0.01         0.24       0.38       0.0        0.22\n",
       "충성 고객          0.03  0.00         0.00       0.83       0.0        0.14"
      ]
     },
     "execution_count": 31,
     "metadata": {},
     "output_type": "execute_result"
    }
   ],
   "source": [
    "category_counts = customer.groupby(['segment', '1위 금액 카테고리']).size().unstack(fill_value=0)\n",
    "category_ratio = category_counts.div(category_counts.sum(axis=1), axis=0)\n",
    "category_ratio = category_ratio.round(2)\n",
    "category_ratio"
   ]
  },
  {
   "cell_type": "code",
   "execution_count": 32,
   "id": "a7b6335b",
   "metadata": {},
   "outputs": [
    {
     "data": {
      "text/html": [
       "<div>\n",
       "<style scoped>\n",
       "    .dataframe tbody tr th:only-of-type {\n",
       "        vertical-align: middle;\n",
       "    }\n",
       "\n",
       "    .dataframe tbody tr th {\n",
       "        vertical-align: top;\n",
       "    }\n",
       "\n",
       "    .dataframe thead th {\n",
       "        text-align: right;\n",
       "    }\n",
       "</style>\n",
       "<table border=\"1\" class=\"dataframe\">\n",
       "  <thead>\n",
       "    <tr style=\"text-align: right;\">\n",
       "      <th>1위 주문 카테고리</th>\n",
       "      <th>Apparel</th>\n",
       "      <th>Bags</th>\n",
       "      <th>Electronics</th>\n",
       "      <th>Lifestyle</th>\n",
       "      <th>Software</th>\n",
       "      <th>Stationery</th>\n",
       "    </tr>\n",
       "    <tr>\n",
       "      <th>segment</th>\n",
       "      <th></th>\n",
       "      <th></th>\n",
       "      <th></th>\n",
       "      <th></th>\n",
       "      <th></th>\n",
       "      <th></th>\n",
       "    </tr>\n",
       "  </thead>\n",
       "  <tbody>\n",
       "    <tr>\n",
       "      <th>대량 구매 고객</th>\n",
       "      <td>0.09</td>\n",
       "      <td>0.0</td>\n",
       "      <td>0.71</td>\n",
       "      <td>0.13</td>\n",
       "      <td>0.0</td>\n",
       "      <td>0.07</td>\n",
       "    </tr>\n",
       "    <tr>\n",
       "      <th>일반 고객</th>\n",
       "      <td>0.09</td>\n",
       "      <td>0.0</td>\n",
       "      <td>0.81</td>\n",
       "      <td>0.07</td>\n",
       "      <td>0.0</td>\n",
       "      <td>0.02</td>\n",
       "    </tr>\n",
       "    <tr>\n",
       "      <th>충성 고객</th>\n",
       "      <td>0.00</td>\n",
       "      <td>0.0</td>\n",
       "      <td>1.00</td>\n",
       "      <td>0.00</td>\n",
       "      <td>0.0</td>\n",
       "      <td>0.00</td>\n",
       "    </tr>\n",
       "  </tbody>\n",
       "</table>\n",
       "</div>"
      ],
      "text/plain": [
       "1위 주문 카테고리  Apparel  Bags  Electronics  Lifestyle  Software  Stationery\n",
       "segment                                                                \n",
       "대량 구매 고객       0.09   0.0         0.71       0.13       0.0        0.07\n",
       "일반 고객          0.09   0.0         0.81       0.07       0.0        0.02\n",
       "충성 고객          0.00   0.0         1.00       0.00       0.0        0.00"
      ]
     },
     "execution_count": 32,
     "metadata": {},
     "output_type": "execute_result"
    }
   ],
   "source": [
    "category_counts = customer.groupby(['segment', '1위 주문 카테고리']).size().unstack(fill_value=0)\n",
    "category_ratio = category_counts.div(category_counts.sum(axis=1), axis=0)\n",
    "category_ratio = category_ratio.round(2)\n",
    "category_ratio"
   ]
  },
  {
   "cell_type": "code",
   "execution_count": 33,
   "id": "e3ad0398",
   "metadata": {},
   "outputs": [
    {
     "data": {
      "application/vnd.plotly.v1+json": {
       "config": {
        "plotlyServerURL": "https://plot.ly"
       },
       "data": [
        {
         "alignmentgroup": "True",
         "hovertemplate": "카테고리=Electronics<br>segment=%{x}<br>빈도=%{y}<extra></extra>",
         "legendgroup": "Electronics",
         "marker": {
          "color": "#636efa",
          "pattern": {
           "shape": ""
          }
         },
         "name": "Electronics",
         "offsetgroup": "Electronics",
         "orientation": "v",
         "showlegend": true,
         "textposition": "outside",
         "texttemplate": "%{y:.2f}",
         "type": "bar",
         "x": [
          "충성 고객",
          "일반 고객",
          "대량 구매 고객"
         ],
         "xaxis": "x",
         "y": [
          0,
          0.24269480519480519,
          0.357487922705314
         ],
         "yaxis": "y"
        },
        {
         "alignmentgroup": "True",
         "hovertemplate": "카테고리=Software<br>segment=%{x}<br>빈도=%{y}<extra></extra>",
         "legendgroup": "Software",
         "marker": {
          "color": "#EF553B",
          "pattern": {
           "shape": ""
          }
         },
         "name": "Software",
         "offsetgroup": "Software",
         "orientation": "v",
         "showlegend": true,
         "textposition": "outside",
         "texttemplate": "%{y:.2f}",
         "type": "bar",
         "x": [
          "충성 고객",
          "대량 구매 고객",
          "일반 고객"
         ],
         "xaxis": "x",
         "y": [
          0,
          0,
          0.002435064935064935
         ],
         "yaxis": "y"
        },
        {
         "alignmentgroup": "True",
         "hovertemplate": "카테고리=Bags<br>segment=%{x}<br>빈도=%{y}<extra></extra>",
         "legendgroup": "Bags",
         "marker": {
          "color": "#00cc96",
          "pattern": {
           "shape": ""
          }
         },
         "name": "Bags",
         "offsetgroup": "Bags",
         "orientation": "v",
         "showlegend": true,
         "textposition": "outside",
         "texttemplate": "%{y:.2f}",
         "type": "bar",
         "x": [
          "충성 고객",
          "일반 고객",
          "대량 구매 고객"
         ],
         "xaxis": "x",
         "y": [
          0,
          0.006493506493506494,
          0.00966183574879227
         ],
         "yaxis": "y"
        },
        {
         "alignmentgroup": "True",
         "hovertemplate": "카테고리=Apparel<br>segment=%{x}<br>빈도=%{y}<extra></extra>",
         "legendgroup": "Apparel",
         "marker": {
          "color": "#ab63fa",
          "pattern": {
           "shape": ""
          }
         },
         "name": "Apparel",
         "offsetgroup": "Apparel",
         "orientation": "v",
         "showlegend": true,
         "textposition": "outside",
         "texttemplate": "%{y:.2f}",
         "type": "bar",
         "x": [
          "충성 고객",
          "대량 구매 고객",
          "일반 고객"
         ],
         "xaxis": "x",
         "y": [
          0.034482758620689655,
          0.08695652173913043,
          0.1534090909090909
         ],
         "yaxis": "y"
        },
        {
         "alignmentgroup": "True",
         "hovertemplate": "카테고리=Stationery<br>segment=%{x}<br>빈도=%{y}<extra></extra>",
         "legendgroup": "Stationery",
         "marker": {
          "color": "#FFA15A",
          "pattern": {
           "shape": ""
          }
         },
         "name": "Stationery",
         "offsetgroup": "Stationery",
         "orientation": "v",
         "showlegend": true,
         "textposition": "outside",
         "texttemplate": "%{y:.2f}",
         "type": "bar",
         "x": [
          "충성 고객",
          "일반 고객",
          "대량 구매 고객"
         ],
         "xaxis": "x",
         "y": [
          0.13793103448275862,
          0.2150974025974026,
          0.2463768115942029
         ],
         "yaxis": "y"
        },
        {
         "alignmentgroup": "True",
         "hovertemplate": "카테고리=Lifestyle<br>segment=%{x}<br>빈도=%{y}<extra></extra>",
         "legendgroup": "Lifestyle",
         "marker": {
          "color": "#19d3f3",
          "pattern": {
           "shape": ""
          }
         },
         "name": "Lifestyle",
         "offsetgroup": "Lifestyle",
         "orientation": "v",
         "showlegend": true,
         "textposition": "outside",
         "texttemplate": "%{y:.2f}",
         "type": "bar",
         "x": [
          "대량 구매 고객",
          "일반 고객",
          "충성 고객"
         ],
         "xaxis": "x",
         "y": [
          0.2995169082125604,
          0.37987012987012986,
          0.8275862068965517
         ],
         "yaxis": "y"
        }
       ],
       "layout": {
        "barmode": "group",
        "legend": {
         "title": {
          "text": "카테고리"
         },
         "tracegroupgap": 0
        },
        "margin": {
         "t": 60
        },
        "template": {
         "data": {
          "bar": [
           {
            "error_x": {
             "color": "#2a3f5f"
            },
            "error_y": {
             "color": "#2a3f5f"
            },
            "marker": {
             "line": {
              "color": "white",
              "width": 0.5
             },
             "pattern": {
              "fillmode": "overlay",
              "size": 10,
              "solidity": 0.2
             }
            },
            "type": "bar"
           }
          ],
          "barpolar": [
           {
            "marker": {
             "line": {
              "color": "white",
              "width": 0.5
             },
             "pattern": {
              "fillmode": "overlay",
              "size": 10,
              "solidity": 0.2
             }
            },
            "type": "barpolar"
           }
          ],
          "carpet": [
           {
            "aaxis": {
             "endlinecolor": "#2a3f5f",
             "gridcolor": "#C8D4E3",
             "linecolor": "#C8D4E3",
             "minorgridcolor": "#C8D4E3",
             "startlinecolor": "#2a3f5f"
            },
            "baxis": {
             "endlinecolor": "#2a3f5f",
             "gridcolor": "#C8D4E3",
             "linecolor": "#C8D4E3",
             "minorgridcolor": "#C8D4E3",
             "startlinecolor": "#2a3f5f"
            },
            "type": "carpet"
           }
          ],
          "choropleth": [
           {
            "colorbar": {
             "outlinewidth": 0,
             "ticks": ""
            },
            "type": "choropleth"
           }
          ],
          "contour": [
           {
            "colorbar": {
             "outlinewidth": 0,
             "ticks": ""
            },
            "colorscale": [
             [
              0,
              "#0d0887"
             ],
             [
              0.1111111111111111,
              "#46039f"
             ],
             [
              0.2222222222222222,
              "#7201a8"
             ],
             [
              0.3333333333333333,
              "#9c179e"
             ],
             [
              0.4444444444444444,
              "#bd3786"
             ],
             [
              0.5555555555555556,
              "#d8576b"
             ],
             [
              0.6666666666666666,
              "#ed7953"
             ],
             [
              0.7777777777777778,
              "#fb9f3a"
             ],
             [
              0.8888888888888888,
              "#fdca26"
             ],
             [
              1,
              "#f0f921"
             ]
            ],
            "type": "contour"
           }
          ],
          "contourcarpet": [
           {
            "colorbar": {
             "outlinewidth": 0,
             "ticks": ""
            },
            "type": "contourcarpet"
           }
          ],
          "heatmap": [
           {
            "colorbar": {
             "outlinewidth": 0,
             "ticks": ""
            },
            "colorscale": [
             [
              0,
              "#0d0887"
             ],
             [
              0.1111111111111111,
              "#46039f"
             ],
             [
              0.2222222222222222,
              "#7201a8"
             ],
             [
              0.3333333333333333,
              "#9c179e"
             ],
             [
              0.4444444444444444,
              "#bd3786"
             ],
             [
              0.5555555555555556,
              "#d8576b"
             ],
             [
              0.6666666666666666,
              "#ed7953"
             ],
             [
              0.7777777777777778,
              "#fb9f3a"
             ],
             [
              0.8888888888888888,
              "#fdca26"
             ],
             [
              1,
              "#f0f921"
             ]
            ],
            "type": "heatmap"
           }
          ],
          "heatmapgl": [
           {
            "colorbar": {
             "outlinewidth": 0,
             "ticks": ""
            },
            "colorscale": [
             [
              0,
              "#0d0887"
             ],
             [
              0.1111111111111111,
              "#46039f"
             ],
             [
              0.2222222222222222,
              "#7201a8"
             ],
             [
              0.3333333333333333,
              "#9c179e"
             ],
             [
              0.4444444444444444,
              "#bd3786"
             ],
             [
              0.5555555555555556,
              "#d8576b"
             ],
             [
              0.6666666666666666,
              "#ed7953"
             ],
             [
              0.7777777777777778,
              "#fb9f3a"
             ],
             [
              0.8888888888888888,
              "#fdca26"
             ],
             [
              1,
              "#f0f921"
             ]
            ],
            "type": "heatmapgl"
           }
          ],
          "histogram": [
           {
            "marker": {
             "pattern": {
              "fillmode": "overlay",
              "size": 10,
              "solidity": 0.2
             }
            },
            "type": "histogram"
           }
          ],
          "histogram2d": [
           {
            "colorbar": {
             "outlinewidth": 0,
             "ticks": ""
            },
            "colorscale": [
             [
              0,
              "#0d0887"
             ],
             [
              0.1111111111111111,
              "#46039f"
             ],
             [
              0.2222222222222222,
              "#7201a8"
             ],
             [
              0.3333333333333333,
              "#9c179e"
             ],
             [
              0.4444444444444444,
              "#bd3786"
             ],
             [
              0.5555555555555556,
              "#d8576b"
             ],
             [
              0.6666666666666666,
              "#ed7953"
             ],
             [
              0.7777777777777778,
              "#fb9f3a"
             ],
             [
              0.8888888888888888,
              "#fdca26"
             ],
             [
              1,
              "#f0f921"
             ]
            ],
            "type": "histogram2d"
           }
          ],
          "histogram2dcontour": [
           {
            "colorbar": {
             "outlinewidth": 0,
             "ticks": ""
            },
            "colorscale": [
             [
              0,
              "#0d0887"
             ],
             [
              0.1111111111111111,
              "#46039f"
             ],
             [
              0.2222222222222222,
              "#7201a8"
             ],
             [
              0.3333333333333333,
              "#9c179e"
             ],
             [
              0.4444444444444444,
              "#bd3786"
             ],
             [
              0.5555555555555556,
              "#d8576b"
             ],
             [
              0.6666666666666666,
              "#ed7953"
             ],
             [
              0.7777777777777778,
              "#fb9f3a"
             ],
             [
              0.8888888888888888,
              "#fdca26"
             ],
             [
              1,
              "#f0f921"
             ]
            ],
            "type": "histogram2dcontour"
           }
          ],
          "mesh3d": [
           {
            "colorbar": {
             "outlinewidth": 0,
             "ticks": ""
            },
            "type": "mesh3d"
           }
          ],
          "parcoords": [
           {
            "line": {
             "colorbar": {
              "outlinewidth": 0,
              "ticks": ""
             }
            },
            "type": "parcoords"
           }
          ],
          "pie": [
           {
            "automargin": true,
            "type": "pie"
           }
          ],
          "scatter": [
           {
            "fillpattern": {
             "fillmode": "overlay",
             "size": 10,
             "solidity": 0.2
            },
            "type": "scatter"
           }
          ],
          "scatter3d": [
           {
            "line": {
             "colorbar": {
              "outlinewidth": 0,
              "ticks": ""
             }
            },
            "marker": {
             "colorbar": {
              "outlinewidth": 0,
              "ticks": ""
             }
            },
            "type": "scatter3d"
           }
          ],
          "scattercarpet": [
           {
            "marker": {
             "colorbar": {
              "outlinewidth": 0,
              "ticks": ""
             }
            },
            "type": "scattercarpet"
           }
          ],
          "scattergeo": [
           {
            "marker": {
             "colorbar": {
              "outlinewidth": 0,
              "ticks": ""
             }
            },
            "type": "scattergeo"
           }
          ],
          "scattergl": [
           {
            "marker": {
             "colorbar": {
              "outlinewidth": 0,
              "ticks": ""
             }
            },
            "type": "scattergl"
           }
          ],
          "scattermapbox": [
           {
            "marker": {
             "colorbar": {
              "outlinewidth": 0,
              "ticks": ""
             }
            },
            "type": "scattermapbox"
           }
          ],
          "scatterpolar": [
           {
            "marker": {
             "colorbar": {
              "outlinewidth": 0,
              "ticks": ""
             }
            },
            "type": "scatterpolar"
           }
          ],
          "scatterpolargl": [
           {
            "marker": {
             "colorbar": {
              "outlinewidth": 0,
              "ticks": ""
             }
            },
            "type": "scatterpolargl"
           }
          ],
          "scatterternary": [
           {
            "marker": {
             "colorbar": {
              "outlinewidth": 0,
              "ticks": ""
             }
            },
            "type": "scatterternary"
           }
          ],
          "surface": [
           {
            "colorbar": {
             "outlinewidth": 0,
             "ticks": ""
            },
            "colorscale": [
             [
              0,
              "#0d0887"
             ],
             [
              0.1111111111111111,
              "#46039f"
             ],
             [
              0.2222222222222222,
              "#7201a8"
             ],
             [
              0.3333333333333333,
              "#9c179e"
             ],
             [
              0.4444444444444444,
              "#bd3786"
             ],
             [
              0.5555555555555556,
              "#d8576b"
             ],
             [
              0.6666666666666666,
              "#ed7953"
             ],
             [
              0.7777777777777778,
              "#fb9f3a"
             ],
             [
              0.8888888888888888,
              "#fdca26"
             ],
             [
              1,
              "#f0f921"
             ]
            ],
            "type": "surface"
           }
          ],
          "table": [
           {
            "cells": {
             "fill": {
              "color": "#EBF0F8"
             },
             "line": {
              "color": "white"
             }
            },
            "header": {
             "fill": {
              "color": "#C8D4E3"
             },
             "line": {
              "color": "white"
             }
            },
            "type": "table"
           }
          ]
         },
         "layout": {
          "annotationdefaults": {
           "arrowcolor": "#2a3f5f",
           "arrowhead": 0,
           "arrowwidth": 1
          },
          "autotypenumbers": "strict",
          "coloraxis": {
           "colorbar": {
            "outlinewidth": 0,
            "ticks": ""
           }
          },
          "colorscale": {
           "diverging": [
            [
             0,
             "#8e0152"
            ],
            [
             0.1,
             "#c51b7d"
            ],
            [
             0.2,
             "#de77ae"
            ],
            [
             0.3,
             "#f1b6da"
            ],
            [
             0.4,
             "#fde0ef"
            ],
            [
             0.5,
             "#f7f7f7"
            ],
            [
             0.6,
             "#e6f5d0"
            ],
            [
             0.7,
             "#b8e186"
            ],
            [
             0.8,
             "#7fbc41"
            ],
            [
             0.9,
             "#4d9221"
            ],
            [
             1,
             "#276419"
            ]
           ],
           "sequential": [
            [
             0,
             "#0d0887"
            ],
            [
             0.1111111111111111,
             "#46039f"
            ],
            [
             0.2222222222222222,
             "#7201a8"
            ],
            [
             0.3333333333333333,
             "#9c179e"
            ],
            [
             0.4444444444444444,
             "#bd3786"
            ],
            [
             0.5555555555555556,
             "#d8576b"
            ],
            [
             0.6666666666666666,
             "#ed7953"
            ],
            [
             0.7777777777777778,
             "#fb9f3a"
            ],
            [
             0.8888888888888888,
             "#fdca26"
            ],
            [
             1,
             "#f0f921"
            ]
           ],
           "sequentialminus": [
            [
             0,
             "#0d0887"
            ],
            [
             0.1111111111111111,
             "#46039f"
            ],
            [
             0.2222222222222222,
             "#7201a8"
            ],
            [
             0.3333333333333333,
             "#9c179e"
            ],
            [
             0.4444444444444444,
             "#bd3786"
            ],
            [
             0.5555555555555556,
             "#d8576b"
            ],
            [
             0.6666666666666666,
             "#ed7953"
            ],
            [
             0.7777777777777778,
             "#fb9f3a"
            ],
            [
             0.8888888888888888,
             "#fdca26"
            ],
            [
             1,
             "#f0f921"
            ]
           ]
          },
          "colorway": [
           "#636efa",
           "#EF553B",
           "#00cc96",
           "#ab63fa",
           "#FFA15A",
           "#19d3f3",
           "#FF6692",
           "#B6E880",
           "#FF97FF",
           "#FECB52"
          ],
          "font": {
           "color": "#2a3f5f"
          },
          "geo": {
           "bgcolor": "white",
           "lakecolor": "white",
           "landcolor": "white",
           "showlakes": true,
           "showland": true,
           "subunitcolor": "#C8D4E3"
          },
          "hoverlabel": {
           "align": "left"
          },
          "hovermode": "closest",
          "mapbox": {
           "style": "light"
          },
          "paper_bgcolor": "white",
          "plot_bgcolor": "white",
          "polar": {
           "angularaxis": {
            "gridcolor": "#EBF0F8",
            "linecolor": "#EBF0F8",
            "ticks": ""
           },
           "bgcolor": "white",
           "radialaxis": {
            "gridcolor": "#EBF0F8",
            "linecolor": "#EBF0F8",
            "ticks": ""
           }
          },
          "scene": {
           "xaxis": {
            "backgroundcolor": "white",
            "gridcolor": "#DFE8F3",
            "gridwidth": 2,
            "linecolor": "#EBF0F8",
            "showbackground": true,
            "ticks": "",
            "zerolinecolor": "#EBF0F8"
           },
           "yaxis": {
            "backgroundcolor": "white",
            "gridcolor": "#DFE8F3",
            "gridwidth": 2,
            "linecolor": "#EBF0F8",
            "showbackground": true,
            "ticks": "",
            "zerolinecolor": "#EBF0F8"
           },
           "zaxis": {
            "backgroundcolor": "white",
            "gridcolor": "#DFE8F3",
            "gridwidth": 2,
            "linecolor": "#EBF0F8",
            "showbackground": true,
            "ticks": "",
            "zerolinecolor": "#EBF0F8"
           }
          },
          "shapedefaults": {
           "line": {
            "color": "#2a3f5f"
           }
          },
          "ternary": {
           "aaxis": {
            "gridcolor": "#DFE8F3",
            "linecolor": "#A2B1C6",
            "ticks": ""
           },
           "baxis": {
            "gridcolor": "#DFE8F3",
            "linecolor": "#A2B1C6",
            "ticks": ""
           },
           "bgcolor": "white",
           "caxis": {
            "gridcolor": "#DFE8F3",
            "linecolor": "#A2B1C6",
            "ticks": ""
           }
          },
          "title": {
           "x": 0.05
          },
          "xaxis": {
           "automargin": true,
           "gridcolor": "#EBF0F8",
           "linecolor": "#EBF0F8",
           "ticks": "",
           "title": {
            "standoff": 15
           },
           "zerolinecolor": "#EBF0F8",
           "zerolinewidth": 2
          },
          "yaxis": {
           "automargin": true,
           "gridcolor": "#EBF0F8",
           "linecolor": "#EBF0F8",
           "ticks": "",
           "title": {
            "standoff": 15
           },
           "zerolinecolor": "#EBF0F8",
           "zerolinewidth": 2
          }
         }
        },
        "title": {
         "text": "세그먼트별 카테고리 지출 비율",
         "x": 0.5
        },
        "xaxis": {
         "anchor": "y",
         "domain": [
          0,
          1
         ],
         "title": {
          "text": "세그먼트"
         }
        },
        "yaxis": {
         "anchor": "x",
         "domain": [
          0,
          1
         ],
         "title": {
          "text": "비율"
         }
        }
       }
      }
     },
     "metadata": {},
     "output_type": "display_data"
    }
   ],
   "source": [
    "category_segment = customer.groupby(['segment', '1위 금액 카테고리']).size().unstack(fill_value=0).div(category_counts.sum(axis=1), axis=0).fillna(0).reset_index()\n",
    "\n",
    "category_segment = category_segment.melt(id_vars='segment', var_name='카테고리', value_name='빈도')\n",
    "category_segment = category_segment.sort_values('빈도')\n",
    "fig = px.bar(category_segment, \n",
    "             y='빈도', x='segment',\n",
    "             color='카테고리',barmode='group',\n",
    "             text_auto='.2f')\n",
    "fig.update_traces(textposition='outside')\n",
    "fig.update_layout(title=dict(text='세그먼트별 카테고리 지출 비율',\n",
    "                             x=0.5),\n",
    "                  xaxis_title='세그먼트',\n",
    "                  yaxis_title='비율',\n",
    "                  template='plotly_white')\n",
    "fig.show()"
   ]
  },
  {
   "cell_type": "code",
   "execution_count": 45,
   "id": "7a53b2a5",
   "metadata": {},
   "outputs": [],
   "source": [
    "onlinesales['coupon_used'] = onlinesales['쿠폰상태'].apply(lambda x: 1 if x == 'Used' else 0)\n",
    "\n",
    "# [2] 세그먼트 × 카테고리별 통계 계산\n",
    "grouped = onlinesales.groupby(['segment', '제품카테고리']).agg(\n",
    "    coupon_used_ratio=('coupon_used', 'mean'),\n",
    "    avg_order_amount=('소비 금액', 'mean'),\n",
    "    count=('고객ID', 'count')\n",
    ").reset_index()\n",
    "\n",
    "# [3] 기대 전환값 계산\n",
    "grouped['expected_value'] = grouped['coupon_used_ratio'] * grouped['avg_order_amount']\n",
    "\n",
    "# [4] 사분위 기준 할인율 설정\n",
    "quartiles = grouped['expected_value'].quantile([0.25, 0.75])\n",
    "\n",
    "def assign_discount(ev):\n",
    "    if ev >= quartiles[0.75]:\n",
    "        return 10  # 상위 25%는 5% 할인으로도 전환 가능\n",
    "    elif ev >= quartiles[0.25]:\n",
    "        return 20\n",
    "    else:\n",
    "        return 30  # 낮은 기대값은 더 큰 할인 필요\n",
    "\n",
    "grouped['추천_할인율(%)'] = grouped['expected_value'].apply(assign_discount)"
   ]
  },
  {
   "cell_type": "code",
   "execution_count": 50,
   "id": "04979793",
   "metadata": {},
   "outputs": [
    {
     "data": {
      "application/vnd.plotly.v1+json": {
       "config": {
        "plotlyServerURL": "https://plot.ly"
       },
       "data": [
        {
         "alignmentgroup": "True",
         "bingroup": "x",
         "hovertemplate": "coupon_used_cnt=%{x}<br>count=%{y}<extra></extra>",
         "legendgroup": "",
         "marker": {
          "color": "#636efa",
          "pattern": {
           "shape": ""
          }
         },
         "name": "",
         "offsetgroup": "",
         "orientation": "v",
         "showlegend": false,
         "type": "histogram",
         "x": [
          257,
          49,
          27,
          0,
          5,
          14,
          49,
          18,
          521,
          193,
          6,
          10,
          0,
          40,
          18,
          35,
          202,
          5,
          10,
          0,
          78,
          102,
          0,
          21,
          58,
          43,
          3,
          36,
          1,
          87,
          46,
          106,
          66,
          3,
          10,
          24,
          20,
          60,
          67,
          47,
          77,
          31,
          59,
          50,
          6,
          0,
          11,
          77,
          669,
          34,
          42,
          5,
          4,
          9,
          40,
          41,
          16,
          32,
          58,
          121,
          7,
          3,
          15,
          6,
          5,
          35,
          33,
          472,
          69,
          558,
          147,
          26,
          7,
          15,
          138,
          53,
          54,
          6,
          11,
          4,
          75,
          23,
          32,
          20,
          3,
          51,
          89,
          31,
          6,
          18,
          33,
          33,
          13,
          561,
          7,
          54,
          32,
          12,
          11,
          33,
          12,
          118,
          55,
          22,
          6,
          15,
          4,
          18,
          0,
          12,
          73,
          73,
          0,
          112,
          141,
          28,
          3,
          27,
          23,
          43,
          142,
          15,
          5,
          62,
          13,
          33,
          11,
          17,
          8,
          5,
          29,
          10,
          19,
          19,
          13,
          13,
          34,
          37,
          6,
          7,
          27,
          87,
          29,
          44,
          33,
          22,
          6,
          19,
          3,
          9,
          51,
          58,
          5,
          17,
          3,
          43,
          33,
          51,
          63,
          5,
          12,
          15,
          35,
          143,
          6,
          130,
          150,
          69,
          35,
          42,
          21,
          28,
          50,
          21,
          41,
          0,
          11,
          3,
          23,
          5,
          36,
          90,
          0,
          10,
          37,
          89,
          29,
          6,
          89,
          20,
          2,
          4,
          0,
          3,
          43,
          2,
          1,
          62,
          0,
          38,
          15,
          23,
          11,
          2,
          73,
          69,
          12,
          0,
          4,
          13,
          3,
          3,
          14,
          9,
          49,
          12,
          29,
          90,
          10,
          14,
          52,
          78,
          7,
          98,
          76,
          10,
          74,
          55,
          27,
          46,
          19,
          0,
          2,
          49,
          10,
          53,
          98,
          92,
          93,
          8,
          41,
          18,
          5,
          59,
          66,
          34,
          6,
          26,
          14,
          23,
          110,
          23,
          30,
          231,
          12,
          52,
          29,
          89,
          343,
          131,
          44,
          37,
          90,
          26,
          53,
          111,
          52,
          151,
          28,
          5,
          144,
          66,
          24,
          16,
          146,
          64,
          39,
          60,
          10,
          206,
          0,
          19,
          72,
          28,
          39,
          6,
          12,
          111,
          90,
          66,
          0,
          105,
          94,
          38,
          172,
          33,
          24,
          26,
          51,
          13,
          46,
          114,
          18,
          119,
          44,
          36,
          119,
          75,
          110,
          4,
          61,
          17,
          27,
          81,
          34,
          24,
          38,
          21,
          63,
          82,
          26,
          4,
          217,
          10,
          38,
          14,
          0,
          47,
          106,
          14,
          25,
          12,
          29,
          22,
          19,
          4,
          5,
          2,
          21,
          51,
          13,
          0,
          286,
          38,
          9,
          14,
          57,
          5,
          17,
          15,
          40,
          68,
          20,
          29,
          20,
          33,
          14,
          0,
          49,
          52,
          172,
          62,
          46,
          5,
          68,
          51,
          64,
          7,
          34,
          17,
          157,
          80,
          23,
          19,
          15,
          8,
          52,
          101,
          30,
          15,
          67,
          44,
          87,
          14,
          0,
          5,
          0,
          0,
          28,
          12,
          120,
          41,
          35,
          17,
          13,
          107,
          5,
          17,
          64,
          22,
          55,
          35,
          107,
          40,
          7,
          0,
          0,
          165,
          43,
          51,
          52,
          0,
          1,
          122,
          5,
          15,
          77,
          4,
          24,
          15,
          12,
          30,
          170,
          16,
          125,
          13,
          66,
          26,
          59,
          62,
          25,
          67,
          9,
          4,
          9,
          24,
          33,
          3,
          49,
          25,
          16,
          34,
          32,
          21,
          2,
          87,
          29,
          7,
          15,
          9,
          17,
          13,
          0,
          3,
          3,
          41,
          37,
          96,
          39,
          14,
          16,
          122,
          55,
          21,
          6,
          80,
          7,
          140,
          24,
          42,
          50,
          18,
          16,
          32,
          29,
          31,
          46,
          7,
          68,
          19,
          33,
          4,
          62,
          96,
          58,
          91,
          71,
          64,
          92,
          21,
          157,
          27,
          29,
          5,
          21,
          39,
          48,
          12,
          45,
          11,
          32,
          20,
          2,
          30,
          6,
          16,
          2,
          6,
          73,
          31,
          1,
          18,
          2,
          160,
          47,
          30,
          5,
          96,
          3,
          2,
          0,
          11,
          0,
          11,
          2,
          14,
          6,
          37,
          0,
          136,
          2,
          30,
          13,
          22,
          2,
          22,
          38,
          12,
          10,
          47,
          4,
          47,
          5,
          26,
          11,
          11,
          112,
          31,
          22,
          31,
          14,
          66,
          2,
          35,
          23,
          12,
          11,
          8,
          2,
          12,
          15,
          0,
          10,
          5,
          21,
          37,
          15,
          10,
          77,
          6,
          64,
          0,
          0,
          29,
          78,
          8,
          2,
          33,
          44,
          21,
          4,
          70,
          4,
          8,
          7,
          44,
          17,
          6,
          1,
          24,
          57,
          0,
          5,
          10,
          52,
          8,
          0,
          18,
          0,
          0,
          2,
          43,
          43,
          10,
          0,
          19,
          29,
          5,
          3,
          36,
          0,
          10,
          23,
          37,
          5,
          36,
          39,
          82,
          97,
          73,
          51,
          48,
          15,
          14,
          8,
          89,
          38,
          26,
          8,
          23,
          41,
          22,
          32,
          25,
          40,
          4,
          35,
          27,
          9,
          0,
          155,
          17,
          26,
          16,
          127,
          0,
          12,
          31,
          7,
          32,
          98,
          4,
          29,
          65,
          2,
          39,
          52,
          52,
          38,
          10,
          48,
          28,
          112,
          37,
          49,
          20,
          31,
          53,
          36,
          71,
          25,
          0,
          26,
          31,
          66,
          46,
          38,
          30,
          113,
          74,
          21,
          30,
          11,
          10,
          13,
          117,
          10,
          0,
          21,
          167,
          4,
          79,
          48,
          12,
          7,
          8,
          20,
          16,
          29,
          20,
          26,
          21,
          2,
          19,
          52,
          88,
          71,
          100,
          41,
          22,
          40,
          13,
          214,
          6,
          15,
          26,
          21,
          110,
          46,
          6,
          8,
          60,
          2,
          6,
          18,
          5,
          21,
          3,
          5,
          0,
          17,
          40,
          21,
          2,
          17,
          19,
          0,
          4,
          2,
          47,
          10,
          14,
          16,
          0,
          23,
          50,
          25,
          40,
          0,
          9,
          27,
          57,
          229,
          23,
          121,
          19,
          20,
          32,
          19,
          42,
          38,
          19,
          3,
          17,
          73,
          41,
          21,
          23,
          24,
          38,
          19,
          7,
          21,
          14,
          9,
          8,
          61,
          76,
          0,
          33,
          7,
          6,
          88,
          40,
          19,
          6,
          28,
          4,
          9,
          32,
          2,
          24,
          14,
          16,
          24,
          5,
          8,
          2,
          16,
          44,
          24,
          18,
          15,
          23,
          78,
          13,
          25,
          0,
          55,
          53,
          2,
          2,
          2,
          0,
          4,
          5,
          31,
          4,
          12,
          7,
          12,
          29,
          13,
          3,
          2,
          11,
          8,
          33,
          42,
          54,
          32,
          4,
          21,
          4,
          44,
          8,
          17,
          14,
          24,
          18,
          12,
          121,
          17,
          6,
          49,
          27,
          37,
          23,
          49,
          18,
          26,
          40,
          49,
          0,
          4,
          2,
          22,
          7,
          52,
          9,
          69,
          47,
          15,
          58,
          48,
          11,
          3,
          6,
          10,
          16,
          40,
          9,
          56,
          36,
          55,
          70,
          27,
          2,
          6,
          9,
          45,
          70,
          11,
          38,
          87,
          0,
          29,
          4,
          32,
          10,
          5,
          46,
          16,
          17,
          72,
          45,
          23,
          41,
          32,
          51,
          26,
          49,
          72,
          41,
          10,
          0,
          6,
          53,
          276,
          17,
          15,
          60,
          18,
          3,
          0,
          1,
          15,
          3,
          0,
          33,
          15,
          45,
          75,
          17,
          0,
          4,
          9,
          4,
          0,
          46,
          17,
          6,
          54,
          19,
          0,
          8,
          4,
          0,
          17,
          20,
          54,
          0,
          2,
          2,
          6,
          54,
          15,
          17,
          15,
          31,
          10,
          20,
          56,
          7,
          94,
          5,
          22,
          7,
          13,
          9,
          16,
          17,
          7,
          83,
          2,
          9,
          3,
          16,
          6,
          2,
          5,
          30,
          93,
          30,
          27,
          9,
          120,
          26,
          4,
          36,
          0,
          48,
          21,
          176,
          0,
          54,
          17,
          0,
          85,
          31,
          36,
          20,
          29,
          21,
          66,
          5,
          0,
          20,
          23,
          6,
          2,
          13,
          41,
          8,
          0,
          131,
          8,
          6,
          13,
          2,
          29,
          95,
          50,
          118,
          18,
          8,
          42,
          25,
          44,
          29,
          17,
          25,
          7,
          0,
          39,
          29,
          40,
          11,
          9,
          51,
          9,
          39,
          9,
          11,
          9,
          33,
          22,
          11,
          21,
          6,
          39,
          14,
          143,
          6,
          13,
          0,
          20,
          95,
          20,
          23,
          25,
          14,
          2,
          14,
          17,
          17,
          17,
          61,
          7,
          6,
          30,
          25,
          13,
          4,
          12,
          10,
          16,
          6,
          2,
          0,
          12,
          74,
          2,
          93,
          19,
          69,
          3,
          14,
          9,
          10,
          9,
          12,
          20,
          22,
          49,
          13,
          21,
          2,
          14,
          30,
          2,
          0,
          4,
          13,
          91,
          9,
          0,
          7,
          66,
          47,
          22,
          4,
          7,
          15,
          49,
          11,
          2,
          22,
          27,
          9,
          14,
          11,
          4,
          15,
          58,
          57,
          0,
          9,
          44,
          33,
          15,
          40,
          8,
          26,
          14,
          24,
          19,
          7,
          48,
          55,
          56,
          2,
          12,
          27,
          0,
          0,
          20,
          6,
          34,
          88,
          22,
          26,
          25,
          122,
          36,
          57,
          9,
          2,
          17,
          36,
          0,
          17,
          59,
          13,
          10,
          45,
          2,
          11,
          14,
          0,
          75,
          17,
          33,
          8,
          5,
          2,
          8,
          3,
          27,
          4,
          5,
          8,
          4,
          5,
          14,
          22,
          12,
          33,
          4,
          86,
          17,
          40,
          0,
          23,
          18,
          27,
          15,
          79,
          52,
          6,
          4,
          3,
          75,
          10,
          23,
          7,
          14,
          18,
          5,
          17,
          28,
          6,
          17,
          19,
          12,
          0,
          9,
          28,
          7,
          6,
          35,
          46,
          84,
          19,
          30,
          7,
          16,
          2,
          12,
          42,
          35,
          7,
          38,
          44,
          52,
          57,
          37,
          99,
          37,
          10,
          28,
          2,
          8,
          5,
          29,
          19,
          6,
          8,
          4,
          20,
          18,
          43,
          14,
          7,
          6,
          75,
          17,
          27,
          10,
          57,
          3,
          26,
          3,
          28,
          71,
          6,
          26,
          20,
          13,
          36,
          34,
          5,
          18,
          31,
          6,
          31,
          47,
          8,
          0,
          7,
          0,
          71,
          54,
          113,
          13,
          76,
          12,
          19,
          17,
          2,
          7,
          2,
          11,
          16,
          0,
          7,
          102,
          23,
          0,
          5,
          9,
          0,
          19,
          13,
          99,
          20,
          34,
          18,
          14,
          10,
          44,
          3,
          9,
          21,
          2,
          35,
          0,
          17,
          32,
          46,
          24,
          40,
          0,
          11,
          40,
          23,
          10,
          49,
          7,
          4,
          4,
          83,
          12,
          74,
          3,
          33,
          52,
          16,
          19,
          10,
          7,
          33,
          0,
          18,
          16,
          35,
          43,
          27,
          15,
          30,
          28,
          9,
          26,
          26,
          17,
          9,
          4,
          51,
          40,
          83,
          60,
          36,
          44,
          28,
          13,
          29,
          14,
          0,
          15,
          22,
          4,
          7,
          82,
          9,
          8,
          30,
          10,
          3,
          48,
          17,
          19,
          23,
          8,
          14,
          3,
          47,
          14,
          44,
          0,
          16,
          10,
          15,
          21,
          19,
          34,
          7,
          24,
          14,
          51,
          4,
          103,
          7,
          17,
          2,
          9,
          2,
          8,
          15,
          4,
          11,
          11,
          10,
          5,
          3,
          9,
          2,
          10,
          12,
          7,
          12,
          17,
          5,
          13,
          0,
          10,
          3,
          5,
          0,
          3,
          15,
          2,
          217,
          2,
          15,
          5,
          13,
          20,
          39,
          0,
          14,
          26,
          29,
          40,
          9,
          2,
          5,
          12,
          0,
          26,
          51,
          15,
          11,
          22,
          25,
          27,
          12,
          3,
          20,
          13,
          16,
          46,
          29,
          30,
          22,
          0,
          0,
          21,
          0,
          26,
          40,
          0,
          32,
          31,
          17,
          15,
          4,
          5,
          0
         ],
         "xaxis": "x",
         "yaxis": "y"
        }
       ],
       "layout": {
        "barmode": "relative",
        "legend": {
         "tracegroupgap": 0
        },
        "margin": {
         "t": 60
        },
        "template": {
         "data": {
          "bar": [
           {
            "error_x": {
             "color": "#2a3f5f"
            },
            "error_y": {
             "color": "#2a3f5f"
            },
            "marker": {
             "line": {
              "color": "white",
              "width": 0.5
             },
             "pattern": {
              "fillmode": "overlay",
              "size": 10,
              "solidity": 0.2
             }
            },
            "type": "bar"
           }
          ],
          "barpolar": [
           {
            "marker": {
             "line": {
              "color": "white",
              "width": 0.5
             },
             "pattern": {
              "fillmode": "overlay",
              "size": 10,
              "solidity": 0.2
             }
            },
            "type": "barpolar"
           }
          ],
          "carpet": [
           {
            "aaxis": {
             "endlinecolor": "#2a3f5f",
             "gridcolor": "#C8D4E3",
             "linecolor": "#C8D4E3",
             "minorgridcolor": "#C8D4E3",
             "startlinecolor": "#2a3f5f"
            },
            "baxis": {
             "endlinecolor": "#2a3f5f",
             "gridcolor": "#C8D4E3",
             "linecolor": "#C8D4E3",
             "minorgridcolor": "#C8D4E3",
             "startlinecolor": "#2a3f5f"
            },
            "type": "carpet"
           }
          ],
          "choropleth": [
           {
            "colorbar": {
             "outlinewidth": 0,
             "ticks": ""
            },
            "type": "choropleth"
           }
          ],
          "contour": [
           {
            "colorbar": {
             "outlinewidth": 0,
             "ticks": ""
            },
            "colorscale": [
             [
              0,
              "#0d0887"
             ],
             [
              0.1111111111111111,
              "#46039f"
             ],
             [
              0.2222222222222222,
              "#7201a8"
             ],
             [
              0.3333333333333333,
              "#9c179e"
             ],
             [
              0.4444444444444444,
              "#bd3786"
             ],
             [
              0.5555555555555556,
              "#d8576b"
             ],
             [
              0.6666666666666666,
              "#ed7953"
             ],
             [
              0.7777777777777778,
              "#fb9f3a"
             ],
             [
              0.8888888888888888,
              "#fdca26"
             ],
             [
              1,
              "#f0f921"
             ]
            ],
            "type": "contour"
           }
          ],
          "contourcarpet": [
           {
            "colorbar": {
             "outlinewidth": 0,
             "ticks": ""
            },
            "type": "contourcarpet"
           }
          ],
          "heatmap": [
           {
            "colorbar": {
             "outlinewidth": 0,
             "ticks": ""
            },
            "colorscale": [
             [
              0,
              "#0d0887"
             ],
             [
              0.1111111111111111,
              "#46039f"
             ],
             [
              0.2222222222222222,
              "#7201a8"
             ],
             [
              0.3333333333333333,
              "#9c179e"
             ],
             [
              0.4444444444444444,
              "#bd3786"
             ],
             [
              0.5555555555555556,
              "#d8576b"
             ],
             [
              0.6666666666666666,
              "#ed7953"
             ],
             [
              0.7777777777777778,
              "#fb9f3a"
             ],
             [
              0.8888888888888888,
              "#fdca26"
             ],
             [
              1,
              "#f0f921"
             ]
            ],
            "type": "heatmap"
           }
          ],
          "heatmapgl": [
           {
            "colorbar": {
             "outlinewidth": 0,
             "ticks": ""
            },
            "colorscale": [
             [
              0,
              "#0d0887"
             ],
             [
              0.1111111111111111,
              "#46039f"
             ],
             [
              0.2222222222222222,
              "#7201a8"
             ],
             [
              0.3333333333333333,
              "#9c179e"
             ],
             [
              0.4444444444444444,
              "#bd3786"
             ],
             [
              0.5555555555555556,
              "#d8576b"
             ],
             [
              0.6666666666666666,
              "#ed7953"
             ],
             [
              0.7777777777777778,
              "#fb9f3a"
             ],
             [
              0.8888888888888888,
              "#fdca26"
             ],
             [
              1,
              "#f0f921"
             ]
            ],
            "type": "heatmapgl"
           }
          ],
          "histogram": [
           {
            "marker": {
             "pattern": {
              "fillmode": "overlay",
              "size": 10,
              "solidity": 0.2
             }
            },
            "type": "histogram"
           }
          ],
          "histogram2d": [
           {
            "colorbar": {
             "outlinewidth": 0,
             "ticks": ""
            },
            "colorscale": [
             [
              0,
              "#0d0887"
             ],
             [
              0.1111111111111111,
              "#46039f"
             ],
             [
              0.2222222222222222,
              "#7201a8"
             ],
             [
              0.3333333333333333,
              "#9c179e"
             ],
             [
              0.4444444444444444,
              "#bd3786"
             ],
             [
              0.5555555555555556,
              "#d8576b"
             ],
             [
              0.6666666666666666,
              "#ed7953"
             ],
             [
              0.7777777777777778,
              "#fb9f3a"
             ],
             [
              0.8888888888888888,
              "#fdca26"
             ],
             [
              1,
              "#f0f921"
             ]
            ],
            "type": "histogram2d"
           }
          ],
          "histogram2dcontour": [
           {
            "colorbar": {
             "outlinewidth": 0,
             "ticks": ""
            },
            "colorscale": [
             [
              0,
              "#0d0887"
             ],
             [
              0.1111111111111111,
              "#46039f"
             ],
             [
              0.2222222222222222,
              "#7201a8"
             ],
             [
              0.3333333333333333,
              "#9c179e"
             ],
             [
              0.4444444444444444,
              "#bd3786"
             ],
             [
              0.5555555555555556,
              "#d8576b"
             ],
             [
              0.6666666666666666,
              "#ed7953"
             ],
             [
              0.7777777777777778,
              "#fb9f3a"
             ],
             [
              0.8888888888888888,
              "#fdca26"
             ],
             [
              1,
              "#f0f921"
             ]
            ],
            "type": "histogram2dcontour"
           }
          ],
          "mesh3d": [
           {
            "colorbar": {
             "outlinewidth": 0,
             "ticks": ""
            },
            "type": "mesh3d"
           }
          ],
          "parcoords": [
           {
            "line": {
             "colorbar": {
              "outlinewidth": 0,
              "ticks": ""
             }
            },
            "type": "parcoords"
           }
          ],
          "pie": [
           {
            "automargin": true,
            "type": "pie"
           }
          ],
          "scatter": [
           {
            "fillpattern": {
             "fillmode": "overlay",
             "size": 10,
             "solidity": 0.2
            },
            "type": "scatter"
           }
          ],
          "scatter3d": [
           {
            "line": {
             "colorbar": {
              "outlinewidth": 0,
              "ticks": ""
             }
            },
            "marker": {
             "colorbar": {
              "outlinewidth": 0,
              "ticks": ""
             }
            },
            "type": "scatter3d"
           }
          ],
          "scattercarpet": [
           {
            "marker": {
             "colorbar": {
              "outlinewidth": 0,
              "ticks": ""
             }
            },
            "type": "scattercarpet"
           }
          ],
          "scattergeo": [
           {
            "marker": {
             "colorbar": {
              "outlinewidth": 0,
              "ticks": ""
             }
            },
            "type": "scattergeo"
           }
          ],
          "scattergl": [
           {
            "marker": {
             "colorbar": {
              "outlinewidth": 0,
              "ticks": ""
             }
            },
            "type": "scattergl"
           }
          ],
          "scattermapbox": [
           {
            "marker": {
             "colorbar": {
              "outlinewidth": 0,
              "ticks": ""
             }
            },
            "type": "scattermapbox"
           }
          ],
          "scatterpolar": [
           {
            "marker": {
             "colorbar": {
              "outlinewidth": 0,
              "ticks": ""
             }
            },
            "type": "scatterpolar"
           }
          ],
          "scatterpolargl": [
           {
            "marker": {
             "colorbar": {
              "outlinewidth": 0,
              "ticks": ""
             }
            },
            "type": "scatterpolargl"
           }
          ],
          "scatterternary": [
           {
            "marker": {
             "colorbar": {
              "outlinewidth": 0,
              "ticks": ""
             }
            },
            "type": "scatterternary"
           }
          ],
          "surface": [
           {
            "colorbar": {
             "outlinewidth": 0,
             "ticks": ""
            },
            "colorscale": [
             [
              0,
              "#0d0887"
             ],
             [
              0.1111111111111111,
              "#46039f"
             ],
             [
              0.2222222222222222,
              "#7201a8"
             ],
             [
              0.3333333333333333,
              "#9c179e"
             ],
             [
              0.4444444444444444,
              "#bd3786"
             ],
             [
              0.5555555555555556,
              "#d8576b"
             ],
             [
              0.6666666666666666,
              "#ed7953"
             ],
             [
              0.7777777777777778,
              "#fb9f3a"
             ],
             [
              0.8888888888888888,
              "#fdca26"
             ],
             [
              1,
              "#f0f921"
             ]
            ],
            "type": "surface"
           }
          ],
          "table": [
           {
            "cells": {
             "fill": {
              "color": "#EBF0F8"
             },
             "line": {
              "color": "white"
             }
            },
            "header": {
             "fill": {
              "color": "#C8D4E3"
             },
             "line": {
              "color": "white"
             }
            },
            "type": "table"
           }
          ]
         },
         "layout": {
          "annotationdefaults": {
           "arrowcolor": "#2a3f5f",
           "arrowhead": 0,
           "arrowwidth": 1
          },
          "autotypenumbers": "strict",
          "coloraxis": {
           "colorbar": {
            "outlinewidth": 0,
            "ticks": ""
           }
          },
          "colorscale": {
           "diverging": [
            [
             0,
             "#8e0152"
            ],
            [
             0.1,
             "#c51b7d"
            ],
            [
             0.2,
             "#de77ae"
            ],
            [
             0.3,
             "#f1b6da"
            ],
            [
             0.4,
             "#fde0ef"
            ],
            [
             0.5,
             "#f7f7f7"
            ],
            [
             0.6,
             "#e6f5d0"
            ],
            [
             0.7,
             "#b8e186"
            ],
            [
             0.8,
             "#7fbc41"
            ],
            [
             0.9,
             "#4d9221"
            ],
            [
             1,
             "#276419"
            ]
           ],
           "sequential": [
            [
             0,
             "#0d0887"
            ],
            [
             0.1111111111111111,
             "#46039f"
            ],
            [
             0.2222222222222222,
             "#7201a8"
            ],
            [
             0.3333333333333333,
             "#9c179e"
            ],
            [
             0.4444444444444444,
             "#bd3786"
            ],
            [
             0.5555555555555556,
             "#d8576b"
            ],
            [
             0.6666666666666666,
             "#ed7953"
            ],
            [
             0.7777777777777778,
             "#fb9f3a"
            ],
            [
             0.8888888888888888,
             "#fdca26"
            ],
            [
             1,
             "#f0f921"
            ]
           ],
           "sequentialminus": [
            [
             0,
             "#0d0887"
            ],
            [
             0.1111111111111111,
             "#46039f"
            ],
            [
             0.2222222222222222,
             "#7201a8"
            ],
            [
             0.3333333333333333,
             "#9c179e"
            ],
            [
             0.4444444444444444,
             "#bd3786"
            ],
            [
             0.5555555555555556,
             "#d8576b"
            ],
            [
             0.6666666666666666,
             "#ed7953"
            ],
            [
             0.7777777777777778,
             "#fb9f3a"
            ],
            [
             0.8888888888888888,
             "#fdca26"
            ],
            [
             1,
             "#f0f921"
            ]
           ]
          },
          "colorway": [
           "#636efa",
           "#EF553B",
           "#00cc96",
           "#ab63fa",
           "#FFA15A",
           "#19d3f3",
           "#FF6692",
           "#B6E880",
           "#FF97FF",
           "#FECB52"
          ],
          "font": {
           "color": "#2a3f5f"
          },
          "geo": {
           "bgcolor": "white",
           "lakecolor": "white",
           "landcolor": "white",
           "showlakes": true,
           "showland": true,
           "subunitcolor": "#C8D4E3"
          },
          "hoverlabel": {
           "align": "left"
          },
          "hovermode": "closest",
          "mapbox": {
           "style": "light"
          },
          "paper_bgcolor": "white",
          "plot_bgcolor": "white",
          "polar": {
           "angularaxis": {
            "gridcolor": "#EBF0F8",
            "linecolor": "#EBF0F8",
            "ticks": ""
           },
           "bgcolor": "white",
           "radialaxis": {
            "gridcolor": "#EBF0F8",
            "linecolor": "#EBF0F8",
            "ticks": ""
           }
          },
          "scene": {
           "xaxis": {
            "backgroundcolor": "white",
            "gridcolor": "#DFE8F3",
            "gridwidth": 2,
            "linecolor": "#EBF0F8",
            "showbackground": true,
            "ticks": "",
            "zerolinecolor": "#EBF0F8"
           },
           "yaxis": {
            "backgroundcolor": "white",
            "gridcolor": "#DFE8F3",
            "gridwidth": 2,
            "linecolor": "#EBF0F8",
            "showbackground": true,
            "ticks": "",
            "zerolinecolor": "#EBF0F8"
           },
           "zaxis": {
            "backgroundcolor": "white",
            "gridcolor": "#DFE8F3",
            "gridwidth": 2,
            "linecolor": "#EBF0F8",
            "showbackground": true,
            "ticks": "",
            "zerolinecolor": "#EBF0F8"
           }
          },
          "shapedefaults": {
           "line": {
            "color": "#2a3f5f"
           }
          },
          "ternary": {
           "aaxis": {
            "gridcolor": "#DFE8F3",
            "linecolor": "#A2B1C6",
            "ticks": ""
           },
           "baxis": {
            "gridcolor": "#DFE8F3",
            "linecolor": "#A2B1C6",
            "ticks": ""
           },
           "bgcolor": "white",
           "caxis": {
            "gridcolor": "#DFE8F3",
            "linecolor": "#A2B1C6",
            "ticks": ""
           }
          },
          "title": {
           "x": 0.05
          },
          "xaxis": {
           "automargin": true,
           "gridcolor": "#EBF0F8",
           "linecolor": "#EBF0F8",
           "ticks": "",
           "title": {
            "standoff": 15
           },
           "zerolinecolor": "#EBF0F8",
           "zerolinewidth": 2
          },
          "yaxis": {
           "automargin": true,
           "gridcolor": "#EBF0F8",
           "linecolor": "#EBF0F8",
           "ticks": "",
           "title": {
            "standoff": 15
           },
           "zerolinecolor": "#EBF0F8",
           "zerolinewidth": 2
          }
         }
        },
        "title": {
         "text": "쿠폰 사용 횟수 분포",
         "x": 0.5
        },
        "xaxis": {
         "anchor": "y",
         "domain": [
          0,
          1
         ],
         "title": {
          "text": "쿠폰 사용 횟수"
         }
        },
        "yaxis": {
         "anchor": "x",
         "domain": [
          0,
          1
         ],
         "title": {
          "text": "count"
         }
        }
       }
      }
     },
     "metadata": {},
     "output_type": "display_data"
    }
   ],
   "source": [
    "fig = px.histogram(customer, x='coupon_used_cnt')\n",
    "fig.update_layout(title=dict(text='쿠폰 사용 횟수 분포',\n",
    "                             x=0.5),\n",
    "                  xaxis_title='쿠폰 사용 횟수',\n",
    "                  template='plotly_white')\n",
    "fig.show()"
   ]
  },
  {
   "cell_type": "code",
   "execution_count": 44,
   "id": "de41a09b",
   "metadata": {},
   "outputs": [
    {
     "data": {
      "application/vnd.plotly.v1+json": {
       "config": {
        "plotlyServerURL": "https://plot.ly"
       },
       "data": [
        {
         "coloraxis": "coloraxis",
         "histfunc": "sum",
         "hovertemplate": "제품카테고리=%{x}<br>segment=%{y}<br>sum of expected_value=%{z}<extra></extra>",
         "name": "",
         "texttemplate": "%{z}",
         "type": "histogram2d",
         "x": [
          "Apparel",
          "Bags",
          "Electronics",
          "Fun",
          "Lifestyle",
          "Software",
          "Stationery",
          "Apparel",
          "Bags",
          "Electronics",
          "Fun",
          "Lifestyle",
          "Software",
          "Stationery",
          "Apparel",
          "Bags",
          "Electronics",
          "Fun",
          "Lifestyle",
          "Software",
          "Stationery"
         ],
         "xaxis": "x",
         "xbingroup": "x",
         "y": [
          "대량 구매 고객",
          "대량 구매 고객",
          "대량 구매 고객",
          "대량 구매 고객",
          "대량 구매 고객",
          "대량 구매 고객",
          "대량 구매 고객",
          "일반 고객",
          "일반 고객",
          "일반 고객",
          "일반 고객",
          "일반 고객",
          "일반 고객",
          "일반 고객",
          "충성 고객",
          "충성 고객",
          "충성 고객",
          "충성 고객",
          "충성 고객",
          "충성 고객",
          "충성 고객"
         ],
         "yaxis": "y",
         "ybingroup": "y",
         "z": [
          35.353411856177594,
          45.91273654916512,
          74.98513816482368,
          76.57515570934257,
          43.86954843217749,
          7.941900887573963,
          64.0622247781065,
          9.152657282283432,
          24.428944940281824,
          62.4747390997986,
          21.374065901793404,
          10.785872506417478,
          7.207084857893233,
          13.030758410018853,
          15.295137629798996,
          27.652067999999996,
          61.42746108147558,
          21.327308244757255,
          17.20875892538943,
          8.294802369937504,
          23.16772956734465
         ]
        }
       ],
       "layout": {
        "coloraxis": {
         "colorbar": {
          "title": {
           "text": "쿠폰 사용률 ×  주문당 평균 주문 금액"
          }
         },
         "colorscale": [
          [
           0,
           "rgb(247,251,255)"
          ],
          [
           0.125,
           "rgb(222,235,247)"
          ],
          [
           0.25,
           "rgb(198,219,239)"
          ],
          [
           0.375,
           "rgb(158,202,225)"
          ],
          [
           0.5,
           "rgb(107,174,214)"
          ],
          [
           0.625,
           "rgb(66,146,198)"
          ],
          [
           0.75,
           "rgb(33,113,181)"
          ],
          [
           0.875,
           "rgb(8,81,156)"
          ],
          [
           1,
           "rgb(8,48,107)"
          ]
         ]
        },
        "legend": {
         "tracegroupgap": 0
        },
        "margin": {
         "t": 60
        },
        "template": {
         "data": {
          "bar": [
           {
            "error_x": {
             "color": "#2a3f5f"
            },
            "error_y": {
             "color": "#2a3f5f"
            },
            "marker": {
             "line": {
              "color": "#E5ECF6",
              "width": 0.5
             },
             "pattern": {
              "fillmode": "overlay",
              "size": 10,
              "solidity": 0.2
             }
            },
            "type": "bar"
           }
          ],
          "barpolar": [
           {
            "marker": {
             "line": {
              "color": "#E5ECF6",
              "width": 0.5
             },
             "pattern": {
              "fillmode": "overlay",
              "size": 10,
              "solidity": 0.2
             }
            },
            "type": "barpolar"
           }
          ],
          "carpet": [
           {
            "aaxis": {
             "endlinecolor": "#2a3f5f",
             "gridcolor": "white",
             "linecolor": "white",
             "minorgridcolor": "white",
             "startlinecolor": "#2a3f5f"
            },
            "baxis": {
             "endlinecolor": "#2a3f5f",
             "gridcolor": "white",
             "linecolor": "white",
             "minorgridcolor": "white",
             "startlinecolor": "#2a3f5f"
            },
            "type": "carpet"
           }
          ],
          "choropleth": [
           {
            "colorbar": {
             "outlinewidth": 0,
             "ticks": ""
            },
            "type": "choropleth"
           }
          ],
          "contour": [
           {
            "colorbar": {
             "outlinewidth": 0,
             "ticks": ""
            },
            "colorscale": [
             [
              0,
              "#0d0887"
             ],
             [
              0.1111111111111111,
              "#46039f"
             ],
             [
              0.2222222222222222,
              "#7201a8"
             ],
             [
              0.3333333333333333,
              "#9c179e"
             ],
             [
              0.4444444444444444,
              "#bd3786"
             ],
             [
              0.5555555555555556,
              "#d8576b"
             ],
             [
              0.6666666666666666,
              "#ed7953"
             ],
             [
              0.7777777777777778,
              "#fb9f3a"
             ],
             [
              0.8888888888888888,
              "#fdca26"
             ],
             [
              1,
              "#f0f921"
             ]
            ],
            "type": "contour"
           }
          ],
          "contourcarpet": [
           {
            "colorbar": {
             "outlinewidth": 0,
             "ticks": ""
            },
            "type": "contourcarpet"
           }
          ],
          "heatmap": [
           {
            "colorbar": {
             "outlinewidth": 0,
             "ticks": ""
            },
            "colorscale": [
             [
              0,
              "#0d0887"
             ],
             [
              0.1111111111111111,
              "#46039f"
             ],
             [
              0.2222222222222222,
              "#7201a8"
             ],
             [
              0.3333333333333333,
              "#9c179e"
             ],
             [
              0.4444444444444444,
              "#bd3786"
             ],
             [
              0.5555555555555556,
              "#d8576b"
             ],
             [
              0.6666666666666666,
              "#ed7953"
             ],
             [
              0.7777777777777778,
              "#fb9f3a"
             ],
             [
              0.8888888888888888,
              "#fdca26"
             ],
             [
              1,
              "#f0f921"
             ]
            ],
            "type": "heatmap"
           }
          ],
          "heatmapgl": [
           {
            "colorbar": {
             "outlinewidth": 0,
             "ticks": ""
            },
            "colorscale": [
             [
              0,
              "#0d0887"
             ],
             [
              0.1111111111111111,
              "#46039f"
             ],
             [
              0.2222222222222222,
              "#7201a8"
             ],
             [
              0.3333333333333333,
              "#9c179e"
             ],
             [
              0.4444444444444444,
              "#bd3786"
             ],
             [
              0.5555555555555556,
              "#d8576b"
             ],
             [
              0.6666666666666666,
              "#ed7953"
             ],
             [
              0.7777777777777778,
              "#fb9f3a"
             ],
             [
              0.8888888888888888,
              "#fdca26"
             ],
             [
              1,
              "#f0f921"
             ]
            ],
            "type": "heatmapgl"
           }
          ],
          "histogram": [
           {
            "marker": {
             "pattern": {
              "fillmode": "overlay",
              "size": 10,
              "solidity": 0.2
             }
            },
            "type": "histogram"
           }
          ],
          "histogram2d": [
           {
            "colorbar": {
             "outlinewidth": 0,
             "ticks": ""
            },
            "colorscale": [
             [
              0,
              "#0d0887"
             ],
             [
              0.1111111111111111,
              "#46039f"
             ],
             [
              0.2222222222222222,
              "#7201a8"
             ],
             [
              0.3333333333333333,
              "#9c179e"
             ],
             [
              0.4444444444444444,
              "#bd3786"
             ],
             [
              0.5555555555555556,
              "#d8576b"
             ],
             [
              0.6666666666666666,
              "#ed7953"
             ],
             [
              0.7777777777777778,
              "#fb9f3a"
             ],
             [
              0.8888888888888888,
              "#fdca26"
             ],
             [
              1,
              "#f0f921"
             ]
            ],
            "type": "histogram2d"
           }
          ],
          "histogram2dcontour": [
           {
            "colorbar": {
             "outlinewidth": 0,
             "ticks": ""
            },
            "colorscale": [
             [
              0,
              "#0d0887"
             ],
             [
              0.1111111111111111,
              "#46039f"
             ],
             [
              0.2222222222222222,
              "#7201a8"
             ],
             [
              0.3333333333333333,
              "#9c179e"
             ],
             [
              0.4444444444444444,
              "#bd3786"
             ],
             [
              0.5555555555555556,
              "#d8576b"
             ],
             [
              0.6666666666666666,
              "#ed7953"
             ],
             [
              0.7777777777777778,
              "#fb9f3a"
             ],
             [
              0.8888888888888888,
              "#fdca26"
             ],
             [
              1,
              "#f0f921"
             ]
            ],
            "type": "histogram2dcontour"
           }
          ],
          "mesh3d": [
           {
            "colorbar": {
             "outlinewidth": 0,
             "ticks": ""
            },
            "type": "mesh3d"
           }
          ],
          "parcoords": [
           {
            "line": {
             "colorbar": {
              "outlinewidth": 0,
              "ticks": ""
             }
            },
            "type": "parcoords"
           }
          ],
          "pie": [
           {
            "automargin": true,
            "type": "pie"
           }
          ],
          "scatter": [
           {
            "fillpattern": {
             "fillmode": "overlay",
             "size": 10,
             "solidity": 0.2
            },
            "type": "scatter"
           }
          ],
          "scatter3d": [
           {
            "line": {
             "colorbar": {
              "outlinewidth": 0,
              "ticks": ""
             }
            },
            "marker": {
             "colorbar": {
              "outlinewidth": 0,
              "ticks": ""
             }
            },
            "type": "scatter3d"
           }
          ],
          "scattercarpet": [
           {
            "marker": {
             "colorbar": {
              "outlinewidth": 0,
              "ticks": ""
             }
            },
            "type": "scattercarpet"
           }
          ],
          "scattergeo": [
           {
            "marker": {
             "colorbar": {
              "outlinewidth": 0,
              "ticks": ""
             }
            },
            "type": "scattergeo"
           }
          ],
          "scattergl": [
           {
            "marker": {
             "colorbar": {
              "outlinewidth": 0,
              "ticks": ""
             }
            },
            "type": "scattergl"
           }
          ],
          "scattermapbox": [
           {
            "marker": {
             "colorbar": {
              "outlinewidth": 0,
              "ticks": ""
             }
            },
            "type": "scattermapbox"
           }
          ],
          "scatterpolar": [
           {
            "marker": {
             "colorbar": {
              "outlinewidth": 0,
              "ticks": ""
             }
            },
            "type": "scatterpolar"
           }
          ],
          "scatterpolargl": [
           {
            "marker": {
             "colorbar": {
              "outlinewidth": 0,
              "ticks": ""
             }
            },
            "type": "scatterpolargl"
           }
          ],
          "scatterternary": [
           {
            "marker": {
             "colorbar": {
              "outlinewidth": 0,
              "ticks": ""
             }
            },
            "type": "scatterternary"
           }
          ],
          "surface": [
           {
            "colorbar": {
             "outlinewidth": 0,
             "ticks": ""
            },
            "colorscale": [
             [
              0,
              "#0d0887"
             ],
             [
              0.1111111111111111,
              "#46039f"
             ],
             [
              0.2222222222222222,
              "#7201a8"
             ],
             [
              0.3333333333333333,
              "#9c179e"
             ],
             [
              0.4444444444444444,
              "#bd3786"
             ],
             [
              0.5555555555555556,
              "#d8576b"
             ],
             [
              0.6666666666666666,
              "#ed7953"
             ],
             [
              0.7777777777777778,
              "#fb9f3a"
             ],
             [
              0.8888888888888888,
              "#fdca26"
             ],
             [
              1,
              "#f0f921"
             ]
            ],
            "type": "surface"
           }
          ],
          "table": [
           {
            "cells": {
             "fill": {
              "color": "#EBF0F8"
             },
             "line": {
              "color": "white"
             }
            },
            "header": {
             "fill": {
              "color": "#C8D4E3"
             },
             "line": {
              "color": "white"
             }
            },
            "type": "table"
           }
          ]
         },
         "layout": {
          "annotationdefaults": {
           "arrowcolor": "#2a3f5f",
           "arrowhead": 0,
           "arrowwidth": 1
          },
          "autotypenumbers": "strict",
          "coloraxis": {
           "colorbar": {
            "outlinewidth": 0,
            "ticks": ""
           }
          },
          "colorscale": {
           "diverging": [
            [
             0,
             "#8e0152"
            ],
            [
             0.1,
             "#c51b7d"
            ],
            [
             0.2,
             "#de77ae"
            ],
            [
             0.3,
             "#f1b6da"
            ],
            [
             0.4,
             "#fde0ef"
            ],
            [
             0.5,
             "#f7f7f7"
            ],
            [
             0.6,
             "#e6f5d0"
            ],
            [
             0.7,
             "#b8e186"
            ],
            [
             0.8,
             "#7fbc41"
            ],
            [
             0.9,
             "#4d9221"
            ],
            [
             1,
             "#276419"
            ]
           ],
           "sequential": [
            [
             0,
             "#0d0887"
            ],
            [
             0.1111111111111111,
             "#46039f"
            ],
            [
             0.2222222222222222,
             "#7201a8"
            ],
            [
             0.3333333333333333,
             "#9c179e"
            ],
            [
             0.4444444444444444,
             "#bd3786"
            ],
            [
             0.5555555555555556,
             "#d8576b"
            ],
            [
             0.6666666666666666,
             "#ed7953"
            ],
            [
             0.7777777777777778,
             "#fb9f3a"
            ],
            [
             0.8888888888888888,
             "#fdca26"
            ],
            [
             1,
             "#f0f921"
            ]
           ],
           "sequentialminus": [
            [
             0,
             "#0d0887"
            ],
            [
             0.1111111111111111,
             "#46039f"
            ],
            [
             0.2222222222222222,
             "#7201a8"
            ],
            [
             0.3333333333333333,
             "#9c179e"
            ],
            [
             0.4444444444444444,
             "#bd3786"
            ],
            [
             0.5555555555555556,
             "#d8576b"
            ],
            [
             0.6666666666666666,
             "#ed7953"
            ],
            [
             0.7777777777777778,
             "#fb9f3a"
            ],
            [
             0.8888888888888888,
             "#fdca26"
            ],
            [
             1,
             "#f0f921"
            ]
           ]
          },
          "colorway": [
           "#636efa",
           "#EF553B",
           "#00cc96",
           "#ab63fa",
           "#FFA15A",
           "#19d3f3",
           "#FF6692",
           "#B6E880",
           "#FF97FF",
           "#FECB52"
          ],
          "font": {
           "color": "#2a3f5f"
          },
          "geo": {
           "bgcolor": "white",
           "lakecolor": "white",
           "landcolor": "#E5ECF6",
           "showlakes": true,
           "showland": true,
           "subunitcolor": "white"
          },
          "hoverlabel": {
           "align": "left"
          },
          "hovermode": "closest",
          "mapbox": {
           "style": "light"
          },
          "paper_bgcolor": "white",
          "plot_bgcolor": "#E5ECF6",
          "polar": {
           "angularaxis": {
            "gridcolor": "white",
            "linecolor": "white",
            "ticks": ""
           },
           "bgcolor": "#E5ECF6",
           "radialaxis": {
            "gridcolor": "white",
            "linecolor": "white",
            "ticks": ""
           }
          },
          "scene": {
           "xaxis": {
            "backgroundcolor": "#E5ECF6",
            "gridcolor": "white",
            "gridwidth": 2,
            "linecolor": "white",
            "showbackground": true,
            "ticks": "",
            "zerolinecolor": "white"
           },
           "yaxis": {
            "backgroundcolor": "#E5ECF6",
            "gridcolor": "white",
            "gridwidth": 2,
            "linecolor": "white",
            "showbackground": true,
            "ticks": "",
            "zerolinecolor": "white"
           },
           "zaxis": {
            "backgroundcolor": "#E5ECF6",
            "gridcolor": "white",
            "gridwidth": 2,
            "linecolor": "white",
            "showbackground": true,
            "ticks": "",
            "zerolinecolor": "white"
           }
          },
          "shapedefaults": {
           "line": {
            "color": "#2a3f5f"
           }
          },
          "ternary": {
           "aaxis": {
            "gridcolor": "white",
            "linecolor": "white",
            "ticks": ""
           },
           "baxis": {
            "gridcolor": "white",
            "linecolor": "white",
            "ticks": ""
           },
           "bgcolor": "#E5ECF6",
           "caxis": {
            "gridcolor": "white",
            "linecolor": "white",
            "ticks": ""
           }
          },
          "title": {
           "x": 0.05
          },
          "xaxis": {
           "automargin": true,
           "gridcolor": "white",
           "linecolor": "white",
           "ticks": "",
           "title": {
            "standoff": 15
           },
           "zerolinecolor": "white",
           "zerolinewidth": 2
          },
          "yaxis": {
           "automargin": true,
           "gridcolor": "white",
           "linecolor": "white",
           "ticks": "",
           "title": {
            "standoff": 15
           },
           "zerolinecolor": "white",
           "zerolinewidth": 2
          }
         }
        },
        "title": {
         "text": "기대 매출 전환값 (쿠폰 사용률 x 주문당 평균 매출) 히트맵",
         "x": 0.5
        },
        "xaxis": {
         "anchor": "y",
         "domain": [
          0,
          1
         ],
         "title": {
          "text": "제품 카테고리"
         }
        },
        "yaxis": {
         "anchor": "x",
         "domain": [
          0,
          1
         ],
         "title": {
          "text": "고객 세그먼트"
         }
        }
       }
      }
     },
     "metadata": {},
     "output_type": "display_data"
    }
   ],
   "source": [
    "fig = px.density_heatmap(\n",
    "    grouped,\n",
    "    x=\"제품카테고리\",\n",
    "    y=\"segment\",\n",
    "    z=\"expected_value\",\n",
    "    color_continuous_scale=\"Blues\",  # 또는 다른 스케일: 'Blues', 'Plasma', 'Inferno' 등\n",
    "    text_auto=True  # 셀 안에 값 표시\n",
    ")\n",
    "\n",
    "# 레이아웃 조정\n",
    "fig.update_layout(\n",
    "    title=dict(text=\"기대 매출 전환값 (쿠폰 사용률 x 주문당 평균 매출) 히트맵\",\n",
    "               x=0.5),\n",
    "    xaxis_title=\"제품 카테고리\",\n",
    "    yaxis_title=\"고객 세그먼트\",\n",
    "    coloraxis_colorbar=dict(title=\"쿠폰 사용률 ×  주문당 평균 주문 금액\")\n",
    ")\n",
    "\n",
    "fig.show()"
   ]
  }
 ],
 "metadata": {
  "kernelspec": {
   "display_name": "Python 3",
   "language": "python",
   "name": "python3"
  },
  "language_info": {
   "codemirror_mode": {
    "name": "ipython",
    "version": 3
   },
   "file_extension": ".py",
   "mimetype": "text/x-python",
   "name": "python",
   "nbconvert_exporter": "python",
   "pygments_lexer": "ipython3",
   "version": "3.12.10"
  }
 },
 "nbformat": 4,
 "nbformat_minor": 5
}
